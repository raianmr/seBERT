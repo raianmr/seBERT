{
 "cells": [
  {
   "metadata": {
    "ExecuteTime": {
     "end_time": "2024-07-13T09:11:21.828036Z",
     "start_time": "2024-07-13T09:11:21.826091Z"
    }
   },
   "cell_type": "code",
   "source": [
    "import pandas as pd\n",
    "from scipy import stats\n",
    "from scipy.stats import chi2_contingency, ttest_ind"
   ],
   "id": "c699bc8f65f447ce",
   "outputs": [],
   "execution_count": 160
  },
  {
   "metadata": {},
   "cell_type": "markdown",
   "source": "# RQ 3 + 4",
   "id": "809661f19fcaa39e"
  },
  {
   "cell_type": "code",
   "id": "initial_id",
   "metadata": {
    "collapsed": true,
    "ExecuteTime": {
     "end_time": "2024-07-13T11:39:46.300641Z",
     "start_time": "2024-07-13T11:39:44.846690Z"
    }
   },
   "source": [
    "# read csv\n",
    "rq34 = pd.read_csv(\"./data/rq_3_4.csv\")\n",
    "rq34.head()"
   ],
   "outputs": [
    {
     "data": {
      "text/plain": [
       "  text_sentiment product    issue_id  comment_id priority issuetype\n",
       "0        neutral     AAR  12963247.0  15972995.0    Major       bug\n",
       "1        neutral     AAR  12963247.0  15972996.0    Major       bug\n",
       "2        neutral     AAR  12963270.0  15261151.0    Major       bug\n",
       "3        neutral     AAR  12963426.0  15261824.0    Major       bug\n",
       "4        neutral     AAR  12963426.0  15262448.0    Major       bug"
      ],
      "text/html": [
       "<div>\n",
       "<style scoped>\n",
       "    .dataframe tbody tr th:only-of-type {\n",
       "        vertical-align: middle;\n",
       "    }\n",
       "\n",
       "    .dataframe tbody tr th {\n",
       "        vertical-align: top;\n",
       "    }\n",
       "\n",
       "    .dataframe thead th {\n",
       "        text-align: right;\n",
       "    }\n",
       "</style>\n",
       "<table border=\"1\" class=\"dataframe\">\n",
       "  <thead>\n",
       "    <tr style=\"text-align: right;\">\n",
       "      <th></th>\n",
       "      <th>text_sentiment</th>\n",
       "      <th>product</th>\n",
       "      <th>issue_id</th>\n",
       "      <th>comment_id</th>\n",
       "      <th>priority</th>\n",
       "      <th>issuetype</th>\n",
       "    </tr>\n",
       "  </thead>\n",
       "  <tbody>\n",
       "    <tr>\n",
       "      <th>0</th>\n",
       "      <td>neutral</td>\n",
       "      <td>AAR</td>\n",
       "      <td>12963247.0</td>\n",
       "      <td>15972995.0</td>\n",
       "      <td>Major</td>\n",
       "      <td>bug</td>\n",
       "    </tr>\n",
       "    <tr>\n",
       "      <th>1</th>\n",
       "      <td>neutral</td>\n",
       "      <td>AAR</td>\n",
       "      <td>12963247.0</td>\n",
       "      <td>15972996.0</td>\n",
       "      <td>Major</td>\n",
       "      <td>bug</td>\n",
       "    </tr>\n",
       "    <tr>\n",
       "      <th>2</th>\n",
       "      <td>neutral</td>\n",
       "      <td>AAR</td>\n",
       "      <td>12963270.0</td>\n",
       "      <td>15261151.0</td>\n",
       "      <td>Major</td>\n",
       "      <td>bug</td>\n",
       "    </tr>\n",
       "    <tr>\n",
       "      <th>3</th>\n",
       "      <td>neutral</td>\n",
       "      <td>AAR</td>\n",
       "      <td>12963426.0</td>\n",
       "      <td>15261824.0</td>\n",
       "      <td>Major</td>\n",
       "      <td>bug</td>\n",
       "    </tr>\n",
       "    <tr>\n",
       "      <th>4</th>\n",
       "      <td>neutral</td>\n",
       "      <td>AAR</td>\n",
       "      <td>12963426.0</td>\n",
       "      <td>15262448.0</td>\n",
       "      <td>Major</td>\n",
       "      <td>bug</td>\n",
       "    </tr>\n",
       "  </tbody>\n",
       "</table>\n",
       "</div>"
      ]
     },
     "execution_count": 189,
     "metadata": {},
     "output_type": "execute_result"
    }
   ],
   "execution_count": 189
  },
  {
   "metadata": {
    "ExecuteTime": {
     "end_time": "2024-07-13T12:02:59.364048Z",
     "start_time": "2024-07-13T12:02:59.360667Z"
    }
   },
   "cell_type": "code",
   "source": [
    "import matplotlib.pyplot as plt\n",
    "from matplotlib.ticker import FuncFormatter\n",
    "\n",
    "plt.style.available"
   ],
   "id": "1dccf18176413ff",
   "outputs": [
    {
     "data": {
      "text/plain": [
       "['Solarize_Light2',\n",
       " '_classic_test_patch',\n",
       " '_mpl-gallery',\n",
       " '_mpl-gallery-nogrid',\n",
       " 'bmh',\n",
       " 'classic',\n",
       " 'dark_background',\n",
       " 'fast',\n",
       " 'fivethirtyeight',\n",
       " 'ggplot',\n",
       " 'grayscale',\n",
       " 'seaborn-v0_8',\n",
       " 'seaborn-v0_8-bright',\n",
       " 'seaborn-v0_8-colorblind',\n",
       " 'seaborn-v0_8-dark',\n",
       " 'seaborn-v0_8-dark-palette',\n",
       " 'seaborn-v0_8-darkgrid',\n",
       " 'seaborn-v0_8-deep',\n",
       " 'seaborn-v0_8-muted',\n",
       " 'seaborn-v0_8-notebook',\n",
       " 'seaborn-v0_8-paper',\n",
       " 'seaborn-v0_8-pastel',\n",
       " 'seaborn-v0_8-poster',\n",
       " 'seaborn-v0_8-talk',\n",
       " 'seaborn-v0_8-ticks',\n",
       " 'seaborn-v0_8-white',\n",
       " 'seaborn-v0_8-whitegrid',\n",
       " 'tableau-colorblind10']"
      ]
     },
     "execution_count": 215,
     "metadata": {},
     "output_type": "execute_result"
    }
   ],
   "execution_count": 215
  },
  {
   "metadata": {
    "ExecuteTime": {
     "end_time": "2024-07-13T12:18:29.189657Z",
     "start_time": "2024-07-13T12:18:28.830248Z"
    }
   },
   "cell_type": "code",
   "source": [
    "grouped = rq34.groupby(['issuetype', 'text_sentiment']).size().unstack(fill_value=0)\n",
    "grouped_percent = grouped.div(grouped.sum(axis=1), axis=0) * 100\n",
    "\n",
    "plt.figure(figsize=(10, 6))  \n",
    "\n",
    "sentiments = grouped.columns\n",
    "issue_types = grouped.index\n",
    "\n",
    "bar_width = 0.25\n",
    "bar_positions = list(range(len(issue_types)))\n",
    "\n",
    "for i, sentiment in enumerate(sentiments):\n",
    "    offset = i * bar_width - bar_width / 2\n",
    "\n",
    "    bars = plt.bar([pos + offset for pos in bar_positions], grouped[sentiment], width=bar_width, label=sentiment)\n",
    "    \n",
    "    for bar, pct in zip(bars, grouped_percent[sentiment]):\n",
    "        plt.text(bar.get_x() + bar.get_width() / 2, bar.get_height() + 1, f'{pct:.1f}%', ha='center', va='bottom', fontsize=10)\n",
    "\n",
    "\n",
    "# Customize plot\n",
    "plt.xlabel('Issue Type')\n",
    "plt.ylabel('Frequency')\n",
    "# plt.title('Sentiment Frequencies by Issue Type')\n",
    "plt.xticks(bar_positions, issue_types)\n",
    "plt.legend(title='Sentiment', loc='upper right')\n",
    "plt.gca().spines['top'].set_visible(False) \n",
    "plt.gca().spines['right'].set_visible(False)  \n",
    "plt.gca().get_xaxis().tick_bottom() \n",
    "plt.gca().get_yaxis().tick_left()  \n",
    "plt.gca().get_yaxis().set_major_formatter(FuncFormatter(lambda x, p: format(int(x), ',')))\n",
    "plt.grid(False)\n",
    "plt.show()"
   ],
   "id": "79f8a287d2ea3eab",
   "outputs": [
    {
     "data": {
      "text/plain": [
       "<Figure size 1000x600 with 1 Axes>"
      ],
      "image/png": "[encoded data removed]"
     },
     "metadata": {},
     "output_type": "display_data"
    }
   ],
   "execution_count": 225
  },
  {
   "metadata": {
    "ExecuteTime": {
     "end_time": "2024-07-13T12:18:48.665189Z",
     "start_time": "2024-07-13T12:18:48.284325Z"
    }
   },
   "cell_type": "code",
   "source": [
    "grouped = rq34.groupby(['priority', 'text_sentiment']).size().unstack(fill_value=0)\n",
    "grouped_percent = grouped.div(grouped.sum(axis=1), axis=0) * 100\n",
    "\n",
    "plt.figure(figsize=(10, 6))  \n",
    "\n",
    "priorities = grouped.columns\n",
    "issue_types = grouped.index\n",
    "\n",
    "bar_width = 0.25\n",
    "bar_positions = list(range(len(issue_types)))\n",
    "\n",
    "for i, priority in enumerate(priorities):\n",
    "    offset = i * bar_width - bar_width / 2\n",
    "\n",
    "    bars = plt.bar([pos + offset for pos in bar_positions], grouped[priority], width=bar_width, label=priority)\n",
    "    \n",
    "    for bar, pct in zip(bars, grouped_percent[priority]):\n",
    "        plt.text(bar.get_x() + bar.get_width() / 2, bar.get_height() + 1, f'{pct:.1f}%', ha='center', va='bottom', fontsize=10)\n",
    "\n",
    "# Customize plot\n",
    "plt.xlabel('Issue Type')\n",
    "plt.ylabel('Frequency')\n",
    "# plt.title('Sentiment Frequencies by Issue Priority')\n",
    "plt.xticks(bar_positions, issue_types)\n",
    "plt.legend(title='Sentiment', loc='upper right')\n",
    "plt.gca().spines['top'].set_visible(False) \n",
    "plt.gca().spines['right'].set_visible(False)  \n",
    "plt.gca().get_xaxis().tick_bottom() \n",
    "plt.gca().get_yaxis().tick_left()  \n",
    "plt.gca().get_yaxis().set_major_formatter(FuncFormatter(lambda x, p: format(int(x), ',')))\n",
    "plt.grid(False)\n",
    "plt.show()"
   ],
   "id": "1df6bd9c0484d65c",
   "outputs": [
    {
     "data": {
      "text/plain": [
       "<Figure size 1000x600 with 1 Axes>"
      ],
      "image/png": "[encoded data removed]"
     },
     "metadata": {},
     "output_type": "display_data"
    }
   ],
   "execution_count": 226
  },
  {
   "metadata": {
    "ExecuteTime": {
     "end_time": "2024-07-13T10:25:34.417488Z",
     "start_time": "2024-07-13T10:25:34.414840Z"
    }
   },
   "cell_type": "code",
   "source": "len(rq34)",
   "id": "43618ae8eded3e7c",
   "outputs": [
    {
     "data": {
      "text/plain": [
       "3814162"
      ]
     },
     "execution_count": 175,
     "metadata": {},
     "output_type": "execute_result"
    }
   ],
   "execution_count": 175
  },
  {
   "metadata": {
    "ExecuteTime": {
     "end_time": "2024-07-13T10:55:53.563779Z",
     "start_time": "2024-07-13T10:55:53.104203Z"
    }
   },
   "cell_type": "code",
   "source": [
    "rq3_contingency_table = pd.crosstab(rq34['issuetype'], rq34['text_sentiment'])\n",
    "rq3_contingency_table"
   ],
   "id": "52890aefacf759cd",
   "outputs": [
    {
     "data": {
      "text/plain": [
       "text_sentiment  negative  neutral  positive\n",
       "issuetype                                  \n",
       "bug               376168  1032756    467624\n",
       "non-bug           283312  1180785    473517"
      ],
      "text/html": [
       "<div>\n",
       "<style scoped>\n",
       "    .dataframe tbody tr th:only-of-type {\n",
       "        vertical-align: middle;\n",
       "    }\n",
       "\n",
       "    .dataframe tbody tr th {\n",
       "        vertical-align: top;\n",
       "    }\n",
       "\n",
       "    .dataframe thead th {\n",
       "        text-align: right;\n",
       "    }\n",
       "</style>\n",
       "<table border=\"1\" class=\"dataframe\">\n",
       "  <thead>\n",
       "    <tr style=\"text-align: right;\">\n",
       "      <th>text_sentiment</th>\n",
       "      <th>negative</th>\n",
       "      <th>neutral</th>\n",
       "      <th>positive</th>\n",
       "    </tr>\n",
       "    <tr>\n",
       "      <th>issuetype</th>\n",
       "      <th></th>\n",
       "      <th></th>\n",
       "      <th></th>\n",
       "    </tr>\n",
       "  </thead>\n",
       "  <tbody>\n",
       "    <tr>\n",
       "      <th>bug</th>\n",
       "      <td>376168</td>\n",
       "      <td>1032756</td>\n",
       "      <td>467624</td>\n",
       "    </tr>\n",
       "    <tr>\n",
       "      <th>non-bug</th>\n",
       "      <td>283312</td>\n",
       "      <td>1180785</td>\n",
       "      <td>473517</td>\n",
       "    </tr>\n",
       "  </tbody>\n",
       "</table>\n",
       "</div>"
      ]
     },
     "execution_count": 178,
     "metadata": {},
     "output_type": "execute_result"
    }
   ],
   "execution_count": 178
  },
  {
   "metadata": {
    "ExecuteTime": {
     "end_time": "2024-07-13T12:13:10.009739Z",
     "start_time": "2024-07-13T12:13:10.007961Z"
    }
   },
   "cell_type": "code",
   "source": "\n",
   "id": "51a08b59067e3f30",
   "outputs": [],
   "execution_count": 220
  },
  {
   "metadata": {
    "ExecuteTime": {
     "end_time": "2024-07-13T10:55:54.410380Z",
     "start_time": "2024-07-13T10:55:54.399455Z"
    }
   },
   "cell_type": "code",
   "source": [
    "chi2, p, dof, expected = stats.chi2_contingency(rq3_contingency_table)\n",
    "\n",
    "print(f\"\\nChi-Square Test Statistic: {chi2}\")\n",
    "print(f\"p-value: {p}\")\n",
    "print(f\"Degrees of Freedom: {dof}\")\n",
    "print(\"Expected Frequencies:\")\n",
    "print(expected)"
   ],
   "id": "3925b9093d7756a2",
   "outputs": [
    {
     "name": "stdout",
     "output_type": "stream",
     "text": [
      "\n",
      "Chi-Square Test Statistic: 22038.492955364705\n",
      "p-value: 0.0\n",
      "Degrees of Freedom: 2\n",
      "Expected Frequencies:\n",
      "[[ 324460.75311956 1089050.7368245   463036.51005594]\n",
      " [ 335019.24688044 1124490.2631755   478104.48994406]]\n"
     ]
    }
   ],
   "execution_count": 179
  },
  {
   "metadata": {},
   "cell_type": "code",
   "outputs": [],
   "execution_count": null,
   "source": "",
   "id": "1b194ea0960a032"
  },
  {
   "metadata": {
    "ExecuteTime": {
     "end_time": "2024-07-13T10:57:29.993640Z",
     "start_time": "2024-07-13T10:57:29.550067Z"
    }
   },
   "cell_type": "code",
   "source": [
    "rq4_contingency_table = pd.crosstab(rq34['priority'], rq34['text_sentiment'])\n",
    "rq4_contingency_table"
   ],
   "id": "53fcd3b7459c0a9c",
   "outputs": [
    {
     "data": {
      "text/plain": [
       "text_sentiment  negative  neutral  positive\n",
       "priority                                   \n",
       "Blocker            39716   102122     44046\n",
       "Critical           49265   134894     55221\n",
       "Major             439509  1531149    638294\n",
       "Minor             117301   393634    177164\n",
       "Trivial            13689    51742     26416"
      ],
      "text/html": [
       "<div>\n",
       "<style scoped>\n",
       "    .dataframe tbody tr th:only-of-type {\n",
       "        vertical-align: middle;\n",
       "    }\n",
       "\n",
       "    .dataframe tbody tr th {\n",
       "        vertical-align: top;\n",
       "    }\n",
       "\n",
       "    .dataframe thead th {\n",
       "        text-align: right;\n",
       "    }\n",
       "</style>\n",
       "<table border=\"1\" class=\"dataframe\">\n",
       "  <thead>\n",
       "    <tr style=\"text-align: right;\">\n",
       "      <th>text_sentiment</th>\n",
       "      <th>negative</th>\n",
       "      <th>neutral</th>\n",
       "      <th>positive</th>\n",
       "    </tr>\n",
       "    <tr>\n",
       "      <th>priority</th>\n",
       "      <th></th>\n",
       "      <th></th>\n",
       "      <th></th>\n",
       "    </tr>\n",
       "  </thead>\n",
       "  <tbody>\n",
       "    <tr>\n",
       "      <th>Blocker</th>\n",
       "      <td>39716</td>\n",
       "      <td>102122</td>\n",
       "      <td>44046</td>\n",
       "    </tr>\n",
       "    <tr>\n",
       "      <th>Critical</th>\n",
       "      <td>49265</td>\n",
       "      <td>134894</td>\n",
       "      <td>55221</td>\n",
       "    </tr>\n",
       "    <tr>\n",
       "      <th>Major</th>\n",
       "      <td>439509</td>\n",
       "      <td>1531149</td>\n",
       "      <td>638294</td>\n",
       "    </tr>\n",
       "    <tr>\n",
       "      <th>Minor</th>\n",
       "      <td>117301</td>\n",
       "      <td>393634</td>\n",
       "      <td>177164</td>\n",
       "    </tr>\n",
       "    <tr>\n",
       "      <th>Trivial</th>\n",
       "      <td>13689</td>\n",
       "      <td>51742</td>\n",
       "      <td>26416</td>\n",
       "    </tr>\n",
       "  </tbody>\n",
       "</table>\n",
       "</div>"
      ]
     },
     "execution_count": 181,
     "metadata": {},
     "output_type": "execute_result"
    }
   ],
   "execution_count": 181
  },
  {
   "metadata": {
    "ExecuteTime": {
     "end_time": "2024-07-13T10:57:33.783423Z",
     "start_time": "2024-07-13T10:57:33.779930Z"
    }
   },
   "cell_type": "code",
   "source": [
    "# Perform the Chi-Square test\n",
    "chi2, p, dof, expected = stats.chi2_contingency(rq4_contingency_table)\n",
    "\n",
    "print(f\"\\nChi-Square Test Statistic: {chi2}\")\n",
    "print(f\"p-value: {p}\")\n",
    "print(f\"Degrees of Freedom: {dof}\")\n",
    "print(\"Expected Frequencies:\")\n",
    "print(expected)"
   ],
   "id": "3bc997bddcd9e7e1",
   "outputs": [
    {
     "name": "stdout",
     "output_type": "stream",
     "text": [
      "\n",
      "Chi-Square Test Statistic: 5961.983421818359\n",
      "p-value: 0.0\n",
      "Degrees of Freedom: 8\n",
      "Expected Frequencies:\n",
      "[[  32139.89870383  107877.39357793   45866.70771824]\n",
      " [  41389.51685849  138923.68614128   59066.79700023]\n",
      " [ 451095.59189148 1514099.87804189  643756.53006663]\n",
      " [ 118974.37196427  399336.82642714  169787.80160858]\n",
      " [  15880.62058193   53303.21581176   22663.16360632]]\n"
     ]
    }
   ],
   "execution_count": 182
  },
  {
   "metadata": {},
   "cell_type": "code",
   "outputs": [],
   "execution_count": null,
   "source": "",
   "id": "6a022370f6e51c25"
  },
  {
   "metadata": {},
   "cell_type": "code",
   "outputs": [],
   "execution_count": null,
   "source": "",
   "id": "ca9fae559d78c7b6"
  },
  {
   "metadata": {},
   "cell_type": "code",
   "outputs": [],
   "execution_count": null,
   "source": "",
   "id": "490ca8436faf4bc"
  },
  {
   "metadata": {},
   "cell_type": "code",
   "outputs": [],
   "execution_count": null,
   "source": "",
   "id": "bfd07f95cdbe00af"
  },
  {
   "metadata": {},
   "cell_type": "code",
   "outputs": [],
   "execution_count": null,
   "source": "",
   "id": "af3474c0a5e7a0cb"
  }
 ],
 "metadata": {
  "kernelspec": {
   "display_name": "Python 3",
   "language": "python",
   "name": "python3"
  },
  "language_info": {
   "codemirror_mode": {
    "name": "ipython",
    "version": 2
   },
   "file_extension": ".py",
   "mimetype": "text/x-python",
   "name": "python",
   "nbconvert_exporter": "python",
   "pygments_lexer": "ipython2",
   "version": "2.7.6"
  }
 },
 "nbformat": 4,
 "nbformat_minor": 5
}
