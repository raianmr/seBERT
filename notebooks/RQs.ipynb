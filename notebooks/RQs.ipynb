{
 "cells": [
  {
   "metadata": {
    "ExecuteTime": {
     "end_time": "2024-07-13T07:26:32.419850Z",
     "start_time": "2024-07-13T07:26:32.417348Z"
    }
   },
   "cell_type": "code",
   "source": [
    "import pandas as pd\n",
    "from scipy.stats import chi2_contingency, ttest_ind"
   ],
   "id": "c699bc8f65f447ce",
   "outputs": [],
   "execution_count": 48
  },
  {
   "metadata": {},
   "cell_type": "markdown",
   "source": "# RQ 3",
   "id": "668ff8c2ad64f9e5"
  },
  {
   "cell_type": "code",
   "id": "initial_id",
   "metadata": {
    "collapsed": true,
    "ExecuteTime": {
     "end_time": "2024-07-13T07:19:52.548478Z",
     "start_time": "2024-07-13T07:19:51.003176Z"
    }
   },
   "source": [
    "# read csv\n",
    "rq34 = pd.read_csv(\"./data/rq_3_4.csv\")\n",
    "rq34.head()"
   ],
   "outputs": [
    {
     "data": {
      "text/plain": [
       "  text_sentiment product    issue_id  comment_id priority issuetype\n",
       "0        neutral     AAR  12963247.0  15972995.0    Major       bug\n",
       "1        neutral     AAR  12963247.0  15972996.0    Major       bug\n",
       "2        neutral     AAR  12963270.0  15261151.0    Major       bug\n",
       "3        neutral     AAR  12963426.0  15261824.0    Major       bug\n",
       "4        neutral     AAR  12963426.0  15262448.0    Major       bug"
      ],
      "text/html": [
       "<div>\n",
       "<style scoped>\n",
       "    .dataframe tbody tr th:only-of-type {\n",
       "        vertical-align: middle;\n",
       "    }\n",
       "\n",
       "    .dataframe tbody tr th {\n",
       "        vertical-align: top;\n",
       "    }\n",
       "\n",
       "    .dataframe thead th {\n",
       "        text-align: right;\n",
       "    }\n",
       "</style>\n",
       "<table border=\"1\" class=\"dataframe\">\n",
       "  <thead>\n",
       "    <tr style=\"text-align: right;\">\n",
       "      <th></th>\n",
       "      <th>text_sentiment</th>\n",
       "      <th>product</th>\n",
       "      <th>issue_id</th>\n",
       "      <th>comment_id</th>\n",
       "      <th>priority</th>\n",
       "      <th>issuetype</th>\n",
       "    </tr>\n",
       "  </thead>\n",
       "  <tbody>\n",
       "    <tr>\n",
       "      <th>0</th>\n",
       "      <td>neutral</td>\n",
       "      <td>AAR</td>\n",
       "      <td>12963247.0</td>\n",
       "      <td>15972995.0</td>\n",
       "      <td>Major</td>\n",
       "      <td>bug</td>\n",
       "    </tr>\n",
       "    <tr>\n",
       "      <th>1</th>\n",
       "      <td>neutral</td>\n",
       "      <td>AAR</td>\n",
       "      <td>12963247.0</td>\n",
       "      <td>15972996.0</td>\n",
       "      <td>Major</td>\n",
       "      <td>bug</td>\n",
       "    </tr>\n",
       "    <tr>\n",
       "      <th>2</th>\n",
       "      <td>neutral</td>\n",
       "      <td>AAR</td>\n",
       "      <td>12963270.0</td>\n",
       "      <td>15261151.0</td>\n",
       "      <td>Major</td>\n",
       "      <td>bug</td>\n",
       "    </tr>\n",
       "    <tr>\n",
       "      <th>3</th>\n",
       "      <td>neutral</td>\n",
       "      <td>AAR</td>\n",
       "      <td>12963426.0</td>\n",
       "      <td>15261824.0</td>\n",
       "      <td>Major</td>\n",
       "      <td>bug</td>\n",
       "    </tr>\n",
       "    <tr>\n",
       "      <th>4</th>\n",
       "      <td>neutral</td>\n",
       "      <td>AAR</td>\n",
       "      <td>12963426.0</td>\n",
       "      <td>15262448.0</td>\n",
       "      <td>Major</td>\n",
       "      <td>bug</td>\n",
       "    </tr>\n",
       "  </tbody>\n",
       "</table>\n",
       "</div>"
      ]
     },
     "execution_count": 34,
     "metadata": {},
     "output_type": "execute_result"
    }
   ],
   "execution_count": 34
  },
  {
   "metadata": {
    "ExecuteTime": {
     "end_time": "2024-07-13T07:19:52.552167Z",
     "start_time": "2024-07-13T07:19:52.549449Z"
    }
   },
   "cell_type": "code",
   "source": "len(rq34)",
   "id": "43618ae8eded3e7c",
   "outputs": [
    {
     "data": {
      "text/plain": [
       "3814162"
      ]
     },
     "execution_count": 35,
     "metadata": {},
     "output_type": "execute_result"
    }
   ],
   "execution_count": 35
  },
  {
   "metadata": {
    "ExecuteTime": {
     "end_time": "2024-07-13T07:19:53.035186Z",
     "start_time": "2024-07-13T07:19:52.772180Z"
    }
   },
   "cell_type": "code",
   "source": [
    "# get total text_sentiment class count for each priority, make the sentiment classes into columns\n",
    "rq4 = rq34.groupby(['priority', 'text_sentiment']).size()\n",
    "rq4 = rq4.unstack().reset_index()\n",
    "rq4.columns.name = None\n",
    "rq4"
   ],
   "id": "b6a20fcb3b3ffd98",
   "outputs": [
    {
     "data": {
      "text/plain": [
       "   priority  negative  neutral  positive\n",
       "0   Blocker     39716   102122     44046\n",
       "1  Critical     49265   134894     55221\n",
       "2     Major    439509  1531149    638294\n",
       "3     Minor    117301   393634    177164\n",
       "4   Trivial     13689    51742     26416"
      ],
      "text/html": [
       "<div>\n",
       "<style scoped>\n",
       "    .dataframe tbody tr th:only-of-type {\n",
       "        vertical-align: middle;\n",
       "    }\n",
       "\n",
       "    .dataframe tbody tr th {\n",
       "        vertical-align: top;\n",
       "    }\n",
       "\n",
       "    .dataframe thead th {\n",
       "        text-align: right;\n",
       "    }\n",
       "</style>\n",
       "<table border=\"1\" class=\"dataframe\">\n",
       "  <thead>\n",
       "    <tr style=\"text-align: right;\">\n",
       "      <th></th>\n",
       "      <th>priority</th>\n",
       "      <th>negative</th>\n",
       "      <th>neutral</th>\n",
       "      <th>positive</th>\n",
       "    </tr>\n",
       "  </thead>\n",
       "  <tbody>\n",
       "    <tr>\n",
       "      <th>0</th>\n",
       "      <td>Blocker</td>\n",
       "      <td>39716</td>\n",
       "      <td>102122</td>\n",
       "      <td>44046</td>\n",
       "    </tr>\n",
       "    <tr>\n",
       "      <th>1</th>\n",
       "      <td>Critical</td>\n",
       "      <td>49265</td>\n",
       "      <td>134894</td>\n",
       "      <td>55221</td>\n",
       "    </tr>\n",
       "    <tr>\n",
       "      <th>2</th>\n",
       "      <td>Major</td>\n",
       "      <td>439509</td>\n",
       "      <td>1531149</td>\n",
       "      <td>638294</td>\n",
       "    </tr>\n",
       "    <tr>\n",
       "      <th>3</th>\n",
       "      <td>Minor</td>\n",
       "      <td>117301</td>\n",
       "      <td>393634</td>\n",
       "      <td>177164</td>\n",
       "    </tr>\n",
       "    <tr>\n",
       "      <th>4</th>\n",
       "      <td>Trivial</td>\n",
       "      <td>13689</td>\n",
       "      <td>51742</td>\n",
       "      <td>26416</td>\n",
       "    </tr>\n",
       "  </tbody>\n",
       "</table>\n",
       "</div>"
      ]
     },
     "execution_count": 36,
     "metadata": {},
     "output_type": "execute_result"
    }
   ],
   "execution_count": 36
  },
  {
   "metadata": {
    "ExecuteTime": {
     "end_time": "2024-07-13T07:25:50.791259Z",
     "start_time": "2024-07-13T07:25:50.786151Z"
    }
   },
   "cell_type": "code",
   "source": [
    "# Separate the data into major and non-major priority issues\n",
    "major_issues = rq4[rq4['priority'] == 'Major']\n",
    "other_issues = rq4[rq4['priority'] != 'Major']"
   ],
   "id": "43a6ecd5214120f3",
   "outputs": [],
   "execution_count": 44
  },
  {
   "metadata": {
    "ExecuteTime": {
     "end_time": "2024-07-13T07:25:51.145480Z",
     "start_time": "2024-07-13T07:25:51.140898Z"
    }
   },
   "cell_type": "code",
   "source": [
    "# Sum the counts for sentiments\n",
    "major_negative = major_issues['negative'].sum()\n",
    "major_total = major_issues[['neutral', 'negative', 'positive']].sum().sum()\n",
    "other_negative = other_issues['negative'].sum()\n",
    "other_total = other_issues[['neutral', 'negative', 'positive']].sum().sum()"
   ],
   "id": "621f8e3b250c5237",
   "outputs": [],
   "execution_count": 45
  },
  {
   "metadata": {
    "ExecuteTime": {
     "end_time": "2024-07-13T07:28:58.801286Z",
     "start_time": "2024-07-13T07:28:58.798340Z"
    }
   },
   "cell_type": "code",
   "source": [
    "# Create a contingency table for the Chi-squared test\n",
    "contingency_table = [\n",
    "    [major_negative, major_total - major_negative],\n",
    "    [other_negative, other_total - other_negative]\n",
    "]\n",
    "contingency_table"
   ],
   "id": "15d29ecb6ead7a3f",
   "outputs": [
    {
     "data": {
      "text/plain": [
       "[[439509, 2169443], [219971, 985239]]"
      ]
     },
     "execution_count": 49,
     "metadata": {},
     "output_type": "execute_result"
    }
   ],
   "execution_count": 49
  },
  {
   "metadata": {
    "ExecuteTime": {
     "end_time": "2024-07-13T07:29:18.686210Z",
     "start_time": "2024-07-13T07:29:18.682671Z"
    }
   },
   "cell_type": "code",
   "source": [
    "# Perform Chi-squared test\n",
    "chi2, p_chi2, dof, expected = chi2_contingency(contingency_table)"
   ],
   "id": "6bd548c658648e45",
   "outputs": [],
   "execution_count": 50
  },
  {
   "metadata": {
    "ExecuteTime": {
     "end_time": "2024-07-13T07:29:39.142113Z",
     "start_time": "2024-07-13T07:29:39.088242Z"
    }
   },
   "cell_type": "code",
   "source": [
    "# Prepare data for T-test\n",
    "# Create a new DataFrame where each row represents a sentiment\n",
    "major_sentiments = major_issues[['neutral', 'negative', 'positive']].apply(\n",
    "    lambda x: ['neutral'] * x['neutral'] + ['negative'] * x['negative'] + ['positive'] * x['positive'], axis=1).explode()\n",
    "other_sentiments = other_issues[['neutral', 'negative', 'positive']].apply(\n",
    "    lambda x: ['neutral'] * x['neutral'] + ['negative'] * x['negative'] + ['positive'] * x['positive'], axis=1).explode()"
   ],
   "id": "c923c897b790b3ca",
   "outputs": [],
   "execution_count": 51
  },
  {
   "metadata": {
    "ExecuteTime": {
     "end_time": "2024-07-13T07:29:51.978350Z",
     "start_time": "2024-07-13T07:29:51.906746Z"
    }
   },
   "cell_type": "code",
   "source": [
    "# Map sentiment values to numerical values for performing the T-test\n",
    "sentiment_map = {'negative': -1, 'neutral': 0, 'positive': 1}\n",
    "major_sentiments = major_sentiments.map(sentiment_map)\n",
    "other_sentiments = other_sentiments.map(sentiment_map)"
   ],
   "id": "c18b385a039316a3",
   "outputs": [],
   "execution_count": 52
  },
  {
   "metadata": {
    "ExecuteTime": {
     "end_time": "2024-07-13T07:30:01.692066Z",
     "start_time": "2024-07-13T07:30:01.671278Z"
    }
   },
   "cell_type": "code",
   "source": [
    "# Perform T-test\n",
    "t_stat, p_ttest = ttest_ind(major_sentiments.dropna(), other_sentiments.dropna(), equal_var=False)"
   ],
   "id": "b8dc9385d837542c",
   "outputs": [],
   "execution_count": 53
  },
  {
   "metadata": {
    "ExecuteTime": {
     "end_time": "2024-07-13T07:30:11.408991Z",
     "start_time": "2024-07-13T07:30:11.406401Z"
    }
   },
   "cell_type": "code",
   "source": [
    "# Output the results\n",
    "print(f'Chi-squared test results:')\n",
    "print(f'Chi2 statistic: {chi2}')\n",
    "print(f'P-value: {p_chi2}')"
   ],
   "id": "ddad181d3b496463",
   "outputs": [
    {
     "name": "stdout",
     "output_type": "stream",
     "text": [
      "Chi-squared test results:\n",
      "Chi2 statistic: 1138.63704654292\n",
      "P-value: 1.3227376708930362e-249\n"
     ]
    }
   ],
   "execution_count": 54
  },
  {
   "metadata": {
    "ExecuteTime": {
     "end_time": "2024-07-13T07:30:29.176967Z",
     "start_time": "2024-07-13T07:30:29.173323Z"
    }
   },
   "cell_type": "code",
   "source": [
    "if p_chi2 < 0.05:\n",
    "    print('Chi-squared test: There is a significant difference in negative sentiment for major priority issues.')\n",
    "else:\n",
    "    print('Chi-squared test: There is no significant difference in negative sentiment for major priority issues.')"
   ],
   "id": "7e9588a72728f3ea",
   "outputs": [
    {
     "name": "stdout",
     "output_type": "stream",
     "text": [
      "Chi-squared test: There is a significant difference in negative sentiment for major priority issues.\n"
     ]
    }
   ],
   "execution_count": 55
  },
  {
   "metadata": {
    "ExecuteTime": {
     "end_time": "2024-07-13T07:30:40.084892Z",
     "start_time": "2024-07-13T07:30:40.082099Z"
    }
   },
   "cell_type": "code",
   "source": [
    "print(f'T-test results:')\n",
    "print(f'T-statistic: {t_stat}')\n",
    "print(f'P-value: {p_ttest}')"
   ],
   "id": "9f16c30d9d6f0fd3",
   "outputs": [
    {
     "name": "stdout",
     "output_type": "stream",
     "text": [
      "T-test results:\n",
      "T-statistic: 10.380499849999218\n",
      "P-value: 3.045712223749261e-25\n"
     ]
    }
   ],
   "execution_count": 56
  },
  {
   "metadata": {
    "ExecuteTime": {
     "end_time": "2024-07-13T07:30:49.217611Z",
     "start_time": "2024-07-13T07:30:49.214162Z"
    }
   },
   "cell_type": "code",
   "source": [
    "if p_ttest < 0.05:\n",
    "    print('T-test: There is a significant difference in sentiment for major priority issues.')\n",
    "else:\n",
    "    print('T-test: There is no significant difference in sentiment for major priority issues.')"
   ],
   "id": "a125c58a867ed549",
   "outputs": [
    {
     "name": "stdout",
     "output_type": "stream",
     "text": [
      "T-test: There is a significant difference in sentiment for major priority issues.\n"
     ]
    }
   ],
   "execution_count": 57
  },
  {
   "metadata": {},
   "cell_type": "code",
   "outputs": [],
   "execution_count": null,
   "source": "",
   "id": "264c04935034a55a"
  }
 ],
 "metadata": {
  "kernelspec": {
   "display_name": "Python 3",
   "language": "python",
   "name": "python3"
  },
  "language_info": {
   "codemirror_mode": {
    "name": "ipython",
    "version": 2
   },
   "file_extension": ".py",
   "mimetype": "text/x-python",
   "name": "python",
   "nbconvert_exporter": "python",
   "pygments_lexer": "ipython2",
   "version": "2.7.6"
  }
 },
 "nbformat": 4,
 "nbformat_minor": 5
}
