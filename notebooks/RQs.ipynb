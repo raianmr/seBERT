{
 "cells": [
  {
   "metadata": {
    "ExecuteTime": {
     "end_time": "2024-07-15T01:16:22.663195Z",
     "start_time": "2024-07-15T01:16:22.660957Z"
    }
   },
   "cell_type": "code",
   "source": [
    "from itertools import combinations\n",
    "\n",
    "import numpy as np\n",
    "import pandas as pd\n",
    "from scipy import stats\n",
    "from scipy.stats import chi2_contingency, ttest_ind, mannwhitneyu"
   ],
   "id": "c699bc8f65f447ce",
   "outputs": [],
   "execution_count": 72
  },
  {
   "metadata": {},
   "cell_type": "markdown",
   "source": "# RQ 3 + 4",
   "id": "809661f19fcaa39e"
  },
  {
   "metadata": {
    "ExecuteTime": {
     "end_time": "2024-07-15T01:14:27.785118Z",
     "start_time": "2024-07-15T01:14:26.519223Z"
    }
   },
   "cell_type": "code",
   "source": [
    "rq34 = pd.read_csv(\"./data/rq_3_4.csv\")\n",
    "print(len(rq34))"
   ],
   "id": "8b096208c77991bb",
   "outputs": [
    {
     "name": "stdout",
     "output_type": "stream",
     "text": [
      "3814162\n"
     ]
    }
   ],
   "execution_count": 70
  },
  {
   "metadata": {
    "ExecuteTime": {
     "end_time": "2024-07-15T01:14:30.722940Z",
     "start_time": "2024-07-15T01:14:28.497310Z"
    }
   },
   "cell_type": "code",
   "source": [
    "sentiment_mapping = {'negative': -1, 'neutral': 0, 'positive': 1}\n",
    "rq34['sentiment_score'] = rq34['text_sentiment'].map(sentiment_mapping)\n",
    " \n",
    "rq34['is_negative'] = rq34['text_sentiment'] == 'negative'\n",
    "rq34['is_positive'] = rq34['text_sentiment'] == 'positive'\n",
    "rq34['is_neutral'] = rq34['text_sentiment'] == 'neutral'\n",
    "\n",
    "# rq34['is_bug'] = rq34['issuetype'] == 'bug'\n",
    "# rq34['is_nonbug'] = rq34['issuetype'] != 'bug'\n",
    "# \n",
    "# rq34['is_blocker'] = rq34['priority'] == 'Blocker'\n",
    "# rq34['is_critical'] = rq34['priority'] == 'Critical'\n",
    "# rq34['is_major'] = rq34['priority'] == 'Major'\n",
    "# rq34['is_minor'] = rq34['priority'] == 'Minor'\n",
    "# rq34['is_trivial'] = rq34['priority'] == 'Trivial'\n",
    "\n",
    "cumulative_scores = rq34.groupby('issue_id')['sentiment_score'].sum().reset_index()\n",
    "positive_scores = rq34.groupby('issue_id')['is_positive'].sum().reset_index()\n",
    "negative_scores = rq34.groupby('issue_id')['is_negative'].sum().reset_index()\n",
    "\n",
    "rq34 = rq34.merge(cumulative_scores, on='issue_id', suffixes=('', '_cumulative'))\n",
    "rq34 = rq34.merge(positive_scores, on='issue_id', suffixes=('', '_count'))\n",
    "rq34 = rq34.rename(columns={'is_positive_count': 'sentiment_score_positive'})\n",
    "rq34 = rq34.merge(negative_scores, on='issue_id', suffixes=('', '_count'))\n",
    "rq34 = rq34.rename(columns={'is_negative_count': 'sentiment_score_negative'})\n",
    "\n",
    "assert len(rq34[rq34['sentiment_score_cumulative'] != rq34['sentiment_score_positive'] - rq34['sentiment_score_negative']]) == 0\n",
    "print(len(rq34))\n",
    "rq34.sample(10)"
   ],
   "id": "1db00b8824c5ee71",
   "outputs": [
    {
     "name": "stdout",
     "output_type": "stream",
     "text": [
      "3814162\n"
     ]
    },
    {
     "data": {
      "text/plain": [
       "        text_sentiment  product    issue_id  comment_id  priority issuetype  \\\n",
       "2296465       positive   LUCENE  13206680.0  16730187.0     Minor       bug   \n",
       "1991765       positive    INFRA  13213687.0  16792925.0     Major   non-bug   \n",
       "2566239        neutral     NIFI  13023926.0  15705214.0  Critical       bug   \n",
       "3646528        neutral      PIG  12472434.0  12917081.0     Major   non-bug   \n",
       "438643         neutral       CB  12922213.0  15059264.0     Major       bug   \n",
       "2209940        neutral  LOG4NET  12478601.0  12984119.0   Blocker       bug   \n",
       "362584         neutral    CAMEL  12525539.0  13120780.0     Major       bug   \n",
       "291870         neutral  BEEHIVE  12311383.0  12313641.0     Major       bug   \n",
       "1390878        neutral    HBASE  12842706.0  14952760.0  Critical   non-bug   \n",
       "3638401       positive      PIG  12615010.0  13492949.0     Major       bug   \n",
       "\n",
       "         sentiment_score  is_negative  is_positive  is_neutral  \\\n",
       "2296465                1        False         True       False   \n",
       "1991765                1        False         True       False   \n",
       "2566239                0        False        False        True   \n",
       "3646528                0        False        False        True   \n",
       "438643                 0        False        False        True   \n",
       "2209940                0        False        False        True   \n",
       "362584                 0        False        False        True   \n",
       "291870                 0        False        False        True   \n",
       "1390878                0        False        False        True   \n",
       "3638401                1        False         True       False   \n",
       "\n",
       "         sentiment_score_cumulative  sentiment_score_positive  \\\n",
       "2296465                           1                         1   \n",
       "1991765                           6                         8   \n",
       "2566239                           0                         5   \n",
       "3646528                           0                         3   \n",
       "438643                            0                         0   \n",
       "2209940                           1                         2   \n",
       "362584                            0                         0   \n",
       "291870                           -3                         0   \n",
       "1390878                           0                         0   \n",
       "3638401                           0                         1   \n",
       "\n",
       "         sentiment_score_negative  \n",
       "2296465                         0  \n",
       "1991765                         2  \n",
       "2566239                         5  \n",
       "3646528                         3  \n",
       "438643                          0  \n",
       "2209940                         1  \n",
       "362584                          0  \n",
       "291870                          3  \n",
       "1390878                         0  \n",
       "3638401                         1  "
      ],
      "text/html": [
       "<div>\n",
       "<style scoped>\n",
       "    .dataframe tbody tr th:only-of-type {\n",
       "        vertical-align: middle;\n",
       "    }\n",
       "\n",
       "    .dataframe tbody tr th {\n",
       "        vertical-align: top;\n",
       "    }\n",
       "\n",
       "    .dataframe thead th {\n",
       "        text-align: right;\n",
       "    }\n",
       "</style>\n",
       "<table border=\"1\" class=\"dataframe\">\n",
       "  <thead>\n",
       "    <tr style=\"text-align: right;\">\n",
       "      <th></th>\n",
       "      <th>text_sentiment</th>\n",
       "      <th>product</th>\n",
       "      <th>issue_id</th>\n",
       "      <th>comment_id</th>\n",
       "      <th>priority</th>\n",
       "      <th>issuetype</th>\n",
       "      <th>sentiment_score</th>\n",
       "      <th>is_negative</th>\n",
       "      <th>is_positive</th>\n",
       "      <th>is_neutral</th>\n",
       "      <th>sentiment_score_cumulative</th>\n",
       "      <th>sentiment_score_positive</th>\n",
       "      <th>sentiment_score_negative</th>\n",
       "    </tr>\n",
       "  </thead>\n",
       "  <tbody>\n",
       "    <tr>\n",
       "      <th>2296465</th>\n",
       "      <td>positive</td>\n",
       "      <td>LUCENE</td>\n",
       "      <td>13206680.0</td>\n",
       "      <td>16730187.0</td>\n",
       "      <td>Minor</td>\n",
       "      <td>bug</td>\n",
       "      <td>1</td>\n",
       "      <td>False</td>\n",
       "      <td>True</td>\n",
       "      <td>False</td>\n",
       "      <td>1</td>\n",
       "      <td>1</td>\n",
       "      <td>0</td>\n",
       "    </tr>\n",
       "    <tr>\n",
       "      <th>1991765</th>\n",
       "      <td>positive</td>\n",
       "      <td>INFRA</td>\n",
       "      <td>13213687.0</td>\n",
       "      <td>16792925.0</td>\n",
       "      <td>Major</td>\n",
       "      <td>non-bug</td>\n",
       "      <td>1</td>\n",
       "      <td>False</td>\n",
       "      <td>True</td>\n",
       "      <td>False</td>\n",
       "      <td>6</td>\n",
       "      <td>8</td>\n",
       "      <td>2</td>\n",
       "    </tr>\n",
       "    <tr>\n",
       "      <th>2566239</th>\n",
       "      <td>neutral</td>\n",
       "      <td>NIFI</td>\n",
       "      <td>13023926.0</td>\n",
       "      <td>15705214.0</td>\n",
       "      <td>Critical</td>\n",
       "      <td>bug</td>\n",
       "      <td>0</td>\n",
       "      <td>False</td>\n",
       "      <td>False</td>\n",
       "      <td>True</td>\n",
       "      <td>0</td>\n",
       "      <td>5</td>\n",
       "      <td>5</td>\n",
       "    </tr>\n",
       "    <tr>\n",
       "      <th>3646528</th>\n",
       "      <td>neutral</td>\n",
       "      <td>PIG</td>\n",
       "      <td>12472434.0</td>\n",
       "      <td>12917081.0</td>\n",
       "      <td>Major</td>\n",
       "      <td>non-bug</td>\n",
       "      <td>0</td>\n",
       "      <td>False</td>\n",
       "      <td>False</td>\n",
       "      <td>True</td>\n",
       "      <td>0</td>\n",
       "      <td>3</td>\n",
       "      <td>3</td>\n",
       "    </tr>\n",
       "    <tr>\n",
       "      <th>438643</th>\n",
       "      <td>neutral</td>\n",
       "      <td>CB</td>\n",
       "      <td>12922213.0</td>\n",
       "      <td>15059264.0</td>\n",
       "      <td>Major</td>\n",
       "      <td>bug</td>\n",
       "      <td>0</td>\n",
       "      <td>False</td>\n",
       "      <td>False</td>\n",
       "      <td>True</td>\n",
       "      <td>0</td>\n",
       "      <td>0</td>\n",
       "      <td>0</td>\n",
       "    </tr>\n",
       "    <tr>\n",
       "      <th>2209940</th>\n",
       "      <td>neutral</td>\n",
       "      <td>LOG4NET</td>\n",
       "      <td>12478601.0</td>\n",
       "      <td>12984119.0</td>\n",
       "      <td>Blocker</td>\n",
       "      <td>bug</td>\n",
       "      <td>0</td>\n",
       "      <td>False</td>\n",
       "      <td>False</td>\n",
       "      <td>True</td>\n",
       "      <td>1</td>\n",
       "      <td>2</td>\n",
       "      <td>1</td>\n",
       "    </tr>\n",
       "    <tr>\n",
       "      <th>362584</th>\n",
       "      <td>neutral</td>\n",
       "      <td>CAMEL</td>\n",
       "      <td>12525539.0</td>\n",
       "      <td>13120780.0</td>\n",
       "      <td>Major</td>\n",
       "      <td>bug</td>\n",
       "      <td>0</td>\n",
       "      <td>False</td>\n",
       "      <td>False</td>\n",
       "      <td>True</td>\n",
       "      <td>0</td>\n",
       "      <td>0</td>\n",
       "      <td>0</td>\n",
       "    </tr>\n",
       "    <tr>\n",
       "      <th>291870</th>\n",
       "      <td>neutral</td>\n",
       "      <td>BEEHIVE</td>\n",
       "      <td>12311383.0</td>\n",
       "      <td>12313641.0</td>\n",
       "      <td>Major</td>\n",
       "      <td>bug</td>\n",
       "      <td>0</td>\n",
       "      <td>False</td>\n",
       "      <td>False</td>\n",
       "      <td>True</td>\n",
       "      <td>-3</td>\n",
       "      <td>0</td>\n",
       "      <td>3</td>\n",
       "    </tr>\n",
       "    <tr>\n",
       "      <th>1390878</th>\n",
       "      <td>neutral</td>\n",
       "      <td>HBASE</td>\n",
       "      <td>12842706.0</td>\n",
       "      <td>14952760.0</td>\n",
       "      <td>Critical</td>\n",
       "      <td>non-bug</td>\n",
       "      <td>0</td>\n",
       "      <td>False</td>\n",
       "      <td>False</td>\n",
       "      <td>True</td>\n",
       "      <td>0</td>\n",
       "      <td>0</td>\n",
       "      <td>0</td>\n",
       "    </tr>\n",
       "    <tr>\n",
       "      <th>3638401</th>\n",
       "      <td>positive</td>\n",
       "      <td>PIG</td>\n",
       "      <td>12615010.0</td>\n",
       "      <td>13492949.0</td>\n",
       "      <td>Major</td>\n",
       "      <td>bug</td>\n",
       "      <td>1</td>\n",
       "      <td>False</td>\n",
       "      <td>True</td>\n",
       "      <td>False</td>\n",
       "      <td>0</td>\n",
       "      <td>1</td>\n",
       "      <td>1</td>\n",
       "    </tr>\n",
       "  </tbody>\n",
       "</table>\n",
       "</div>"
      ]
     },
     "execution_count": 71,
     "metadata": {},
     "output_type": "execute_result"
    }
   ],
   "execution_count": 71
  },
  {
   "metadata": {},
   "cell_type": "markdown",
   "source": "## RQ 3 base",
   "id": "17348c272498d762"
  },
  {
   "metadata": {
    "ExecuteTime": {
     "end_time": "2024-07-14T22:06:32.848609Z",
     "start_time": "2024-07-14T22:06:32.468081Z"
    }
   },
   "cell_type": "code",
   "source": [
    "rq3_contingency_table = pd.crosstab(rq34['issuetype'], rq34['text_sentiment'])\n",
    "rq3_contingency_table"
   ],
   "id": "52890aefacf759cd",
   "outputs": [
    {
     "data": {
      "text/plain": [
       "text_sentiment  negative  neutral  positive\n",
       "issuetype                                  \n",
       "bug               376168  1032756    467624\n",
       "non-bug           283312  1180785    473517"
      ],
      "text/html": [
       "<div>\n",
       "<style scoped>\n",
       "    .dataframe tbody tr th:only-of-type {\n",
       "        vertical-align: middle;\n",
       "    }\n",
       "\n",
       "    .dataframe tbody tr th {\n",
       "        vertical-align: top;\n",
       "    }\n",
       "\n",
       "    .dataframe thead th {\n",
       "        text-align: right;\n",
       "    }\n",
       "</style>\n",
       "<table border=\"1\" class=\"dataframe\">\n",
       "  <thead>\n",
       "    <tr style=\"text-align: right;\">\n",
       "      <th>text_sentiment</th>\n",
       "      <th>negative</th>\n",
       "      <th>neutral</th>\n",
       "      <th>positive</th>\n",
       "    </tr>\n",
       "    <tr>\n",
       "      <th>issuetype</th>\n",
       "      <th></th>\n",
       "      <th></th>\n",
       "      <th></th>\n",
       "    </tr>\n",
       "  </thead>\n",
       "  <tbody>\n",
       "    <tr>\n",
       "      <th>bug</th>\n",
       "      <td>376168</td>\n",
       "      <td>1032756</td>\n",
       "      <td>467624</td>\n",
       "    </tr>\n",
       "    <tr>\n",
       "      <th>non-bug</th>\n",
       "      <td>283312</td>\n",
       "      <td>1180785</td>\n",
       "      <td>473517</td>\n",
       "    </tr>\n",
       "  </tbody>\n",
       "</table>\n",
       "</div>"
      ]
     },
     "execution_count": 28,
     "metadata": {},
     "output_type": "execute_result"
    }
   ],
   "execution_count": 28
  },
  {
   "metadata": {
    "ExecuteTime": {
     "end_time": "2024-07-14T22:06:34.039199Z",
     "start_time": "2024-07-14T22:06:34.036251Z"
    }
   },
   "cell_type": "code",
   "source": [
    "chi2, p, dof, expected = stats.chi2_contingency(rq3_contingency_table)\n",
    "\n",
    "print(f\"\\nChi-Square Test Statistic: {chi2}\")\n",
    "print(f\"p-value: {p}\")\n",
    "print(f\"Degrees of Freedom: {dof}\")\n",
    "print(\"Expected Frequencies:\")\n",
    "print(expected)"
   ],
   "id": "3925b9093d7756a2",
   "outputs": [
    {
     "name": "stdout",
     "output_type": "stream",
     "text": [
      "\n",
      "Chi-Square Test Statistic: 22038.492955364705\n",
      "p-value: 0.0\n",
      "Degrees of Freedom: 2\n",
      "Expected Frequencies:\n",
      "[[ 324460.75311956 1089050.7368245   463036.51005594]\n",
      " [ 335019.24688044 1124490.2631755   478104.48994406]]\n"
     ]
    }
   ],
   "execution_count": 29
  },
  {
   "metadata": {
    "ExecuteTime": {
     "end_time": "2024-07-14T22:06:43.652396Z",
     "start_time": "2024-07-14T22:06:43.646389Z"
    }
   },
   "cell_type": "code",
   "source": [
    "observed = rq3_contingency_table.values\n",
    "residuals = (observed - expected) / np.sqrt(expected)\n",
    "residuals_df = pd.DataFrame(residuals, index=rq3_contingency_table.index, columns=rq3_contingency_table.columns)\n",
    "\n",
    "print(\"\\nStandardized Residuals:\")\n",
    "print(residuals_df)"
   ],
   "id": "4fc53b19b75e6ef9",
   "outputs": [
    {
     "name": "stdout",
     "output_type": "stream",
     "text": [
      "\n",
      "Standardized Residuals:\n",
      "text_sentiment   negative    neutral  positive\n",
      "issuetype                                     \n",
      "bug             90.775851 -53.944073  6.741670\n",
      "non-bug        -89.333950  53.087215 -6.634584\n"
     ]
    }
   ],
   "execution_count": 30
  },
  {
   "metadata": {},
   "cell_type": "markdown",
   "source": "## RQ 3 extra",
   "id": "9b44ba53c6eabf1a"
  },
  {
   "metadata": {
    "ExecuteTime": {
     "end_time": "2024-07-14T08:08:19.120743Z",
     "start_time": "2024-07-14T08:08:14.487396Z"
    }
   },
   "cell_type": "code",
   "source": [
    "results = []\n",
    "\n",
    "issue_types = rq34['issuetype'].unique()\n",
    "for issue_type in issue_types:\n",
    "    issue_type_data = rq34[rq34['issuetype'] == issue_type]\n",
    "    non_issue_type_data = rq34[rq34['issuetype'] != issue_type]\n",
    "    \n",
    "    u_statistic, p_value = mannwhitneyu(issue_type_data['sentiment_score'], non_issue_type_data['sentiment_score'])\n",
    "    \n",
    "    results.append({\n",
    "        'issue_type': issue_type,\n",
    "        'u_statistic': u_statistic,\n",
    "        'p_value': p_value    \n",
    "    })\n",
    "\n",
    "pd.DataFrame(results)"
   ],
   "id": "1b194ea0960a032",
   "outputs": [
    {
     "data": {
      "text/plain": [
       "  issue_type   u_statistic  p_value\n",
       "0        bug  1.750971e+12      0.0\n",
       "1    non-bug  1.885055e+12      0.0"
      ],
      "text/html": [
       "<div>\n",
       "<style scoped>\n",
       "    .dataframe tbody tr th:only-of-type {\n",
       "        vertical-align: middle;\n",
       "    }\n",
       "\n",
       "    .dataframe tbody tr th {\n",
       "        vertical-align: top;\n",
       "    }\n",
       "\n",
       "    .dataframe thead th {\n",
       "        text-align: right;\n",
       "    }\n",
       "</style>\n",
       "<table border=\"1\" class=\"dataframe\">\n",
       "  <thead>\n",
       "    <tr style=\"text-align: right;\">\n",
       "      <th></th>\n",
       "      <th>issue_type</th>\n",
       "      <th>u_statistic</th>\n",
       "      <th>p_value</th>\n",
       "    </tr>\n",
       "  </thead>\n",
       "  <tbody>\n",
       "    <tr>\n",
       "      <th>0</th>\n",
       "      <td>bug</td>\n",
       "      <td>1.750971e+12</td>\n",
       "      <td>0.0</td>\n",
       "    </tr>\n",
       "    <tr>\n",
       "      <th>1</th>\n",
       "      <td>non-bug</td>\n",
       "      <td>1.885055e+12</td>\n",
       "      <td>0.0</td>\n",
       "    </tr>\n",
       "  </tbody>\n",
       "</table>\n",
       "</div>"
      ]
     },
     "execution_count": 12,
     "metadata": {},
     "output_type": "execute_result"
    }
   ],
   "execution_count": 12
  },
  {
   "metadata": {
    "ExecuteTime": {
     "end_time": "2024-07-14T08:08:39.851850Z",
     "start_time": "2024-07-14T08:08:39.849737Z"
    }
   },
   "cell_type": "code",
   "source": "",
   "id": "e7b812cb3748e4e1",
   "outputs": [],
   "execution_count": 12
  },
  {
   "metadata": {
    "ExecuteTime": {
     "end_time": "2024-07-14T08:08:41.092634Z",
     "start_time": "2024-07-14T08:08:41.090597Z"
    }
   },
   "cell_type": "code",
   "source": "",
   "id": "fb3b39bd0008c262",
   "outputs": [],
   "execution_count": 12
  },
  {
   "metadata": {},
   "cell_type": "markdown",
   "source": "## RQ 4 base",
   "id": "c5599335e5ef2abf"
  },
  {
   "metadata": {
    "ExecuteTime": {
     "end_time": "2024-07-14T21:54:13.343527Z",
     "start_time": "2024-07-14T21:54:13.005688Z"
    }
   },
   "cell_type": "code",
   "source": [
    "rq4_contingency_table = pd.crosstab(rq34['priority'], rq34['text_sentiment'])\n",
    "rq4_contingency_table"
   ],
   "id": "53fcd3b7459c0a9c",
   "outputs": [
    {
     "data": {
      "text/plain": [
       "text_sentiment  negative  neutral  positive\n",
       "priority                                   \n",
       "Blocker            39716   102122     44046\n",
       "Critical           49265   134894     55221\n",
       "Major             439509  1531149    638294\n",
       "Minor             117301   393634    177164\n",
       "Trivial            13689    51742     26416"
      ],
      "text/html": [
       "<div>\n",
       "<style scoped>\n",
       "    .dataframe tbody tr th:only-of-type {\n",
       "        vertical-align: middle;\n",
       "    }\n",
       "\n",
       "    .dataframe tbody tr th {\n",
       "        vertical-align: top;\n",
       "    }\n",
       "\n",
       "    .dataframe thead th {\n",
       "        text-align: right;\n",
       "    }\n",
       "</style>\n",
       "<table border=\"1\" class=\"dataframe\">\n",
       "  <thead>\n",
       "    <tr style=\"text-align: right;\">\n",
       "      <th>text_sentiment</th>\n",
       "      <th>negative</th>\n",
       "      <th>neutral</th>\n",
       "      <th>positive</th>\n",
       "    </tr>\n",
       "    <tr>\n",
       "      <th>priority</th>\n",
       "      <th></th>\n",
       "      <th></th>\n",
       "      <th></th>\n",
       "    </tr>\n",
       "  </thead>\n",
       "  <tbody>\n",
       "    <tr>\n",
       "      <th>Blocker</th>\n",
       "      <td>39716</td>\n",
       "      <td>102122</td>\n",
       "      <td>44046</td>\n",
       "    </tr>\n",
       "    <tr>\n",
       "      <th>Critical</th>\n",
       "      <td>49265</td>\n",
       "      <td>134894</td>\n",
       "      <td>55221</td>\n",
       "    </tr>\n",
       "    <tr>\n",
       "      <th>Major</th>\n",
       "      <td>439509</td>\n",
       "      <td>1531149</td>\n",
       "      <td>638294</td>\n",
       "    </tr>\n",
       "    <tr>\n",
       "      <th>Minor</th>\n",
       "      <td>117301</td>\n",
       "      <td>393634</td>\n",
       "      <td>177164</td>\n",
       "    </tr>\n",
       "    <tr>\n",
       "      <th>Trivial</th>\n",
       "      <td>13689</td>\n",
       "      <td>51742</td>\n",
       "      <td>26416</td>\n",
       "    </tr>\n",
       "  </tbody>\n",
       "</table>\n",
       "</div>"
      ]
     },
     "execution_count": 18,
     "metadata": {},
     "output_type": "execute_result"
    }
   ],
   "execution_count": 18
  },
  {
   "metadata": {
    "ExecuteTime": {
     "end_time": "2024-07-14T21:54:17.022918Z",
     "start_time": "2024-07-14T21:54:17.010987Z"
    }
   },
   "cell_type": "code",
   "source": [
    "# Perform the Chi-Square test\n",
    "chi2, p, dof, expected = stats.chi2_contingency(rq4_contingency_table)\n",
    "\n",
    "print(f\"\\nChi-Square Test Statistic: {chi2}\")\n",
    "print(f\"p-value: {p}\")\n",
    "print(f\"Degrees of Freedom: {dof}\")\n",
    "print(\"Expected Frequencies:\")\n",
    "print(expected)"
   ],
   "id": "3bc997bddcd9e7e1",
   "outputs": [
    {
     "name": "stdout",
     "output_type": "stream",
     "text": [
      "\n",
      "Chi-Square Test Statistic: 5961.983421818359\n",
      "p-value: 0.0\n",
      "Degrees of Freedom: 8\n",
      "Expected Frequencies:\n",
      "[[  32139.89870383  107877.39357793   45866.70771824]\n",
      " [  41389.51685849  138923.68614128   59066.79700023]\n",
      " [ 451095.59189148 1514099.87804189  643756.53006663]\n",
      " [ 118974.37196427  399336.82642714  169787.80160858]\n",
      " [  15880.62058193   53303.21581176   22663.16360632]]\n"
     ]
    }
   ],
   "execution_count": 19
  },
  {
   "metadata": {
    "ExecuteTime": {
     "end_time": "2024-07-14T21:56:03.794429Z",
     "start_time": "2024-07-14T21:56:03.789409Z"
    }
   },
   "cell_type": "code",
   "source": [
    "observed = rq4_contingency_table.values\n",
    "residuals = (observed - expected) / np.sqrt(expected)\n",
    "residuals_df = pd.DataFrame(residuals, index=rq4_contingency_table.index, columns=rq4_contingency_table.columns)\n",
    "\n",
    "print(\"\\nStandardized Residuals:\")\n",
    "print(residuals_df)"
   ],
   "id": "6a022370f6e51c25",
   "outputs": [
    {
     "name": "stdout",
     "output_type": "stream",
     "text": [
      "\n",
      "Standardized Residuals:\n",
      "text_sentiment   negative    neutral   positive\n",
      "priority                                       \n",
      "Blocker         42.259419 -17.523054  -8.501420\n",
      "Critical        38.710789 -10.811428 -15.823941\n",
      "Major          -17.251284  13.855581  -6.808211\n",
      "Minor           -4.851385  -9.024444  17.901085\n",
      "Trivial        -17.391284  -6.762172  24.928685\n"
     ]
    }
   ],
   "execution_count": 21
  },
  {
   "metadata": {},
   "cell_type": "markdown",
   "source": "## RQ 4 extra",
   "id": "7b0f50f76d634075"
  },
  {
   "metadata": {
    "ExecuteTime": {
     "end_time": "2024-07-15T01:37:48.199969Z",
     "start_time": "2024-07-15T01:37:47.854508Z"
    }
   },
   "cell_type": "code",
   "source": "",
   "id": "303ede71eb24a2d6",
   "outputs": [
    {
     "data": {
      "text/plain": [
       "   priority  sentiment_score_cumulative  sentiment_score_positive  \\\n",
       "0   Blocker                    0.248564                  5.131044   \n",
       "1  Critical                    0.550576                  5.048442   \n",
       "2     Major                    1.257710                  4.421778   \n",
       "3     Minor                    1.055568                  3.632485   \n",
       "4   Trivial                    1.082518                  2.599562   \n",
       "\n",
       "   sentiment_score_negative  \n",
       "0                  4.882480  \n",
       "1                  4.497865  \n",
       "2                  3.164068  \n",
       "3                  2.576917  \n",
       "4                  1.517045  "
      ],
      "text/html": [
       "<div>\n",
       "<style scoped>\n",
       "    .dataframe tbody tr th:only-of-type {\n",
       "        vertical-align: middle;\n",
       "    }\n",
       "\n",
       "    .dataframe tbody tr th {\n",
       "        vertical-align: top;\n",
       "    }\n",
       "\n",
       "    .dataframe thead th {\n",
       "        text-align: right;\n",
       "    }\n",
       "</style>\n",
       "<table border=\"1\" class=\"dataframe\">\n",
       "  <thead>\n",
       "    <tr style=\"text-align: right;\">\n",
       "      <th></th>\n",
       "      <th>priority</th>\n",
       "      <th>sentiment_score_cumulative</th>\n",
       "      <th>sentiment_score_positive</th>\n",
       "      <th>sentiment_score_negative</th>\n",
       "    </tr>\n",
       "  </thead>\n",
       "  <tbody>\n",
       "    <tr>\n",
       "      <th>0</th>\n",
       "      <td>Blocker</td>\n",
       "      <td>0.248564</td>\n",
       "      <td>5.131044</td>\n",
       "      <td>4.882480</td>\n",
       "    </tr>\n",
       "    <tr>\n",
       "      <th>1</th>\n",
       "      <td>Critical</td>\n",
       "      <td>0.550576</td>\n",
       "      <td>5.048442</td>\n",
       "      <td>4.497865</td>\n",
       "    </tr>\n",
       "    <tr>\n",
       "      <th>2</th>\n",
       "      <td>Major</td>\n",
       "      <td>1.257710</td>\n",
       "      <td>4.421778</td>\n",
       "      <td>3.164068</td>\n",
       "    </tr>\n",
       "    <tr>\n",
       "      <th>3</th>\n",
       "      <td>Minor</td>\n",
       "      <td>1.055568</td>\n",
       "      <td>3.632485</td>\n",
       "      <td>2.576917</td>\n",
       "    </tr>\n",
       "    <tr>\n",
       "      <th>4</th>\n",
       "      <td>Trivial</td>\n",
       "      <td>1.082518</td>\n",
       "      <td>2.599562</td>\n",
       "      <td>1.517045</td>\n",
       "    </tr>\n",
       "  </tbody>\n",
       "</table>\n",
       "</div>"
      ]
     },
     "execution_count": 78,
     "metadata": {},
     "output_type": "execute_result"
    }
   ],
   "execution_count": 78
  },
  {
   "metadata": {},
   "cell_type": "code",
   "outputs": [],
   "execution_count": null,
   "source": "",
   "id": "1a7803a49ff13f13"
  },
  {
   "metadata": {
    "ExecuteTime": {
     "end_time": "2024-07-15T01:33:44.045048Z",
     "start_time": "2024-07-15T01:33:43.917290Z"
    }
   },
   "cell_type": "code",
   "source": [
    "\n",
    "\n",
    "# priorities = rq34['priority'].unique()\n",
    "# results = []\n",
    "# \n",
    "# for priority1, priority2 in combinations(priorities, 2):\n",
    "#     priority1_data = rq34[rq34['priority'] == priority1]['sentiment_score_cumulative']\n",
    "#     priority2_data = rq34[rq34['priority'] == priority2]['sentiment_score_cumulative']\n",
    "#     \n",
    "#     u_statistic, p_value = mannwhitneyu(priority1_data, priority2_data)\n",
    "# \n",
    "#     results.append({\n",
    "#         'priority1': priority1,\n",
    "#         'priority2': priority2,\n",
    "#         'u_statistic': u_statistic,\n",
    "#         'p_value': p_value\n",
    "#     })\n",
    "#     \n",
    "# results_df = pd.DataFrame(results)\n",
    "# results_df\n",
    "mean_scores"
   ],
   "id": "7b18fff2a81ce6f3",
   "outputs": [
    {
     "data": {
      "text/plain": [
       "   priority  sentiment_score_cumulative\n",
       "0   Blocker                    0.248564\n",
       "1  Critical                    0.550576\n",
       "2     Major                    1.257710\n",
       "3     Minor                    1.055568\n",
       "4   Trivial                    1.082518"
      ],
      "text/html": [
       "<div>\n",
       "<style scoped>\n",
       "    .dataframe tbody tr th:only-of-type {\n",
       "        vertical-align: middle;\n",
       "    }\n",
       "\n",
       "    .dataframe tbody tr th {\n",
       "        vertical-align: top;\n",
       "    }\n",
       "\n",
       "    .dataframe thead th {\n",
       "        text-align: right;\n",
       "    }\n",
       "</style>\n",
       "<table border=\"1\" class=\"dataframe\">\n",
       "  <thead>\n",
       "    <tr style=\"text-align: right;\">\n",
       "      <th></th>\n",
       "      <th>priority</th>\n",
       "      <th>sentiment_score_cumulative</th>\n",
       "    </tr>\n",
       "  </thead>\n",
       "  <tbody>\n",
       "    <tr>\n",
       "      <th>0</th>\n",
       "      <td>Blocker</td>\n",
       "      <td>0.248564</td>\n",
       "    </tr>\n",
       "    <tr>\n",
       "      <th>1</th>\n",
       "      <td>Critical</td>\n",
       "      <td>0.550576</td>\n",
       "    </tr>\n",
       "    <tr>\n",
       "      <th>2</th>\n",
       "      <td>Major</td>\n",
       "      <td>1.257710</td>\n",
       "    </tr>\n",
       "    <tr>\n",
       "      <th>3</th>\n",
       "      <td>Minor</td>\n",
       "      <td>1.055568</td>\n",
       "    </tr>\n",
       "    <tr>\n",
       "      <th>4</th>\n",
       "      <td>Trivial</td>\n",
       "      <td>1.082518</td>\n",
       "    </tr>\n",
       "  </tbody>\n",
       "</table>\n",
       "</div>"
      ]
     },
     "execution_count": 77,
     "metadata": {},
     "output_type": "execute_result"
    }
   ],
   "execution_count": 77
  },
  {
   "metadata": {},
   "cell_type": "code",
   "outputs": [],
   "execution_count": null,
   "source": [
    "mean_positive_scores = rq34.groupby('priority')['sentiment_score_positive'].mean().reset_index()\n",
    "mean_negative_scores = rq34.groupby('priority')['sentiment_score_negative'].mean().reset_index()\n",
    "\n",
    "priorities = rq34['priority'].unique()\n",
    "results = []\n",
    "\n",
    "for priority in priorities:\n",
    "    \n",
    "results_df = pd.DataFrame(results)\n",
    "results_df"
   ],
   "id": "a1a3d3c56bfce8e5"
  },
  {
   "metadata": {},
   "cell_type": "code",
   "outputs": [],
   "execution_count": null,
   "source": "",
   "id": "a5dff595f6da274"
  },
  {
   "metadata": {},
   "cell_type": "code",
   "outputs": [],
   "execution_count": null,
   "source": "",
   "id": "206beb022cf2e2f8"
  },
  {
   "metadata": {
    "ExecuteTime": {
     "end_time": "2024-07-14T08:10:34.746603Z",
     "start_time": "2024-07-14T08:10:23.532038Z"
    }
   },
   "cell_type": "code",
   "source": [
    "# results = []\n",
    "# \n",
    "# priorities = rq34['priority'].unique()\n",
    "# for priority in priorities:\n",
    "#     priority_data = rq34[rq34['priority'] == priority]\n",
    "#     non_priority_data = rq34[rq34['priority'] != priority]\n",
    "#     \n",
    "#     u_statistic, p_value = mannwhitneyu(priority_data['sentiment_score'], non_priority_data['sentiment_score'])\n",
    "#     \n",
    "#     results.append({\n",
    "#         'priority': priority,\n",
    "#         'u_statistic': u_statistic,\n",
    "#         'p_value': p_value    \n",
    "#     })\n",
    "# \n",
    "# pd.DataFrame(results)"
   ],
   "id": "ca9fae559d78c7b6",
   "outputs": [
    {
     "data": {
      "text/plain": [
       "   priority   u_statistic        p_value\n",
       "0     Major  1.580196e+12   2.987960e-14\n",
       "1     Minor  1.089559e+12   4.425790e-58\n",
       "2   Blocker  3.234644e+11  6.945598e-174\n",
       "3   Trivial  1.800095e+11  2.290753e-149\n",
       "4  Critical  4.104863e+11  3.035703e-218"
      ],
      "text/html": [
       "<div>\n",
       "<style scoped>\n",
       "    .dataframe tbody tr th:only-of-type {\n",
       "        vertical-align: middle;\n",
       "    }\n",
       "\n",
       "    .dataframe tbody tr th {\n",
       "        vertical-align: top;\n",
       "    }\n",
       "\n",
       "    .dataframe thead th {\n",
       "        text-align: right;\n",
       "    }\n",
       "</style>\n",
       "<table border=\"1\" class=\"dataframe\">\n",
       "  <thead>\n",
       "    <tr style=\"text-align: right;\">\n",
       "      <th></th>\n",
       "      <th>priority</th>\n",
       "      <th>u_statistic</th>\n",
       "      <th>p_value</th>\n",
       "    </tr>\n",
       "  </thead>\n",
       "  <tbody>\n",
       "    <tr>\n",
       "      <th>0</th>\n",
       "      <td>Major</td>\n",
       "      <td>1.580196e+12</td>\n",
       "      <td>2.987960e-14</td>\n",
       "    </tr>\n",
       "    <tr>\n",
       "      <th>1</th>\n",
       "      <td>Minor</td>\n",
       "      <td>1.089559e+12</td>\n",
       "      <td>4.425790e-58</td>\n",
       "    </tr>\n",
       "    <tr>\n",
       "      <th>2</th>\n",
       "      <td>Blocker</td>\n",
       "      <td>3.234644e+11</td>\n",
       "      <td>6.945598e-174</td>\n",
       "    </tr>\n",
       "    <tr>\n",
       "      <th>3</th>\n",
       "      <td>Trivial</td>\n",
       "      <td>1.800095e+11</td>\n",
       "      <td>2.290753e-149</td>\n",
       "    </tr>\n",
       "    <tr>\n",
       "      <th>4</th>\n",
       "      <td>Critical</td>\n",
       "      <td>4.104863e+11</td>\n",
       "      <td>3.035703e-218</td>\n",
       "    </tr>\n",
       "  </tbody>\n",
       "</table>\n",
       "</div>"
      ]
     },
     "execution_count": 13,
     "metadata": {},
     "output_type": "execute_result"
    }
   ],
   "execution_count": 13
  },
  {
   "metadata": {},
   "cell_type": "code",
   "outputs": [],
   "execution_count": null,
   "source": "",
   "id": "490ca8436faf4bc"
  },
  {
   "metadata": {},
   "cell_type": "code",
   "outputs": [],
   "execution_count": null,
   "source": "",
   "id": "bfd07f95cdbe00af"
  },
  {
   "metadata": {},
   "cell_type": "markdown",
   "source": "# Visualizations",
   "id": "68c180d1e34f8556"
  },
  {
   "metadata": {
    "ExecuteTime": {
     "end_time": "2024-07-15T01:57:19.182172Z",
     "start_time": "2024-07-15T01:57:19.178739Z"
    }
   },
   "cell_type": "code",
   "source": [
    "import matplotlib.pyplot as plt\n",
    "from matplotlib.ticker import FuncFormatter\n",
    "\n",
    "plt.style.available"
   ],
   "id": "1dccf18176413ff",
   "outputs": [
    {
     "data": {
      "text/plain": [
       "['Solarize_Light2',\n",
       " '_classic_test_patch',\n",
       " '_mpl-gallery',\n",
       " '_mpl-gallery-nogrid',\n",
       " 'bmh',\n",
       " 'classic',\n",
       " 'dark_background',\n",
       " 'fast',\n",
       " 'fivethirtyeight',\n",
       " 'ggplot',\n",
       " 'grayscale',\n",
       " 'seaborn-v0_8',\n",
       " 'seaborn-v0_8-bright',\n",
       " 'seaborn-v0_8-colorblind',\n",
       " 'seaborn-v0_8-dark',\n",
       " 'seaborn-v0_8-dark-palette',\n",
       " 'seaborn-v0_8-darkgrid',\n",
       " 'seaborn-v0_8-deep',\n",
       " 'seaborn-v0_8-muted',\n",
       " 'seaborn-v0_8-notebook',\n",
       " 'seaborn-v0_8-paper',\n",
       " 'seaborn-v0_8-pastel',\n",
       " 'seaborn-v0_8-poster',\n",
       " 'seaborn-v0_8-talk',\n",
       " 'seaborn-v0_8-ticks',\n",
       " 'seaborn-v0_8-white',\n",
       " 'seaborn-v0_8-whitegrid',\n",
       " 'tableau-colorblind10']"
      ]
     },
     "execution_count": 85,
     "metadata": {},
     "output_type": "execute_result"
    }
   ],
   "execution_count": 85
  },
  {
   "metadata": {
    "ExecuteTime": {
     "end_time": "2024-07-15T01:57:33.120962Z",
     "start_time": "2024-07-15T01:57:33.118289Z"
    }
   },
   "cell_type": "code",
   "source": "plt.style.use('seaborn-v0_8-ticks')",
   "id": "af3474c0a5e7a0cb",
   "outputs": [],
   "execution_count": 86
  },
  {
   "metadata": {
    "ExecuteTime": {
     "end_time": "2024-07-15T01:57:34.473213Z",
     "start_time": "2024-07-15T01:57:34.092136Z"
    }
   },
   "cell_type": "code",
   "source": [
    "grouped = rq34.groupby(['issuetype', 'text_sentiment']).size().unstack(fill_value=0)\n",
    "grouped_percent = grouped.div(grouped.sum(axis=1), axis=0) * 100\n",
    "\n",
    "plt.figure(figsize=(10, 6))  \n",
    "\n",
    "sentiments = grouped.columns\n",
    "issue_types = grouped.index\n",
    "\n",
    "bar_width = 0.25\n",
    "bar_positions = list(range(len(issue_types)))\n",
    "\n",
    "for i, sentiment in enumerate(sentiments):\n",
    "    offset = i * bar_width - bar_width / 2\n",
    "\n",
    "    bars = plt.bar([pos + offset for pos in bar_positions], grouped[sentiment], width=bar_width, label=sentiment)\n",
    "    \n",
    "    for bar, pct in zip(bars, grouped_percent[sentiment]):\n",
    "        plt.text(bar.get_x() + bar.get_width() / 2, bar.get_height() + 1, f'{pct:.1f}%', ha='center', va='bottom', fontsize=10)\n",
    "\n",
    "\n",
    "# Customize plot\n",
    "plt.xlabel('Issue Type')\n",
    "plt.ylabel('Frequency')\n",
    "# plt.title('Sentiment Frequencies by Issue Type')\n",
    "plt.xticks(bar_positions, issue_types)\n",
    "plt.legend(title='Sentiment', loc='upper right')\n",
    "plt.gca().spines['top'].set_visible(False) \n",
    "plt.gca().spines['right'].set_visible(False)  \n",
    "plt.gca().get_xaxis().tick_bottom() \n",
    "plt.gca().get_yaxis().tick_left()  \n",
    "plt.gca().get_yaxis().set_major_formatter(FuncFormatter(lambda x, p: format(int(x), ',')))\n",
    "plt.grid(False)\n",
    "plt.show()"
   ],
   "id": "79f8a287d2ea3eab",
   "outputs": [
    {
     "data": {
      "text/plain": [
       "<Figure size 1000x600 with 1 Axes>"
      ],
      "image/png": "[encoded data removed]"
     },
     "metadata": {},
     "output_type": "display_data"
    }
   ],
   "execution_count": 87
  },
  {
   "metadata": {
    "ExecuteTime": {
     "end_time": "2024-07-15T01:57:49.338424Z",
     "start_time": "2024-07-15T01:57:49.009168Z"
    }
   },
   "cell_type": "code",
   "source": [
    "grouped = rq34.groupby(['priority', 'text_sentiment']).size().unstack(fill_value=0)\n",
    "grouped_percent = grouped.div(grouped.sum(axis=1), axis=0) * 100\n",
    "\n",
    "plt.figure(figsize=(10, 6))  \n",
    "\n",
    "priorities = grouped.columns\n",
    "issue_types = grouped.index\n",
    "\n",
    "bar_width = 0.25\n",
    "bar_positions = list(range(len(issue_types)))\n",
    "\n",
    "for i, priority in enumerate(priorities):\n",
    "    offset = i * bar_width - bar_width / 2\n",
    "\n",
    "    bars = plt.bar([pos + offset for pos in bar_positions], grouped[priority], width=bar_width, label=priority)\n",
    "    \n",
    "    for bar, pct in zip(bars, grouped_percent[priority]):\n",
    "        plt.text(bar.get_x() + bar.get_width() / 2, bar.get_height() + 1, f'{pct:.1f}%', ha='center', va='bottom', fontsize=10)\n",
    "\n",
    "# Customize plot\n",
    "plt.xlabel('Issue Type')\n",
    "plt.ylabel('Frequency')\n",
    "# plt.title('Sentiment Frequencies by Issue Priority')\n",
    "plt.xticks(bar_positions, issue_types)\n",
    "plt.legend(title='Sentiment', loc='upper right')\n",
    "plt.gca().spines['top'].set_visible(False) \n",
    "plt.gca().spines['right'].set_visible(False)  \n",
    "plt.gca().get_xaxis().tick_bottom() \n",
    "plt.gca().get_yaxis().tick_left()  \n",
    "plt.gca().get_yaxis().set_major_formatter(FuncFormatter(lambda x, p: format(int(x), ',')))\n",
    "plt.grid(False)\n",
    "plt.show()"
   ],
   "id": "1df6bd9c0484d65c",
   "outputs": [
    {
     "data": {
      "text/plain": [
       "<Figure size 1000x600 with 1 Axes>"
      ],
      "image/png": "[encoded data removed]"
     },
     "metadata": {},
     "output_type": "display_data"
    }
   ],
   "execution_count": 88
  },
  {
   "metadata": {
    "ExecuteTime": {
     "end_time": "2024-07-15T01:59:36.675997Z",
     "start_time": "2024-07-15T01:59:36.320891Z"
    }
   },
   "cell_type": "code",
   "source": [
    "mean_cumulative_scores = rq34.groupby('priority')['sentiment_score_cumulative'].mean().reset_index()\n",
    "mean_positive_scores = rq34.groupby('priority')['sentiment_score_positive'].mean().reset_index()\n",
    "mean_negative_scores = rq34.groupby('priority')['sentiment_score_negative'].mean().reset_index()\n",
    "\n",
    "mean_scores = mean_cumulative_scores.merge(mean_positive_scores, on='priority')\n",
    "mean_scores = mean_scores.merge(mean_negative_scores, on='priority')\n",
    "mean_scores"
   ],
   "id": "e71a961947579133",
   "outputs": [
    {
     "data": {
      "text/plain": [
       "   priority  sentiment_score_cumulative  sentiment_score_positive  \\\n",
       "0   Blocker                    0.248564                  5.131044   \n",
       "1  Critical                    0.550576                  5.048442   \n",
       "2     Major                    1.257710                  4.421778   \n",
       "3     Minor                    1.055568                  3.632485   \n",
       "4   Trivial                    1.082518                  2.599562   \n",
       "\n",
       "   sentiment_score_negative  \n",
       "0                  4.882480  \n",
       "1                  4.497865  \n",
       "2                  3.164068  \n",
       "3                  2.576917  \n",
       "4                  1.517045  "
      ],
      "text/html": [
       "<div>\n",
       "<style scoped>\n",
       "    .dataframe tbody tr th:only-of-type {\n",
       "        vertical-align: middle;\n",
       "    }\n",
       "\n",
       "    .dataframe tbody tr th {\n",
       "        vertical-align: top;\n",
       "    }\n",
       "\n",
       "    .dataframe thead th {\n",
       "        text-align: right;\n",
       "    }\n",
       "</style>\n",
       "<table border=\"1\" class=\"dataframe\">\n",
       "  <thead>\n",
       "    <tr style=\"text-align: right;\">\n",
       "      <th></th>\n",
       "      <th>priority</th>\n",
       "      <th>sentiment_score_cumulative</th>\n",
       "      <th>sentiment_score_positive</th>\n",
       "      <th>sentiment_score_negative</th>\n",
       "    </tr>\n",
       "  </thead>\n",
       "  <tbody>\n",
       "    <tr>\n",
       "      <th>0</th>\n",
       "      <td>Blocker</td>\n",
       "      <td>0.248564</td>\n",
       "      <td>5.131044</td>\n",
       "      <td>4.882480</td>\n",
       "    </tr>\n",
       "    <tr>\n",
       "      <th>1</th>\n",
       "      <td>Critical</td>\n",
       "      <td>0.550576</td>\n",
       "      <td>5.048442</td>\n",
       "      <td>4.497865</td>\n",
       "    </tr>\n",
       "    <tr>\n",
       "      <th>2</th>\n",
       "      <td>Major</td>\n",
       "      <td>1.257710</td>\n",
       "      <td>4.421778</td>\n",
       "      <td>3.164068</td>\n",
       "    </tr>\n",
       "    <tr>\n",
       "      <th>3</th>\n",
       "      <td>Minor</td>\n",
       "      <td>1.055568</td>\n",
       "      <td>3.632485</td>\n",
       "      <td>2.576917</td>\n",
       "    </tr>\n",
       "    <tr>\n",
       "      <th>4</th>\n",
       "      <td>Trivial</td>\n",
       "      <td>1.082518</td>\n",
       "      <td>2.599562</td>\n",
       "      <td>1.517045</td>\n",
       "    </tr>\n",
       "  </tbody>\n",
       "</table>\n",
       "</div>"
      ]
     },
     "execution_count": 89,
     "metadata": {},
     "output_type": "execute_result"
    }
   ],
   "execution_count": 89
  },
  {
   "metadata": {
    "ExecuteTime": {
     "end_time": "2024-07-15T02:01:23.744119Z",
     "start_time": "2024-07-15T02:01:23.647948Z"
    }
   },
   "cell_type": "code",
   "source": [
    "plt.figure(figsize=(10, 6))\n",
    "\n",
    "bar_width = 0.25\n",
    "bar_positions = list(range(len(mean_scores)))\n",
    "\n",
    "plt.bar([pos - bar_width for pos in bar_positions], mean_scores['sentiment_score_cumulative'], width=bar_width, label='Cumulative')\n",
    "plt.bar(bar_positions, mean_scores['sentiment_score_positive'], width=bar_width, label='Positive')\n",
    "plt.bar([pos + bar_width for pos in bar_positions], mean_scores['sentiment_score_negative'], width=bar_width, label='Negative')\n",
    "\n",
    "plt.xlabel('Severity')\n",
    "plt.ylabel('Mean Sentiment Score')\n",
    "# plt.title('Mean Sentiment Scores by Priority')\n",
    "plt.xticks(bar_positions, mean_scores['priority'])\n",
    "plt.legend()\n",
    "plt.show()"
   ],
   "id": "96d9e3754c1d34a5",
   "outputs": [
    {
     "data": {
      "text/plain": [
       "<Figure size 1000x600 with 1 Axes>"
      ],
      "image/png": "[encoded data removed]"
     },
     "metadata": {},
     "output_type": "display_data"
    }
   ],
   "execution_count": 91
  },
  {
   "metadata": {},
   "cell_type": "code",
   "outputs": [],
   "execution_count": null,
   "source": "",
   "id": "23bc4c996d605309"
  }
 ],
 "metadata": {
  "kernelspec": {
   "display_name": "Python 3",
   "language": "python",
   "name": "python3"
  },
  "language_info": {
   "codemirror_mode": {
    "name": "ipython",
    "version": 2
   },
   "file_extension": ".py",
   "mimetype": "text/x-python",
   "name": "python",
   "nbconvert_exporter": "python",
   "pygments_lexer": "ipython2",
   "version": "2.7.6"
  }
 },
 "nbformat": 4,
 "nbformat_minor": 5
}
