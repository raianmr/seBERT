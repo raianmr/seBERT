{
 "cells": [
  {
   "metadata": {
    "ExecuteTime": {
     "end_time": "2024-07-16T05:48:41.786944Z",
     "start_time": "2024-07-16T05:48:41.783471Z"
    }
   },
   "cell_type": "code",
   "source": [
    "from itertools import combinations\n",
    "\n",
    "import numpy as np\n",
    "import pandas as pd\n",
    "from scipy import stats\n",
    "\n",
    "import matplotlib.pyplot as plt\n",
    "import matplotlib.ticker as ticker\n",
    "import seaborn as sns"
   ],
   "id": "c699bc8f65f447ce",
   "outputs": [],
   "execution_count": 119
  },
  {
   "metadata": {
    "ExecuteTime": {
     "end_time": "2024-07-16T04:20:57.155607Z",
     "start_time": "2024-07-16T04:20:57.149514Z"
    }
   },
   "cell_type": "code",
   "source": [
    "def mww_test_between_sentiment(data, category_column):\n",
    "    unique_categories = data[category_column].unique()\n",
    "    \n",
    "    results = []\n",
    "    \n",
    "    for category in unique_categories:\n",
    "        positive_data = data[data[category_column] == category]['sentiment_score_positive']\n",
    "        negative_data = data[data[category_column] == category]['sentiment_score_negative']\n",
    "        \n",
    "        u_statistic, p_value = stats.mannwhitneyu(positive_data, negative_data)\n",
    "        \n",
    "        results.append({\n",
    "            f'{category_column}': category,\n",
    "            'u_statistic': u_statistic,\n",
    "            'p_value': p_value\n",
    "        })\n",
    "        \n",
    "    return pd.DataFrame(results)\n",
    "\n",
    "def mww_test_between_categories(data, category_column):\n",
    "    unique_categories = data[category_column].unique()\n",
    "    \n",
    "    results = []\n",
    "    \n",
    "    for category1, category2 in combinations(unique_categories, 2):\n",
    "        category1_data = data[data[category_column] == category1]['sentiment_score_cumulative']\n",
    "        category2_data = data[data[category_column] == category2]['sentiment_score_cumulative']\n",
    "        \n",
    "        u_statistic, p_value = stats.mannwhitneyu(category1_data, category2_data)\n",
    "        \n",
    "        results.append({\n",
    "            f'{category_column}1': category1,\n",
    "            f'{category_column}2': category2,\n",
    "            'u_statistic': u_statistic,\n",
    "            'p_value': p_value\n",
    "        })\n",
    "        \n",
    "    return pd.DataFrame(results)"
   ],
   "id": "aaa5782b7ac8c64b",
   "outputs": [],
   "execution_count": 44
  },
  {
   "metadata": {},
   "cell_type": "markdown",
   "source": "# RQ 3 + 4",
   "id": "809661f19fcaa39e"
  },
  {
   "metadata": {
    "ExecuteTime": {
     "end_time": "2024-07-16T04:20:59.590483Z",
     "start_time": "2024-07-16T04:20:58.379264Z"
    }
   },
   "cell_type": "code",
   "source": [
    "rq34 = pd.read_csv(\"./data/rq_3_4.csv\")\n",
    "print(len(rq34))"
   ],
   "id": "8b096208c77991bb",
   "outputs": [
    {
     "name": "stdout",
     "output_type": "stream",
     "text": [
      "3814162\n"
     ]
    }
   ],
   "execution_count": 45
  },
  {
   "metadata": {
    "ExecuteTime": {
     "end_time": "2024-07-16T04:21:08.499895Z",
     "start_time": "2024-07-16T04:21:06.235781Z"
    }
   },
   "cell_type": "code",
   "source": [
    "sentiment_mapping = {'negative': -1, 'neutral': 0, 'positive': 1}\n",
    "rq34['sentiment_score'] = rq34['text_sentiment'].map(sentiment_mapping)\n",
    " \n",
    "rq34['is_negative'] = rq34['text_sentiment'] == 'negative'\n",
    "rq34['is_positive'] = rq34['text_sentiment'] == 'positive'\n",
    "rq34['is_neutral'] = rq34['text_sentiment'] == 'neutral'\n",
    "\n",
    "# rq34['is_bug'] = rq34['issuetype'] == 'bug'\n",
    "# rq34['is_nonbug'] = rq34['issuetype'] != 'bug'\n",
    "# \n",
    "# rq34['is_blocker'] = rq34['priority'] == 'Blocker'\n",
    "# rq34['is_critical'] = rq34['priority'] == 'Critical'\n",
    "# rq34['is_major'] = rq34['priority'] == 'Major'\n",
    "# rq34['is_minor'] = rq34['priority'] == 'Minor'\n",
    "# rq34['is_trivial'] = rq34['priority'] == 'Trivial'\n",
    "\n",
    "cumulative_scores = rq34.groupby('issue_id')['sentiment_score'].sum().reset_index()\n",
    "positive_scores = rq34.groupby('issue_id')['is_positive'].sum().reset_index()\n",
    "negative_scores = rq34.groupby('issue_id')['is_negative'].sum().reset_index()\n",
    "\n",
    "rq34 = rq34.merge(cumulative_scores, on='issue_id', suffixes=('', '_cumulative'))\n",
    "rq34 = rq34.merge(positive_scores, on='issue_id', suffixes=('', '_count'))\n",
    "rq34 = rq34.rename(columns={'is_positive_count': 'sentiment_score_positive'})\n",
    "rq34 = rq34.merge(negative_scores, on='issue_id', suffixes=('', '_count'))\n",
    "rq34 = rq34.rename(columns={'is_negative_count': 'sentiment_score_negative'})\n",
    "\n",
    "assert len(rq34[rq34['sentiment_score_cumulative'] != rq34['sentiment_score_positive'] - rq34['sentiment_score_negative']]) == 0\n",
    "print(len(rq34))\n",
    "rq34.sample(10)"
   ],
   "id": "1db00b8824c5ee71",
   "outputs": [
    {
     "name": "stdout",
     "output_type": "stream",
     "text": [
      "3814162\n"
     ]
    },
    {
     "data": {
      "text/plain": [
       "        text_sentiment      product    issue_id  comment_id  priority  \\\n",
       "581789         neutral        DERBY  12327853.0  12489867.0     Major   \n",
       "3592074        neutral         QPID  12854090.0  14681821.0     Major   \n",
       "492442         neutral  COMMONSSITE  12384365.0  12556979.0     Major   \n",
       "94768         negative       AMBARI  12931553.0  15105891.0  Critical   \n",
       "598732        negative        DERBY  12372581.0  12509297.0     Major   \n",
       "1879149       positive       IGNITE  12784779.0  14483267.0     Major   \n",
       "2662754       positive        OFBIZ  12434942.0  12773692.0     Minor   \n",
       "5808           neutral     ACCUMULO  12637621.0  13760440.0     Major   \n",
       "3763303       positive        OOZIE  13032566.0  15813565.0     Minor   \n",
       "1213865       positive      HARMONY  12400585.0  12614965.0     Minor   \n",
       "\n",
       "        issuetype  sentiment_score  is_negative  is_positive  is_neutral  \\\n",
       "581789    non-bug                0        False        False        True   \n",
       "3592074       bug                0        False        False        True   \n",
       "492442    non-bug                0        False        False        True   \n",
       "94768         bug               -1         True        False       False   \n",
       "598732        bug               -1         True        False       False   \n",
       "1879149       bug                1        False         True       False   \n",
       "2662754       bug                1        False         True       False   \n",
       "5808          bug                0        False        False        True   \n",
       "3763303   non-bug                1        False         True       False   \n",
       "1213865   non-bug                1        False         True       False   \n",
       "\n",
       "         sentiment_score_cumulative  sentiment_score_positive  \\\n",
       "581789                            9                        31   \n",
       "3592074                           1                         1   \n",
       "492442                          -12                         5   \n",
       "94768                            -1                         1   \n",
       "598732                           -2                         1   \n",
       "1879149                           0                         1   \n",
       "2662754                           0                         4   \n",
       "5808                             -1                         0   \n",
       "3763303                          10                        14   \n",
       "1213865                           4                         4   \n",
       "\n",
       "         sentiment_score_negative  \n",
       "581789                         22  \n",
       "3592074                         0  \n",
       "492442                         17  \n",
       "94768                           2  \n",
       "598732                          3  \n",
       "1879149                         1  \n",
       "2662754                         4  \n",
       "5808                            1  \n",
       "3763303                         4  \n",
       "1213865                         0  "
      ],
      "text/html": [
       "<div>\n",
       "<style scoped>\n",
       "    .dataframe tbody tr th:only-of-type {\n",
       "        vertical-align: middle;\n",
       "    }\n",
       "\n",
       "    .dataframe tbody tr th {\n",
       "        vertical-align: top;\n",
       "    }\n",
       "\n",
       "    .dataframe thead th {\n",
       "        text-align: right;\n",
       "    }\n",
       "</style>\n",
       "<table border=\"1\" class=\"dataframe\">\n",
       "  <thead>\n",
       "    <tr style=\"text-align: right;\">\n",
       "      <th></th>\n",
       "      <th>text_sentiment</th>\n",
       "      <th>product</th>\n",
       "      <th>issue_id</th>\n",
       "      <th>comment_id</th>\n",
       "      <th>priority</th>\n",
       "      <th>issuetype</th>\n",
       "      <th>sentiment_score</th>\n",
       "      <th>is_negative</th>\n",
       "      <th>is_positive</th>\n",
       "      <th>is_neutral</th>\n",
       "      <th>sentiment_score_cumulative</th>\n",
       "      <th>sentiment_score_positive</th>\n",
       "      <th>sentiment_score_negative</th>\n",
       "    </tr>\n",
       "  </thead>\n",
       "  <tbody>\n",
       "    <tr>\n",
       "      <th>581789</th>\n",
       "      <td>neutral</td>\n",
       "      <td>DERBY</td>\n",
       "      <td>12327853.0</td>\n",
       "      <td>12489867.0</td>\n",
       "      <td>Major</td>\n",
       "      <td>non-bug</td>\n",
       "      <td>0</td>\n",
       "      <td>False</td>\n",
       "      <td>False</td>\n",
       "      <td>True</td>\n",
       "      <td>9</td>\n",
       "      <td>31</td>\n",
       "      <td>22</td>\n",
       "    </tr>\n",
       "    <tr>\n",
       "      <th>3592074</th>\n",
       "      <td>neutral</td>\n",
       "      <td>QPID</td>\n",
       "      <td>12854090.0</td>\n",
       "      <td>14681821.0</td>\n",
       "      <td>Major</td>\n",
       "      <td>bug</td>\n",
       "      <td>0</td>\n",
       "      <td>False</td>\n",
       "      <td>False</td>\n",
       "      <td>True</td>\n",
       "      <td>1</td>\n",
       "      <td>1</td>\n",
       "      <td>0</td>\n",
       "    </tr>\n",
       "    <tr>\n",
       "      <th>492442</th>\n",
       "      <td>neutral</td>\n",
       "      <td>COMMONSSITE</td>\n",
       "      <td>12384365.0</td>\n",
       "      <td>12556979.0</td>\n",
       "      <td>Major</td>\n",
       "      <td>non-bug</td>\n",
       "      <td>0</td>\n",
       "      <td>False</td>\n",
       "      <td>False</td>\n",
       "      <td>True</td>\n",
       "      <td>-12</td>\n",
       "      <td>5</td>\n",
       "      <td>17</td>\n",
       "    </tr>\n",
       "    <tr>\n",
       "      <th>94768</th>\n",
       "      <td>negative</td>\n",
       "      <td>AMBARI</td>\n",
       "      <td>12931553.0</td>\n",
       "      <td>15105891.0</td>\n",
       "      <td>Critical</td>\n",
       "      <td>bug</td>\n",
       "      <td>-1</td>\n",
       "      <td>True</td>\n",
       "      <td>False</td>\n",
       "      <td>False</td>\n",
       "      <td>-1</td>\n",
       "      <td>1</td>\n",
       "      <td>2</td>\n",
       "    </tr>\n",
       "    <tr>\n",
       "      <th>598732</th>\n",
       "      <td>negative</td>\n",
       "      <td>DERBY</td>\n",
       "      <td>12372581.0</td>\n",
       "      <td>12509297.0</td>\n",
       "      <td>Major</td>\n",
       "      <td>bug</td>\n",
       "      <td>-1</td>\n",
       "      <td>True</td>\n",
       "      <td>False</td>\n",
       "      <td>False</td>\n",
       "      <td>-2</td>\n",
       "      <td>1</td>\n",
       "      <td>3</td>\n",
       "    </tr>\n",
       "    <tr>\n",
       "      <th>1879149</th>\n",
       "      <td>positive</td>\n",
       "      <td>IGNITE</td>\n",
       "      <td>12784779.0</td>\n",
       "      <td>14483267.0</td>\n",
       "      <td>Major</td>\n",
       "      <td>bug</td>\n",
       "      <td>1</td>\n",
       "      <td>False</td>\n",
       "      <td>True</td>\n",
       "      <td>False</td>\n",
       "      <td>0</td>\n",
       "      <td>1</td>\n",
       "      <td>1</td>\n",
       "    </tr>\n",
       "    <tr>\n",
       "      <th>2662754</th>\n",
       "      <td>positive</td>\n",
       "      <td>OFBIZ</td>\n",
       "      <td>12434942.0</td>\n",
       "      <td>12773692.0</td>\n",
       "      <td>Minor</td>\n",
       "      <td>bug</td>\n",
       "      <td>1</td>\n",
       "      <td>False</td>\n",
       "      <td>True</td>\n",
       "      <td>False</td>\n",
       "      <td>0</td>\n",
       "      <td>4</td>\n",
       "      <td>4</td>\n",
       "    </tr>\n",
       "    <tr>\n",
       "      <th>5808</th>\n",
       "      <td>neutral</td>\n",
       "      <td>ACCUMULO</td>\n",
       "      <td>12637621.0</td>\n",
       "      <td>13760440.0</td>\n",
       "      <td>Major</td>\n",
       "      <td>bug</td>\n",
       "      <td>0</td>\n",
       "      <td>False</td>\n",
       "      <td>False</td>\n",
       "      <td>True</td>\n",
       "      <td>-1</td>\n",
       "      <td>0</td>\n",
       "      <td>1</td>\n",
       "    </tr>\n",
       "    <tr>\n",
       "      <th>3763303</th>\n",
       "      <td>positive</td>\n",
       "      <td>OOZIE</td>\n",
       "      <td>13032566.0</td>\n",
       "      <td>15813565.0</td>\n",
       "      <td>Minor</td>\n",
       "      <td>non-bug</td>\n",
       "      <td>1</td>\n",
       "      <td>False</td>\n",
       "      <td>True</td>\n",
       "      <td>False</td>\n",
       "      <td>10</td>\n",
       "      <td>14</td>\n",
       "      <td>4</td>\n",
       "    </tr>\n",
       "    <tr>\n",
       "      <th>1213865</th>\n",
       "      <td>positive</td>\n",
       "      <td>HARMONY</td>\n",
       "      <td>12400585.0</td>\n",
       "      <td>12614965.0</td>\n",
       "      <td>Minor</td>\n",
       "      <td>non-bug</td>\n",
       "      <td>1</td>\n",
       "      <td>False</td>\n",
       "      <td>True</td>\n",
       "      <td>False</td>\n",
       "      <td>4</td>\n",
       "      <td>4</td>\n",
       "      <td>0</td>\n",
       "    </tr>\n",
       "  </tbody>\n",
       "</table>\n",
       "</div>"
      ]
     },
     "execution_count": 46,
     "metadata": {},
     "output_type": "execute_result"
    }
   ],
   "execution_count": 46
  },
  {
   "metadata": {
    "ExecuteTime": {
     "end_time": "2024-07-16T04:21:10.562344Z",
     "start_time": "2024-07-16T04:21:10.558586Z"
    }
   },
   "cell_type": "code",
   "source": "rq34.columns",
   "id": "5ca1080d48fb56af",
   "outputs": [
    {
     "data": {
      "text/plain": [
       "Index(['text_sentiment', 'product', 'issue_id', 'comment_id', 'priority',\n",
       "       'issuetype', 'sentiment_score', 'is_negative', 'is_positive',\n",
       "       'is_neutral', 'sentiment_score_cumulative', 'sentiment_score_positive',\n",
       "       'sentiment_score_negative'],\n",
       "      dtype='object')"
      ]
     },
     "execution_count": 47,
     "metadata": {},
     "output_type": "execute_result"
    }
   ],
   "execution_count": 47
  },
  {
   "metadata": {
    "ExecuteTime": {
     "end_time": "2024-07-16T04:21:12.753975Z",
     "start_time": "2024-07-16T04:21:12.751556Z"
    }
   },
   "cell_type": "code",
   "source": "",
   "id": "48abc609447ad8e2",
   "outputs": [],
   "execution_count": 47
  },
  {
   "metadata": {
    "ExecuteTime": {
     "end_time": "2024-07-16T04:21:24.749646Z",
     "start_time": "2024-07-16T04:21:24.617727Z"
    }
   },
   "cell_type": "code",
   "source": [
    "# make a table for only the individual issues\n",
    "\n",
    "rq34_issues = rq34.drop_duplicates(subset='issue_id')\n",
    "rq34_issues = rq34_issues[['issue_id', 'product', 'issuetype', 'priority', 'sentiment_score_cumulative', 'sentiment_score_positive', 'sentiment_score_negative']]\n",
    "\n",
    "print(len(rq34_issues))\n",
    "rq34_issues.sample(10)"
   ],
   "id": "e9d028fb5dc79740",
   "outputs": [
    {
     "name": "stdout",
     "output_type": "stream",
     "text": [
      "716852\n"
     ]
    },
    {
     "data": {
      "text/plain": [
       "           issue_id  product issuetype priority  sentiment_score_cumulative  \\\n",
       "794765   12582714.0     FLEX       bug    Major                          -2   \n",
       "394284   12418499.0      CAY   non-bug    Major                          -1   \n",
       "335773   13073037.0  CALCITE   non-bug    Major                           1   \n",
       "2474544  12794299.0      MNG       bug    Major                          -1   \n",
       "3281154  13039261.0    SPARK   non-bug    Major                          -1   \n",
       "161938   12458985.0    ARIES       bug    Major                           1   \n",
       "1904129  13144274.0   IGNITE       bug    Major                           0   \n",
       "3174365  12897950.0      SVN       bug    Minor                           1   \n",
       "3511255  12447164.0    SHALE   non-bug    Major                           1   \n",
       "2436691  13024733.0    MESOS       bug    Major                          -2   \n",
       "\n",
       "         sentiment_score_positive  sentiment_score_negative  \n",
       "794765                          0                         2  \n",
       "394284                          0                         1  \n",
       "335773                          1                         0  \n",
       "2474544                         0                         1  \n",
       "3281154                         0                         1  \n",
       "161938                          1                         0  \n",
       "1904129                         0                         0  \n",
       "3174365                         1                         0  \n",
       "3511255                         1                         0  \n",
       "2436691                         0                         2  "
      ],
      "text/html": [
       "<div>\n",
       "<style scoped>\n",
       "    .dataframe tbody tr th:only-of-type {\n",
       "        vertical-align: middle;\n",
       "    }\n",
       "\n",
       "    .dataframe tbody tr th {\n",
       "        vertical-align: top;\n",
       "    }\n",
       "\n",
       "    .dataframe thead th {\n",
       "        text-align: right;\n",
       "    }\n",
       "</style>\n",
       "<table border=\"1\" class=\"dataframe\">\n",
       "  <thead>\n",
       "    <tr style=\"text-align: right;\">\n",
       "      <th></th>\n",
       "      <th>issue_id</th>\n",
       "      <th>product</th>\n",
       "      <th>issuetype</th>\n",
       "      <th>priority</th>\n",
       "      <th>sentiment_score_cumulative</th>\n",
       "      <th>sentiment_score_positive</th>\n",
       "      <th>sentiment_score_negative</th>\n",
       "    </tr>\n",
       "  </thead>\n",
       "  <tbody>\n",
       "    <tr>\n",
       "      <th>794765</th>\n",
       "      <td>12582714.0</td>\n",
       "      <td>FLEX</td>\n",
       "      <td>bug</td>\n",
       "      <td>Major</td>\n",
       "      <td>-2</td>\n",
       "      <td>0</td>\n",
       "      <td>2</td>\n",
       "    </tr>\n",
       "    <tr>\n",
       "      <th>394284</th>\n",
       "      <td>12418499.0</td>\n",
       "      <td>CAY</td>\n",
       "      <td>non-bug</td>\n",
       "      <td>Major</td>\n",
       "      <td>-1</td>\n",
       "      <td>0</td>\n",
       "      <td>1</td>\n",
       "    </tr>\n",
       "    <tr>\n",
       "      <th>335773</th>\n",
       "      <td>13073037.0</td>\n",
       "      <td>CALCITE</td>\n",
       "      <td>non-bug</td>\n",
       "      <td>Major</td>\n",
       "      <td>1</td>\n",
       "      <td>1</td>\n",
       "      <td>0</td>\n",
       "    </tr>\n",
       "    <tr>\n",
       "      <th>2474544</th>\n",
       "      <td>12794299.0</td>\n",
       "      <td>MNG</td>\n",
       "      <td>bug</td>\n",
       "      <td>Major</td>\n",
       "      <td>-1</td>\n",
       "      <td>0</td>\n",
       "      <td>1</td>\n",
       "    </tr>\n",
       "    <tr>\n",
       "      <th>3281154</th>\n",
       "      <td>13039261.0</td>\n",
       "      <td>SPARK</td>\n",
       "      <td>non-bug</td>\n",
       "      <td>Major</td>\n",
       "      <td>-1</td>\n",
       "      <td>0</td>\n",
       "      <td>1</td>\n",
       "    </tr>\n",
       "    <tr>\n",
       "      <th>161938</th>\n",
       "      <td>12458985.0</td>\n",
       "      <td>ARIES</td>\n",
       "      <td>bug</td>\n",
       "      <td>Major</td>\n",
       "      <td>1</td>\n",
       "      <td>1</td>\n",
       "      <td>0</td>\n",
       "    </tr>\n",
       "    <tr>\n",
       "      <th>1904129</th>\n",
       "      <td>13144274.0</td>\n",
       "      <td>IGNITE</td>\n",
       "      <td>bug</td>\n",
       "      <td>Major</td>\n",
       "      <td>0</td>\n",
       "      <td>0</td>\n",
       "      <td>0</td>\n",
       "    </tr>\n",
       "    <tr>\n",
       "      <th>3174365</th>\n",
       "      <td>12897950.0</td>\n",
       "      <td>SVN</td>\n",
       "      <td>bug</td>\n",
       "      <td>Minor</td>\n",
       "      <td>1</td>\n",
       "      <td>1</td>\n",
       "      <td>0</td>\n",
       "    </tr>\n",
       "    <tr>\n",
       "      <th>3511255</th>\n",
       "      <td>12447164.0</td>\n",
       "      <td>SHALE</td>\n",
       "      <td>non-bug</td>\n",
       "      <td>Major</td>\n",
       "      <td>1</td>\n",
       "      <td>1</td>\n",
       "      <td>0</td>\n",
       "    </tr>\n",
       "    <tr>\n",
       "      <th>2436691</th>\n",
       "      <td>13024733.0</td>\n",
       "      <td>MESOS</td>\n",
       "      <td>bug</td>\n",
       "      <td>Major</td>\n",
       "      <td>-2</td>\n",
       "      <td>0</td>\n",
       "      <td>2</td>\n",
       "    </tr>\n",
       "  </tbody>\n",
       "</table>\n",
       "</div>"
      ]
     },
     "execution_count": 48,
     "metadata": {},
     "output_type": "execute_result"
    }
   ],
   "execution_count": 48
  },
  {
   "metadata": {
    "ExecuteTime": {
     "end_time": "2024-07-16T04:22:46.953255Z",
     "start_time": "2024-07-16T04:22:46.898744Z"
    }
   },
   "cell_type": "code",
   "source": "rq34_issues.describe()",
   "id": "5481d2682b4801f2",
   "outputs": [
    {
     "data": {
      "text/plain": [
       "           issue_id  sentiment_score_cumulative  sentiment_score_positive  \\\n",
       "count  7.168520e+05               716852.000000             716852.000000   \n",
       "mean   1.266683e+07                    0.392914                  1.312880   \n",
       "std    1.273344e+06                    2.068155                  2.372866   \n",
       "min    1.001200e+04                 -194.000000                  0.000000   \n",
       "25%    1.253991e+07                    0.000000                  0.000000   \n",
       "50%    1.277318e+07                    0.000000                  1.000000   \n",
       "75%    1.303514e+07                    1.000000                  2.000000   \n",
       "max    1.328057e+07                  109.000000                157.000000   \n",
       "\n",
       "       sentiment_score_negative  \n",
       "count             716852.000000  \n",
       "mean                   0.919967  \n",
       "std                    1.915565  \n",
       "min                    0.000000  \n",
       "25%                    0.000000  \n",
       "50%                    0.000000  \n",
       "75%                    1.000000  \n",
       "max                  194.000000  "
      ],
      "text/html": [
       "<div>\n",
       "<style scoped>\n",
       "    .dataframe tbody tr th:only-of-type {\n",
       "        vertical-align: middle;\n",
       "    }\n",
       "\n",
       "    .dataframe tbody tr th {\n",
       "        vertical-align: top;\n",
       "    }\n",
       "\n",
       "    .dataframe thead th {\n",
       "        text-align: right;\n",
       "    }\n",
       "</style>\n",
       "<table border=\"1\" class=\"dataframe\">\n",
       "  <thead>\n",
       "    <tr style=\"text-align: right;\">\n",
       "      <th></th>\n",
       "      <th>issue_id</th>\n",
       "      <th>sentiment_score_cumulative</th>\n",
       "      <th>sentiment_score_positive</th>\n",
       "      <th>sentiment_score_negative</th>\n",
       "    </tr>\n",
       "  </thead>\n",
       "  <tbody>\n",
       "    <tr>\n",
       "      <th>count</th>\n",
       "      <td>7.168520e+05</td>\n",
       "      <td>716852.000000</td>\n",
       "      <td>716852.000000</td>\n",
       "      <td>716852.000000</td>\n",
       "    </tr>\n",
       "    <tr>\n",
       "      <th>mean</th>\n",
       "      <td>1.266683e+07</td>\n",
       "      <td>0.392914</td>\n",
       "      <td>1.312880</td>\n",
       "      <td>0.919967</td>\n",
       "    </tr>\n",
       "    <tr>\n",
       "      <th>std</th>\n",
       "      <td>1.273344e+06</td>\n",
       "      <td>2.068155</td>\n",
       "      <td>2.372866</td>\n",
       "      <td>1.915565</td>\n",
       "    </tr>\n",
       "    <tr>\n",
       "      <th>min</th>\n",
       "      <td>1.001200e+04</td>\n",
       "      <td>-194.000000</td>\n",
       "      <td>0.000000</td>\n",
       "      <td>0.000000</td>\n",
       "    </tr>\n",
       "    <tr>\n",
       "      <th>25%</th>\n",
       "      <td>1.253991e+07</td>\n",
       "      <td>0.000000</td>\n",
       "      <td>0.000000</td>\n",
       "      <td>0.000000</td>\n",
       "    </tr>\n",
       "    <tr>\n",
       "      <th>50%</th>\n",
       "      <td>1.277318e+07</td>\n",
       "      <td>0.000000</td>\n",
       "      <td>1.000000</td>\n",
       "      <td>0.000000</td>\n",
       "    </tr>\n",
       "    <tr>\n",
       "      <th>75%</th>\n",
       "      <td>1.303514e+07</td>\n",
       "      <td>1.000000</td>\n",
       "      <td>2.000000</td>\n",
       "      <td>1.000000</td>\n",
       "    </tr>\n",
       "    <tr>\n",
       "      <th>max</th>\n",
       "      <td>1.328057e+07</td>\n",
       "      <td>109.000000</td>\n",
       "      <td>157.000000</td>\n",
       "      <td>194.000000</td>\n",
       "    </tr>\n",
       "  </tbody>\n",
       "</table>\n",
       "</div>"
      ]
     },
     "execution_count": 50,
     "metadata": {},
     "output_type": "execute_result"
    }
   ],
   "execution_count": 50
  },
  {
   "metadata": {},
   "cell_type": "markdown",
   "source": "## RQ 3 chi-square",
   "id": "17348c272498d762"
  },
  {
   "metadata": {
    "ExecuteTime": {
     "end_time": "2024-07-14T22:06:32.848609Z",
     "start_time": "2024-07-14T22:06:32.468081Z"
    }
   },
   "cell_type": "code",
   "source": [
    "rq3_contingency_table = pd.crosstab(rq34['issuetype'], rq34['text_sentiment'])\n",
    "rq3_contingency_table"
   ],
   "id": "52890aefacf759cd",
   "outputs": [
    {
     "data": {
      "text/plain": [
       "text_sentiment  negative  neutral  positive\n",
       "issuetype                                  \n",
       "bug               376168  1032756    467624\n",
       "non-bug           283312  1180785    473517"
      ],
      "text/html": [
       "<div>\n",
       "<style scoped>\n",
       "    .dataframe tbody tr th:only-of-type {\n",
       "        vertical-align: middle;\n",
       "    }\n",
       "\n",
       "    .dataframe tbody tr th {\n",
       "        vertical-align: top;\n",
       "    }\n",
       "\n",
       "    .dataframe thead th {\n",
       "        text-align: right;\n",
       "    }\n",
       "</style>\n",
       "<table border=\"1\" class=\"dataframe\">\n",
       "  <thead>\n",
       "    <tr style=\"text-align: right;\">\n",
       "      <th>text_sentiment</th>\n",
       "      <th>negative</th>\n",
       "      <th>neutral</th>\n",
       "      <th>positive</th>\n",
       "    </tr>\n",
       "    <tr>\n",
       "      <th>issuetype</th>\n",
       "      <th></th>\n",
       "      <th></th>\n",
       "      <th></th>\n",
       "    </tr>\n",
       "  </thead>\n",
       "  <tbody>\n",
       "    <tr>\n",
       "      <th>bug</th>\n",
       "      <td>376168</td>\n",
       "      <td>1032756</td>\n",
       "      <td>467624</td>\n",
       "    </tr>\n",
       "    <tr>\n",
       "      <th>non-bug</th>\n",
       "      <td>283312</td>\n",
       "      <td>1180785</td>\n",
       "      <td>473517</td>\n",
       "    </tr>\n",
       "  </tbody>\n",
       "</table>\n",
       "</div>"
      ]
     },
     "execution_count": 28,
     "metadata": {},
     "output_type": "execute_result"
    }
   ],
   "execution_count": 28
  },
  {
   "metadata": {
    "ExecuteTime": {
     "end_time": "2024-07-14T22:06:34.039199Z",
     "start_time": "2024-07-14T22:06:34.036251Z"
    }
   },
   "cell_type": "code",
   "source": [
    "chi2, p, dof, expected = stats.chi2_contingency(rq3_contingency_table)\n",
    "\n",
    "print(f\"\\nChi-Square Test Statistic: {chi2}\")\n",
    "print(f\"p-value: {p}\")\n",
    "print(f\"Degrees of Freedom: {dof}\")\n",
    "print(\"Expected Frequencies:\")\n",
    "print(expected)"
   ],
   "id": "3925b9093d7756a2",
   "outputs": [
    {
     "name": "stdout",
     "output_type": "stream",
     "text": [
      "\n",
      "Chi-Square Test Statistic: 22038.492955364705\n",
      "p-value: 0.0\n",
      "Degrees of Freedom: 2\n",
      "Expected Frequencies:\n",
      "[[ 324460.75311956 1089050.7368245   463036.51005594]\n",
      " [ 335019.24688044 1124490.2631755   478104.48994406]]\n"
     ]
    }
   ],
   "execution_count": 29
  },
  {
   "metadata": {
    "ExecuteTime": {
     "end_time": "2024-07-14T22:06:43.652396Z",
     "start_time": "2024-07-14T22:06:43.646389Z"
    }
   },
   "cell_type": "code",
   "source": [
    "observed = rq3_contingency_table.values\n",
    "residuals = (observed - expected) / np.sqrt(expected)\n",
    "residuals_df = pd.DataFrame(residuals, index=rq3_contingency_table.index, columns=rq3_contingency_table.columns)\n",
    "\n",
    "print(\"\\nStandardized Residuals:\")\n",
    "print(residuals_df)"
   ],
   "id": "4fc53b19b75e6ef9",
   "outputs": [
    {
     "name": "stdout",
     "output_type": "stream",
     "text": [
      "\n",
      "Standardized Residuals:\n",
      "text_sentiment   negative    neutral  positive\n",
      "issuetype                                     \n",
      "bug             90.775851 -53.944073  6.741670\n",
      "non-bug        -89.333950  53.087215 -6.634584\n"
     ]
    }
   ],
   "execution_count": 30
  },
  {
   "metadata": {},
   "cell_type": "markdown",
   "source": "## RQ 3 mww",
   "id": "9b44ba53c6eabf1a"
  },
  {
   "metadata": {
    "ExecuteTime": {
     "end_time": "2024-07-16T04:30:06.870502Z",
     "start_time": "2024-07-16T04:30:06.335714Z"
    }
   },
   "cell_type": "code",
   "source": "mww_test_between_categories(rq34_issues, 'issuetype')",
   "id": "4ab9edf86ebcefeb",
   "outputs": [
    {
     "data": {
      "text/plain": [
       "  issuetype1 issuetype2   u_statistic  p_value\n",
       "0        bug    non-bug  5.790537e+10      0.0"
      ],
      "text/html": [
       "<div>\n",
       "<style scoped>\n",
       "    .dataframe tbody tr th:only-of-type {\n",
       "        vertical-align: middle;\n",
       "    }\n",
       "\n",
       "    .dataframe tbody tr th {\n",
       "        vertical-align: top;\n",
       "    }\n",
       "\n",
       "    .dataframe thead th {\n",
       "        text-align: right;\n",
       "    }\n",
       "</style>\n",
       "<table border=\"1\" class=\"dataframe\">\n",
       "  <thead>\n",
       "    <tr style=\"text-align: right;\">\n",
       "      <th></th>\n",
       "      <th>issuetype1</th>\n",
       "      <th>issuetype2</th>\n",
       "      <th>u_statistic</th>\n",
       "      <th>p_value</th>\n",
       "    </tr>\n",
       "  </thead>\n",
       "  <tbody>\n",
       "    <tr>\n",
       "      <th>0</th>\n",
       "      <td>bug</td>\n",
       "      <td>non-bug</td>\n",
       "      <td>5.790537e+10</td>\n",
       "      <td>0.0</td>\n",
       "    </tr>\n",
       "  </tbody>\n",
       "</table>\n",
       "</div>"
      ]
     },
     "execution_count": 58,
     "metadata": {},
     "output_type": "execute_result"
    }
   ],
   "execution_count": 58
  },
  {
   "metadata": {
    "ExecuteTime": {
     "end_time": "2024-07-16T04:30:15.128321Z",
     "start_time": "2024-07-16T04:30:14.189297Z"
    }
   },
   "cell_type": "code",
   "source": "mww_test_between_sentiment(rq34_issues, 'issuetype')",
   "id": "e7b812cb3748e4e1",
   "outputs": [
    {
     "data": {
      "text/plain": [
       "  issuetype   u_statistic  p_value\n",
       "0       bug  8.365786e+10      0.0\n",
       "1   non-bug  6.203427e+10      0.0"
      ],
      "text/html": [
       "<div>\n",
       "<style scoped>\n",
       "    .dataframe tbody tr th:only-of-type {\n",
       "        vertical-align: middle;\n",
       "    }\n",
       "\n",
       "    .dataframe tbody tr th {\n",
       "        vertical-align: top;\n",
       "    }\n",
       "\n",
       "    .dataframe thead th {\n",
       "        text-align: right;\n",
       "    }\n",
       "</style>\n",
       "<table border=\"1\" class=\"dataframe\">\n",
       "  <thead>\n",
       "    <tr style=\"text-align: right;\">\n",
       "      <th></th>\n",
       "      <th>issuetype</th>\n",
       "      <th>u_statistic</th>\n",
       "      <th>p_value</th>\n",
       "    </tr>\n",
       "  </thead>\n",
       "  <tbody>\n",
       "    <tr>\n",
       "      <th>0</th>\n",
       "      <td>bug</td>\n",
       "      <td>8.365786e+10</td>\n",
       "      <td>0.0</td>\n",
       "    </tr>\n",
       "    <tr>\n",
       "      <th>1</th>\n",
       "      <td>non-bug</td>\n",
       "      <td>6.203427e+10</td>\n",
       "      <td>0.0</td>\n",
       "    </tr>\n",
       "  </tbody>\n",
       "</table>\n",
       "</div>"
      ]
     },
     "execution_count": 59,
     "metadata": {},
     "output_type": "execute_result"
    }
   ],
   "execution_count": 59
  },
  {
   "metadata": {
    "ExecuteTime": {
     "end_time": "2024-07-14T08:08:41.092634Z",
     "start_time": "2024-07-14T08:08:41.090597Z"
    }
   },
   "cell_type": "code",
   "source": "",
   "id": "fb3b39bd0008c262",
   "outputs": [],
   "execution_count": 12
  },
  {
   "metadata": {},
   "cell_type": "markdown",
   "source": "## RQ 4 chi-square",
   "id": "c5599335e5ef2abf"
  },
  {
   "metadata": {
    "ExecuteTime": {
     "end_time": "2024-07-14T21:54:13.343527Z",
     "start_time": "2024-07-14T21:54:13.005688Z"
    }
   },
   "cell_type": "code",
   "source": [
    "rq4_contingency_table = pd.crosstab(rq34['priority'], rq34['text_sentiment'])\n",
    "rq4_contingency_table"
   ],
   "id": "53fcd3b7459c0a9c",
   "outputs": [
    {
     "data": {
      "text/plain": [
       "text_sentiment  negative  neutral  positive\n",
       "priority                                   \n",
       "Blocker            39716   102122     44046\n",
       "Critical           49265   134894     55221\n",
       "Major             439509  1531149    638294\n",
       "Minor             117301   393634    177164\n",
       "Trivial            13689    51742     26416"
      ],
      "text/html": [
       "<div>\n",
       "<style scoped>\n",
       "    .dataframe tbody tr th:only-of-type {\n",
       "        vertical-align: middle;\n",
       "    }\n",
       "\n",
       "    .dataframe tbody tr th {\n",
       "        vertical-align: top;\n",
       "    }\n",
       "\n",
       "    .dataframe thead th {\n",
       "        text-align: right;\n",
       "    }\n",
       "</style>\n",
       "<table border=\"1\" class=\"dataframe\">\n",
       "  <thead>\n",
       "    <tr style=\"text-align: right;\">\n",
       "      <th>text_sentiment</th>\n",
       "      <th>negative</th>\n",
       "      <th>neutral</th>\n",
       "      <th>positive</th>\n",
       "    </tr>\n",
       "    <tr>\n",
       "      <th>priority</th>\n",
       "      <th></th>\n",
       "      <th></th>\n",
       "      <th></th>\n",
       "    </tr>\n",
       "  </thead>\n",
       "  <tbody>\n",
       "    <tr>\n",
       "      <th>Blocker</th>\n",
       "      <td>39716</td>\n",
       "      <td>102122</td>\n",
       "      <td>44046</td>\n",
       "    </tr>\n",
       "    <tr>\n",
       "      <th>Critical</th>\n",
       "      <td>49265</td>\n",
       "      <td>134894</td>\n",
       "      <td>55221</td>\n",
       "    </tr>\n",
       "    <tr>\n",
       "      <th>Major</th>\n",
       "      <td>439509</td>\n",
       "      <td>1531149</td>\n",
       "      <td>638294</td>\n",
       "    </tr>\n",
       "    <tr>\n",
       "      <th>Minor</th>\n",
       "      <td>117301</td>\n",
       "      <td>393634</td>\n",
       "      <td>177164</td>\n",
       "    </tr>\n",
       "    <tr>\n",
       "      <th>Trivial</th>\n",
       "      <td>13689</td>\n",
       "      <td>51742</td>\n",
       "      <td>26416</td>\n",
       "    </tr>\n",
       "  </tbody>\n",
       "</table>\n",
       "</div>"
      ]
     },
     "execution_count": 18,
     "metadata": {},
     "output_type": "execute_result"
    }
   ],
   "execution_count": 18
  },
  {
   "metadata": {
    "ExecuteTime": {
     "end_time": "2024-07-14T21:54:17.022918Z",
     "start_time": "2024-07-14T21:54:17.010987Z"
    }
   },
   "cell_type": "code",
   "source": [
    "# Perform the Chi-Square test\n",
    "chi2, p, dof, expected = stats.chi2_contingency(rq4_contingency_table)\n",
    "\n",
    "print(f\"\\nChi-Square Test Statistic: {chi2}\")\n",
    "print(f\"p-value: {p}\")\n",
    "print(f\"Degrees of Freedom: {dof}\")\n",
    "print(\"Expected Frequencies:\")\n",
    "print(expected)"
   ],
   "id": "3bc997bddcd9e7e1",
   "outputs": [
    {
     "name": "stdout",
     "output_type": "stream",
     "text": [
      "\n",
      "Chi-Square Test Statistic: 5961.983421818359\n",
      "p-value: 0.0\n",
      "Degrees of Freedom: 8\n",
      "Expected Frequencies:\n",
      "[[  32139.89870383  107877.39357793   45866.70771824]\n",
      " [  41389.51685849  138923.68614128   59066.79700023]\n",
      " [ 451095.59189148 1514099.87804189  643756.53006663]\n",
      " [ 118974.37196427  399336.82642714  169787.80160858]\n",
      " [  15880.62058193   53303.21581176   22663.16360632]]\n"
     ]
    }
   ],
   "execution_count": 19
  },
  {
   "metadata": {
    "ExecuteTime": {
     "end_time": "2024-07-14T21:56:03.794429Z",
     "start_time": "2024-07-14T21:56:03.789409Z"
    }
   },
   "cell_type": "code",
   "source": [
    "observed = rq4_contingency_table.values\n",
    "residuals = (observed - expected) / np.sqrt(expected)\n",
    "residuals_df = pd.DataFrame(residuals, index=rq4_contingency_table.index, columns=rq4_contingency_table.columns)\n",
    "\n",
    "print(\"\\nStandardized Residuals:\")\n",
    "print(residuals_df)"
   ],
   "id": "6a022370f6e51c25",
   "outputs": [
    {
     "name": "stdout",
     "output_type": "stream",
     "text": [
      "\n",
      "Standardized Residuals:\n",
      "text_sentiment   negative    neutral   positive\n",
      "priority                                       \n",
      "Blocker         42.259419 -17.523054  -8.501420\n",
      "Critical        38.710789 -10.811428 -15.823941\n",
      "Major          -17.251284  13.855581  -6.808211\n",
      "Minor           -4.851385  -9.024444  17.901085\n",
      "Trivial        -17.391284  -6.762172  24.928685\n"
     ]
    }
   ],
   "execution_count": 21
  },
  {
   "metadata": {},
   "cell_type": "markdown",
   "source": "## RQ 4 mww",
   "id": "7b0f50f76d634075"
  },
  {
   "metadata": {
    "ExecuteTime": {
     "end_time": "2024-07-16T04:27:41.953568Z",
     "start_time": "2024-07-16T04:27:39.902274Z"
    }
   },
   "cell_type": "code",
   "source": "mww_test_between_categories(rq34_issues, 'priority')",
   "id": "14e84f69afce1786",
   "outputs": [
    {
     "data": {
      "text/plain": [
       "  priority1 priority2   u_statistic        p_value\n",
       "0     Major     Minor  3.580058e+10   2.328685e-02\n",
       "1     Major   Blocker  6.800420e+09   4.082549e-92\n",
       "2     Major   Trivial  5.103691e+09  8.469316e-113\n",
       "3     Major  Critical  9.338855e+09  1.413028e-115\n",
       "4     Minor   Blocker  2.111651e+09   4.999598e-93\n",
       "5     Minor   Trivial  1.582682e+09   9.786769e-97\n",
       "6     Minor  Critical  2.899938e+09  2.917191e-113\n",
       "7   Blocker   Trivial  2.587772e+08  5.101650e-193\n",
       "8   Blocker  Critical  4.752619e+08   5.036036e-01\n",
       "9   Trivial  Critical  4.820324e+08  2.570175e-223"
      ],
      "text/html": [
       "<div>\n",
       "<style scoped>\n",
       "    .dataframe tbody tr th:only-of-type {\n",
       "        vertical-align: middle;\n",
       "    }\n",
       "\n",
       "    .dataframe tbody tr th {\n",
       "        vertical-align: top;\n",
       "    }\n",
       "\n",
       "    .dataframe thead th {\n",
       "        text-align: right;\n",
       "    }\n",
       "</style>\n",
       "<table border=\"1\" class=\"dataframe\">\n",
       "  <thead>\n",
       "    <tr style=\"text-align: right;\">\n",
       "      <th></th>\n",
       "      <th>priority1</th>\n",
       "      <th>priority2</th>\n",
       "      <th>u_statistic</th>\n",
       "      <th>p_value</th>\n",
       "    </tr>\n",
       "  </thead>\n",
       "  <tbody>\n",
       "    <tr>\n",
       "      <th>0</th>\n",
       "      <td>Major</td>\n",
       "      <td>Minor</td>\n",
       "      <td>3.580058e+10</td>\n",
       "      <td>2.328685e-02</td>\n",
       "    </tr>\n",
       "    <tr>\n",
       "      <th>1</th>\n",
       "      <td>Major</td>\n",
       "      <td>Blocker</td>\n",
       "      <td>6.800420e+09</td>\n",
       "      <td>4.082549e-92</td>\n",
       "    </tr>\n",
       "    <tr>\n",
       "      <th>2</th>\n",
       "      <td>Major</td>\n",
       "      <td>Trivial</td>\n",
       "      <td>5.103691e+09</td>\n",
       "      <td>8.469316e-113</td>\n",
       "    </tr>\n",
       "    <tr>\n",
       "      <th>3</th>\n",
       "      <td>Major</td>\n",
       "      <td>Critical</td>\n",
       "      <td>9.338855e+09</td>\n",
       "      <td>1.413028e-115</td>\n",
       "    </tr>\n",
       "    <tr>\n",
       "      <th>4</th>\n",
       "      <td>Minor</td>\n",
       "      <td>Blocker</td>\n",
       "      <td>2.111651e+09</td>\n",
       "      <td>4.999598e-93</td>\n",
       "    </tr>\n",
       "    <tr>\n",
       "      <th>5</th>\n",
       "      <td>Minor</td>\n",
       "      <td>Trivial</td>\n",
       "      <td>1.582682e+09</td>\n",
       "      <td>9.786769e-97</td>\n",
       "    </tr>\n",
       "    <tr>\n",
       "      <th>6</th>\n",
       "      <td>Minor</td>\n",
       "      <td>Critical</td>\n",
       "      <td>2.899938e+09</td>\n",
       "      <td>2.917191e-113</td>\n",
       "    </tr>\n",
       "    <tr>\n",
       "      <th>7</th>\n",
       "      <td>Blocker</td>\n",
       "      <td>Trivial</td>\n",
       "      <td>2.587772e+08</td>\n",
       "      <td>5.101650e-193</td>\n",
       "    </tr>\n",
       "    <tr>\n",
       "      <th>8</th>\n",
       "      <td>Blocker</td>\n",
       "      <td>Critical</td>\n",
       "      <td>4.752619e+08</td>\n",
       "      <td>5.036036e-01</td>\n",
       "    </tr>\n",
       "    <tr>\n",
       "      <th>9</th>\n",
       "      <td>Trivial</td>\n",
       "      <td>Critical</td>\n",
       "      <td>4.820324e+08</td>\n",
       "      <td>2.570175e-223</td>\n",
       "    </tr>\n",
       "  </tbody>\n",
       "</table>\n",
       "</div>"
      ]
     },
     "execution_count": 56,
     "metadata": {},
     "output_type": "execute_result"
    }
   ],
   "execution_count": 56
  },
  {
   "metadata": {
    "ExecuteTime": {
     "end_time": "2024-07-16T04:27:47.397916Z",
     "start_time": "2024-07-16T04:27:46.393855Z"
    }
   },
   "cell_type": "code",
   "source": "mww_test_between_sentiment(rq34_issues, 'priority')",
   "id": "c483fcf9efc0502f",
   "outputs": [
    {
     "data": {
      "text/plain": [
       "   priority   u_statistic       p_value\n",
       "0     Major  1.313023e+11  0.000000e+00\n",
       "1     Minor  1.270779e+10  0.000000e+00\n",
       "2   Blocker  3.592775e+08  5.765093e-15\n",
       "3   Trivial  3.378914e+08  0.000000e+00\n",
       "4  Critical  6.855561e+08  1.244650e-28"
      ],
      "text/html": [
       "<div>\n",
       "<style scoped>\n",
       "    .dataframe tbody tr th:only-of-type {\n",
       "        vertical-align: middle;\n",
       "    }\n",
       "\n",
       "    .dataframe tbody tr th {\n",
       "        vertical-align: top;\n",
       "    }\n",
       "\n",
       "    .dataframe thead th {\n",
       "        text-align: right;\n",
       "    }\n",
       "</style>\n",
       "<table border=\"1\" class=\"dataframe\">\n",
       "  <thead>\n",
       "    <tr style=\"text-align: right;\">\n",
       "      <th></th>\n",
       "      <th>priority</th>\n",
       "      <th>u_statistic</th>\n",
       "      <th>p_value</th>\n",
       "    </tr>\n",
       "  </thead>\n",
       "  <tbody>\n",
       "    <tr>\n",
       "      <th>0</th>\n",
       "      <td>Major</td>\n",
       "      <td>1.313023e+11</td>\n",
       "      <td>0.000000e+00</td>\n",
       "    </tr>\n",
       "    <tr>\n",
       "      <th>1</th>\n",
       "      <td>Minor</td>\n",
       "      <td>1.270779e+10</td>\n",
       "      <td>0.000000e+00</td>\n",
       "    </tr>\n",
       "    <tr>\n",
       "      <th>2</th>\n",
       "      <td>Blocker</td>\n",
       "      <td>3.592775e+08</td>\n",
       "      <td>5.765093e-15</td>\n",
       "    </tr>\n",
       "    <tr>\n",
       "      <th>3</th>\n",
       "      <td>Trivial</td>\n",
       "      <td>3.378914e+08</td>\n",
       "      <td>0.000000e+00</td>\n",
       "    </tr>\n",
       "    <tr>\n",
       "      <th>4</th>\n",
       "      <td>Critical</td>\n",
       "      <td>6.855561e+08</td>\n",
       "      <td>1.244650e-28</td>\n",
       "    </tr>\n",
       "  </tbody>\n",
       "</table>\n",
       "</div>"
      ]
     },
     "execution_count": 57,
     "metadata": {},
     "output_type": "execute_result"
    }
   ],
   "execution_count": 57
  },
  {
   "metadata": {},
   "cell_type": "code",
   "outputs": [],
   "execution_count": null,
   "source": "",
   "id": "a5dff595f6da274"
  },
  {
   "metadata": {},
   "cell_type": "code",
   "outputs": [],
   "execution_count": null,
   "source": "",
   "id": "206beb022cf2e2f8"
  },
  {
   "metadata": {},
   "cell_type": "code",
   "outputs": [],
   "execution_count": null,
   "source": "",
   "id": "490ca8436faf4bc"
  },
  {
   "metadata": {},
   "cell_type": "code",
   "outputs": [],
   "execution_count": null,
   "source": "",
   "id": "bfd07f95cdbe00af"
  },
  {
   "metadata": {},
   "cell_type": "markdown",
   "source": "# Visualizations",
   "id": "68c180d1e34f8556"
  },
  {
   "metadata": {
    "ExecuteTime": {
     "end_time": "2024-07-16T06:19:06.368713Z",
     "start_time": "2024-07-16T06:19:06.365785Z"
    }
   },
   "cell_type": "code",
   "source": "plt.style.available",
   "id": "1dccf18176413ff",
   "outputs": [
    {
     "data": {
      "text/plain": [
       "['Solarize_Light2',\n",
       " '_classic_test_patch',\n",
       " '_mpl-gallery',\n",
       " '_mpl-gallery-nogrid',\n",
       " 'bmh',\n",
       " 'classic',\n",
       " 'dark_background',\n",
       " 'fast',\n",
       " 'fivethirtyeight',\n",
       " 'ggplot',\n",
       " 'grayscale',\n",
       " 'seaborn-v0_8',\n",
       " 'seaborn-v0_8-bright',\n",
       " 'seaborn-v0_8-colorblind',\n",
       " 'seaborn-v0_8-dark',\n",
       " 'seaborn-v0_8-dark-palette',\n",
       " 'seaborn-v0_8-darkgrid',\n",
       " 'seaborn-v0_8-deep',\n",
       " 'seaborn-v0_8-muted',\n",
       " 'seaborn-v0_8-notebook',\n",
       " 'seaborn-v0_8-paper',\n",
       " 'seaborn-v0_8-pastel',\n",
       " 'seaborn-v0_8-poster',\n",
       " 'seaborn-v0_8-talk',\n",
       " 'seaborn-v0_8-ticks',\n",
       " 'seaborn-v0_8-white',\n",
       " 'seaborn-v0_8-whitegrid',\n",
       " 'tableau-colorblind10']"
      ]
     },
     "execution_count": 154,
     "metadata": {},
     "output_type": "execute_result"
    }
   ],
   "execution_count": 154
  },
  {
   "metadata": {
    "ExecuteTime": {
     "end_time": "2024-07-16T06:19:06.781695Z",
     "start_time": "2024-07-16T06:19:06.779155Z"
    }
   },
   "cell_type": "code",
   "source": [
    "plt.style.use('seaborn-v0_8-ticks')\n",
    "sns.set_theme(style=\"ticks\")"
   ],
   "id": "af3474c0a5e7a0cb",
   "outputs": [],
   "execution_count": 155
  },
  {
   "metadata": {},
   "cell_type": "markdown",
   "source": "### RQ 3",
   "id": "2f943af96b8800ab"
  },
  {
   "metadata": {
    "ExecuteTime": {
     "end_time": "2024-07-16T06:19:08.022335Z",
     "start_time": "2024-07-16T06:19:07.698123Z"
    }
   },
   "cell_type": "code",
   "source": [
    "grouped = rq34.groupby(['issuetype', 'text_sentiment']).size().unstack(fill_value=0)\n",
    "grouped_percent = grouped.div(grouped.sum(axis=1), axis=0) * 100\n",
    "\n",
    "plt.figure(figsize=(12, 8))  \n",
    "\n",
    "sentiments = grouped.columns\n",
    "issue_types = grouped.index\n",
    "\n",
    "bar_width = 0.25\n",
    "bar_positions = list(range(len(issue_types)))\n",
    "\n",
    "for i, sentiment in enumerate(sentiments):\n",
    "    offset = i * bar_width - bar_width / 2\n",
    "\n",
    "    bars = plt.bar([pos + offset for pos in bar_positions], grouped[sentiment], width=bar_width, label=sentiment, edgecolor='k')\n",
    "    \n",
    "    for bar, pct in zip(bars, grouped_percent[sentiment]):\n",
    "        plt.text(bar.get_x() + bar.get_width() / 2, bar.get_height() + 1, f'{pct:.1f}%', ha='center', va='bottom', fontsize=18)\n",
    "\n",
    "\n",
    "# Customize plot\n",
    "plt.xlabel('Issue Type')\n",
    "plt.ylabel('Frequency')\n",
    "# plt.title('Sentiment Frequencies by Issue Type')\n",
    "plt.xticks(bar_positions, issue_types)\n",
    "plt.legend(title='Sentiment', loc='upper right')\n",
    "plt.gca().get_xaxis().tick_bottom() \n",
    "plt.gca().get_yaxis().tick_left()  \n",
    "plt.gca().get_yaxis().set_major_formatter(ticker.FuncFormatter(lambda x, p: format(int(x), ',')))\n",
    "plt.grid(False)\n",
    "plt.show()"
   ],
   "id": "79f8a287d2ea3eab",
   "outputs": [
    {
     "data": {
      "text/plain": [
       "<Figure size 1200x800 with 1 Axes>"
      ],
      "image/png": "[encoded data removed]"
     },
     "metadata": {},
     "output_type": "display_data"
    }
   ],
   "execution_count": 156
  },
  {
   "metadata": {
    "ExecuteTime": {
     "end_time": "2024-07-16T06:19:11.444101Z",
     "start_time": "2024-07-16T06:19:08.137920Z"
    }
   },
   "cell_type": "code",
   "source": [
    "df = rq34_issues\n",
    "\n",
    "melted = pd.melt(\n",
    "    df,\n",
    "    id_vars=['issuetype'],\n",
    "    value_vars=['sentiment_score_cumulative', 'sentiment_score_positive', 'sentiment_score_negative'],\n",
    "    var_name='score_type',\n",
    "    value_name='score'\n",
    ")\n",
    "\n",
    "# rename score types\n",
    "melted['score_type'] = melted['score_type'].map({\n",
    "    'sentiment_score_cumulative': 'Cumulative Sentiment',\n",
    "    'sentiment_score_positive': 'Positive Sentiment',\n",
    "    'sentiment_score_negative': 'Negative Sentiment'\n",
    "})\n",
    "\n",
    "plt.figure(figsize=(12, 8))\n",
    "sns.boxplot(x='issuetype', y='score', hue='score_type', data=melted, showmeans=True, meanline=True, fliersize=0,\n",
    "            meanprops={'linestyle': '--', 'linewidth': 1, 'color': 'k'})\n",
    "# plt.title('Distribution of mean positive, negative, and cumulative sentiment scores for issue types.')\n",
    "plt.xlabel('Issue Type')\n",
    "plt.ylabel('Value')\n",
    "plt.ylim(-6, 6)\n",
    "plt.yticks(np.arange(-6, 6 + 0.5, 0.5))\n",
    "plt.legend(title='Score Type', loc='lower right')\n",
    "plt.show()"
   ],
   "id": "62c9fc7f411fa986",
   "outputs": [
    {
     "data": {
      "text/plain": [
       "<Figure size 1200x800 with 1 Axes>"
      ],
      "image/png": "[encoded data removed]"
     },
     "metadata": {},
     "output_type": "display_data"
    }
   ],
   "execution_count": 157
  },
  {
   "metadata": {},
   "cell_type": "markdown",
   "source": "### RQ 4",
   "id": "d45e09b6a3ab1ac4"
  },
  {
   "metadata": {
    "ExecuteTime": {
     "end_time": "2024-07-16T06:19:11.808187Z",
     "start_time": "2024-07-16T06:19:11.444980Z"
    }
   },
   "cell_type": "code",
   "source": [
    "grouped = rq34.groupby(['priority', 'text_sentiment']).size().unstack(fill_value=0)\n",
    "grouped_percent = grouped.div(grouped.sum(axis=1), axis=0) * 100\n",
    "\n",
    "plt.figure(figsize=(12, 8))  \n",
    "\n",
    "priorities = grouped.columns\n",
    "issue_types = grouped.index\n",
    "\n",
    "bar_width = 0.25\n",
    "bar_positions = list(range(len(issue_types)))\n",
    "\n",
    "for i, priority in enumerate(priorities):\n",
    "    offset = i * bar_width - bar_width / 2\n",
    "\n",
    "    bars = plt.bar([pos + offset for pos in bar_positions], grouped[priority], width=bar_width, label=priority, edgecolor='k')\n",
    "    \n",
    "    for bar, pct in zip(bars, grouped_percent[priority]):\n",
    "        plt.text(bar.get_x() + bar.get_width() / 2, bar.get_height() + 1, f'{pct:.1f}%', ha='center', va='bottom', fontsize=10)\n",
    "        \n",
    "\n",
    "# Customize plot\n",
    "plt.xlabel('Issue Severity')\n",
    "plt.ylabel('Frequency')\n",
    "# plt.title('Sentiment Frequencies by Issue Severity')\n",
    "plt.xticks(bar_positions, issue_types)\n",
    "plt.legend(title='Sentiment', loc='upper right')\n",
    "plt.gca().get_xaxis().tick_bottom() \n",
    "plt.gca().get_yaxis().tick_left()  \n",
    "plt.gca().get_yaxis().set_major_formatter(ticker.FuncFormatter(lambda x, p: format(int(x), ',')))\n",
    "plt.grid(False)\n",
    "plt.show()"
   ],
   "id": "1df6bd9c0484d65c",
   "outputs": [
    {
     "data": {
      "text/plain": [
       "<Figure size 1200x800 with 1 Axes>"
      ],
      "image/png": "[encoded data removed]"
     },
     "metadata": {},
     "output_type": "display_data"
    }
   ],
   "execution_count": 158
  },
  {
   "metadata": {
    "ExecuteTime": {
     "end_time": "2024-07-16T06:19:14.802475Z",
     "start_time": "2024-07-16T06:19:11.809046Z"
    }
   },
   "cell_type": "code",
   "source": [
    "df = rq34_issues\n",
    "\n",
    "melted = pd.melt(\n",
    "    df,\n",
    "    id_vars=['priority'],\n",
    "    value_vars=['sentiment_score_cumulative', 'sentiment_score_positive', 'sentiment_score_negative'],\n",
    "    var_name='score_type',\n",
    "    value_name='score'\n",
    ")\n",
    "\n",
    "# rename score types\n",
    "melted['score_type'] = melted['score_type'].map({\n",
    "    'sentiment_score_cumulative': 'Cumulative Sentiment',\n",
    "    'sentiment_score_positive': 'Positive Sentiment',\n",
    "    'sentiment_score_negative': 'Negative Sentiment'\n",
    "})\n",
    "\n",
    "plt.figure(figsize=(12, 8))\n",
    "sns.boxplot(x='priority', y='score', hue='score_type', data=melted, showmeans=True, meanline=True, fliersize=0,\n",
    "            meanprops={'linestyle': '--', 'linewidth': 1, 'color': 'k'})\n",
    "# plt.title('Distribution of mean positive, negative, and cumulative sentiment scores for issue severities.')\n",
    "plt.xlabel('Issue Severity')\n",
    "plt.ylabel('Value')\n",
    "plt.ylim(-6, 6)\n",
    "plt.yticks(np.arange(-6, 6 + 0.5, 0.5))\n",
    "plt.legend(title='Score Type', loc='lower right')\n",
    "plt.show()"
   ],
   "id": "23bc4c996d605309",
   "outputs": [
    {
     "data": {
      "text/plain": [
       "<Figure size 1200x800 with 1 Axes>"
      ],
      "image/png": "[encoded data removed]"
     },
     "metadata": {},
     "output_type": "display_data"
    }
   ],
   "execution_count": 159
  },
  {
   "metadata": {
    "ExecuteTime": {
     "end_time": "2024-07-16T06:19:14.805011Z",
     "start_time": "2024-07-16T06:19:14.803518Z"
    }
   },
   "cell_type": "code",
   "source": "",
   "id": "9591a00a35ac40b5",
   "outputs": [],
   "execution_count": 159
  },
  {
   "metadata": {
    "ExecuteTime": {
     "end_time": "2024-07-16T06:48:34.804906Z",
     "start_time": "2024-07-16T06:48:34.803168Z"
    }
   },
   "cell_type": "code",
   "source": "",
   "id": "1831dca4f02067be",
   "outputs": [],
   "execution_count": 160
  },
  {
   "metadata": {},
   "cell_type": "code",
   "outputs": [],
   "execution_count": null,
   "source": "",
   "id": "4152a80026bb3c8"
  }
 ],
 "metadata": {
  "kernelspec": {
   "display_name": "Python 3",
   "language": "python",
   "name": "python3"
  },
  "language_info": {
   "codemirror_mode": {
    "name": "ipython",
    "version": 2
   },
   "file_extension": ".py",
   "mimetype": "text/x-python",
   "name": "python",
   "nbconvert_exporter": "python",
   "pygments_lexer": "ipython2",
   "version": "2.7.6"
  }
 },
 "nbformat": 4,
 "nbformat_minor": 5
}
