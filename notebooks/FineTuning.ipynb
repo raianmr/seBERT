{
 "cells": [
  {
   "cell_type": "markdown",
   "id": "4c1e9dd7-073a-4ce8-a010-17413a26a6e5",
   "metadata": {},
   "source": [
    "# Fine-tuning of the pre-trained seBERT model for the sentiment classification task\n",
    "This notebook can be used to fine-tune a pre-trained seBERT model for any sequence classification task.\n",
    "We use the example of sentiment mining which is a multi-label sequence classification task.\n",
    "\n",
    "We use a reduced batch size and sample size so that this can run on consumer hardware. We tested this on a Nvidia GTX 1080."
   ]
  },
  {
   "cell_type": "code",
   "id": "7d04e85d-82fc-4631-b980-2e62e1e31e6e",
   "metadata": {
    "ExecuteTime": {
     "end_time": "2024-04-23T19:09:35.803275Z",
     "start_time": "2024-04-23T19:09:33.386582Z"
    }
   },
   "source": [
    "import os\n",
    "\n",
    "import torch\n",
    "import pandas as pd\n",
    "import numpy as np\n",
    "\n",
    "from sklearn.metrics import recall_score, precision_score, f1_score, matthews_corrcoef, accuracy_score\n",
    "from sklearn.base import BaseEstimator, ClassifierMixin\n",
    "from sklearn.model_selection import train_test_split\n",
    "from transformers import BertTokenizer, BertForSequenceClassification\n",
    "from transformers import TrainingArguments, Trainer"
   ],
   "outputs": [],
   "execution_count": 1
  },
  {
   "cell_type": "code",
   "id": "67f9fcd9-000f-4d96-a0d3-82c9f09cdf92",
   "metadata": {
    "ExecuteTime": {
     "end_time": "2024-04-23T19:09:37.474809Z",
     "start_time": "2024-04-23T19:09:37.344472Z"
    }
   },
   "source": [
    "DATA_PATH = './data/'\n",
    "SEBERT_MODEL_PATH = './models/seBERT/'  # path of the pre-trained sebert model\n",
    "SENTIMENT_MODEL_PATH = './models/sentiment/'  # path to store the final fine-tuned sentiment classification model\n",
    "CHECKPOINTS_PATH = './models/checkpoints/'  # path to store checkpoints of the model for each epoch\n",
    "\n",
    "# print current directory\n",
    "print(os.getcwd())\n",
    "%pwd\n",
    "%ls -l {SEBERT_MODEL_PATH}"
   ],
   "outputs": [
    {
     "name": "stdout",
     "output_type": "stream",
     "text": [
      "/home/mamo/Research/seBERT/notebooks\n",
      "total 1313764\r\n",
      "-rw------- 1 mamo mamo        314 Jun 16  2021 config.json\r\n",
      "-rw------- 1 mamo mamo 1345068138 Jun 16  2021 pytorch_model.bin\r\n",
      "-rwx------ 1 mamo mamo     214692 Jan 10  2021 \u001B[0m\u001B[01;32mvocab.txt\u001B[0m*\r\n"
     ]
    }
   ],
   "execution_count": 2
  },
  {
   "cell_type": "code",
   "id": "d4a00d2a-f577-4089-be48-1f871cd36bce",
   "metadata": {
    "ExecuteTime": {
     "end_time": "2024-04-23T19:09:38.854976Z",
     "start_time": "2024-04-23T19:09:38.851854Z"
    }
   },
   "source": [
    "class Dataset(torch.utils.data.Dataset):\n",
    "    \"\"\"Just a standard torch Dataset for BERT-style data.\"\"\"\n",
    "    def __init__(self, encodings, labels):\n",
    "        self.encodings = encodings\n",
    "        self.labels = labels\n",
    "\n",
    "    def __getitem__(self, idx):\n",
    "        item = {key: torch.tensor(val[idx]) for key, val in self.encodings.items()}\n",
    "        item['labels'] = torch.tensor(self.labels[idx], dtype=torch.long)\n",
    "        return item\n",
    "\n",
    "    def __len__(self):\n",
    "        return len(self.encodings['input_ids'])"
   ],
   "outputs": [],
   "execution_count": 3
  },
  {
   "cell_type": "code",
   "id": "22027872-0204-4dcb-9a44-ec5d1a9d639a",
   "metadata": {
    "ExecuteTime": {
     "end_time": "2024-04-23T19:09:40.064494Z",
     "start_time": "2024-04-23T19:09:40.061392Z"
    }
   },
   "source": [
    "def compute_metrics_multi_label(p):\n",
    "    \"\"\"This metrics computation is used by the huggingface trainer.\"\"\"\n",
    "    pred, labels = p\n",
    "    pred = np.argmax(pred, axis=1)\n",
    "\n",
    "    accuracy = accuracy_score(y_true=labels, y_pred=pred)\n",
    "    recall = recall_score(y_true=labels, y_pred=pred, average='micro')\n",
    "    precision = precision_score(y_true=labels, y_pred=pred, average='micro')\n",
    "    f1 = f1_score(y_true=labels, y_pred=pred, average='micro')\n",
    "    mcc = matthews_corrcoef(y_true=labels, y_pred=pred)\n",
    "\n",
    "    recall_ma = recall_score(y_true=labels, y_pred=pred, average='macro')\n",
    "    precision_ma = precision_score(y_true=labels, y_pred=pred, average='macro')\n",
    "    f1_ma = f1_score(y_true=labels, y_pred=pred, average='macro')\n",
    "\n",
    "    return {'accuracy': accuracy, 'precision_micro': precision, 'recall_micro': recall, 'f1_micro': f1, 'mcc': mcc, 'precision_macro': precision_ma, 'recall_macro': recall_ma, 'f1_macro': f1_ma}"
   ],
   "outputs": [],
   "execution_count": 4
  },
  {
   "cell_type": "code",
   "id": "c75cf0c8-16c9-4f0e-b955-281d28d98eae",
   "metadata": {
    "ExecuteTime": {
     "end_time": "2024-04-23T19:22:32.529347Z",
     "start_time": "2024-04-23T19:22:32.521919Z"
    }
   },
   "source": [
    "class seBERT(BaseEstimator, ClassifierMixin):\n",
    "    \"\"\"\n",
    "    We are effectively wrapping the high-level Trainer and TrainingArguments classes from the Huggingface library into a\n",
    "    scikit-learn classifier.\n",
    "    This allows us to use all of scikit-learn in a more natural way, e.g., pipelines or grid search.\n",
    "    \"\"\"\n",
    "    def __init__(self, checkpoints_dir='../checkpoints/', batch_size=8):\n",
    "        self.trainer = None\n",
    "        self.checkpoints_dir = checkpoints_dir\n",
    "        self.model = BertForSequenceClassification.from_pretrained(SEBERT_MODEL_PATH, config=SEBERT_MODEL_PATH + 'config.json', num_labels=3)\n",
    "        self.tokenizer = BertTokenizer.from_pretrained(SEBERT_MODEL_PATH, do_lower_case=True)\n",
    "        self.batch_size = batch_size\n",
    "        self.max_length = 128\n",
    "            \n",
    "    def fit(self, X, y, training_args):\n",
    "        \"\"\"fit implements simple fine-tuning from the pre-trained model.\n",
    "\n",
    "        We split the training data into 80/20 training and validation sets, train for 5 epochs and chose the model\n",
    "        that performs best on the validation data in the end.\n",
    "        \"\"\"\n",
    "        X_train, X_val, y_train, y_val = train_test_split(X, y, test_size=0.2)\n",
    "        \n",
    "        X_train_tokens = self.tokenizer(X_train, padding=True, truncation=True, max_length=self.max_length)\n",
    "        X_val_tokens = self.tokenizer(X_val, padding=True, truncation=True, max_length=self.max_length)\n",
    "\n",
    "        train_dataset = Dataset(X_train_tokens, y_train)\n",
    "        eval_dataset = Dataset(X_val_tokens, y_val)\n",
    "\n",
    "        if not os.path.exists(self.checkpoints_dir):\n",
    "            os.makedirs(self.checkpoints_dir)\n",
    "            \n",
    "        self.trainer = Trainer(\n",
    "            model           = self.model,\n",
    "            args            = training_args,\n",
    "            train_dataset   = train_dataset,\n",
    "            eval_dataset    = eval_dataset,\n",
    "            compute_metrics = compute_metrics_multi_label\n",
    "        )\n",
    "        print(self.trainer.train())\n",
    "        return self\n",
    "\n",
    "    def predict_proba(self, X, y=None):\n",
    "        \"\"\"This is kept simple intentionally, for larger Datasets this would be too ineficient,\n",
    "        because we would effectively force a batch size of 1.\"\"\"\n",
    "        y_probs = []\n",
    "        self.trainer.model.eval()\n",
    "        with torch.no_grad():\n",
    "            for _, X_row in enumerate(X):\n",
    "                inputs = self.tokenizer(X_row, padding=True, truncation=True, max_length=self.max_length, return_tensors=\"pt\").to('cuda')\n",
    "                outputs = self.trainer.model(**inputs)\n",
    "                probs = outputs[0].softmax(1).cpu().detach().numpy()\n",
    "                y_probs.append(probs)\n",
    "        return y_probs\n",
    "\n",
    "    def predict(self, X, y=None):\n",
    "        \"\"\"Predict is evaluation.\"\"\"\n",
    "        y_probs = self.predict_proba(X, y)\n",
    "        y_pred = []\n",
    "        for y_prob in y_probs:\n",
    "            y_pred.append(y_prob.argmax())\n",
    "        return y_pred\n",
    "\n",
    "    def save_model(self, path):\n",
    "        if not os.path.exists(path):\n",
    "            os.makedirs(path)\n",
    "        self.trainer.model.save_pretrained(path)"
   ],
   "outputs": [],
   "execution_count": 22
  },
  {
   "metadata": {
    "ExecuteTime": {
     "end_time": "2024-04-23T19:22:33.905471Z",
     "start_time": "2024-04-23T19:22:33.852527Z"
    }
   },
   "cell_type": "code",
   "source": [
    "# process github_gold.csv dataset\n",
    "df1 = pd.read_csv(DATA_PATH + 'github_gold.csv', sep=';', quotechar='\"')\n",
    "df1['text_no_newlines'] = df1['Text'].str.replace('\\n', ' ')\n",
    "\n",
    "# process JIRA.csv dataset\n",
    "df2 = pd.read_csv(DATA_PATH + 'JIRA.csv', sep=',', quotechar='\"')\n",
    "df2['text_no_newlines'] = df2['sentence'].str.replace('\\n', ' ')\n",
    "df2['Polarity'] = df2['oracle'].replace({-1: 'negative', 1: 'positive'})\n",
    "\n",
    "# process NewData.csv dataset\n",
    "df3 = pd.read_csv(DATA_PATH + 'NewData.csv', sep=',', quotechar='\"')\n",
    "df3['text_no_newlines'] = df3['text'].str.replace('\\n', ' ')\n",
    "df3['Polarity'] = df3['oracle'].str.lower()\n",
    "\n",
    "# # concatenate all datasets\n",
    "df = pd.concat([df1, df2, df3], ignore_index=True)\n",
    "df.map(str)\n",
    "\n",
    "# print percentages of each class in Polarity column\n",
    "print(df['Polarity'].value_counts(normalize=True) * 100)"
   ],
   "id": "a68d50a3b0693c52",
   "outputs": [
    {
     "name": "stdout",
     "output_type": "stream",
     "text": [
      "Polarity\n",
      "neutral     44.214807\n",
      "negative    31.889110\n",
      "positive    23.896082\n",
      "Name: proportion, dtype: float64\n"
     ]
    }
   ],
   "execution_count": 23
  },
  {
   "cell_type": "code",
   "id": "a574cd74-54a6-4f4c-9e7b-1934c00ce1e9",
   "metadata": {
    "ExecuteTime": {
     "end_time": "2024-04-23T19:22:35.207315Z",
     "start_time": "2024-04-23T19:22:35.153669Z"
    }
   },
   "source": [
    "# make labels numeric\n",
    "def labelnum(row):\n",
    "    if row['Polarity'] == 'negative':\n",
    "        return 0\n",
    "    elif row['Polarity'] == 'neutral':\n",
    "        return 1\n",
    "    elif row['Polarity'] == 'positive':\n",
    "        return 2\n",
    "    else:\n",
    "        raise Exception('no such type!')\n",
    "\n",
    "df['text_no_newlines'] = df['Text'].str.replace('\\n', ' ')\n",
    "df['label'] = df.apply(labelnum, axis=1)\n",
    "\n",
    "# X = df['text_no_newlines'].values\n",
    "# y = df['label'].astype(int).values\n",
    "\n",
    "X = [str(i) for i in df['text_no_newlines'].tolist()]\n",
    "y = [int(i) for i in df['label'].tolist()]"
   ],
   "outputs": [],
   "execution_count": 24
  },
  {
   "metadata": {
    "ExecuteTime": {
     "end_time": "2024-04-23T19:28:18.512082Z",
     "start_time": "2024-04-23T19:28:18.490914Z"
    }
   },
   "cell_type": "code",
   "source": [
    "training_args = TrainingArguments(\n",
    "    output_dir                  = CHECKPOINTS_PATH,\n",
    "    num_train_epochs            = 10,\n",
    "    per_device_train_batch_size = 8,\n",
    "    per_device_eval_batch_size  = 8,\n",
    "    gradient_accumulation_steps = 2,\n",
    "    eval_accumulation_steps     = 10,\n",
    "    evaluation_strategy         = 'epoch',\n",
    "    save_strategy               = 'epoch',\n",
    "    load_best_model_at_end      = True\n",
    ")\n",
    "\n",
    "# # use adam optimizer\n",
    "# training_args.optimizer_type = 'adam'\n",
    "# training_args.learning_rate = 5e-5\n",
    "# training_args.adam_epsilon = 1e-8\n",
    "# training_args.warmup_steps = 0\n",
    "# training_args.weight_decay = 0.01"
   ],
   "id": "6c2148c346ec1bf8",
   "outputs": [],
   "execution_count": 29
  },
  {
   "metadata": {
    "ExecuteTime": {
     "end_time": "2024-04-23T20:49:34.176215Z",
     "start_time": "2024-04-23T19:28:21.709473Z"
    }
   },
   "cell_type": "code",
   "source": [
    "clf = seBERT()\n",
    "\n",
    "# fit all the data\n",
    "clf.fit(X, y, training_args)\n",
    "\n",
    "# save the fine-tuned model\n",
    "clf.save_model(SENTIMENT_MODEL_PATH)"
   ],
   "id": "48e0e34557dd94b0",
   "outputs": [
    {
     "name": "stderr",
     "output_type": "stream",
     "text": [
      "Some weights of BertForSequenceClassification were not initialized from the model checkpoint at ./models/seBERT/ and are newly initialized: ['classifier.bias', 'classifier.weight']\n",
      "You should probably TRAIN this model on a down-stream task to be able to use it for predictions and inference.\n"
     ]
    },
    {
     "data": {
      "text/plain": [
       "<IPython.core.display.HTML object>"
      ],
      "text/html": [
       "\n",
       "    <div>\n",
       "      \n",
       "      <progress value='6020' max='6020' style='width:300px; height:20px; vertical-align: middle;'></progress>\n",
       "      [6020/6020 1:21:04, Epoch 9/10]\n",
       "    </div>\n",
       "    <table border=\"1\" class=\"dataframe\">\n",
       "  <thead>\n",
       " <tr style=\"text-align: left;\">\n",
       "      <th>Epoch</th>\n",
       "      <th>Training Loss</th>\n",
       "      <th>Validation Loss</th>\n",
       "      <th>Accuracy</th>\n",
       "      <th>Precision Micro</th>\n",
       "      <th>Recall Micro</th>\n",
       "      <th>F1 Micro</th>\n",
       "      <th>Mcc</th>\n",
       "      <th>Precision Macro</th>\n",
       "      <th>Recall Macro</th>\n",
       "      <th>F1 Macro</th>\n",
       "    </tr>\n",
       "  </thead>\n",
       "  <tbody>\n",
       "    <tr>\n",
       "      <td>0</td>\n",
       "      <td>0.730000</td>\n",
       "      <td>0.809939</td>\n",
       "      <td>0.585477</td>\n",
       "      <td>0.585477</td>\n",
       "      <td>0.585477</td>\n",
       "      <td>0.585477</td>\n",
       "      <td>0.396915</td>\n",
       "      <td>0.732527</td>\n",
       "      <td>0.506334</td>\n",
       "      <td>0.485434</td>\n",
       "    </tr>\n",
       "    <tr>\n",
       "      <td>2</td>\n",
       "      <td>0.534400</td>\n",
       "      <td>0.605283</td>\n",
       "      <td>0.730705</td>\n",
       "      <td>0.730705</td>\n",
       "      <td>0.730705</td>\n",
       "      <td>0.730705</td>\n",
       "      <td>0.612267</td>\n",
       "      <td>0.836816</td>\n",
       "      <td>0.695245</td>\n",
       "      <td>0.717993</td>\n",
       "    </tr>\n",
       "    <tr>\n",
       "      <td>4</td>\n",
       "      <td>0.465200</td>\n",
       "      <td>0.670382</td>\n",
       "      <td>0.725311</td>\n",
       "      <td>0.725311</td>\n",
       "      <td>0.725311</td>\n",
       "      <td>0.725311</td>\n",
       "      <td>0.599526</td>\n",
       "      <td>0.818758</td>\n",
       "      <td>0.691702</td>\n",
       "      <td>0.711775</td>\n",
       "    </tr>\n",
       "    <tr>\n",
       "      <td>6</td>\n",
       "      <td>0.443200</td>\n",
       "      <td>0.704892</td>\n",
       "      <td>0.728216</td>\n",
       "      <td>0.728216</td>\n",
       "      <td>0.728216</td>\n",
       "      <td>0.728216</td>\n",
       "      <td>0.599077</td>\n",
       "      <td>0.814042</td>\n",
       "      <td>0.697769</td>\n",
       "      <td>0.719838</td>\n",
       "    </tr>\n",
       "    <tr>\n",
       "      <td>8</td>\n",
       "      <td>0.434400</td>\n",
       "      <td>0.728709</td>\n",
       "      <td>0.736929</td>\n",
       "      <td>0.736929</td>\n",
       "      <td>0.736929</td>\n",
       "      <td>0.736929</td>\n",
       "      <td>0.621023</td>\n",
       "      <td>0.841115</td>\n",
       "      <td>0.703133</td>\n",
       "      <td>0.726115</td>\n",
       "    </tr>\n",
       "    <tr>\n",
       "      <td>9</td>\n",
       "      <td>0.421500</td>\n",
       "      <td>0.729964</td>\n",
       "      <td>0.735685</td>\n",
       "      <td>0.735685</td>\n",
       "      <td>0.735685</td>\n",
       "      <td>0.735685</td>\n",
       "      <td>0.618262</td>\n",
       "      <td>0.837573</td>\n",
       "      <td>0.702173</td>\n",
       "      <td>0.724604</td>\n",
       "    </tr>\n",
       "  </tbody>\n",
       "</table><p>"
      ]
     },
     "metadata": {},
     "output_type": "display_data"
    },
    {
     "name": "stdout",
     "output_type": "stream",
     "text": [
      "TrainOutput(global_step=6020, training_loss=0.49889788215738595, metrics={'train_runtime': 4864.9872, 'train_samples_per_second': 19.811, 'train_steps_per_second': 1.237, 'total_flos': 2.2436789346737664e+16, 'train_loss': 0.49889788215738595, 'epoch': 9.991701244813278})\n"
     ]
    }
   ],
   "execution_count": 30
  },
  {
   "metadata": {},
   "cell_type": "code",
   "outputs": [],
   "execution_count": null,
   "source": "",
   "id": "5eab8743457ae301"
  }
 ],
 "metadata": {
  "kernelspec": {
   "display_name": "Python 3 (ipykernel)",
   "language": "python",
   "name": "python3"
  },
  "language_info": {
   "codemirror_mode": {
    "name": "ipython",
    "version": 3
   },
   "file_extension": ".py",
   "mimetype": "text/x-python",
   "name": "python",
   "nbconvert_exporter": "python",
   "pygments_lexer": "ipython3",
   "version": "3.9.10"
  }
 },
 "nbformat": 4,
 "nbformat_minor": 5
}
