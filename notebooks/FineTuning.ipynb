{
 "cells": [
  {
   "cell_type": "markdown",
   "id": "4c1e9dd7-073a-4ce8-a010-17413a26a6e5",
   "metadata": {},
   "source": [
    "# Fine-tuning of the pre-trained seBERT model for the sentiment classification task\n",
    "This notebook can be used to fine-tune a pre-trained seBERT model for any sequence classification task.\n",
    "We use the example of sentiment mining which is a multi-label sequence classification task.\n",
    "\n",
    "We use a reduced batch size and sample size so that this can run on consumer hardware. We tested this on a Nvidia GTX 1080."
   ]
  },
  {
   "cell_type": "code",
   "id": "7d04e85d-82fc-4631-b980-2e62e1e31e6e",
   "metadata": {
    "ExecuteTime": {
     "end_time": "2024-05-13T08:27:57.850199Z",
     "start_time": "2024-05-13T08:27:55.577375Z"
    }
   },
   "source": [
    "import os\n",
    "from pathlib import Path\n",
    "\n",
    "import torch\n",
    "import pandas as pd\n",
    "import numpy as np\n",
    "# from torch.utils.tensorboard import SummaryWriter\n",
    "\n",
    "from sklearn.metrics import recall_score, precision_score, f1_score, matthews_corrcoef, accuracy_score\n",
    "from sklearn.base import BaseEstimator, ClassifierMixin\n",
    "from sklearn.model_selection import train_test_split\n",
    "from transformers import BertTokenizer, BertForSequenceClassification\n",
    "from transformers import TrainingArguments, Trainer"
   ],
   "outputs": [],
   "execution_count": 1
  },
  {
   "cell_type": "code",
   "id": "67f9fcd9-000f-4d96-a0d3-82c9f09cdf92",
   "metadata": {
    "ExecuteTime": {
     "end_time": "2024-05-13T08:28:00.132836Z",
     "start_time": "2024-05-13T08:28:00.130610Z"
    }
   },
   "source": [
    "DATA_PATH = './data/'\n",
    "SEBERT_MODEL_PATH = './models/seBERT/'  # path of the pre-trained sebert model\n",
    "SENTIMENT_MODEL_PATH = './models/sentiment/'  # path to store the final fine-tuned sentiment classification model\n",
    "CHECKPOINTS_PATH = './models/checkpoints/'  # path to store checkpoints of the model for each epoch"
   ],
   "outputs": [],
   "execution_count": 2
  },
  {
   "metadata": {
    "ExecuteTime": {
     "end_time": "2024-05-13T08:28:02.256309Z",
     "start_time": "2024-05-13T08:28:02.223736Z"
    }
   },
   "cell_type": "code",
   "source": [
    "# Load the dataset\n",
    "dataset = pd.read_csv(f\"{DATA_PATH}processed/finetuning_train.csv\")\n",
    "\n",
    "dataset['label'].value_counts()"
   ],
   "id": "43e76e025fc0e7f7",
   "outputs": [
    {
     "data": {
      "text/plain": [
       "label\n",
       "neutral     8220\n",
       "negative    4360\n",
       "positive    3683\n",
       "Name: count, dtype: int64"
      ]
     },
     "execution_count": 3,
     "metadata": {},
     "output_type": "execute_result"
    }
   ],
   "execution_count": 3
  },
  {
   "cell_type": "code",
   "id": "a574cd74-54a6-4f4c-9e7b-1934c00ce1e9",
   "metadata": {
    "ExecuteTime": {
     "end_time": "2024-05-13T08:28:04.687136Z",
     "start_time": "2024-05-13T08:28:04.680178Z"
    }
   },
   "source": [
    "from utils import labelnum\n",
    "\n",
    "dataset['label'] = dataset['label'].map(labelnum)\n",
    "\n",
    "dataset.head()"
   ],
   "outputs": [
    {
     "data": {
      "text/plain": [
       "                                                text  label\n",
       "0  \"ForGUI-intensive work, AWT feels very primiti...      2\n",
       "1  \"Anyway, what is the content of the objects in...      1\n",
       "2                              \"Have a look at WPF.\"      0\n",
       "3        Re-add the newline at the end of the file.\"      1\n",
       "4                                  cool, no worries.      2"
      ],
      "text/html": [
       "<div>\n",
       "<style scoped>\n",
       "    .dataframe tbody tr th:only-of-type {\n",
       "        vertical-align: middle;\n",
       "    }\n",
       "\n",
       "    .dataframe tbody tr th {\n",
       "        vertical-align: top;\n",
       "    }\n",
       "\n",
       "    .dataframe thead th {\n",
       "        text-align: right;\n",
       "    }\n",
       "</style>\n",
       "<table border=\"1\" class=\"dataframe\">\n",
       "  <thead>\n",
       "    <tr style=\"text-align: right;\">\n",
       "      <th></th>\n",
       "      <th>text</th>\n",
       "      <th>label</th>\n",
       "    </tr>\n",
       "  </thead>\n",
       "  <tbody>\n",
       "    <tr>\n",
       "      <th>0</th>\n",
       "      <td>\"ForGUI-intensive work, AWT feels very primiti...</td>\n",
       "      <td>2</td>\n",
       "    </tr>\n",
       "    <tr>\n",
       "      <th>1</th>\n",
       "      <td>\"Anyway, what is the content of the objects in...</td>\n",
       "      <td>1</td>\n",
       "    </tr>\n",
       "    <tr>\n",
       "      <th>2</th>\n",
       "      <td>\"Have a look at WPF.\"</td>\n",
       "      <td>0</td>\n",
       "    </tr>\n",
       "    <tr>\n",
       "      <th>3</th>\n",
       "      <td>Re-add the newline at the end of the file.\"</td>\n",
       "      <td>1</td>\n",
       "    </tr>\n",
       "    <tr>\n",
       "      <th>4</th>\n",
       "      <td>cool, no worries.</td>\n",
       "      <td>2</td>\n",
       "    </tr>\n",
       "  </tbody>\n",
       "</table>\n",
       "</div>"
      ]
     },
     "execution_count": 4,
     "metadata": {},
     "output_type": "execute_result"
    }
   ],
   "execution_count": 4
  },
  {
   "metadata": {},
   "cell_type": "code",
   "outputs": [],
   "execution_count": 5,
   "source": [
    "X = [str(i) for i in dataset['text'].tolist()]\n",
    "y = [int(i) for i in dataset['label'].tolist()]\n",
    "\n",
    "X_train, X_val, y_train, y_val = train_test_split(X, y, test_size=0.2, random_state=42)"
   ],
   "id": "54a31da531627a8b"
  },
  {
   "metadata": {
    "ExecuteTime": {
     "end_time": "2024-05-13T08:28:07.138996Z",
     "start_time": "2024-05-13T08:28:07.135275Z"
    }
   },
   "cell_type": "code",
   "source": [
    "class Dataset(torch.utils.data.Dataset):\n",
    "    \"\"\"Just a standard torch Dataset for BERT-style data.\"\"\"\n",
    "    def __init__(self, encodings, labels):\n",
    "        self.encodings = encodings\n",
    "        self.labels = labels\n",
    "\n",
    "    def __getitem__(self, idx):\n",
    "        item = {key: torch.tensor(val[idx]) for key, val in self.encodings.items()}\n",
    "        item['labels'] = torch.tensor(self.labels[idx], dtype=torch.long)\n",
    "        return item\n",
    "\n",
    "    def __len__(self):\n",
    "        return len(self.encodings['input_ids'])"
   ],
   "id": "d4a00d2a-f577-4089-be48-1f871cd36bce",
   "outputs": [],
   "execution_count": 6
  },
  {
   "metadata": {
    "ExecuteTime": {
     "end_time": "2024-05-13T08:28:08.830812Z",
     "start_time": "2024-05-13T08:28:08.826261Z"
    }
   },
   "cell_type": "code",
   "source": [
    "def compute_metrics_multi_label(p):\n",
    "    \"\"\"This metrics computation is used by the huggingface trainer.\"\"\"\n",
    "    pred, labels = p\n",
    "    pred = np.argmax(pred, axis=1)\n",
    "\n",
    "    accuracy = accuracy_score(y_true=labels, y_pred=pred)\n",
    "    recall = recall_score(y_true=labels, y_pred=pred, average='micro')\n",
    "    precision = precision_score(y_true=labels, y_pred=pred, average='micro')\n",
    "    f1 = f1_score(y_true=labels, y_pred=pred, average='micro')\n",
    "    mcc = matthews_corrcoef(y_true=labels, y_pred=pred)\n",
    "\n",
    "    recall_ma = recall_score(y_true=labels, y_pred=pred, average='macro')\n",
    "    precision_ma = precision_score(y_true=labels, y_pred=pred, average='macro')\n",
    "    f1_ma = f1_score(y_true=labels, y_pred=pred, average='macro')\n",
    "\n",
    "    return {'accuracy': accuracy, 'precision_micro': precision, 'recall_micro': recall, 'f1_micro': f1, 'mcc': mcc, 'precision_macro': precision_ma, 'recall_macro': recall_ma, 'f1_macro': f1_ma}"
   ],
   "id": "22027872-0204-4dcb-9a44-ec5d1a9d639a",
   "outputs": [],
   "execution_count": 7
  },
  {
   "metadata": {
    "ExecuteTime": {
     "end_time": "2024-05-13T08:28:17.150526Z",
     "start_time": "2024-05-13T08:28:17.144517Z"
    }
   },
   "cell_type": "code",
   "source": [
    "class seBERT(BaseEstimator, ClassifierMixin):\n",
    "    \"\"\"\n",
    "    We are effectively wrapping the high-level Trainer and TrainingArguments classes from the Huggingface library into a\n",
    "    scikit-learn classifier.\n",
    "    This allows us to use all of scikit-learn in a more natural way, e.g., pipelines or grid search.\n",
    "    \"\"\"\n",
    "    def __init__(self, checkpoints_dir='../checkpoints/', batch_size=8):\n",
    "        self.trainer = None\n",
    "        self.checkpoints_dir = checkpoints_dir\n",
    "        self.model = BertForSequenceClassification.from_pretrained(SEBERT_MODEL_PATH, config=SEBERT_MODEL_PATH + 'config.json', num_labels=3)\n",
    "        self.tokenizer = BertTokenizer.from_pretrained(SEBERT_MODEL_PATH, do_lower_case=True)\n",
    "        self.batch_size = batch_size\n",
    "        self.max_length = 128\n",
    "            \n",
    "    def fit(self, X_train, X_val, y_train, y_val, training_args):\n",
    "        \"\"\"fit implements simple fine-tuning from the pre-trained model.\n",
    "        \"\"\"\n",
    "        \n",
    "        X_train_tokens = self.tokenizer(X_train, padding=True, truncation=True, max_length=self.max_length)\n",
    "        X_val_tokens = self.tokenizer(X_val, padding=True, truncation=True, max_length=self.max_length)\n",
    "\n",
    "        train_dataset = Dataset(X_train_tokens, y_train)\n",
    "        eval_dataset = Dataset(X_val_tokens, y_val)\n",
    "\n",
    "        if not os.path.exists(self.checkpoints_dir):\n",
    "            os.makedirs(self.checkpoints_dir)\n",
    "            \n",
    "        self.trainer = Trainer(\n",
    "            model           = self.model,\n",
    "            args            = training_args,\n",
    "            train_dataset   = train_dataset,\n",
    "            eval_dataset    = eval_dataset,\n",
    "            compute_metrics = compute_metrics_multi_label\n",
    "        )\n",
    "        print(self.trainer.train())\n",
    "        return self\n",
    "\n",
    "    def predict_proba(self, X, y=None):\n",
    "        \"\"\"This is kept simple intentionally, for larger Datasets this would be too inefficient,\n",
    "        because we would effectively force a batch size of 1.\"\"\"\n",
    "        y_probs = []\n",
    "        self.trainer.model.eval()\n",
    "        with torch.no_grad():\n",
    "            for _, X_row in enumerate(X):\n",
    "                inputs = self.tokenizer(X_row, padding=True, truncation=True, max_length=self.max_length, return_tensors=\"pt\").to('cuda')\n",
    "                outputs = self.trainer.model(**inputs)\n",
    "                probs = outputs[0].softmax(1).cpu().detach().numpy()\n",
    "                y_probs.append(probs)\n",
    "        return y_probs\n",
    "\n",
    "    def predict(self, X, y=None):\n",
    "        \"\"\"Predict is evaluation.\"\"\"\n",
    "        y_probs = self.predict_proba(X, y)\n",
    "        y_pred = []\n",
    "        for y_prob in y_probs:\n",
    "            y_pred.append(y_prob.argmax())\n",
    "        return y_pred\n",
    "\n",
    "    def save_model(self, path):\n",
    "        if not os.path.exists(path):\n",
    "            os.makedirs(path)\n",
    "        self.trainer.model.save_pretrained(path)"
   ],
   "id": "c75cf0c8-16c9-4f0e-b955-281d28d98eae",
   "outputs": [],
   "execution_count": 8
  },
  {
   "metadata": {
    "ExecuteTime": {
     "end_time": "2024-05-13T08:28:19.579716Z",
     "start_time": "2024-05-13T08:28:19.486706Z"
    }
   },
   "cell_type": "code",
   "source": [
    "# We split the training data into 80/20 training and validation sets, train for 5 epochs and chose the model\n",
    "# that performs best on the validation data in the end.\n",
    "training_args = TrainingArguments(\n",
    "    output_dir                  = CHECKPOINTS_PATH,\n",
    "    num_train_epochs            = 5,\n",
    "    per_device_train_batch_size = 8,\n",
    "    per_device_eval_batch_size  = 8,\n",
    "    gradient_accumulation_steps = 4,\n",
    "    eval_accumulation_steps     = 10,\n",
    "    evaluation_strategy         = 'epoch',\n",
    "    save_strategy               = 'epoch',\n",
    "    load_best_model_at_end      = True\n",
    ")"
   ],
   "id": "6c2148c346ec1bf8",
   "outputs": [],
   "execution_count": 9
  },
  {
   "metadata": {
    "ExecuteTime": {
     "end_time": "2024-05-13T09:20:08.666863Z",
     "start_time": "2024-05-13T08:28:29.084718Z"
    }
   },
   "cell_type": "code",
   "source": [
    "clf = seBERT()\n",
    "\n",
    "# fit all the data\n",
    "clf.fit(X_train, X_val, y_train, y_val, training_args)\n",
    "\n",
    "# save the fine-tuned model\n",
    "clf.save_model(SENTIMENT_MODEL_PATH)\n",
    "\n",
    "# save the fine-tuning history\n",
    "pd.DataFrame(clf.trainer.state.log_history).to_csv(f\"{SENTIMENT_MODEL_PATH}/log_history.csv\", index=False)"
   ],
   "id": "48e0e34557dd94b0",
   "outputs": [
    {
     "name": "stderr",
     "output_type": "stream",
     "text": [
      "Some weights of BertForSequenceClassification were not initialized from the model checkpoint at ./models/seBERT/ and are newly initialized: ['classifier.bias', 'classifier.weight']\n",
      "You should probably TRAIN this model on a down-stream task to be able to use it for predictions and inference.\n"
     ]
    },
    {
     "data": {
      "text/plain": [
       "<IPython.core.display.HTML object>"
      ],
      "text/html": [
       "\n",
       "    <div>\n",
       "      \n",
       "      <progress value='2030' max='2030' style='width:300px; height:20px; vertical-align: middle;'></progress>\n",
       "      [2030/2030 51:29, Epoch 4/5]\n",
       "    </div>\n",
       "    <table border=\"1\" class=\"dataframe\">\n",
       "  <thead>\n",
       " <tr style=\"text-align: left;\">\n",
       "      <th>Epoch</th>\n",
       "      <th>Training Loss</th>\n",
       "      <th>Validation Loss</th>\n",
       "      <th>Accuracy</th>\n",
       "      <th>Precision Micro</th>\n",
       "      <th>Recall Micro</th>\n",
       "      <th>F1 Micro</th>\n",
       "      <th>Mcc</th>\n",
       "      <th>Precision Macro</th>\n",
       "      <th>Recall Macro</th>\n",
       "      <th>F1 Macro</th>\n",
       "    </tr>\n",
       "  </thead>\n",
       "  <tbody>\n",
       "    <tr>\n",
       "      <td>0</td>\n",
       "      <td>No log</td>\n",
       "      <td>0.379930</td>\n",
       "      <td>0.846296</td>\n",
       "      <td>0.846296</td>\n",
       "      <td>0.846296</td>\n",
       "      <td>0.846296</td>\n",
       "      <td>0.752994</td>\n",
       "      <td>0.834358</td>\n",
       "      <td>0.843052</td>\n",
       "      <td>0.838312</td>\n",
       "    </tr>\n",
       "    <tr>\n",
       "      <td>1</td>\n",
       "      <td>0.443500</td>\n",
       "      <td>0.370838</td>\n",
       "      <td>0.853059</td>\n",
       "      <td>0.853059</td>\n",
       "      <td>0.853059</td>\n",
       "      <td>0.853059</td>\n",
       "      <td>0.761256</td>\n",
       "      <td>0.845840</td>\n",
       "      <td>0.841852</td>\n",
       "      <td>0.843693</td>\n",
       "    </tr>\n",
       "    <tr>\n",
       "      <td>2</td>\n",
       "      <td>0.235700</td>\n",
       "      <td>0.555268</td>\n",
       "      <td>0.841070</td>\n",
       "      <td>0.841070</td>\n",
       "      <td>0.841070</td>\n",
       "      <td>0.841070</td>\n",
       "      <td>0.745529</td>\n",
       "      <td>0.835879</td>\n",
       "      <td>0.835571</td>\n",
       "      <td>0.832557</td>\n",
       "    </tr>\n",
       "    <tr>\n",
       "      <td>4</td>\n",
       "      <td>0.030700</td>\n",
       "      <td>0.840460</td>\n",
       "      <td>0.848755</td>\n",
       "      <td>0.848755</td>\n",
       "      <td>0.848755</td>\n",
       "      <td>0.848755</td>\n",
       "      <td>0.753887</td>\n",
       "      <td>0.841267</td>\n",
       "      <td>0.835577</td>\n",
       "      <td>0.838338</td>\n",
       "    </tr>\n",
       "  </tbody>\n",
       "</table><p>"
      ]
     },
     "metadata": {},
     "output_type": "display_data"
    },
    {
     "name": "stdout",
     "output_type": "stream",
     "text": [
      "TrainOutput(global_step=2030, training_loss=0.20025856257072222, metrics={'train_runtime': 3091.3121, 'train_samples_per_second': 21.043, 'train_steps_per_second': 0.657, 'total_flos': 1.5129024869885952e+16, 'train_loss': 0.20025856257072222, 'epoch': 4.990780577750461})\n"
     ]
    }
   ],
   "execution_count": 10
  },
  {
   "metadata": {},
   "cell_type": "code",
   "outputs": [],
   "execution_count": null,
   "source": "",
   "id": "24b42bf0b809d3be"
  },
  {
   "metadata": {
    "ExecuteTime": {
     "end_time": "2024-05-02T16:46:00.865068Z",
     "start_time": "2024-05-02T16:46:00.861742Z"
    }
   },
   "cell_type": "code",
   "source": "",
   "id": "5eab8743457ae301",
   "outputs": [],
   "execution_count": 21
  }
 ],
 "metadata": {
  "kernelspec": {
   "display_name": "Python 3 (ipykernel)",
   "language": "python",
   "name": "python3"
  },
  "language_info": {
   "codemirror_mode": {
    "name": "ipython",
    "version": 3
   },
   "file_extension": ".py",
   "mimetype": "text/x-python",
   "name": "python",
   "nbconvert_exporter": "python",
   "pygments_lexer": "ipython3",
   "version": "3.9.10"
  }
 },
 "nbformat": 4,
 "nbformat_minor": 5
}
