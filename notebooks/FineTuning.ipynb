{
 "cells": [
  {
   "cell_type": "markdown",
   "id": "4c1e9dd7-073a-4ce8-a010-17413a26a6e5",
   "metadata": {},
   "source": [
    "# Fine-tuning of the pre-trained seBERT model for the sentiment classification task\n",
    "This notebook can be used to fine-tune a pre-trained seBERT model for any sequence classification task.\n",
    "We use the example of sentiment mining which is a multi-label sequence classification task.\n",
    "\n",
    "We use a reduced batch size and sample size so that this can run on consumer hardware. We tested this on a Nvidia GTX 1080."
   ]
  },
  {
   "cell_type": "code",
   "id": "7d04e85d-82fc-4631-b980-2e62e1e31e6e",
   "metadata": {
    "ExecuteTime": {
     "end_time": "2024-05-02T17:03:04.131044Z",
     "start_time": "2024-05-02T17:03:01.764142Z"
    }
   },
   "source": [
    "import os\n",
    "\n",
    "import torch\n",
    "import pandas as pd\n",
    "import numpy as np\n",
    "\n",
    "from sklearn.metrics import recall_score, precision_score, f1_score, matthews_corrcoef, accuracy_score\n",
    "from sklearn.base import BaseEstimator, ClassifierMixin\n",
    "from sklearn.model_selection import train_test_split\n",
    "from transformers import BertTokenizer, BertForSequenceClassification\n",
    "from transformers import TrainingArguments, Trainer"
   ],
   "outputs": [],
   "execution_count": 1
  },
  {
   "cell_type": "code",
   "id": "67f9fcd9-000f-4d96-a0d3-82c9f09cdf92",
   "metadata": {
    "ExecuteTime": {
     "end_time": "2024-05-02T17:03:05.506518Z",
     "start_time": "2024-05-02T17:03:05.373801Z"
    }
   },
   "source": [
    "DATA_PATH = './data/'\n",
    "SEBERT_MODEL_PATH = './models/seBERT/'  # path of the pre-trained sebert model\n",
    "SENTIMENT_MODEL_PATH = './models/sentiment/'  # path to store the final fine-tuned sentiment classification model\n",
    "CHECKPOINTS_PATH = './models/checkpoints/'  # path to store checkpoints of the model for each epoch\n",
    "\n",
    "print(os.getcwd())\n",
    "%pwd\n",
    "%ls -l {SEBERT_MODEL_PATH}"
   ],
   "outputs": [
    {
     "name": "stdout",
     "output_type": "stream",
     "text": [
      "/home/mamo/Research/seBERT/notebooks\n",
      "total 1313764\r\n",
      "-rw------- 1 mamo mamo        314 Jun 16  2021 config.json\r\n",
      "-rw------- 1 mamo mamo 1345068138 Jun 16  2021 pytorch_model.bin\r\n",
      "-rwx------ 1 mamo mamo     214692 Jan 10  2021 \u001B[0m\u001B[01;32mvocab.txt\u001B[0m*\r\n"
     ]
    }
   ],
   "execution_count": 2
  },
  {
   "metadata": {},
   "cell_type": "markdown",
   "source": "# Datasets",
   "id": "2f26d2f4a3717fb0"
  },
  {
   "metadata": {
    "ExecuteTime": {
     "end_time": "2024-05-02T17:04:29.938876Z",
     "start_time": "2024-05-02T17:04:29.920352Z"
    }
   },
   "cell_type": "code",
   "source": [
    "gh = pd.read_csv(DATA_PATH + 'github_gold.csv', sep=';')\n",
    "gh.head()"
   ],
   "id": "63e6aeba81d75d3d",
   "outputs": [
    {
     "data": {
      "text/plain": [
       "        ID  Polarity                                               Text\n",
       "0  4063186   neutral  No. I still see the wrong twins.  * https://gi...\n",
       "1  3894703   neutral                                         Reverted.\"\n",
       "2  1971084   neutral  You can leave a queue while in queue ? (before...\n",
       "3  1827828  positive         Didn't look at SpellTargetRestrictions XD\"\n",
       "4   232603   neutral  Not sure about what kind of line lengths the p..."
      ],
      "text/html": [
       "<div>\n",
       "<style scoped>\n",
       "    .dataframe tbody tr th:only-of-type {\n",
       "        vertical-align: middle;\n",
       "    }\n",
       "\n",
       "    .dataframe tbody tr th {\n",
       "        vertical-align: top;\n",
       "    }\n",
       "\n",
       "    .dataframe thead th {\n",
       "        text-align: right;\n",
       "    }\n",
       "</style>\n",
       "<table border=\"1\" class=\"dataframe\">\n",
       "  <thead>\n",
       "    <tr style=\"text-align: right;\">\n",
       "      <th></th>\n",
       "      <th>ID</th>\n",
       "      <th>Polarity</th>\n",
       "      <th>Text</th>\n",
       "    </tr>\n",
       "  </thead>\n",
       "  <tbody>\n",
       "    <tr>\n",
       "      <th>0</th>\n",
       "      <td>4063186</td>\n",
       "      <td>neutral</td>\n",
       "      <td>No. I still see the wrong twins.  * https://gi...</td>\n",
       "    </tr>\n",
       "    <tr>\n",
       "      <th>1</th>\n",
       "      <td>3894703</td>\n",
       "      <td>neutral</td>\n",
       "      <td>Reverted.\"</td>\n",
       "    </tr>\n",
       "    <tr>\n",
       "      <th>2</th>\n",
       "      <td>1971084</td>\n",
       "      <td>neutral</td>\n",
       "      <td>You can leave a queue while in queue ? (before...</td>\n",
       "    </tr>\n",
       "    <tr>\n",
       "      <th>3</th>\n",
       "      <td>1827828</td>\n",
       "      <td>positive</td>\n",
       "      <td>Didn't look at SpellTargetRestrictions XD\"</td>\n",
       "    </tr>\n",
       "    <tr>\n",
       "      <th>4</th>\n",
       "      <td>232603</td>\n",
       "      <td>neutral</td>\n",
       "      <td>Not sure about what kind of line lengths the p...</td>\n",
       "    </tr>\n",
       "  </tbody>\n",
       "</table>\n",
       "</div>"
      ]
     },
     "execution_count": 14,
     "metadata": {},
     "output_type": "execute_result"
    }
   ],
   "execution_count": 14
  },
  {
   "metadata": {
    "ExecuteTime": {
     "end_time": "2024-05-02T17:04:30.982855Z",
     "start_time": "2024-05-02T17:04:30.976291Z"
    }
   },
   "cell_type": "code",
   "source": [
    "gh = gh[['Text', 'Polarity']]\n",
    "gh.rename(columns={\"Text\": \"text\", 'Polarity': 'label'}, inplace=True)\n",
    "\n",
    "gh.head()"
   ],
   "id": "681a492d7621dcab",
   "outputs": [
    {
     "data": {
      "text/plain": [
       "                                                text     label\n",
       "0  No. I still see the wrong twins.  * https://gi...   neutral\n",
       "1                                         Reverted.\"   neutral\n",
       "2  You can leave a queue while in queue ? (before...   neutral\n",
       "3         Didn't look at SpellTargetRestrictions XD\"  positive\n",
       "4  Not sure about what kind of line lengths the p...   neutral"
      ],
      "text/html": [
       "<div>\n",
       "<style scoped>\n",
       "    .dataframe tbody tr th:only-of-type {\n",
       "        vertical-align: middle;\n",
       "    }\n",
       "\n",
       "    .dataframe tbody tr th {\n",
       "        vertical-align: top;\n",
       "    }\n",
       "\n",
       "    .dataframe thead th {\n",
       "        text-align: right;\n",
       "    }\n",
       "</style>\n",
       "<table border=\"1\" class=\"dataframe\">\n",
       "  <thead>\n",
       "    <tr style=\"text-align: right;\">\n",
       "      <th></th>\n",
       "      <th>text</th>\n",
       "      <th>label</th>\n",
       "    </tr>\n",
       "  </thead>\n",
       "  <tbody>\n",
       "    <tr>\n",
       "      <th>0</th>\n",
       "      <td>No. I still see the wrong twins.  * https://gi...</td>\n",
       "      <td>neutral</td>\n",
       "    </tr>\n",
       "    <tr>\n",
       "      <th>1</th>\n",
       "      <td>Reverted.\"</td>\n",
       "      <td>neutral</td>\n",
       "    </tr>\n",
       "    <tr>\n",
       "      <th>2</th>\n",
       "      <td>You can leave a queue while in queue ? (before...</td>\n",
       "      <td>neutral</td>\n",
       "    </tr>\n",
       "    <tr>\n",
       "      <th>3</th>\n",
       "      <td>Didn't look at SpellTargetRestrictions XD\"</td>\n",
       "      <td>positive</td>\n",
       "    </tr>\n",
       "    <tr>\n",
       "      <th>4</th>\n",
       "      <td>Not sure about what kind of line lengths the p...</td>\n",
       "      <td>neutral</td>\n",
       "    </tr>\n",
       "  </tbody>\n",
       "</table>\n",
       "</div>"
      ]
     },
     "execution_count": 15,
     "metadata": {},
     "output_type": "execute_result"
    }
   ],
   "execution_count": 15
  },
  {
   "metadata": {
    "ExecuteTime": {
     "end_time": "2024-05-02T17:04:31.807116Z",
     "start_time": "2024-05-02T17:04:31.801355Z"
    }
   },
   "cell_type": "code",
   "source": [
    "jira = pd.read_csv(DATA_PATH + 'JIRA.csv')\n",
    "jira.head()"
   ],
   "id": "c008a03ca0552ab5",
   "outputs": [
    {
     "data": {
      "text/plain": [
       "                                            sentence  oracle\n",
       "0                       guys... this is so stupid...      -1\n",
       "1  I lost the whole morning cause HBase's RegionS...      -1\n",
       "2  {quote}You are messing down deep below hbase i...      -1\n",
       "3  And I think if we're going to do a sweep up of...      -1\n",
       "4  @idiot Yeah, I was on that idiot-path for a go...      -1"
      ],
      "text/html": [
       "<div>\n",
       "<style scoped>\n",
       "    .dataframe tbody tr th:only-of-type {\n",
       "        vertical-align: middle;\n",
       "    }\n",
       "\n",
       "    .dataframe tbody tr th {\n",
       "        vertical-align: top;\n",
       "    }\n",
       "\n",
       "    .dataframe thead th {\n",
       "        text-align: right;\n",
       "    }\n",
       "</style>\n",
       "<table border=\"1\" class=\"dataframe\">\n",
       "  <thead>\n",
       "    <tr style=\"text-align: right;\">\n",
       "      <th></th>\n",
       "      <th>sentence</th>\n",
       "      <th>oracle</th>\n",
       "    </tr>\n",
       "  </thead>\n",
       "  <tbody>\n",
       "    <tr>\n",
       "      <th>0</th>\n",
       "      <td>guys... this is so stupid...</td>\n",
       "      <td>-1</td>\n",
       "    </tr>\n",
       "    <tr>\n",
       "      <th>1</th>\n",
       "      <td>I lost the whole morning cause HBase's RegionS...</td>\n",
       "      <td>-1</td>\n",
       "    </tr>\n",
       "    <tr>\n",
       "      <th>2</th>\n",
       "      <td>{quote}You are messing down deep below hbase i...</td>\n",
       "      <td>-1</td>\n",
       "    </tr>\n",
       "    <tr>\n",
       "      <th>3</th>\n",
       "      <td>And I think if we're going to do a sweep up of...</td>\n",
       "      <td>-1</td>\n",
       "    </tr>\n",
       "    <tr>\n",
       "      <th>4</th>\n",
       "      <td>@idiot Yeah, I was on that idiot-path for a go...</td>\n",
       "      <td>-1</td>\n",
       "    </tr>\n",
       "  </tbody>\n",
       "</table>\n",
       "</div>"
      ]
     },
     "execution_count": 16,
     "metadata": {},
     "output_type": "execute_result"
    }
   ],
   "execution_count": 16
  },
  {
   "metadata": {
    "ExecuteTime": {
     "end_time": "2024-05-02T17:04:32.494898Z",
     "start_time": "2024-05-02T17:04:32.488760Z"
    }
   },
   "cell_type": "code",
   "source": [
    "jira = jira[['sentence', 'oracle']]\n",
    "jira.rename(columns={\"sentence\": \"text\", 'oracle': 'label'}, inplace=True)\n",
    "jira_labels = {\n",
    "    -1: 'negative', \n",
    "    0: 'neutral', \n",
    "    1: 'positive' \n",
    "}\n",
    "jira['label'] = jira['label'].replace(jira_labels)\n",
    "\n",
    "jira.head()"
   ],
   "id": "1042b3350ca93fee",
   "outputs": [
    {
     "data": {
      "text/plain": [
       "                                                text     label\n",
       "0                       guys... this is so stupid...  negative\n",
       "1  I lost the whole morning cause HBase's RegionS...  negative\n",
       "2  {quote}You are messing down deep below hbase i...  negative\n",
       "3  And I think if we're going to do a sweep up of...  negative\n",
       "4  @idiot Yeah, I was on that idiot-path for a go...  negative"
      ],
      "text/html": [
       "<div>\n",
       "<style scoped>\n",
       "    .dataframe tbody tr th:only-of-type {\n",
       "        vertical-align: middle;\n",
       "    }\n",
       "\n",
       "    .dataframe tbody tr th {\n",
       "        vertical-align: top;\n",
       "    }\n",
       "\n",
       "    .dataframe thead th {\n",
       "        text-align: right;\n",
       "    }\n",
       "</style>\n",
       "<table border=\"1\" class=\"dataframe\">\n",
       "  <thead>\n",
       "    <tr style=\"text-align: right;\">\n",
       "      <th></th>\n",
       "      <th>text</th>\n",
       "      <th>label</th>\n",
       "    </tr>\n",
       "  </thead>\n",
       "  <tbody>\n",
       "    <tr>\n",
       "      <th>0</th>\n",
       "      <td>guys... this is so stupid...</td>\n",
       "      <td>negative</td>\n",
       "    </tr>\n",
       "    <tr>\n",
       "      <th>1</th>\n",
       "      <td>I lost the whole morning cause HBase's RegionS...</td>\n",
       "      <td>negative</td>\n",
       "    </tr>\n",
       "    <tr>\n",
       "      <th>2</th>\n",
       "      <td>{quote}You are messing down deep below hbase i...</td>\n",
       "      <td>negative</td>\n",
       "    </tr>\n",
       "    <tr>\n",
       "      <th>3</th>\n",
       "      <td>And I think if we're going to do a sweep up of...</td>\n",
       "      <td>negative</td>\n",
       "    </tr>\n",
       "    <tr>\n",
       "      <th>4</th>\n",
       "      <td>@idiot Yeah, I was on that idiot-path for a go...</td>\n",
       "      <td>negative</td>\n",
       "    </tr>\n",
       "  </tbody>\n",
       "</table>\n",
       "</div>"
      ]
     },
     "execution_count": 17,
     "metadata": {},
     "output_type": "execute_result"
    }
   ],
   "execution_count": 17
  },
  {
   "metadata": {
    "ExecuteTime": {
     "end_time": "2024-05-02T17:04:33.126695Z",
     "start_time": "2024-05-02T17:04:33.118951Z"
    }
   },
   "cell_type": "code",
   "source": [
    "so = pd.read_csv(DATA_PATH + 'StackOverflow.csv')\n",
    "so.head()"
   ],
   "id": "8a77009e59ed2b38",
   "outputs": [
    {
     "data": {
      "text/plain": [
       "    id                                               text  oracle\n",
       "0    6                     But sadly this is not working.      -1\n",
       "1   78  So, everything builds fine, but when we try to...      -1\n",
       "2   90  That is what is causing your null pointer exce...      -1\n",
       "3  139  All attempts I've made were, in a shortcut, un...      -1\n",
       "4  162                                         Don't use.      -1"
      ],
      "text/html": [
       "<div>\n",
       "<style scoped>\n",
       "    .dataframe tbody tr th:only-of-type {\n",
       "        vertical-align: middle;\n",
       "    }\n",
       "\n",
       "    .dataframe tbody tr th {\n",
       "        vertical-align: top;\n",
       "    }\n",
       "\n",
       "    .dataframe thead th {\n",
       "        text-align: right;\n",
       "    }\n",
       "</style>\n",
       "<table border=\"1\" class=\"dataframe\">\n",
       "  <thead>\n",
       "    <tr style=\"text-align: right;\">\n",
       "      <th></th>\n",
       "      <th>id</th>\n",
       "      <th>text</th>\n",
       "      <th>oracle</th>\n",
       "    </tr>\n",
       "  </thead>\n",
       "  <tbody>\n",
       "    <tr>\n",
       "      <th>0</th>\n",
       "      <td>6</td>\n",
       "      <td>But sadly this is not working.</td>\n",
       "      <td>-1</td>\n",
       "    </tr>\n",
       "    <tr>\n",
       "      <th>1</th>\n",
       "      <td>78</td>\n",
       "      <td>So, everything builds fine, but when we try to...</td>\n",
       "      <td>-1</td>\n",
       "    </tr>\n",
       "    <tr>\n",
       "      <th>2</th>\n",
       "      <td>90</td>\n",
       "      <td>That is what is causing your null pointer exce...</td>\n",
       "      <td>-1</td>\n",
       "    </tr>\n",
       "    <tr>\n",
       "      <th>3</th>\n",
       "      <td>139</td>\n",
       "      <td>All attempts I've made were, in a shortcut, un...</td>\n",
       "      <td>-1</td>\n",
       "    </tr>\n",
       "    <tr>\n",
       "      <th>4</th>\n",
       "      <td>162</td>\n",
       "      <td>Don't use.</td>\n",
       "      <td>-1</td>\n",
       "    </tr>\n",
       "  </tbody>\n",
       "</table>\n",
       "</div>"
      ]
     },
     "execution_count": 18,
     "metadata": {},
     "output_type": "execute_result"
    }
   ],
   "execution_count": 18
  },
  {
   "metadata": {
    "ExecuteTime": {
     "end_time": "2024-05-02T17:04:33.756373Z",
     "start_time": "2024-05-02T17:04:33.749753Z"
    }
   },
   "cell_type": "code",
   "source": [
    "so = so[['text', 'oracle']]\n",
    "so.rename(columns={'oracle': 'label'}, inplace=True)\n",
    "so_labels = {\n",
    "    -1: 'negative', \n",
    "    0: 'neutral', \n",
    "    1: 'positive' \n",
    "}\n",
    "so['label'] = so['label'].replace(so_labels)\n",
    "\n",
    "so.head()"
   ],
   "id": "705e1b921353e5bc",
   "outputs": [
    {
     "data": {
      "text/plain": [
       "                                                text     label\n",
       "0                     But sadly this is not working.  negative\n",
       "1  So, everything builds fine, but when we try to...  negative\n",
       "2  That is what is causing your null pointer exce...  negative\n",
       "3  All attempts I've made were, in a shortcut, un...  negative\n",
       "4                                         Don't use.  negative"
      ],
      "text/html": [
       "<div>\n",
       "<style scoped>\n",
       "    .dataframe tbody tr th:only-of-type {\n",
       "        vertical-align: middle;\n",
       "    }\n",
       "\n",
       "    .dataframe tbody tr th {\n",
       "        vertical-align: top;\n",
       "    }\n",
       "\n",
       "    .dataframe thead th {\n",
       "        text-align: right;\n",
       "    }\n",
       "</style>\n",
       "<table border=\"1\" class=\"dataframe\">\n",
       "  <thead>\n",
       "    <tr style=\"text-align: right;\">\n",
       "      <th></th>\n",
       "      <th>text</th>\n",
       "      <th>label</th>\n",
       "    </tr>\n",
       "  </thead>\n",
       "  <tbody>\n",
       "    <tr>\n",
       "      <th>0</th>\n",
       "      <td>But sadly this is not working.</td>\n",
       "      <td>negative</td>\n",
       "    </tr>\n",
       "    <tr>\n",
       "      <th>1</th>\n",
       "      <td>So, everything builds fine, but when we try to...</td>\n",
       "      <td>negative</td>\n",
       "    </tr>\n",
       "    <tr>\n",
       "      <th>2</th>\n",
       "      <td>That is what is causing your null pointer exce...</td>\n",
       "      <td>negative</td>\n",
       "    </tr>\n",
       "    <tr>\n",
       "      <th>3</th>\n",
       "      <td>All attempts I've made were, in a shortcut, un...</td>\n",
       "      <td>negative</td>\n",
       "    </tr>\n",
       "    <tr>\n",
       "      <th>4</th>\n",
       "      <td>Don't use.</td>\n",
       "      <td>negative</td>\n",
       "    </tr>\n",
       "  </tbody>\n",
       "</table>\n",
       "</div>"
      ]
     },
     "execution_count": 19,
     "metadata": {},
     "output_type": "execute_result"
    }
   ],
   "execution_count": 19
  },
  {
   "metadata": {
    "ExecuteTime": {
     "end_time": "2024-05-02T17:04:35.667524Z",
     "start_time": "2024-05-02T17:04:35.653003Z"
    }
   },
   "cell_type": "code",
   "source": [
    "so2 = pd.read_csv(DATA_PATH + 'NewData.csv')\n",
    "so2.head()"
   ],
   "id": "d3174b1e69ea4cf3",
   "outputs": [
    {
     "data": {
      "text/plain": [
       "   id                                               text    oracle\n",
       "0 NaN  After some research, I found that this was pos...  Negative\n",
       "1 NaN  Below is the small code snippet written in swi...  Negative\n",
       "2 NaN  Fatal error: Index out of rangeIllegal instruc...  Negative\n",
       "3 NaN  Cannot import python module using env and shou...  Negative\n",
       "4 NaN  After long hours of research into the problem,...  Negative"
      ],
      "text/html": [
       "<div>\n",
       "<style scoped>\n",
       "    .dataframe tbody tr th:only-of-type {\n",
       "        vertical-align: middle;\n",
       "    }\n",
       "\n",
       "    .dataframe tbody tr th {\n",
       "        vertical-align: top;\n",
       "    }\n",
       "\n",
       "    .dataframe thead th {\n",
       "        text-align: right;\n",
       "    }\n",
       "</style>\n",
       "<table border=\"1\" class=\"dataframe\">\n",
       "  <thead>\n",
       "    <tr style=\"text-align: right;\">\n",
       "      <th></th>\n",
       "      <th>id</th>\n",
       "      <th>text</th>\n",
       "      <th>oracle</th>\n",
       "    </tr>\n",
       "  </thead>\n",
       "  <tbody>\n",
       "    <tr>\n",
       "      <th>0</th>\n",
       "      <td>NaN</td>\n",
       "      <td>After some research, I found that this was pos...</td>\n",
       "      <td>Negative</td>\n",
       "    </tr>\n",
       "    <tr>\n",
       "      <th>1</th>\n",
       "      <td>NaN</td>\n",
       "      <td>Below is the small code snippet written in swi...</td>\n",
       "      <td>Negative</td>\n",
       "    </tr>\n",
       "    <tr>\n",
       "      <th>2</th>\n",
       "      <td>NaN</td>\n",
       "      <td>Fatal error: Index out of rangeIllegal instruc...</td>\n",
       "      <td>Negative</td>\n",
       "    </tr>\n",
       "    <tr>\n",
       "      <th>3</th>\n",
       "      <td>NaN</td>\n",
       "      <td>Cannot import python module using env and shou...</td>\n",
       "      <td>Negative</td>\n",
       "    </tr>\n",
       "    <tr>\n",
       "      <th>4</th>\n",
       "      <td>NaN</td>\n",
       "      <td>After long hours of research into the problem,...</td>\n",
       "      <td>Negative</td>\n",
       "    </tr>\n",
       "  </tbody>\n",
       "</table>\n",
       "</div>"
      ]
     },
     "execution_count": 20,
     "metadata": {},
     "output_type": "execute_result"
    }
   ],
   "execution_count": 20
  },
  {
   "metadata": {
    "ExecuteTime": {
     "end_time": "2024-05-02T17:04:41.033695Z",
     "start_time": "2024-05-02T17:04:41.026781Z"
    }
   },
   "cell_type": "code",
   "source": [
    "so2 = so2[['text', 'oracle']]\n",
    "so2.rename(columns={'oracle': 'label'}, inplace=True)\n",
    "so2['label'] = so2['label'].apply(str.lower)\n",
    "\n",
    "so2.head()"
   ],
   "id": "8c857fe768839cd2",
   "outputs": [
    {
     "data": {
      "text/plain": [
       "                                                text     label\n",
       "0  After some research, I found that this was pos...  negative\n",
       "1  Below is the small code snippet written in swi...  negative\n",
       "2  Fatal error: Index out of rangeIllegal instruc...  negative\n",
       "3  Cannot import python module using env and shou...  negative\n",
       "4  After long hours of research into the problem,...  negative"
      ],
      "text/html": [
       "<div>\n",
       "<style scoped>\n",
       "    .dataframe tbody tr th:only-of-type {\n",
       "        vertical-align: middle;\n",
       "    }\n",
       "\n",
       "    .dataframe tbody tr th {\n",
       "        vertical-align: top;\n",
       "    }\n",
       "\n",
       "    .dataframe thead th {\n",
       "        text-align: right;\n",
       "    }\n",
       "</style>\n",
       "<table border=\"1\" class=\"dataframe\">\n",
       "  <thead>\n",
       "    <tr style=\"text-align: right;\">\n",
       "      <th></th>\n",
       "      <th>text</th>\n",
       "      <th>label</th>\n",
       "    </tr>\n",
       "  </thead>\n",
       "  <tbody>\n",
       "    <tr>\n",
       "      <th>0</th>\n",
       "      <td>After some research, I found that this was pos...</td>\n",
       "      <td>negative</td>\n",
       "    </tr>\n",
       "    <tr>\n",
       "      <th>1</th>\n",
       "      <td>Below is the small code snippet written in swi...</td>\n",
       "      <td>negative</td>\n",
       "    </tr>\n",
       "    <tr>\n",
       "      <th>2</th>\n",
       "      <td>Fatal error: Index out of rangeIllegal instruc...</td>\n",
       "      <td>negative</td>\n",
       "    </tr>\n",
       "    <tr>\n",
       "      <th>3</th>\n",
       "      <td>Cannot import python module using env and shou...</td>\n",
       "      <td>negative</td>\n",
       "    </tr>\n",
       "    <tr>\n",
       "      <th>4</th>\n",
       "      <td>After long hours of research into the problem,...</td>\n",
       "      <td>negative</td>\n",
       "    </tr>\n",
       "  </tbody>\n",
       "</table>\n",
       "</div>"
      ]
     },
     "execution_count": 21,
     "metadata": {},
     "output_type": "execute_result"
    }
   ],
   "execution_count": 21
  },
  {
   "metadata": {
    "ExecuteTime": {
     "end_time": "2024-05-02T17:04:42.160064Z",
     "start_time": "2024-05-02T17:04:42.095614Z"
    }
   },
   "cell_type": "code",
   "source": [
    "api = pd.read_excel(DATA_PATH + 'BenchmarkUddinSO-ConsoliatedAspectSentiment.xls')\n",
    "api.head()"
   ],
   "id": "617bbf2fa3641ffb",
   "outputs": [
    {
     "data": {
      "text/plain": [
       "     thread         tid                                               sent  \\\n",
       "0  15936368  15936368:1  \"JAXB Bindings File Sets @XmlElement type to S...   \n",
       "1  15936368  15936368:2  \"I'm trying to create an CODETERM1 that takes ...   \n",
       "2  15936368  15936368:3  \"The purpose is simlply to remove timezone dat...   \n",
       "3  15936368  15936368:4          \"It looks like this: CODESNIPPET_JAVA1 .\"   \n",
       "4  15936368  15936368:5  \"This works fine for the following code: CODES...   \n",
       "\n",
       "  ManualLabel                codes stakeholder signal intent action  \n",
       "0           o      [\"'Usability'\"]         NaN   used    NaN    NaN  \n",
       "1           o         [\"'Others'\"]         NaN   used    NaN    NaN  \n",
       "2           o         [\"'Others'\"]         NaN   used    NaN    NaN  \n",
       "3           o         [\"'Others'\"]         NaN   used    NaN    NaN  \n",
       "4           p  [\"'OnlySentiment'\"]         NaN   used    NaN    NaN  "
      ],
      "text/html": [
       "<div>\n",
       "<style scoped>\n",
       "    .dataframe tbody tr th:only-of-type {\n",
       "        vertical-align: middle;\n",
       "    }\n",
       "\n",
       "    .dataframe tbody tr th {\n",
       "        vertical-align: top;\n",
       "    }\n",
       "\n",
       "    .dataframe thead th {\n",
       "        text-align: right;\n",
       "    }\n",
       "</style>\n",
       "<table border=\"1\" class=\"dataframe\">\n",
       "  <thead>\n",
       "    <tr style=\"text-align: right;\">\n",
       "      <th></th>\n",
       "      <th>thread</th>\n",
       "      <th>tid</th>\n",
       "      <th>sent</th>\n",
       "      <th>ManualLabel</th>\n",
       "      <th>codes</th>\n",
       "      <th>stakeholder</th>\n",
       "      <th>signal</th>\n",
       "      <th>intent</th>\n",
       "      <th>action</th>\n",
       "    </tr>\n",
       "  </thead>\n",
       "  <tbody>\n",
       "    <tr>\n",
       "      <th>0</th>\n",
       "      <td>15936368</td>\n",
       "      <td>15936368:1</td>\n",
       "      <td>\"JAXB Bindings File Sets @XmlElement type to S...</td>\n",
       "      <td>o</td>\n",
       "      <td>[\"'Usability'\"]</td>\n",
       "      <td>NaN</td>\n",
       "      <td>used</td>\n",
       "      <td>NaN</td>\n",
       "      <td>NaN</td>\n",
       "    </tr>\n",
       "    <tr>\n",
       "      <th>1</th>\n",
       "      <td>15936368</td>\n",
       "      <td>15936368:2</td>\n",
       "      <td>\"I'm trying to create an CODETERM1 that takes ...</td>\n",
       "      <td>o</td>\n",
       "      <td>[\"'Others'\"]</td>\n",
       "      <td>NaN</td>\n",
       "      <td>used</td>\n",
       "      <td>NaN</td>\n",
       "      <td>NaN</td>\n",
       "    </tr>\n",
       "    <tr>\n",
       "      <th>2</th>\n",
       "      <td>15936368</td>\n",
       "      <td>15936368:3</td>\n",
       "      <td>\"The purpose is simlply to remove timezone dat...</td>\n",
       "      <td>o</td>\n",
       "      <td>[\"'Others'\"]</td>\n",
       "      <td>NaN</td>\n",
       "      <td>used</td>\n",
       "      <td>NaN</td>\n",
       "      <td>NaN</td>\n",
       "    </tr>\n",
       "    <tr>\n",
       "      <th>3</th>\n",
       "      <td>15936368</td>\n",
       "      <td>15936368:4</td>\n",
       "      <td>\"It looks like this: CODESNIPPET_JAVA1 .\"</td>\n",
       "      <td>o</td>\n",
       "      <td>[\"'Others'\"]</td>\n",
       "      <td>NaN</td>\n",
       "      <td>used</td>\n",
       "      <td>NaN</td>\n",
       "      <td>NaN</td>\n",
       "    </tr>\n",
       "    <tr>\n",
       "      <th>4</th>\n",
       "      <td>15936368</td>\n",
       "      <td>15936368:5</td>\n",
       "      <td>\"This works fine for the following code: CODES...</td>\n",
       "      <td>p</td>\n",
       "      <td>[\"'OnlySentiment'\"]</td>\n",
       "      <td>NaN</td>\n",
       "      <td>used</td>\n",
       "      <td>NaN</td>\n",
       "      <td>NaN</td>\n",
       "    </tr>\n",
       "  </tbody>\n",
       "</table>\n",
       "</div>"
      ]
     },
     "execution_count": 22,
     "metadata": {},
     "output_type": "execute_result"
    }
   ],
   "execution_count": 22
  },
  {
   "metadata": {
    "ExecuteTime": {
     "end_time": "2024-05-02T17:04:43.289154Z",
     "start_time": "2024-05-02T17:04:43.282166Z"
    }
   },
   "cell_type": "code",
   "source": [
    "api = api[['sent', 'ManualLabel']]\n",
    "api.rename(columns={\"sent\": \"text\", 'ManualLabel': 'label'}, inplace=True)\n",
    "api_labels = {\n",
    "    'n': 'negative', \n",
    "    'o': 'neutral', \n",
    "    'p': 'positive' \n",
    "}\n",
    "api['label'] = api['label'].replace(api_labels)\n",
    "\n",
    "api.head()"
   ],
   "id": "f485bb6fffa8ef6a",
   "outputs": [
    {
     "data": {
      "text/plain": [
       "                                                text     label\n",
       "0  \"JAXB Bindings File Sets @XmlElement type to S...   neutral\n",
       "1  \"I'm trying to create an CODETERM1 that takes ...   neutral\n",
       "2  \"The purpose is simlply to remove timezone dat...   neutral\n",
       "3          \"It looks like this: CODESNIPPET_JAVA1 .\"   neutral\n",
       "4  \"This works fine for the following code: CODES...  positive"
      ],
      "text/html": [
       "<div>\n",
       "<style scoped>\n",
       "    .dataframe tbody tr th:only-of-type {\n",
       "        vertical-align: middle;\n",
       "    }\n",
       "\n",
       "    .dataframe tbody tr th {\n",
       "        vertical-align: top;\n",
       "    }\n",
       "\n",
       "    .dataframe thead th {\n",
       "        text-align: right;\n",
       "    }\n",
       "</style>\n",
       "<table border=\"1\" class=\"dataframe\">\n",
       "  <thead>\n",
       "    <tr style=\"text-align: right;\">\n",
       "      <th></th>\n",
       "      <th>text</th>\n",
       "      <th>label</th>\n",
       "    </tr>\n",
       "  </thead>\n",
       "  <tbody>\n",
       "    <tr>\n",
       "      <th>0</th>\n",
       "      <td>\"JAXB Bindings File Sets @XmlElement type to S...</td>\n",
       "      <td>neutral</td>\n",
       "    </tr>\n",
       "    <tr>\n",
       "      <th>1</th>\n",
       "      <td>\"I'm trying to create an CODETERM1 that takes ...</td>\n",
       "      <td>neutral</td>\n",
       "    </tr>\n",
       "    <tr>\n",
       "      <th>2</th>\n",
       "      <td>\"The purpose is simlply to remove timezone dat...</td>\n",
       "      <td>neutral</td>\n",
       "    </tr>\n",
       "    <tr>\n",
       "      <th>3</th>\n",
       "      <td>\"It looks like this: CODESNIPPET_JAVA1 .\"</td>\n",
       "      <td>neutral</td>\n",
       "    </tr>\n",
       "    <tr>\n",
       "      <th>4</th>\n",
       "      <td>\"This works fine for the following code: CODES...</td>\n",
       "      <td>positive</td>\n",
       "    </tr>\n",
       "  </tbody>\n",
       "</table>\n",
       "</div>"
      ]
     },
     "execution_count": 23,
     "metadata": {},
     "output_type": "execute_result"
    }
   ],
   "execution_count": 23
  },
  {
   "metadata": {
    "ExecuteTime": {
     "end_time": "2024-05-02T17:04:45.119556Z",
     "start_time": "2024-05-02T17:04:45.074344Z"
    }
   },
   "cell_type": "code",
   "source": [
    "dataset = pd.concat([gh, jira, so, so2, api], ignore_index=True)\n",
    "\n",
    "dataset['text'] = dataset['text'].str.replace('\\n', ' ')\n",
    "dataset['label'] = dataset['label'].apply(str.lower)\n",
    "\n",
    "# duplicates are kept deliberately \n",
    "# dataset[dataset.duplicated(subset='text', keep=False)].sort_values(by='text')\n",
    "\n",
    "dataset.to_csv(f\"{DATA_PATH}processed/finetuning.csv\", index=False)\n",
    "\n",
    "dataset['label'].value_counts()"
   ],
   "id": "43e76e025fc0e7f7",
   "outputs": [
    {
     "data": {
      "text/plain": [
       "label\n",
       "neutral     9153\n",
       "negative    4859\n",
       "positive    4058\n",
       "Name: count, dtype: int64"
      ]
     },
     "execution_count": 24,
     "metadata": {},
     "output_type": "execute_result"
    }
   ],
   "execution_count": 24
  },
  {
   "cell_type": "code",
   "id": "a574cd74-54a6-4f4c-9e7b-1934c00ce1e9",
   "metadata": {
    "ExecuteTime": {
     "end_time": "2024-05-02T17:04:48.585194Z",
     "start_time": "2024-05-02T17:04:48.581956Z"
    }
   },
   "source": [
    "labelnum = {\n",
    "    'negative': 0,\n",
    "    'neutral': 1,\n",
    "    'positive': 2\n",
    "}\n",
    "\n",
    "dataset['label'] = dataset['label'].map(labelnum)"
   ],
   "outputs": [],
   "execution_count": 25
  },
  {
   "metadata": {
    "ExecuteTime": {
     "end_time": "2024-05-02T17:04:51.340628Z",
     "start_time": "2024-05-02T17:04:51.333744Z"
    }
   },
   "cell_type": "code",
   "source": [
    "# len(dataset.loc[dataset['text'].str.len().idxmax(), 'text'])\n",
    "dataset.head()"
   ],
   "id": "59adb8d4f2fd304d",
   "outputs": [
    {
     "data": {
      "text/plain": [
       "                                                text  label\n",
       "0  No. I still see the wrong twins.  * https://gi...      1\n",
       "1                                         Reverted.\"      1\n",
       "2  You can leave a queue while in queue ? (before...      1\n",
       "3         Didn't look at SpellTargetRestrictions XD\"      2\n",
       "4  Not sure about what kind of line lengths the p...      1"
      ],
      "text/html": [
       "<div>\n",
       "<style scoped>\n",
       "    .dataframe tbody tr th:only-of-type {\n",
       "        vertical-align: middle;\n",
       "    }\n",
       "\n",
       "    .dataframe tbody tr th {\n",
       "        vertical-align: top;\n",
       "    }\n",
       "\n",
       "    .dataframe thead th {\n",
       "        text-align: right;\n",
       "    }\n",
       "</style>\n",
       "<table border=\"1\" class=\"dataframe\">\n",
       "  <thead>\n",
       "    <tr style=\"text-align: right;\">\n",
       "      <th></th>\n",
       "      <th>text</th>\n",
       "      <th>label</th>\n",
       "    </tr>\n",
       "  </thead>\n",
       "  <tbody>\n",
       "    <tr>\n",
       "      <th>0</th>\n",
       "      <td>No. I still see the wrong twins.  * https://gi...</td>\n",
       "      <td>1</td>\n",
       "    </tr>\n",
       "    <tr>\n",
       "      <th>1</th>\n",
       "      <td>Reverted.\"</td>\n",
       "      <td>1</td>\n",
       "    </tr>\n",
       "    <tr>\n",
       "      <th>2</th>\n",
       "      <td>You can leave a queue while in queue ? (before...</td>\n",
       "      <td>1</td>\n",
       "    </tr>\n",
       "    <tr>\n",
       "      <th>3</th>\n",
       "      <td>Didn't look at SpellTargetRestrictions XD\"</td>\n",
       "      <td>2</td>\n",
       "    </tr>\n",
       "    <tr>\n",
       "      <th>4</th>\n",
       "      <td>Not sure about what kind of line lengths the p...</td>\n",
       "      <td>1</td>\n",
       "    </tr>\n",
       "  </tbody>\n",
       "</table>\n",
       "</div>"
      ]
     },
     "execution_count": 26,
     "metadata": {},
     "output_type": "execute_result"
    }
   ],
   "execution_count": 26
  },
  {
   "metadata": {
    "ExecuteTime": {
     "end_time": "2024-05-02T17:05:27.257362Z",
     "start_time": "2024-05-02T17:05:27.255752Z"
    }
   },
   "cell_type": "code",
   "source": "",
   "id": "d78771905fc1f8ca",
   "outputs": [],
   "execution_count": 26
  },
  {
   "metadata": {},
   "cell_type": "markdown",
   "source": "# Fine-tuning",
   "id": "b879ee625ce35afd"
  },
  {
   "metadata": {
    "ExecuteTime": {
     "end_time": "2024-05-02T17:05:31.283104Z",
     "start_time": "2024-05-02T17:05:31.277520Z"
    }
   },
   "cell_type": "code",
   "source": [
    "X = [str(i) for i in dataset['text'].tolist()]\n",
    "y = [int(i) for i in dataset['label'].tolist()]"
   ],
   "id": "253926ef3369bf3c",
   "outputs": [],
   "execution_count": 27
  },
  {
   "metadata": {
    "ExecuteTime": {
     "end_time": "2024-05-02T17:05:31.945250Z",
     "start_time": "2024-05-02T17:05:31.940793Z"
    }
   },
   "cell_type": "code",
   "source": [
    "class Dataset(torch.utils.data.Dataset):\n",
    "    \"\"\"Just a standard torch Dataset for BERT-style data.\"\"\"\n",
    "    def __init__(self, encodings, labels):\n",
    "        self.encodings = encodings\n",
    "        self.labels = labels\n",
    "\n",
    "    def __getitem__(self, idx):\n",
    "        item = {key: torch.tensor(val[idx]) for key, val in self.encodings.items()}\n",
    "        item['labels'] = torch.tensor(self.labels[idx], dtype=torch.long)\n",
    "        return item\n",
    "\n",
    "    def __len__(self):\n",
    "        return len(self.encodings['input_ids'])"
   ],
   "id": "d4a00d2a-f577-4089-be48-1f871cd36bce",
   "outputs": [],
   "execution_count": 28
  },
  {
   "metadata": {
    "ExecuteTime": {
     "end_time": "2024-05-02T17:05:32.643691Z",
     "start_time": "2024-05-02T17:05:32.640084Z"
    }
   },
   "cell_type": "code",
   "source": [
    "def compute_metrics_multi_label(p):\n",
    "    \"\"\"This metrics computation is used by the huggingface trainer.\"\"\"\n",
    "    pred, labels = p\n",
    "    pred = np.argmax(pred, axis=1)\n",
    "\n",
    "    accuracy = accuracy_score(y_true=labels, y_pred=pred)\n",
    "    recall = recall_score(y_true=labels, y_pred=pred, average='micro')\n",
    "    precision = precision_score(y_true=labels, y_pred=pred, average='micro')\n",
    "    f1 = f1_score(y_true=labels, y_pred=pred, average='micro')\n",
    "    mcc = matthews_corrcoef(y_true=labels, y_pred=pred)\n",
    "\n",
    "    recall_ma = recall_score(y_true=labels, y_pred=pred, average='macro')\n",
    "    precision_ma = precision_score(y_true=labels, y_pred=pred, average='macro')\n",
    "    f1_ma = f1_score(y_true=labels, y_pred=pred, average='macro')\n",
    "\n",
    "    return {'accuracy': accuracy, 'precision_micro': precision, 'recall_micro': recall, 'f1_micro': f1, 'mcc': mcc, 'precision_macro': precision_ma, 'recall_macro': recall_ma, 'f1_macro': f1_ma}"
   ],
   "id": "22027872-0204-4dcb-9a44-ec5d1a9d639a",
   "outputs": [],
   "execution_count": 29
  },
  {
   "metadata": {
    "ExecuteTime": {
     "end_time": "2024-05-02T17:05:33.238903Z",
     "start_time": "2024-05-02T17:05:33.230428Z"
    }
   },
   "cell_type": "code",
   "source": [
    "class seBERT(BaseEstimator, ClassifierMixin):\n",
    "    \"\"\"\n",
    "    We are effectively wrapping the high-level Trainer and TrainingArguments classes from the Huggingface library into a\n",
    "    scikit-learn classifier.\n",
    "    This allows us to use all of scikit-learn in a more natural way, e.g., pipelines or grid search.\n",
    "    \"\"\"\n",
    "    def __init__(self, checkpoints_dir='../checkpoints/', batch_size=8):\n",
    "        self.trainer = None\n",
    "        self.checkpoints_dir = checkpoints_dir\n",
    "        self.model = BertForSequenceClassification.from_pretrained(SEBERT_MODEL_PATH, config=SEBERT_MODEL_PATH + 'config.json', num_labels=3)\n",
    "        self.tokenizer = BertTokenizer.from_pretrained(SEBERT_MODEL_PATH, do_lower_case=True)\n",
    "        self.batch_size = batch_size\n",
    "        self.max_length = 128\n",
    "            \n",
    "    def fit(self, X_train, X_val, y_train, y_val, training_args):\n",
    "        \"\"\"fit implements simple fine-tuning from the pre-trained model.\n",
    "        \"\"\"\n",
    "        \n",
    "        X_train_tokens = self.tokenizer(X_train, padding=True, truncation=True, max_length=self.max_length)\n",
    "        X_val_tokens = self.tokenizer(X_val, padding=True, truncation=True, max_length=self.max_length)\n",
    "\n",
    "        train_dataset = Dataset(X_train_tokens, y_train)\n",
    "        eval_dataset = Dataset(X_val_tokens, y_val)\n",
    "\n",
    "        if not os.path.exists(self.checkpoints_dir):\n",
    "            os.makedirs(self.checkpoints_dir)\n",
    "            \n",
    "        self.trainer = Trainer(\n",
    "            model           = self.model,\n",
    "            args            = training_args,\n",
    "            train_dataset   = train_dataset,\n",
    "            eval_dataset    = eval_dataset,\n",
    "            compute_metrics = compute_metrics_multi_label\n",
    "        )\n",
    "        print(self.trainer.train())\n",
    "        return self\n",
    "\n",
    "    def predict_proba(self, X, y=None):\n",
    "        \"\"\"This is kept simple intentionally, for larger Datasets this would be too ineficient,\n",
    "        because we would effectively force a batch size of 1.\"\"\"\n",
    "        y_probs = []\n",
    "        self.trainer.model.eval()\n",
    "        with torch.no_grad():\n",
    "            for _, X_row in enumerate(X):\n",
    "                inputs = self.tokenizer(X_row, padding=True, truncation=True, max_length=self.max_length, return_tensors=\"pt\").to('cuda')\n",
    "                outputs = self.trainer.model(**inputs)\n",
    "                probs = outputs[0].softmax(1).cpu().detach().numpy()\n",
    "                y_probs.append(probs)\n",
    "        return y_probs\n",
    "\n",
    "    def predict(self, X, y=None):\n",
    "        \"\"\"Predict is evaluation.\"\"\"\n",
    "        y_probs = self.predict_proba(X, y)\n",
    "        y_pred = []\n",
    "        for y_prob in y_probs:\n",
    "            y_pred.append(y_prob.argmax())\n",
    "        return y_pred\n",
    "\n",
    "    def save_model(self, path):\n",
    "        if not os.path.exists(path):\n",
    "            os.makedirs(path)\n",
    "        self.trainer.model.save_pretrained(path)"
   ],
   "id": "c75cf0c8-16c9-4f0e-b955-281d28d98eae",
   "outputs": [],
   "execution_count": 30
  },
  {
   "metadata": {
    "ExecuteTime": {
     "end_time": "2024-05-02T17:05:37.948485Z",
     "start_time": "2024-05-02T17:05:37.854790Z"
    }
   },
   "cell_type": "code",
   "source": [
    "# We split the training data into 80/20 training and validation sets, train for 10 epochs and chose the model\n",
    "# that performs best on the validation data in the end.\n",
    "training_args = TrainingArguments(\n",
    "    output_dir                  = CHECKPOINTS_PATH,\n",
    "    num_train_epochs            = 10,\n",
    "    per_device_train_batch_size = 8,\n",
    "    per_device_eval_batch_size  = 8,\n",
    "    gradient_accumulation_steps = 4,\n",
    "    eval_accumulation_steps     = 10,\n",
    "    evaluation_strategy         = 'epoch',\n",
    "    save_strategy               = 'epoch',\n",
    "    load_best_model_at_end      = True\n",
    ")\n",
    "\n",
    "X_train, X_val, y_train, y_val = train_test_split(X, y, test_size=0.2, shuffle=True)"
   ],
   "id": "6c2148c346ec1bf8",
   "outputs": [],
   "execution_count": 31
  },
  {
   "metadata": {
    "ExecuteTime": {
     "end_time": "2024-05-02T17:13:47.304537Z",
     "start_time": "2024-05-02T17:05:39.901575Z"
    }
   },
   "cell_type": "code",
   "source": [
    "clf = seBERT()\n",
    "\n",
    "# fit all the data\n",
    "clf.fit(X_train, X_val, y_train, y_val, training_args)\n",
    "\n",
    "# save the fine-tuned model\n",
    "clf.save_model(SENTIMENT_MODEL_PATH)"
   ],
   "id": "48e0e34557dd94b0",
   "outputs": [
    {
     "name": "stderr",
     "output_type": "stream",
     "text": [
      "Some weights of BertForSequenceClassification were not initialized from the model checkpoint at ./models/seBERT/ and are newly initialized: ['classifier.bias', 'classifier.weight']\n",
      "You should probably TRAIN this model on a down-stream task to be able to use it for predictions and inference.\n"
     ]
    },
    {
     "data": {
      "text/plain": [
       "<IPython.core.display.HTML object>"
      ],
      "text/html": [
       "\n",
       "    <div>\n",
       "      \n",
       "      <progress value='342' max='4510' style='width:300px; height:20px; vertical-align: middle;'></progress>\n",
       "      [ 342/4510 07:58 < 1:37:42, 0.71 it/s, Epoch 0.75/10]\n",
       "    </div>\n",
       "    <table border=\"1\" class=\"dataframe\">\n",
       "  <thead>\n",
       " <tr style=\"text-align: left;\">\n",
       "      <th>Epoch</th>\n",
       "      <th>Training Loss</th>\n",
       "      <th>Validation Loss</th>\n",
       "    </tr>\n",
       "  </thead>\n",
       "  <tbody>\n",
       "  </tbody>\n",
       "</table><p>"
      ]
     },
     "metadata": {},
     "output_type": "display_data"
    },
    {
     "ename": "KeyboardInterrupt",
     "evalue": "",
     "output_type": "error",
     "traceback": [
      "\u001B[0;31m---------------------------------------------------------------------------\u001B[0m",
      "\u001B[0;31mKeyboardInterrupt\u001B[0m                         Traceback (most recent call last)",
      "Cell \u001B[0;32mIn[32], line 4\u001B[0m\n\u001B[1;32m      1\u001B[0m clf \u001B[38;5;241m=\u001B[39m seBERT()\n\u001B[1;32m      3\u001B[0m \u001B[38;5;66;03m# fit all the data\u001B[39;00m\n\u001B[0;32m----> 4\u001B[0m \u001B[43mclf\u001B[49m\u001B[38;5;241;43m.\u001B[39;49m\u001B[43mfit\u001B[49m\u001B[43m(\u001B[49m\u001B[43mX_train\u001B[49m\u001B[43m,\u001B[49m\u001B[43m \u001B[49m\u001B[43mX_val\u001B[49m\u001B[43m,\u001B[49m\u001B[43m \u001B[49m\u001B[43my_train\u001B[49m\u001B[43m,\u001B[49m\u001B[43m \u001B[49m\u001B[43my_val\u001B[49m\u001B[43m,\u001B[49m\u001B[43m \u001B[49m\u001B[43mtraining_args\u001B[49m\u001B[43m)\u001B[49m\n\u001B[1;32m      6\u001B[0m \u001B[38;5;66;03m# save the fine-tuned model\u001B[39;00m\n\u001B[1;32m      7\u001B[0m clf\u001B[38;5;241m.\u001B[39msave_model(SENTIMENT_MODEL_PATH)\n",
      "Cell \u001B[0;32mIn[30], line 35\u001B[0m, in \u001B[0;36mseBERT.fit\u001B[0;34m(self, X_train, X_val, y_train, y_val, training_args)\u001B[0m\n\u001B[1;32m     26\u001B[0m     os\u001B[38;5;241m.\u001B[39mmakedirs(\u001B[38;5;28mself\u001B[39m\u001B[38;5;241m.\u001B[39mcheckpoints_dir)\n\u001B[1;32m     28\u001B[0m \u001B[38;5;28mself\u001B[39m\u001B[38;5;241m.\u001B[39mtrainer \u001B[38;5;241m=\u001B[39m Trainer(\n\u001B[1;32m     29\u001B[0m     model           \u001B[38;5;241m=\u001B[39m \u001B[38;5;28mself\u001B[39m\u001B[38;5;241m.\u001B[39mmodel,\n\u001B[1;32m     30\u001B[0m     args            \u001B[38;5;241m=\u001B[39m training_args,\n\u001B[0;32m   (...)\u001B[0m\n\u001B[1;32m     33\u001B[0m     compute_metrics \u001B[38;5;241m=\u001B[39m compute_metrics_multi_label\n\u001B[1;32m     34\u001B[0m )\n\u001B[0;32m---> 35\u001B[0m \u001B[38;5;28mprint\u001B[39m(\u001B[38;5;28;43mself\u001B[39;49m\u001B[38;5;241;43m.\u001B[39;49m\u001B[43mtrainer\u001B[49m\u001B[38;5;241;43m.\u001B[39;49m\u001B[43mtrain\u001B[49m\u001B[43m(\u001B[49m\u001B[43m)\u001B[49m)\n\u001B[1;32m     36\u001B[0m \u001B[38;5;28;01mreturn\u001B[39;00m \u001B[38;5;28mself\u001B[39m\n",
      "File \u001B[0;32m~/Research/seBERT/.venv/lib/python3.10/site-packages/transformers/trainer.py:1859\u001B[0m, in \u001B[0;36mTrainer.train\u001B[0;34m(self, resume_from_checkpoint, trial, ignore_keys_for_eval, **kwargs)\u001B[0m\n\u001B[1;32m   1857\u001B[0m         hf_hub_utils\u001B[38;5;241m.\u001B[39menable_progress_bars()\n\u001B[1;32m   1858\u001B[0m \u001B[38;5;28;01melse\u001B[39;00m:\n\u001B[0;32m-> 1859\u001B[0m     \u001B[38;5;28;01mreturn\u001B[39;00m \u001B[43minner_training_loop\u001B[49m\u001B[43m(\u001B[49m\n\u001B[1;32m   1860\u001B[0m \u001B[43m        \u001B[49m\u001B[43margs\u001B[49m\u001B[38;5;241;43m=\u001B[39;49m\u001B[43margs\u001B[49m\u001B[43m,\u001B[49m\n\u001B[1;32m   1861\u001B[0m \u001B[43m        \u001B[49m\u001B[43mresume_from_checkpoint\u001B[49m\u001B[38;5;241;43m=\u001B[39;49m\u001B[43mresume_from_checkpoint\u001B[49m\u001B[43m,\u001B[49m\n\u001B[1;32m   1862\u001B[0m \u001B[43m        \u001B[49m\u001B[43mtrial\u001B[49m\u001B[38;5;241;43m=\u001B[39;49m\u001B[43mtrial\u001B[49m\u001B[43m,\u001B[49m\n\u001B[1;32m   1863\u001B[0m \u001B[43m        \u001B[49m\u001B[43mignore_keys_for_eval\u001B[49m\u001B[38;5;241;43m=\u001B[39;49m\u001B[43mignore_keys_for_eval\u001B[49m\u001B[43m,\u001B[49m\n\u001B[1;32m   1864\u001B[0m \u001B[43m    \u001B[49m\u001B[43m)\u001B[49m\n",
      "File \u001B[0;32m~/Research/seBERT/.venv/lib/python3.10/site-packages/transformers/trainer.py:2165\u001B[0m, in \u001B[0;36mTrainer._inner_training_loop\u001B[0;34m(self, batch_size, args, resume_from_checkpoint, trial, ignore_keys_for_eval)\u001B[0m\n\u001B[1;32m   2162\u001B[0m     rng_to_sync \u001B[38;5;241m=\u001B[39m \u001B[38;5;28;01mTrue\u001B[39;00m\n\u001B[1;32m   2164\u001B[0m step \u001B[38;5;241m=\u001B[39m \u001B[38;5;241m-\u001B[39m\u001B[38;5;241m1\u001B[39m\n\u001B[0;32m-> 2165\u001B[0m \u001B[38;5;28;01mfor\u001B[39;00m step, inputs \u001B[38;5;129;01min\u001B[39;00m \u001B[38;5;28menumerate\u001B[39m(epoch_iterator):\n\u001B[1;32m   2166\u001B[0m     total_batched_samples \u001B[38;5;241m+\u001B[39m\u001B[38;5;241m=\u001B[39m \u001B[38;5;241m1\u001B[39m\n\u001B[1;32m   2168\u001B[0m     \u001B[38;5;28;01mif\u001B[39;00m \u001B[38;5;28mself\u001B[39m\u001B[38;5;241m.\u001B[39margs\u001B[38;5;241m.\u001B[39minclude_num_input_tokens_seen:\n",
      "File \u001B[0;32m~/Research/seBERT/.venv/lib/python3.10/site-packages/accelerate/data_loader.py:461\u001B[0m, in \u001B[0;36mDataLoaderShard.__iter__\u001B[0;34m(self)\u001B[0m\n\u001B[1;32m    458\u001B[0m \u001B[38;5;28;01mtry\u001B[39;00m:\n\u001B[1;32m    459\u001B[0m     \u001B[38;5;66;03m# But we still move it to the device so it is done before `StopIteration` is reached\u001B[39;00m\n\u001B[1;32m    460\u001B[0m     \u001B[38;5;28;01mif\u001B[39;00m \u001B[38;5;28mself\u001B[39m\u001B[38;5;241m.\u001B[39mdevice \u001B[38;5;129;01mis\u001B[39;00m \u001B[38;5;129;01mnot\u001B[39;00m \u001B[38;5;28;01mNone\u001B[39;00m:\n\u001B[0;32m--> 461\u001B[0m         current_batch \u001B[38;5;241m=\u001B[39m \u001B[43msend_to_device\u001B[49m\u001B[43m(\u001B[49m\u001B[43mcurrent_batch\u001B[49m\u001B[43m,\u001B[49m\u001B[43m \u001B[49m\u001B[38;5;28;43mself\u001B[39;49m\u001B[38;5;241;43m.\u001B[39;49m\u001B[43mdevice\u001B[49m\u001B[43m)\u001B[49m\n\u001B[1;32m    462\u001B[0m     next_batch \u001B[38;5;241m=\u001B[39m \u001B[38;5;28mnext\u001B[39m(dataloader_iter)\n\u001B[1;32m    463\u001B[0m     \u001B[38;5;28;01mif\u001B[39;00m batch_index \u001B[38;5;241m>\u001B[39m\u001B[38;5;241m=\u001B[39m \u001B[38;5;28mself\u001B[39m\u001B[38;5;241m.\u001B[39mskip_batches:\n",
      "File \u001B[0;32m~/Research/seBERT/.venv/lib/python3.10/site-packages/accelerate/utils/operations.py:189\u001B[0m, in \u001B[0;36msend_to_device\u001B[0;34m(tensor, device, non_blocking, skip_keys)\u001B[0m\n\u001B[1;32m    186\u001B[0m     \u001B[38;5;28;01melif\u001B[39;00m skip_keys \u001B[38;5;129;01mis\u001B[39;00m \u001B[38;5;28;01mNone\u001B[39;00m:\n\u001B[1;32m    187\u001B[0m         skip_keys \u001B[38;5;241m=\u001B[39m []\n\u001B[1;32m    188\u001B[0m     \u001B[38;5;28;01mreturn\u001B[39;00m \u001B[38;5;28mtype\u001B[39m(tensor)(\n\u001B[0;32m--> 189\u001B[0m         {\n\u001B[1;32m    190\u001B[0m             k: t \u001B[38;5;28;01mif\u001B[39;00m k \u001B[38;5;129;01min\u001B[39;00m skip_keys \u001B[38;5;28;01melse\u001B[39;00m send_to_device(t, device, non_blocking\u001B[38;5;241m=\u001B[39mnon_blocking, skip_keys\u001B[38;5;241m=\u001B[39mskip_keys)\n\u001B[1;32m    191\u001B[0m             \u001B[38;5;28;01mfor\u001B[39;00m k, t \u001B[38;5;129;01min\u001B[39;00m tensor\u001B[38;5;241m.\u001B[39mitems()\n\u001B[1;32m    192\u001B[0m         }\n\u001B[1;32m    193\u001B[0m     )\n\u001B[1;32m    194\u001B[0m \u001B[38;5;28;01melse\u001B[39;00m:\n\u001B[1;32m    195\u001B[0m     \u001B[38;5;28;01mreturn\u001B[39;00m tensor\n",
      "File \u001B[0;32m~/Research/seBERT/.venv/lib/python3.10/site-packages/accelerate/utils/operations.py:190\u001B[0m, in \u001B[0;36m<dictcomp>\u001B[0;34m(.0)\u001B[0m\n\u001B[1;32m    186\u001B[0m     \u001B[38;5;28;01melif\u001B[39;00m skip_keys \u001B[38;5;129;01mis\u001B[39;00m \u001B[38;5;28;01mNone\u001B[39;00m:\n\u001B[1;32m    187\u001B[0m         skip_keys \u001B[38;5;241m=\u001B[39m []\n\u001B[1;32m    188\u001B[0m     \u001B[38;5;28;01mreturn\u001B[39;00m \u001B[38;5;28mtype\u001B[39m(tensor)(\n\u001B[1;32m    189\u001B[0m         {\n\u001B[0;32m--> 190\u001B[0m             k: t \u001B[38;5;28;01mif\u001B[39;00m k \u001B[38;5;129;01min\u001B[39;00m skip_keys \u001B[38;5;28;01melse\u001B[39;00m \u001B[43msend_to_device\u001B[49m\u001B[43m(\u001B[49m\u001B[43mt\u001B[49m\u001B[43m,\u001B[49m\u001B[43m \u001B[49m\u001B[43mdevice\u001B[49m\u001B[43m,\u001B[49m\u001B[43m \u001B[49m\u001B[43mnon_blocking\u001B[49m\u001B[38;5;241;43m=\u001B[39;49m\u001B[43mnon_blocking\u001B[49m\u001B[43m,\u001B[49m\u001B[43m \u001B[49m\u001B[43mskip_keys\u001B[49m\u001B[38;5;241;43m=\u001B[39;49m\u001B[43mskip_keys\u001B[49m\u001B[43m)\u001B[49m\n\u001B[1;32m    191\u001B[0m             \u001B[38;5;28;01mfor\u001B[39;00m k, t \u001B[38;5;129;01min\u001B[39;00m tensor\u001B[38;5;241m.\u001B[39mitems()\n\u001B[1;32m    192\u001B[0m         }\n\u001B[1;32m    193\u001B[0m     )\n\u001B[1;32m    194\u001B[0m \u001B[38;5;28;01melse\u001B[39;00m:\n\u001B[1;32m    195\u001B[0m     \u001B[38;5;28;01mreturn\u001B[39;00m tensor\n",
      "File \u001B[0;32m~/Research/seBERT/.venv/lib/python3.10/site-packages/accelerate/utils/operations.py:158\u001B[0m, in \u001B[0;36msend_to_device\u001B[0;34m(tensor, device, non_blocking, skip_keys)\u001B[0m\n\u001B[1;32m    156\u001B[0m     tensor \u001B[38;5;241m=\u001B[39m tensor\u001B[38;5;241m.\u001B[39mcpu()\n\u001B[1;32m    157\u001B[0m \u001B[38;5;28;01mtry\u001B[39;00m:\n\u001B[0;32m--> 158\u001B[0m     \u001B[38;5;28;01mreturn\u001B[39;00m \u001B[43mtensor\u001B[49m\u001B[38;5;241;43m.\u001B[39;49m\u001B[43mto\u001B[49m\u001B[43m(\u001B[49m\u001B[43mdevice\u001B[49m\u001B[43m,\u001B[49m\u001B[43m \u001B[49m\u001B[43mnon_blocking\u001B[49m\u001B[38;5;241;43m=\u001B[39;49m\u001B[43mnon_blocking\u001B[49m\u001B[43m)\u001B[49m\n\u001B[1;32m    159\u001B[0m \u001B[38;5;28;01mexcept\u001B[39;00m \u001B[38;5;167;01mTypeError\u001B[39;00m:  \u001B[38;5;66;03m# .to() doesn't accept non_blocking as kwarg\u001B[39;00m\n\u001B[1;32m    160\u001B[0m     \u001B[38;5;28;01mreturn\u001B[39;00m tensor\u001B[38;5;241m.\u001B[39mto(device)\n",
      "\u001B[0;31mKeyboardInterrupt\u001B[0m: "
     ]
    }
   ],
   "execution_count": 32
  },
  {
   "metadata": {},
   "cell_type": "code",
   "outputs": [],
   "execution_count": null,
   "source": "",
   "id": "24b42bf0b809d3be"
  },
  {
   "metadata": {
    "ExecuteTime": {
     "end_time": "2024-05-02T16:46:00.865068Z",
     "start_time": "2024-05-02T16:46:00.861742Z"
    }
   },
   "cell_type": "code",
   "source": "",
   "id": "5eab8743457ae301",
   "outputs": [],
   "execution_count": 21
  }
 ],
 "metadata": {
  "kernelspec": {
   "display_name": "Python 3 (ipykernel)",
   "language": "python",
   "name": "python3"
  },
  "language_info": {
   "codemirror_mode": {
    "name": "ipython",
    "version": 3
   },
   "file_extension": ".py",
   "mimetype": "text/x-python",
   "name": "python",
   "nbconvert_exporter": "python",
   "pygments_lexer": "ipython3",
   "version": "3.9.10"
  }
 },
 "nbformat": 4,
 "nbformat_minor": 5
}
