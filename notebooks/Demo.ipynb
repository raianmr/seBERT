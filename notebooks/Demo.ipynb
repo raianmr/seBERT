{
 "cells": [
  {
   "metadata": {
    "ExecuteTime": {
     "end_time": "2024-06-06T08:13:22.902004Z",
     "start_time": "2024-06-06T08:13:20.708288Z"
    }
   },
   "cell_type": "code",
   "source": [
    "from utils import preprocess_text, labelnum\n",
    "\n",
    "import os\n",
    "from glob import glob\n",
    "from pathlib import Path\n",
    "from datetime import timedelta, datetime, timezone\n",
    "\n",
    "import torch\n",
    "from transformers import BertTokenizer, BertForSequenceClassification, pipeline\n",
    "\n",
    "import pandas as pd\n",
    "import seaborn as sns\n",
    "import matplotlib.pyplot as plt\n",
    "import pyarrow.parquet as pq"
   ],
   "id": "e1714baa0e27b7cb",
   "outputs": [],
   "execution_count": 1
  },
  {
   "metadata": {
    "ExecuteTime": {
     "end_time": "2024-06-03T16:30:37.238644Z",
     "start_time": "2024-06-03T16:30:37.233748Z"
    }
   },
   "cell_type": "code",
   "source": "sns.set_theme(style=\"whitegrid\", palette=\"pastel\")",
   "id": "e28dacd741af3a14",
   "outputs": [],
   "execution_count": 6
  },
  {
   "metadata": {
    "ExecuteTime": {
     "end_time": "2024-06-03T16:29:01.798765Z",
     "start_time": "2024-06-03T16:29:01.796657Z"
    }
   },
   "cell_type": "code",
   "source": "DATA_PATH = Path('./data/processed/20-MAD/nlp')",
   "id": "37e90477187bb8cf",
   "outputs": [],
   "execution_count": 3
  },
  {
   "metadata": {
    "ExecuteTime": {
     "end_time": "2024-06-03T16:29:29.833581Z",
     "start_time": "2024-06-03T16:29:10.425031Z"
    }
   },
   "cell_type": "code",
   "source": [
    "commits = pd.read_csv(DATA_PATH / 'commits.csv')\n",
    "commits.head()"
   ],
   "id": "27f3637b004920cd",
   "outputs": [
    {
     "data": {
      "text/plain": [
       "   source          repo                                      hash  \\\n",
       "0  apache  accumulo-bsp  02eebbd572b5a3308cb17910c1ad5a368fe3bb5c   \n",
       "1  apache  accumulo-bsp  28339e68f0c666a99f2194b0b725951f7c5a75b4   \n",
       "2  apache  accumulo-bsp  3581adc7c5de0dc223eea3604fd6c4327801dd39   \n",
       "3  apache  accumulo-bsp  817f8732b84fe4bda588492c5bb54f9ea958c74b   \n",
       "4  apache  accumulo-bsp  a4df0d433396a227e8a119c141283e6f0b32c575   \n",
       "\n",
       "                                    parents  \\\n",
       "0  3581adc7c5de0dc223eea3604fd6c4327801dd39   \n",
       "1  02eebbd572b5a3308cb17910c1ad5a368fe3bb5c   \n",
       "2  a4df0d433396a227e8a119c141283e6f0b32c575   \n",
       "3  e69d32cde486aa5d7a0766b032880e9e13d991b5   \n",
       "4  fe3ff84ecb2a6fc69f0e05ced668013636c8c591   \n",
       "\n",
       "                                     author                author_time  \\\n",
       "0  58d05bc1bf093c031c0caead30d37b44c48bdaf1  2013-01-15 23:58:38+00:00   \n",
       "1  58d05bc1bf093c031c0caead30d37b44c48bdaf1  2013-01-22 18:08:30+00:00   \n",
       "2  83273207ef443072fc57aa858fff07fd5697a4a8  2012-05-17 17:24:30+00:00   \n",
       "3  83273207ef443072fc57aa858fff07fd5697a4a8  2012-05-16 14:51:58+00:00   \n",
       "4  83273207ef443072fc57aa858fff07fd5697a4a8  2012-05-16 17:42:07+00:00   \n",
       "\n",
       "   author_tz                                 committer  \\\n",
       "0          0  58d05bc1bf093c031c0caead30d37b44c48bdaf1   \n",
       "1          0  58d05bc1bf093c031c0caead30d37b44c48bdaf1   \n",
       "2          0  83273207ef443072fc57aa858fff07fd5697a4a8   \n",
       "3          0  83273207ef443072fc57aa858fff07fd5697a4a8   \n",
       "4          0  83273207ef443072fc57aa858fff07fd5697a4a8   \n",
       "\n",
       "                 commit_time  commit_tz  ...  added  removed  from_svn  \\\n",
       "0  2013-01-15 23:58:38+00:00          0  ...  329.0    215.0      True   \n",
       "1  2013-01-22 18:08:30+00:00          0  ...    8.0      4.0      True   \n",
       "2  2012-05-17 17:24:30+00:00          0  ...    1.0      1.0      True   \n",
       "3  2012-05-16 14:51:58+00:00          0  ...    3.0      6.0      True   \n",
       "4  2012-05-16 17:42:07+00:00          0  ...   16.0      0.0      True   \n",
       "\n",
       "   accurate_tz    issue_id  message_sentiment          local_commit_time  \\\n",
       "0        False  12550786.0            neutral  2013-01-15 23:58:38+00:00   \n",
       "1        False  12608497.0            neutral  2013-01-22 18:08:30+00:00   \n",
       "2        False  12550786.0            neutral  2012-05-17 17:24:30+00:00   \n",
       "3        False  12556041.0            neutral  2012-05-16 14:51:58+00:00   \n",
       "4        False  12556041.0            neutral  2012-05-16 17:42:07+00:00   \n",
       "\n",
       "           local_author_time part_of_day_commit part_of_day_author  \n",
       "0  2013-01-15 23:58:38+00:00              Night              Night  \n",
       "1  2013-01-22 18:08:30+00:00            Evening            Evening  \n",
       "2  2012-05-17 17:24:30+00:00          Afternoon          Afternoon  \n",
       "3  2012-05-16 14:51:58+00:00          Afternoon          Afternoon  \n",
       "4  2012-05-16 17:42:07+00:00          Afternoon          Afternoon  \n",
       "\n",
       "[5 rows x 21 columns]"
      ],
      "text/html": [
       "<div>\n",
       "<style scoped>\n",
       "    .dataframe tbody tr th:only-of-type {\n",
       "        vertical-align: middle;\n",
       "    }\n",
       "\n",
       "    .dataframe tbody tr th {\n",
       "        vertical-align: top;\n",
       "    }\n",
       "\n",
       "    .dataframe thead th {\n",
       "        text-align: right;\n",
       "    }\n",
       "</style>\n",
       "<table border=\"1\" class=\"dataframe\">\n",
       "  <thead>\n",
       "    <tr style=\"text-align: right;\">\n",
       "      <th></th>\n",
       "      <th>source</th>\n",
       "      <th>repo</th>\n",
       "      <th>hash</th>\n",
       "      <th>parents</th>\n",
       "      <th>author</th>\n",
       "      <th>author_time</th>\n",
       "      <th>author_tz</th>\n",
       "      <th>committer</th>\n",
       "      <th>commit_time</th>\n",
       "      <th>commit_tz</th>\n",
       "      <th>...</th>\n",
       "      <th>added</th>\n",
       "      <th>removed</th>\n",
       "      <th>from_svn</th>\n",
       "      <th>accurate_tz</th>\n",
       "      <th>issue_id</th>\n",
       "      <th>message_sentiment</th>\n",
       "      <th>local_commit_time</th>\n",
       "      <th>local_author_time</th>\n",
       "      <th>part_of_day_commit</th>\n",
       "      <th>part_of_day_author</th>\n",
       "    </tr>\n",
       "  </thead>\n",
       "  <tbody>\n",
       "    <tr>\n",
       "      <th>0</th>\n",
       "      <td>apache</td>\n",
       "      <td>accumulo-bsp</td>\n",
       "      <td>02eebbd572b5a3308cb17910c1ad5a368fe3bb5c</td>\n",
       "      <td>3581adc7c5de0dc223eea3604fd6c4327801dd39</td>\n",
       "      <td>58d05bc1bf093c031c0caead30d37b44c48bdaf1</td>\n",
       "      <td>2013-01-15 23:58:38+00:00</td>\n",
       "      <td>0</td>\n",
       "      <td>58d05bc1bf093c031c0caead30d37b44c48bdaf1</td>\n",
       "      <td>2013-01-15 23:58:38+00:00</td>\n",
       "      <td>0</td>\n",
       "      <td>...</td>\n",
       "      <td>329.0</td>\n",
       "      <td>215.0</td>\n",
       "      <td>True</td>\n",
       "      <td>False</td>\n",
       "      <td>12550786.0</td>\n",
       "      <td>neutral</td>\n",
       "      <td>2013-01-15 23:58:38+00:00</td>\n",
       "      <td>2013-01-15 23:58:38+00:00</td>\n",
       "      <td>Night</td>\n",
       "      <td>Night</td>\n",
       "    </tr>\n",
       "    <tr>\n",
       "      <th>1</th>\n",
       "      <td>apache</td>\n",
       "      <td>accumulo-bsp</td>\n",
       "      <td>28339e68f0c666a99f2194b0b725951f7c5a75b4</td>\n",
       "      <td>02eebbd572b5a3308cb17910c1ad5a368fe3bb5c</td>\n",
       "      <td>58d05bc1bf093c031c0caead30d37b44c48bdaf1</td>\n",
       "      <td>2013-01-22 18:08:30+00:00</td>\n",
       "      <td>0</td>\n",
       "      <td>58d05bc1bf093c031c0caead30d37b44c48bdaf1</td>\n",
       "      <td>2013-01-22 18:08:30+00:00</td>\n",
       "      <td>0</td>\n",
       "      <td>...</td>\n",
       "      <td>8.0</td>\n",
       "      <td>4.0</td>\n",
       "      <td>True</td>\n",
       "      <td>False</td>\n",
       "      <td>12608497.0</td>\n",
       "      <td>neutral</td>\n",
       "      <td>2013-01-22 18:08:30+00:00</td>\n",
       "      <td>2013-01-22 18:08:30+00:00</td>\n",
       "      <td>Evening</td>\n",
       "      <td>Evening</td>\n",
       "    </tr>\n",
       "    <tr>\n",
       "      <th>2</th>\n",
       "      <td>apache</td>\n",
       "      <td>accumulo-bsp</td>\n",
       "      <td>3581adc7c5de0dc223eea3604fd6c4327801dd39</td>\n",
       "      <td>a4df0d433396a227e8a119c141283e6f0b32c575</td>\n",
       "      <td>83273207ef443072fc57aa858fff07fd5697a4a8</td>\n",
       "      <td>2012-05-17 17:24:30+00:00</td>\n",
       "      <td>0</td>\n",
       "      <td>83273207ef443072fc57aa858fff07fd5697a4a8</td>\n",
       "      <td>2012-05-17 17:24:30+00:00</td>\n",
       "      <td>0</td>\n",
       "      <td>...</td>\n",
       "      <td>1.0</td>\n",
       "      <td>1.0</td>\n",
       "      <td>True</td>\n",
       "      <td>False</td>\n",
       "      <td>12550786.0</td>\n",
       "      <td>neutral</td>\n",
       "      <td>2012-05-17 17:24:30+00:00</td>\n",
       "      <td>2012-05-17 17:24:30+00:00</td>\n",
       "      <td>Afternoon</td>\n",
       "      <td>Afternoon</td>\n",
       "    </tr>\n",
       "    <tr>\n",
       "      <th>3</th>\n",
       "      <td>apache</td>\n",
       "      <td>accumulo-bsp</td>\n",
       "      <td>817f8732b84fe4bda588492c5bb54f9ea958c74b</td>\n",
       "      <td>e69d32cde486aa5d7a0766b032880e9e13d991b5</td>\n",
       "      <td>83273207ef443072fc57aa858fff07fd5697a4a8</td>\n",
       "      <td>2012-05-16 14:51:58+00:00</td>\n",
       "      <td>0</td>\n",
       "      <td>83273207ef443072fc57aa858fff07fd5697a4a8</td>\n",
       "      <td>2012-05-16 14:51:58+00:00</td>\n",
       "      <td>0</td>\n",
       "      <td>...</td>\n",
       "      <td>3.0</td>\n",
       "      <td>6.0</td>\n",
       "      <td>True</td>\n",
       "      <td>False</td>\n",
       "      <td>12556041.0</td>\n",
       "      <td>neutral</td>\n",
       "      <td>2012-05-16 14:51:58+00:00</td>\n",
       "      <td>2012-05-16 14:51:58+00:00</td>\n",
       "      <td>Afternoon</td>\n",
       "      <td>Afternoon</td>\n",
       "    </tr>\n",
       "    <tr>\n",
       "      <th>4</th>\n",
       "      <td>apache</td>\n",
       "      <td>accumulo-bsp</td>\n",
       "      <td>a4df0d433396a227e8a119c141283e6f0b32c575</td>\n",
       "      <td>fe3ff84ecb2a6fc69f0e05ced668013636c8c591</td>\n",
       "      <td>83273207ef443072fc57aa858fff07fd5697a4a8</td>\n",
       "      <td>2012-05-16 17:42:07+00:00</td>\n",
       "      <td>0</td>\n",
       "      <td>83273207ef443072fc57aa858fff07fd5697a4a8</td>\n",
       "      <td>2012-05-16 17:42:07+00:00</td>\n",
       "      <td>0</td>\n",
       "      <td>...</td>\n",
       "      <td>16.0</td>\n",
       "      <td>0.0</td>\n",
       "      <td>True</td>\n",
       "      <td>False</td>\n",
       "      <td>12556041.0</td>\n",
       "      <td>neutral</td>\n",
       "      <td>2012-05-16 17:42:07+00:00</td>\n",
       "      <td>2012-05-16 17:42:07+00:00</td>\n",
       "      <td>Afternoon</td>\n",
       "      <td>Afternoon</td>\n",
       "    </tr>\n",
       "  </tbody>\n",
       "</table>\n",
       "<p>5 rows × 21 columns</p>\n",
       "</div>"
      ]
     },
     "execution_count": 4,
     "metadata": {},
     "output_type": "execute_result"
    }
   ],
   "execution_count": 4
  },
  {
   "metadata": {
    "ExecuteTime": {
     "end_time": "2024-06-03T16:36:30.601991Z",
     "start_time": "2024-06-03T16:36:30.423490Z"
    }
   },
   "cell_type": "code",
   "source": [
    "# Commit Message Sentiment Composition\n",
    "sns.set(rc={'figure.figsize':(10,10)})\n",
    "sns.set_palette(\"pastel\")\n",
    "sns.set_style(\"whitegrid\")\n",
    "sns.set_context(\"talk\")\n",
    "commits['message_sentiment'].value_counts().plot.pie(autopct='%1.1f%%')\n",
    "plt.ylabel('')\n",
    "plt.show()"
   ],
   "id": "8360dbb3797cef81",
   "outputs": [
    {
     "data": {
      "text/plain": [
       "<Figure size 1000x1000 with 1 Axes>"
      ],
      "image/png": "[encoded data removed]"
     },
     "metadata": {},
     "output_type": "display_data"
    }
   ],
   "execution_count": 17
  },
  {
   "metadata": {
    "ExecuteTime": {
     "end_time": "2024-06-03T16:43:09.798850Z",
     "start_time": "2024-06-03T16:42:55.500508Z"
    }
   },
   "cell_type": "code",
   "source": [
    "issues = pd.read_csv(DATA_PATH / 'issues.csv')\n",
    "issues.head()"
   ],
   "id": "11a92dc50031803c",
   "outputs": [
    {
     "name": "stderr",
     "output_type": "stream",
     "text": [
      "/tmp/ipykernel_365242/2737163175.py:1: DtypeWarning: Columns (3,6,8,9,10,12,14,18,19,20,22,24) have mixed types. Specify dtype option on import or set low_memory=False.\n",
      "  issues = pd.read_csv(DATA_PATH / 'issues.csv')\n"
     ]
    },
    {
     "data": {
      "text/plain": [
       "   source product  issue_id issue_key                    created  \\\n",
       "0  apache     AAR  12962708     AAR-1  2016-04-26 19:11:19+00:00   \n",
       "1  apache     AAR  12962764     AAR-2  2016-04-26 21:55:25+00:00   \n",
       "2  apache     AAR  12962773     AAR-3  2016-04-26 22:31:01+00:00   \n",
       "3  apache     AAR  12962774     AAR-4  2016-04-26 22:31:47+00:00   \n",
       "4  apache     AAR  12962776     AAR-5  2016-04-26 22:32:28+00:00   \n",
       "\n",
       "                     updated last_resolved  \\\n",
       "0  2016-04-26 19:11:19+00:00           NaN   \n",
       "1  2016-04-26 21:55:25+00:00           NaN   \n",
       "2  2016-04-26 22:31:01+00:00           NaN   \n",
       "3  2016-04-26 22:31:47+00:00           NaN   \n",
       "4  2016-04-26 22:32:28+00:00           NaN   \n",
       "\n",
       "                                             summary  \\\n",
       "0  1-800-790-9186 Epson Tech Support TelePhone Nu...   \n",
       "1  pogo games customer service phone number 1855 ...   \n",
       "2  KUND pogo games customer service phone number ...   \n",
       "3  phone number 1855 800 8493, Pogo games tech Su...   \n",
       "4  call, 1855 800 8493 for all type help by Pogo ...   \n",
       "\n",
       "                                         description version  ... component  \\\n",
       "0  help1-800-790-9186 FREE Epson Tech Support Tel...     NaN  ...       NaN   \n",
       "1  pogo games customer service phone number 1855 ...     NaN  ...       NaN   \n",
       "2  pogo games customer service phone number 1844 ...     NaN  ...       NaN   \n",
       "3  pogo games customer service phone number 1855 ...     NaN  ...       NaN   \n",
       "4  pogo games customer service phone number 1855 ...     NaN  ...       NaN   \n",
       "\n",
       "  votes product_name                              reporter_key reporter_tz  \\\n",
       "0     0     aardvark  49ea46c1f294ed796cd22d25c0855d53baf041d8     Etc/UTC   \n",
       "1     0     aardvark  deec89d8f75a320906c444c0157b54f160cc80f4     Etc/UTC   \n",
       "2     0     aardvark  519f21bba765cb60b50704d3ffc26723c3a9ae4f     Etc/UTC   \n",
       "3     0     aardvark  deec89d8f75a320906c444c0157b54f160cc80f4     Etc/UTC   \n",
       "4     0     aardvark  deec89d8f75a320906c444c0157b54f160cc80f4     Etc/UTC   \n",
       "\n",
       "                                creator_key creator_tz  assignee_key  \\\n",
       "0  49ea46c1f294ed796cd22d25c0855d53baf041d8    Etc/UTC           NaN   \n",
       "1  deec89d8f75a320906c444c0157b54f160cc80f4    Etc/UTC           NaN   \n",
       "2  519f21bba765cb60b50704d3ffc26723c3a9ae4f    Etc/UTC           NaN   \n",
       "3  deec89d8f75a320906c444c0157b54f160cc80f4    Etc/UTC           NaN   \n",
       "4  deec89d8f75a320906c444c0157b54f160cc80f4    Etc/UTC           NaN   \n",
       "\n",
       "  assignee_tz summary_sentiment  \n",
       "0         NaN           neutral  \n",
       "1         NaN           neutral  \n",
       "2         NaN           neutral  \n",
       "3         NaN           neutral  \n",
       "4         NaN           neutral  \n",
       "\n",
       "[5 rows x 26 columns]"
      ],
      "text/html": [
       "<div>\n",
       "<style scoped>\n",
       "    .dataframe tbody tr th:only-of-type {\n",
       "        vertical-align: middle;\n",
       "    }\n",
       "\n",
       "    .dataframe tbody tr th {\n",
       "        vertical-align: top;\n",
       "    }\n",
       "\n",
       "    .dataframe thead th {\n",
       "        text-align: right;\n",
       "    }\n",
       "</style>\n",
       "<table border=\"1\" class=\"dataframe\">\n",
       "  <thead>\n",
       "    <tr style=\"text-align: right;\">\n",
       "      <th></th>\n",
       "      <th>source</th>\n",
       "      <th>product</th>\n",
       "      <th>issue_id</th>\n",
       "      <th>issue_key</th>\n",
       "      <th>created</th>\n",
       "      <th>updated</th>\n",
       "      <th>last_resolved</th>\n",
       "      <th>summary</th>\n",
       "      <th>description</th>\n",
       "      <th>version</th>\n",
       "      <th>...</th>\n",
       "      <th>component</th>\n",
       "      <th>votes</th>\n",
       "      <th>product_name</th>\n",
       "      <th>reporter_key</th>\n",
       "      <th>reporter_tz</th>\n",
       "      <th>creator_key</th>\n",
       "      <th>creator_tz</th>\n",
       "      <th>assignee_key</th>\n",
       "      <th>assignee_tz</th>\n",
       "      <th>summary_sentiment</th>\n",
       "    </tr>\n",
       "  </thead>\n",
       "  <tbody>\n",
       "    <tr>\n",
       "      <th>0</th>\n",
       "      <td>apache</td>\n",
       "      <td>AAR</td>\n",
       "      <td>12962708</td>\n",
       "      <td>AAR-1</td>\n",
       "      <td>2016-04-26 19:11:19+00:00</td>\n",
       "      <td>2016-04-26 19:11:19+00:00</td>\n",
       "      <td>NaN</td>\n",
       "      <td>1-800-790-9186 Epson Tech Support TelePhone Nu...</td>\n",
       "      <td>help1-800-790-9186 FREE Epson Tech Support Tel...</td>\n",
       "      <td>NaN</td>\n",
       "      <td>...</td>\n",
       "      <td>NaN</td>\n",
       "      <td>0</td>\n",
       "      <td>aardvark</td>\n",
       "      <td>49ea46c1f294ed796cd22d25c0855d53baf041d8</td>\n",
       "      <td>Etc/UTC</td>\n",
       "      <td>49ea46c1f294ed796cd22d25c0855d53baf041d8</td>\n",
       "      <td>Etc/UTC</td>\n",
       "      <td>NaN</td>\n",
       "      <td>NaN</td>\n",
       "      <td>neutral</td>\n",
       "    </tr>\n",
       "    <tr>\n",
       "      <th>1</th>\n",
       "      <td>apache</td>\n",
       "      <td>AAR</td>\n",
       "      <td>12962764</td>\n",
       "      <td>AAR-2</td>\n",
       "      <td>2016-04-26 21:55:25+00:00</td>\n",
       "      <td>2016-04-26 21:55:25+00:00</td>\n",
       "      <td>NaN</td>\n",
       "      <td>pogo games customer service phone number 1855 ...</td>\n",
       "      <td>pogo games customer service phone number 1855 ...</td>\n",
       "      <td>NaN</td>\n",
       "      <td>...</td>\n",
       "      <td>NaN</td>\n",
       "      <td>0</td>\n",
       "      <td>aardvark</td>\n",
       "      <td>deec89d8f75a320906c444c0157b54f160cc80f4</td>\n",
       "      <td>Etc/UTC</td>\n",
       "      <td>deec89d8f75a320906c444c0157b54f160cc80f4</td>\n",
       "      <td>Etc/UTC</td>\n",
       "      <td>NaN</td>\n",
       "      <td>NaN</td>\n",
       "      <td>neutral</td>\n",
       "    </tr>\n",
       "    <tr>\n",
       "      <th>2</th>\n",
       "      <td>apache</td>\n",
       "      <td>AAR</td>\n",
       "      <td>12962773</td>\n",
       "      <td>AAR-3</td>\n",
       "      <td>2016-04-26 22:31:01+00:00</td>\n",
       "      <td>2016-04-26 22:31:01+00:00</td>\n",
       "      <td>NaN</td>\n",
       "      <td>KUND pogo games customer service phone number ...</td>\n",
       "      <td>pogo games customer service phone number 1844 ...</td>\n",
       "      <td>NaN</td>\n",
       "      <td>...</td>\n",
       "      <td>NaN</td>\n",
       "      <td>0</td>\n",
       "      <td>aardvark</td>\n",
       "      <td>519f21bba765cb60b50704d3ffc26723c3a9ae4f</td>\n",
       "      <td>Etc/UTC</td>\n",
       "      <td>519f21bba765cb60b50704d3ffc26723c3a9ae4f</td>\n",
       "      <td>Etc/UTC</td>\n",
       "      <td>NaN</td>\n",
       "      <td>NaN</td>\n",
       "      <td>neutral</td>\n",
       "    </tr>\n",
       "    <tr>\n",
       "      <th>3</th>\n",
       "      <td>apache</td>\n",
       "      <td>AAR</td>\n",
       "      <td>12962774</td>\n",
       "      <td>AAR-4</td>\n",
       "      <td>2016-04-26 22:31:47+00:00</td>\n",
       "      <td>2016-04-26 22:31:47+00:00</td>\n",
       "      <td>NaN</td>\n",
       "      <td>phone number 1855 800 8493, Pogo games tech Su...</td>\n",
       "      <td>pogo games customer service phone number 1855 ...</td>\n",
       "      <td>NaN</td>\n",
       "      <td>...</td>\n",
       "      <td>NaN</td>\n",
       "      <td>0</td>\n",
       "      <td>aardvark</td>\n",
       "      <td>deec89d8f75a320906c444c0157b54f160cc80f4</td>\n",
       "      <td>Etc/UTC</td>\n",
       "      <td>deec89d8f75a320906c444c0157b54f160cc80f4</td>\n",
       "      <td>Etc/UTC</td>\n",
       "      <td>NaN</td>\n",
       "      <td>NaN</td>\n",
       "      <td>neutral</td>\n",
       "    </tr>\n",
       "    <tr>\n",
       "      <th>4</th>\n",
       "      <td>apache</td>\n",
       "      <td>AAR</td>\n",
       "      <td>12962776</td>\n",
       "      <td>AAR-5</td>\n",
       "      <td>2016-04-26 22:32:28+00:00</td>\n",
       "      <td>2016-04-26 22:32:28+00:00</td>\n",
       "      <td>NaN</td>\n",
       "      <td>call, 1855 800 8493 for all type help by Pogo ...</td>\n",
       "      <td>pogo games customer service phone number 1855 ...</td>\n",
       "      <td>NaN</td>\n",
       "      <td>...</td>\n",
       "      <td>NaN</td>\n",
       "      <td>0</td>\n",
       "      <td>aardvark</td>\n",
       "      <td>deec89d8f75a320906c444c0157b54f160cc80f4</td>\n",
       "      <td>Etc/UTC</td>\n",
       "      <td>deec89d8f75a320906c444c0157b54f160cc80f4</td>\n",
       "      <td>Etc/UTC</td>\n",
       "      <td>NaN</td>\n",
       "      <td>NaN</td>\n",
       "      <td>neutral</td>\n",
       "    </tr>\n",
       "  </tbody>\n",
       "</table>\n",
       "<p>5 rows × 26 columns</p>\n",
       "</div>"
      ]
     },
     "execution_count": 20,
     "metadata": {},
     "output_type": "execute_result"
    }
   ],
   "execution_count": 20
  },
  {
   "metadata": {
    "ExecuteTime": {
     "end_time": "2024-06-03T16:43:50.911287Z",
     "start_time": "2024-06-03T16:43:50.743553Z"
    }
   },
   "cell_type": "code",
   "source": [
    "# Issue Summary Sentiment Composition\n",
    "sns.set(rc={'figure.figsize':(10,10)})\n",
    "sns.set_palette(\"pastel\")\n",
    "sns.set_style(\"whitegrid\")\n",
    "sns.set_context(\"talk\")\n",
    "issues['summary_sentiment'].value_counts().plot.pie(autopct='%1.1f%%')\n",
    "plt.ylabel('')\n",
    "plt.show()"
   ],
   "id": "91a77ebcb5919a31",
   "outputs": [
    {
     "data": {
      "text/plain": [
       "<Figure size 1000x1000 with 1 Axes>"
      ],
      "image/png": "[encoded data removed]"
     },
     "metadata": {},
     "output_type": "display_data"
    }
   ],
   "execution_count": 21
  },
  {
   "metadata": {
    "ExecuteTime": {
     "end_time": "2024-06-03T16:45:34.627937Z",
     "start_time": "2024-06-03T16:45:22.834477Z"
    }
   },
   "cell_type": "code",
   "source": [
    "issue_comments = pd.read_csv(DATA_PATH / 'issue_comments_01.csv')\n",
    "issue_comments.head()"
   ],
   "id": "47cbcd357cef9d1e",
   "outputs": [
    {
     "data": {
      "text/plain": [
       "   source product    issue_id  comment_id  count  \\\n",
       "0  apache     AAR  12963270.0  15261151.0    NaN   \n",
       "1  apache     AAR  12963426.0  15261824.0    NaN   \n",
       "2  apache     AAR  12963426.0  15262448.0    NaN   \n",
       "3  apache     AAR  12963426.0  15262452.0    NaN   \n",
       "4  apache     AAR  12963426.0  15262453.0    NaN   \n",
       "\n",
       "                                 author_key      author_tz  \\\n",
       "0  14e647a68666823ae46697258899ac0b0a681de6        Etc/UTC   \n",
       "1  dbea2a0f9161664766394eaeae89d872577bc764  Europe/Berlin   \n",
       "2  dbea2a0f9161664766394eaeae89d872577bc764  Europe/Berlin   \n",
       "3  dbea2a0f9161664766394eaeae89d872577bc764  Europe/Berlin   \n",
       "4  dbea2a0f9161664766394eaeae89d872577bc764  Europe/Berlin   \n",
       "\n",
       "                          update_author_key update_author_tz  \\\n",
       "0  14e647a68666823ae46697258899ac0b0a681de6          Etc/UTC   \n",
       "1  dbea2a0f9161664766394eaeae89d872577bc764    Europe/Berlin   \n",
       "2  dbea2a0f9161664766394eaeae89d872577bc764    Europe/Berlin   \n",
       "3  dbea2a0f9161664766394eaeae89d872577bc764    Europe/Berlin   \n",
       "4  dbea2a0f9161664766394eaeae89d872577bc764    Europe/Berlin   \n",
       "\n",
       "                     created                    updated  index  \\\n",
       "0  2016-04-27 23:04:37+00:00  2016-04-27 23:05:24+00:00      2   \n",
       "1  2016-04-28 09:16:51+00:00  2016-04-28 09:16:51+00:00      3   \n",
       "2  2016-04-28 16:30:42+00:00  2016-04-28 16:30:42+00:00      4   \n",
       "3  2016-04-28 16:31:30+00:00  2016-04-28 16:31:30+00:00      5   \n",
       "4  2016-04-28 16:31:50+00:00  2016-04-28 16:31:50+00:00      6   \n",
       "\n",
       "                                                text text_sentiment  \n",
       "0  Watch The Ultimate Fighter Season 23, Episode ...        neutral  \n",
       "1                                           faqegggf        neutral  \n",
       "2                                         geadggdgdg        neutral  \n",
       "3                                             gaeggg       negative  \n",
       "4                                               fegf        neutral  "
      ],
      "text/html": [
       "<div>\n",
       "<style scoped>\n",
       "    .dataframe tbody tr th:only-of-type {\n",
       "        vertical-align: middle;\n",
       "    }\n",
       "\n",
       "    .dataframe tbody tr th {\n",
       "        vertical-align: top;\n",
       "    }\n",
       "\n",
       "    .dataframe thead th {\n",
       "        text-align: right;\n",
       "    }\n",
       "</style>\n",
       "<table border=\"1\" class=\"dataframe\">\n",
       "  <thead>\n",
       "    <tr style=\"text-align: right;\">\n",
       "      <th></th>\n",
       "      <th>source</th>\n",
       "      <th>product</th>\n",
       "      <th>issue_id</th>\n",
       "      <th>comment_id</th>\n",
       "      <th>count</th>\n",
       "      <th>author_key</th>\n",
       "      <th>author_tz</th>\n",
       "      <th>update_author_key</th>\n",
       "      <th>update_author_tz</th>\n",
       "      <th>created</th>\n",
       "      <th>updated</th>\n",
       "      <th>index</th>\n",
       "      <th>text</th>\n",
       "      <th>text_sentiment</th>\n",
       "    </tr>\n",
       "  </thead>\n",
       "  <tbody>\n",
       "    <tr>\n",
       "      <th>0</th>\n",
       "      <td>apache</td>\n",
       "      <td>AAR</td>\n",
       "      <td>12963270.0</td>\n",
       "      <td>15261151.0</td>\n",
       "      <td>NaN</td>\n",
       "      <td>14e647a68666823ae46697258899ac0b0a681de6</td>\n",
       "      <td>Etc/UTC</td>\n",
       "      <td>14e647a68666823ae46697258899ac0b0a681de6</td>\n",
       "      <td>Etc/UTC</td>\n",
       "      <td>2016-04-27 23:04:37+00:00</td>\n",
       "      <td>2016-04-27 23:05:24+00:00</td>\n",
       "      <td>2</td>\n",
       "      <td>Watch The Ultimate Fighter Season 23, Episode ...</td>\n",
       "      <td>neutral</td>\n",
       "    </tr>\n",
       "    <tr>\n",
       "      <th>1</th>\n",
       "      <td>apache</td>\n",
       "      <td>AAR</td>\n",
       "      <td>12963426.0</td>\n",
       "      <td>15261824.0</td>\n",
       "      <td>NaN</td>\n",
       "      <td>dbea2a0f9161664766394eaeae89d872577bc764</td>\n",
       "      <td>Europe/Berlin</td>\n",
       "      <td>dbea2a0f9161664766394eaeae89d872577bc764</td>\n",
       "      <td>Europe/Berlin</td>\n",
       "      <td>2016-04-28 09:16:51+00:00</td>\n",
       "      <td>2016-04-28 09:16:51+00:00</td>\n",
       "      <td>3</td>\n",
       "      <td>faqegggf</td>\n",
       "      <td>neutral</td>\n",
       "    </tr>\n",
       "    <tr>\n",
       "      <th>2</th>\n",
       "      <td>apache</td>\n",
       "      <td>AAR</td>\n",
       "      <td>12963426.0</td>\n",
       "      <td>15262448.0</td>\n",
       "      <td>NaN</td>\n",
       "      <td>dbea2a0f9161664766394eaeae89d872577bc764</td>\n",
       "      <td>Europe/Berlin</td>\n",
       "      <td>dbea2a0f9161664766394eaeae89d872577bc764</td>\n",
       "      <td>Europe/Berlin</td>\n",
       "      <td>2016-04-28 16:30:42+00:00</td>\n",
       "      <td>2016-04-28 16:30:42+00:00</td>\n",
       "      <td>4</td>\n",
       "      <td>geadggdgdg</td>\n",
       "      <td>neutral</td>\n",
       "    </tr>\n",
       "    <tr>\n",
       "      <th>3</th>\n",
       "      <td>apache</td>\n",
       "      <td>AAR</td>\n",
       "      <td>12963426.0</td>\n",
       "      <td>15262452.0</td>\n",
       "      <td>NaN</td>\n",
       "      <td>dbea2a0f9161664766394eaeae89d872577bc764</td>\n",
       "      <td>Europe/Berlin</td>\n",
       "      <td>dbea2a0f9161664766394eaeae89d872577bc764</td>\n",
       "      <td>Europe/Berlin</td>\n",
       "      <td>2016-04-28 16:31:30+00:00</td>\n",
       "      <td>2016-04-28 16:31:30+00:00</td>\n",
       "      <td>5</td>\n",
       "      <td>gaeggg</td>\n",
       "      <td>negative</td>\n",
       "    </tr>\n",
       "    <tr>\n",
       "      <th>4</th>\n",
       "      <td>apache</td>\n",
       "      <td>AAR</td>\n",
       "      <td>12963426.0</td>\n",
       "      <td>15262453.0</td>\n",
       "      <td>NaN</td>\n",
       "      <td>dbea2a0f9161664766394eaeae89d872577bc764</td>\n",
       "      <td>Europe/Berlin</td>\n",
       "      <td>dbea2a0f9161664766394eaeae89d872577bc764</td>\n",
       "      <td>Europe/Berlin</td>\n",
       "      <td>2016-04-28 16:31:50+00:00</td>\n",
       "      <td>2016-04-28 16:31:50+00:00</td>\n",
       "      <td>6</td>\n",
       "      <td>fegf</td>\n",
       "      <td>neutral</td>\n",
       "    </tr>\n",
       "  </tbody>\n",
       "</table>\n",
       "</div>"
      ]
     },
     "execution_count": 22,
     "metadata": {},
     "output_type": "execute_result"
    }
   ],
   "execution_count": 22
  },
  {
   "metadata": {
    "ExecuteTime": {
     "end_time": "2024-06-03T16:46:31.348192Z",
     "start_time": "2024-06-03T16:46:31.188698Z"
    }
   },
   "cell_type": "code",
   "source": [
    "# Issue Comment Text Sentiment Composition\n",
    "sns.set(rc={'figure.figsize':(10,10)})\n",
    "sns.set_palette(\"pastel\")\n",
    "sns.set_style(\"whitegrid\")\n",
    "sns.set_context(\"talk\")\n",
    "issue_comments['text_sentiment'].value_counts().plot.pie(autopct='%1.1f%%')\n",
    "plt.ylabel('')\n",
    "plt.show()"
   ],
   "id": "e68b88700381c15e",
   "outputs": [
    {
     "data": {
      "text/plain": [
       "<Figure size 1000x1000 with 1 Axes>"
      ],
      "image/png": "[encoded data removed]"
     },
     "metadata": {},
     "output_type": "display_data"
    }
   ],
   "execution_count": 23
  },
  {
   "metadata": {},
   "cell_type": "code",
   "outputs": [],
   "execution_count": null,
   "source": "",
   "id": "ac523cb2450b8fc8"
  },
  {
   "metadata": {
    "ExecuteTime": {
     "end_time": "2024-06-03T15:50:54.274865Z",
     "start_time": "2024-06-03T15:50:42.419714Z"
    }
   },
   "cell_type": "code",
   "source": "# load issue_comments\n",
   "id": "9a2ec50341b4819b",
   "outputs": [],
   "execution_count": 8
  },
  {
   "metadata": {
    "ExecuteTime": {
     "end_time": "2024-06-03T15:51:04.214578Z",
     "start_time": "2024-06-03T15:51:04.209330Z"
    }
   },
   "cell_type": "code",
   "source": "issue_comments.columns",
   "id": "3cc43f43b05248e9",
   "outputs": [
    {
     "data": {
      "text/plain": [
       "Index(['source', 'product', 'issue_id', 'comment_id', 'count', 'author_key',\n",
       "       'author_tz', 'update_author_key', 'update_author_tz', 'created',\n",
       "       'updated', 'index', 'text', 'text_sentiment'],\n",
       "      dtype='object')"
      ]
     },
     "execution_count": 9,
     "metadata": {},
     "output_type": "execute_result"
    }
   ],
   "execution_count": 9
  },
  {
   "metadata": {
    "ExecuteTime": {
     "end_time": "2024-06-03T18:02:11.639354Z",
     "start_time": "2024-06-03T18:02:11.628306Z"
    }
   },
   "cell_type": "code",
   "source": [
    "eval = pd.read_csv('./models/evaluation/evaluated.csv')\n",
    "eval.iloc[:, 1:] = eval.iloc[:, 1:] * 100\n",
    "# save to csv\n",
    "eval.to_csv('./models/evaluation/eval_table.csv', index=False)\n",
    "eval.head()"
   ],
   "id": "9c6045560d2b1d0d",
   "outputs": [
    {
     "data": {
      "text/plain": [
       "                   model        mcc   micro_f1  micro_precision  micro_recall  \\\n",
       "0                 seBERT  79.063066  87.161040        87.161040     87.161040   \n",
       "1  SentiStrength-SE_v1.5  51.826979  71.223022        71.223022     71.223022   \n",
       "\n",
       "    macro_f1  macro_precision  macro_recall  precision_negative  \\\n",
       "0  85.858362        85.987672     85.765828           88.702929   \n",
       "1  66.515273        73.592082     64.008503           78.547855   \n",
       "\n",
       "   precision_neutral  precision_positive  recall_negative  recall_neutral  \\\n",
       "0          89.312169           79.947917        84.969940       90.460879   \n",
       "1          68.968318           73.260073        47.695391       90.996785   \n",
       "\n",
       "   recall_positive  f1_negative  f1_neutral  f1_positive  \n",
       "0        81.866667    86.796315   89.882854    80.895916  \n",
       "1        53.333333    59.351621   78.465804    61.728395  "
      ],
      "text/html": [
       "<div>\n",
       "<style scoped>\n",
       "    .dataframe tbody tr th:only-of-type {\n",
       "        vertical-align: middle;\n",
       "    }\n",
       "\n",
       "    .dataframe tbody tr th {\n",
       "        vertical-align: top;\n",
       "    }\n",
       "\n",
       "    .dataframe thead th {\n",
       "        text-align: right;\n",
       "    }\n",
       "</style>\n",
       "<table border=\"1\" class=\"dataframe\">\n",
       "  <thead>\n",
       "    <tr style=\"text-align: right;\">\n",
       "      <th></th>\n",
       "      <th>model</th>\n",
       "      <th>mcc</th>\n",
       "      <th>micro_f1</th>\n",
       "      <th>micro_precision</th>\n",
       "      <th>micro_recall</th>\n",
       "      <th>macro_f1</th>\n",
       "      <th>macro_precision</th>\n",
       "      <th>macro_recall</th>\n",
       "      <th>precision_negative</th>\n",
       "      <th>precision_neutral</th>\n",
       "      <th>precision_positive</th>\n",
       "      <th>recall_negative</th>\n",
       "      <th>recall_neutral</th>\n",
       "      <th>recall_positive</th>\n",
       "      <th>f1_negative</th>\n",
       "      <th>f1_neutral</th>\n",
       "      <th>f1_positive</th>\n",
       "    </tr>\n",
       "  </thead>\n",
       "  <tbody>\n",
       "    <tr>\n",
       "      <th>0</th>\n",
       "      <td>seBERT</td>\n",
       "      <td>79.063066</td>\n",
       "      <td>87.161040</td>\n",
       "      <td>87.161040</td>\n",
       "      <td>87.161040</td>\n",
       "      <td>85.858362</td>\n",
       "      <td>85.987672</td>\n",
       "      <td>85.765828</td>\n",
       "      <td>88.702929</td>\n",
       "      <td>89.312169</td>\n",
       "      <td>79.947917</td>\n",
       "      <td>84.969940</td>\n",
       "      <td>90.460879</td>\n",
       "      <td>81.866667</td>\n",
       "      <td>86.796315</td>\n",
       "      <td>89.882854</td>\n",
       "      <td>80.895916</td>\n",
       "    </tr>\n",
       "    <tr>\n",
       "      <th>1</th>\n",
       "      <td>SentiStrength-SE_v1.5</td>\n",
       "      <td>51.826979</td>\n",
       "      <td>71.223022</td>\n",
       "      <td>71.223022</td>\n",
       "      <td>71.223022</td>\n",
       "      <td>66.515273</td>\n",
       "      <td>73.592082</td>\n",
       "      <td>64.008503</td>\n",
       "      <td>78.547855</td>\n",
       "      <td>68.968318</td>\n",
       "      <td>73.260073</td>\n",
       "      <td>47.695391</td>\n",
       "      <td>90.996785</td>\n",
       "      <td>53.333333</td>\n",
       "      <td>59.351621</td>\n",
       "      <td>78.465804</td>\n",
       "      <td>61.728395</td>\n",
       "    </tr>\n",
       "  </tbody>\n",
       "</table>\n",
       "</div>"
      ]
     },
     "execution_count": 10,
     "metadata": {},
     "output_type": "execute_result"
    }
   ],
   "execution_count": 10
  },
  {
   "metadata": {
    "ExecuteTime": {
     "end_time": "2024-06-05T03:45:20.249369Z",
     "start_time": "2024-06-05T03:45:20.228321Z"
    }
   },
   "cell_type": "code",
   "source": [
    "rq1 = pd.read_csv('./data/processed/20-MAD/rq/rq1_full_dataset.csv')\n",
    "rq1.head()"
   ],
   "id": "f47f85d5a50dec67",
   "outputs": [
    {
     "data": {
      "text/plain": [
       "    repo                                 committer         R  di    C  \\\n",
       "0  camel  006d9c4a5925af5d8d7e52c1311f7381e890c56b  0.000314  12   21   \n",
       "1  camel  01395775028cc76b0146d0ab7d59b13f55c107df  0.000112   3    5   \n",
       "2  camel  029d7545ecac8effb947da79244fa4303e248a9e  0.000566  22   44   \n",
       "3  camel  02b398add21c5d64e44829f3817f21a829787dce  0.001443  70  208   \n",
       "4  camel  03053480b7b1f0f88aa15206d51b75a224ea5c78  0.000329   8    9   \n",
       "\n",
       "   negative  neutral  positive commiter frequency  \n",
       "0         0       21         0             medium  \n",
       "1         0        5         0             medium  \n",
       "2         0       44         0               high  \n",
       "3        13      195         0               high  \n",
       "4         1        8         0             medium  "
      ],
      "text/html": [
       "<div>\n",
       "<style scoped>\n",
       "    .dataframe tbody tr th:only-of-type {\n",
       "        vertical-align: middle;\n",
       "    }\n",
       "\n",
       "    .dataframe tbody tr th {\n",
       "        vertical-align: top;\n",
       "    }\n",
       "\n",
       "    .dataframe thead th {\n",
       "        text-align: right;\n",
       "    }\n",
       "</style>\n",
       "<table border=\"1\" class=\"dataframe\">\n",
       "  <thead>\n",
       "    <tr style=\"text-align: right;\">\n",
       "      <th></th>\n",
       "      <th>repo</th>\n",
       "      <th>committer</th>\n",
       "      <th>R</th>\n",
       "      <th>di</th>\n",
       "      <th>C</th>\n",
       "      <th>negative</th>\n",
       "      <th>neutral</th>\n",
       "      <th>positive</th>\n",
       "      <th>commiter frequency</th>\n",
       "    </tr>\n",
       "  </thead>\n",
       "  <tbody>\n",
       "    <tr>\n",
       "      <th>0</th>\n",
       "      <td>camel</td>\n",
       "      <td>006d9c4a5925af5d8d7e52c1311f7381e890c56b</td>\n",
       "      <td>0.000314</td>\n",
       "      <td>12</td>\n",
       "      <td>21</td>\n",
       "      <td>0</td>\n",
       "      <td>21</td>\n",
       "      <td>0</td>\n",
       "      <td>medium</td>\n",
       "    </tr>\n",
       "    <tr>\n",
       "      <th>1</th>\n",
       "      <td>camel</td>\n",
       "      <td>01395775028cc76b0146d0ab7d59b13f55c107df</td>\n",
       "      <td>0.000112</td>\n",
       "      <td>3</td>\n",
       "      <td>5</td>\n",
       "      <td>0</td>\n",
       "      <td>5</td>\n",
       "      <td>0</td>\n",
       "      <td>medium</td>\n",
       "    </tr>\n",
       "    <tr>\n",
       "      <th>2</th>\n",
       "      <td>camel</td>\n",
       "      <td>029d7545ecac8effb947da79244fa4303e248a9e</td>\n",
       "      <td>0.000566</td>\n",
       "      <td>22</td>\n",
       "      <td>44</td>\n",
       "      <td>0</td>\n",
       "      <td>44</td>\n",
       "      <td>0</td>\n",
       "      <td>high</td>\n",
       "    </tr>\n",
       "    <tr>\n",
       "      <th>3</th>\n",
       "      <td>camel</td>\n",
       "      <td>02b398add21c5d64e44829f3817f21a829787dce</td>\n",
       "      <td>0.001443</td>\n",
       "      <td>70</td>\n",
       "      <td>208</td>\n",
       "      <td>13</td>\n",
       "      <td>195</td>\n",
       "      <td>0</td>\n",
       "      <td>high</td>\n",
       "    </tr>\n",
       "    <tr>\n",
       "      <th>4</th>\n",
       "      <td>camel</td>\n",
       "      <td>03053480b7b1f0f88aa15206d51b75a224ea5c78</td>\n",
       "      <td>0.000329</td>\n",
       "      <td>8</td>\n",
       "      <td>9</td>\n",
       "      <td>1</td>\n",
       "      <td>8</td>\n",
       "      <td>0</td>\n",
       "      <td>medium</td>\n",
       "    </tr>\n",
       "  </tbody>\n",
       "</table>\n",
       "</div>"
      ]
     },
     "execution_count": 3,
     "metadata": {},
     "output_type": "execute_result"
    }
   ],
   "execution_count": 3
  },
  {
   "metadata": {
    "ExecuteTime": {
     "end_time": "2024-06-05T03:48:01.591976Z",
     "start_time": "2024-06-05T03:48:01.163256Z"
    }
   },
   "cell_type": "code",
   "source": [
    "rq3_4 = pd.read_csv('./data/processed/20-MAD/rq/rq3_rq4_merged.csv')\n",
    "rq3_4.head()"
   ],
   "id": "7c398ddc678e8eb8",
   "outputs": [
    {
     "data": {
      "text/plain": [
       "         product_name  issue_id  comment_id  priority issuetype text_sentiment\n",
       "0           Directory   13321.0     16249.0  Critical      Task       negative\n",
       "1           Directory   13321.0     16250.0  Critical      Task        neutral\n",
       "2  Directory ApacheDS   13322.0     16251.0  Critical       Bug        neutral\n",
       "3              Avalon   13491.0     16253.0     Major       Bug        neutral\n",
       "4           Directory   13555.0     26464.0  Critical      Task        neutral"
      ],
      "text/html": [
       "<div>\n",
       "<style scoped>\n",
       "    .dataframe tbody tr th:only-of-type {\n",
       "        vertical-align: middle;\n",
       "    }\n",
       "\n",
       "    .dataframe tbody tr th {\n",
       "        vertical-align: top;\n",
       "    }\n",
       "\n",
       "    .dataframe thead th {\n",
       "        text-align: right;\n",
       "    }\n",
       "</style>\n",
       "<table border=\"1\" class=\"dataframe\">\n",
       "  <thead>\n",
       "    <tr style=\"text-align: right;\">\n",
       "      <th></th>\n",
       "      <th>product_name</th>\n",
       "      <th>issue_id</th>\n",
       "      <th>comment_id</th>\n",
       "      <th>priority</th>\n",
       "      <th>issuetype</th>\n",
       "      <th>text_sentiment</th>\n",
       "    </tr>\n",
       "  </thead>\n",
       "  <tbody>\n",
       "    <tr>\n",
       "      <th>0</th>\n",
       "      <td>Directory</td>\n",
       "      <td>13321.0</td>\n",
       "      <td>16249.0</td>\n",
       "      <td>Critical</td>\n",
       "      <td>Task</td>\n",
       "      <td>negative</td>\n",
       "    </tr>\n",
       "    <tr>\n",
       "      <th>1</th>\n",
       "      <td>Directory</td>\n",
       "      <td>13321.0</td>\n",
       "      <td>16250.0</td>\n",
       "      <td>Critical</td>\n",
       "      <td>Task</td>\n",
       "      <td>neutral</td>\n",
       "    </tr>\n",
       "    <tr>\n",
       "      <th>2</th>\n",
       "      <td>Directory ApacheDS</td>\n",
       "      <td>13322.0</td>\n",
       "      <td>16251.0</td>\n",
       "      <td>Critical</td>\n",
       "      <td>Bug</td>\n",
       "      <td>neutral</td>\n",
       "    </tr>\n",
       "    <tr>\n",
       "      <th>3</th>\n",
       "      <td>Avalon</td>\n",
       "      <td>13491.0</td>\n",
       "      <td>16253.0</td>\n",
       "      <td>Major</td>\n",
       "      <td>Bug</td>\n",
       "      <td>neutral</td>\n",
       "    </tr>\n",
       "    <tr>\n",
       "      <th>4</th>\n",
       "      <td>Directory</td>\n",
       "      <td>13555.0</td>\n",
       "      <td>26464.0</td>\n",
       "      <td>Critical</td>\n",
       "      <td>Task</td>\n",
       "      <td>neutral</td>\n",
       "    </tr>\n",
       "  </tbody>\n",
       "</table>\n",
       "</div>"
      ]
     },
     "execution_count": 4,
     "metadata": {},
     "output_type": "execute_result"
    }
   ],
   "execution_count": 4
  },
  {
   "metadata": {
    "ExecuteTime": {
     "end_time": "2024-06-05T03:48:35.175659Z",
     "start_time": "2024-06-05T03:48:35.173034Z"
    }
   },
   "cell_type": "code",
   "source": "len(rq3_4)",
   "id": "58e5c43659a42f63",
   "outputs": [
    {
     "data": {
      "text/plain": [
       "988571"
      ]
     },
     "execution_count": 5,
     "metadata": {},
     "output_type": "execute_result"
    }
   ],
   "execution_count": 5
  },
  {
   "metadata": {
    "ExecuteTime": {
     "end_time": "2024-06-06T07:35:12.290042Z",
     "start_time": "2024-06-06T07:34:08.302301Z"
    }
   },
   "cell_type": "code",
   "source": "og_issue = pd.read_csv(\"./data/processed/20-MAD/issue_comments.csv\")",
   "id": "824d0adf02c7cc5c",
   "outputs": [
    {
     "name": "stderr",
     "output_type": "stream",
     "text": [
      "/tmp/ipykernel_5553/1768556512.py:1: DtypeWarning: Columns (6,7,8) have mixed types. Specify dtype option on import or set low_memory=False.\n",
      "  og_issue = pd.read_csv(\"./data/processed/20-MAD/issue_comments.csv\")\n"
     ]
    }
   ],
   "execution_count": 2
  },
  {
   "metadata": {
    "ExecuteTime": {
     "end_time": "2024-06-06T07:55:31.954123Z",
     "start_time": "2024-06-06T07:55:09.472826Z"
    }
   },
   "cell_type": "code",
   "source": "issues = pd.read_csv(\"./data/processed/20-MAD/issues.csv\")",
   "id": "b5f6af504a3e9828",
   "outputs": [
    {
     "name": "stderr",
     "output_type": "stream",
     "text": [
      "/tmp/ipykernel_13397/4096573144.py:1: DtypeWarning: Columns (3,6,8,9,10,12,14,18,19,20,22,24) have mixed types. Specify dtype option on import or set low_memory=False.\n",
      "  issues = pd.read_csv(\"./data/processed/20-MAD/issues.csv\")\n"
     ]
    }
   ],
   "execution_count": 5
  },
  {
   "metadata": {
    "ExecuteTime": {
     "end_time": "2024-06-06T07:55:40.277041Z",
     "start_time": "2024-06-06T07:55:40.190360Z"
    }
   },
   "cell_type": "code",
   "source": "issues[\"priority\"].value_counts()",
   "id": "2a3e4ba2ae1bcf62",
   "outputs": [
    {
     "data": {
      "text/plain": [
       "priority\n",
       "--          1093268\n",
       "Major        582743\n",
       "Minor        177287\n",
       "P3           135794\n",
       "P1            65110\n",
       "P2            63461\n",
       "P5            51990\n",
       "Critical      39798\n",
       "Blocker       28302\n",
       "Trivial       26907\n",
       "P4            21439\n",
       "Normal         8359\n",
       "Low            6473\n",
       "Urgent          590\n",
       "High             11\n",
       "Name: count, dtype: int64"
      ]
     },
     "execution_count": 6,
     "metadata": {},
     "output_type": "execute_result"
    }
   ],
   "execution_count": 6
  },
  {
   "metadata": {
    "ExecuteTime": {
     "end_time": "2024-06-06T07:55:42.678224Z",
     "start_time": "2024-06-06T07:55:42.617734Z"
    }
   },
   "cell_type": "code",
   "source": "issues[\"severity\"].value_counts()",
   "id": "f671c699636cecd1",
   "outputs": [
    {
     "data": {
      "text/plain": [
       "severity\n",
       "normal         1118689\n",
       "critical         92066\n",
       "major            78500\n",
       "enhancement      65072\n",
       "minor            44653\n",
       "trivial          18208\n",
       "blocker          13874\n",
       "Name: count, dtype: int64"
      ]
     },
     "execution_count": 7,
     "metadata": {},
     "output_type": "execute_result"
    }
   ],
   "execution_count": 7
  },
  {
   "metadata": {
    "ExecuteTime": {
     "end_time": "2024-06-06T08:02:51.508683Z",
     "start_time": "2024-06-06T08:02:51.426593Z"
    }
   },
   "cell_type": "code",
   "source": "issues[\"source\"].value_counts()",
   "id": "636d01dbf7453b62",
   "outputs": [
    {
     "data": {
      "text/plain": [
       "source\n",
       "mozilla    1431062\n",
       "apache      883064\n",
       "Name: count, dtype: int64"
      ]
     },
     "execution_count": 13,
     "metadata": {},
     "output_type": "execute_result"
    }
   ],
   "execution_count": 13
  },
  {
   "metadata": {
    "ExecuteTime": {
     "end_time": "2024-06-06T08:04:18.898939Z",
     "start_time": "2024-06-06T08:04:18.626626Z"
    }
   },
   "cell_type": "code",
   "source": [
    "# find number of issues where source is JIRA and issuetype is Bug\n",
    "len(issues[(issues[\"source\"] == \"apache\") & (issues[\"issuetype\"] == \"Bug\")])"
   ],
   "id": "a22d845f2c0241f6",
   "outputs": [
    {
     "data": {
      "text/plain": [
       "469040"
      ]
     },
     "execution_count": 18,
     "metadata": {},
     "output_type": "execute_result"
    }
   ],
   "execution_count": 18
  },
  {
   "metadata": {
    "ExecuteTime": {
     "end_time": "2024-06-06T08:05:17.920363Z",
     "start_time": "2024-06-06T08:05:17.790925Z"
    }
   },
   "cell_type": "code",
   "source": "len(issues[(issues[\"source\"] == \"mozilla\") & (issues[\"issuetype\"] == \"Bug\")])",
   "id": "4c61a383f3a4a76c",
   "outputs": [
    {
     "data": {
      "text/plain": [
       "0"
      ]
     },
     "execution_count": 19,
     "metadata": {},
     "output_type": "execute_result"
    }
   ],
   "execution_count": 19
  },
  {
   "metadata": {
    "ExecuteTime": {
     "end_time": "2024-06-06T08:07:26.385932Z",
     "start_time": "2024-06-06T08:07:26.060748Z"
    }
   },
   "cell_type": "code",
   "source": "issues[issues[\"source\"] == \"mozilla\"][\"issuetype\"]",
   "id": "5c922cda636dc46d",
   "outputs": [
    {
     "data": {
      "text/plain": [
       "883064     NaN\n",
       "883065     NaN\n",
       "883066     NaN\n",
       "883067     NaN\n",
       "883068     NaN\n",
       "          ... \n",
       "2314121    NaN\n",
       "2314122    NaN\n",
       "2314123    NaN\n",
       "2314124    NaN\n",
       "2314125    NaN\n",
       "Name: issuetype, Length: 1431062, dtype: object"
      ]
     },
     "execution_count": 21,
     "metadata": {},
     "output_type": "execute_result"
    }
   ],
   "execution_count": 21
  },
  {
   "metadata": {},
   "cell_type": "code",
   "outputs": [],
   "execution_count": null,
   "source": "",
   "id": "be9cb576d052a919"
  },
  {
   "metadata": {
    "ExecuteTime": {
     "end_time": "2024-06-06T07:59:08.951103Z",
     "start_time": "2024-06-06T07:59:08.764568Z"
    }
   },
   "cell_type": "code",
   "source": "issues[issues[\"severity\"].isin([\"blocker\", \"critical\", \"major\", \"minor\", \"trivial\"])][\"issuetype\"].value_counts()",
   "id": "cee933eadaeb5862",
   "outputs": [
    {
     "data": {
      "text/plain": [
       "Series([], Name: count, dtype: int64)"
      ]
     },
     "execution_count": 10,
     "metadata": {},
     "output_type": "execute_result"
    }
   ],
   "execution_count": 10
  },
  {
   "metadata": {
    "ExecuteTime": {
     "end_time": "2024-06-06T07:41:49.666528Z",
     "start_time": "2024-06-06T07:41:49.663778Z"
    }
   },
   "cell_type": "code",
   "source": "len(issues) - 1118689",
   "id": "277e078ad05fac3a",
   "outputs": [
    {
     "data": {
      "text/plain": [
       "1195437"
      ]
     },
     "execution_count": 8,
     "metadata": {},
     "output_type": "execute_result"
    }
   ],
   "execution_count": 8
  },
  {
   "metadata": {},
   "cell_type": "code",
   "outputs": [],
   "execution_count": null,
   "source": "issues[issues[\"priority\"] in [\"\"]][\"issuetype\"].value_counts()",
   "id": "ded90be35315399f"
  },
  {
   "metadata": {
    "ExecuteTime": {
     "end_time": "2024-06-06T07:54:16.466806Z",
     "start_time": "2024-06-06T07:51:15.698938Z"
    }
   },
   "cell_type": "code",
   "source": "issue_comments = pd.read_csv(\"./data/processed/20-MAD/issue_comments.csv\")",
   "id": "79ea16ad08fa5f2b",
   "outputs": [
    {
     "name": "stderr",
     "output_type": "stream",
     "text": [
      "/tmp/ipykernel_13397/657467561.py:1: DtypeWarning: Columns (6,7,8) have mixed types. Specify dtype option on import or set low_memory=False.\n",
      "  issue_comments = pd.read_csv(\"./data/processed/20-MAD/issue_comments.csv\")\n"
     ]
    }
   ],
   "execution_count": 2
  },
  {
   "metadata": {
    "ExecuteTime": {
     "end_time": "2024-06-06T07:54:24.107401Z",
     "start_time": "2024-06-06T07:54:24.104491Z"
    }
   },
   "cell_type": "code",
   "source": "len(issue_comments) * 0.2",
   "id": "3c2ae65b1dec8472",
   "outputs": [
    {
     "data": {
      "text/plain": [
       "3087994.2"
      ]
     },
     "execution_count": 4,
     "metadata": {},
     "output_type": "execute_result"
    }
   ],
   "execution_count": 4
  },
  {
   "metadata": {
    "ExecuteTime": {
     "end_time": "2024-06-06T08:13:37.579772Z",
     "start_time": "2024-06-06T08:13:32.654867Z"
    }
   },
   "cell_type": "code",
   "source": "issues_pq = pq.read_table(\"./data/20-MAD/issues.parquet\").to_pandas()",
   "id": "f1e20837d23d1ba6",
   "outputs": [],
   "execution_count": 2
  },
  {
   "metadata": {
    "ExecuteTime": {
     "end_time": "2024-06-06T08:14:25.915161Z",
     "start_time": "2024-06-06T08:14:25.470543Z"
    }
   },
   "cell_type": "code",
   "source": "issues_pq[issues_pq[\"source\"] != \"apache\"][\"issuetype\"].value_counts()",
   "id": "b6a4c7f9e616f0c",
   "outputs": [
    {
     "data": {
      "text/plain": [
       "Series([], Name: count, dtype: int64)"
      ]
     },
     "execution_count": 4,
     "metadata": {},
     "output_type": "execute_result"
    }
   ],
   "execution_count": 4
  },
  {
   "metadata": {
    "ExecuteTime": {
     "end_time": "2024-06-06T08:40:28.989468Z",
     "start_time": "2024-06-06T08:40:19.023703Z"
    }
   },
   "cell_type": "code",
   "source": "issues2 = pd.read_parquet(\"./data/20-MAD/issues.parquet\")",
   "id": "14e2ce43a3c2cbac",
   "outputs": [],
   "execution_count": 5
  },
  {
   "metadata": {
    "ExecuteTime": {
     "end_time": "2024-06-06T09:01:01.318657Z",
     "start_time": "2024-06-06T09:01:01.067632Z"
    }
   },
   "cell_type": "code",
   "source": "len(issues2[(issues2[\"issuetype\"].notnull()) & (issues2[\"issuetype\"] != \" \")])",
   "id": "b38a313d3eb85291",
   "outputs": [
    {
     "data": {
      "text/plain": [
       "883065"
      ]
     },
     "execution_count": 12,
     "metadata": {},
     "output_type": "execute_result"
    }
   ],
   "execution_count": 12
  },
  {
   "metadata": {
    "ExecuteTime": {
     "end_time": "2024-06-06T09:00:54.126881Z",
     "start_time": "2024-06-06T09:00:53.912049Z"
    }
   },
   "cell_type": "code",
   "source": "len(issues2[(issues2[\"issuetype\"].notnull())])",
   "id": "b672d548a2e4b197",
   "outputs": [
    {
     "data": {
      "text/plain": [
       "883065"
      ]
     },
     "execution_count": 11,
     "metadata": {},
     "output_type": "execute_result"
    }
   ],
   "execution_count": 11
  },
  {
   "metadata": {
    "ExecuteTime": {
     "end_time": "2024-06-06T09:03:05.881025Z",
     "start_time": "2024-06-06T09:03:05.829300Z"
    }
   },
   "cell_type": "code",
   "source": "issues2[issues2[\"issuetype\"] == \"New Bugzilla Project\"]",
   "id": "aaf3a0ec0a9e2ce6",
   "outputs": [
    {
     "data": {
      "text/plain": [
       "        source product  issue_id    issue_key                   created  \\\n",
       "443178  apache   INFRA  13003427  INFRA-12587 2016-09-08 03:23:59+00:00   \n",
       "\n",
       "                         updated last_resolved  \\\n",
       "443178 2017-06-17 07:31:20+00:00           NaT   \n",
       "\n",
       "                                   summary description version  ...  \\\n",
       "443178  Request for a new bugzilla project        None    None  ...   \n",
       "\n",
       "       resolution component votes    product_name  \\\n",
       "443178   Resolved      JIRA     0  Infrastructure   \n",
       "\n",
       "                                    reporter_key reporter_tz  \\\n",
       "443178  34f9f5a9e096129782c9da496570c3e39b7e7c5b     Etc/UTC   \n",
       "\n",
       "                                     creator_key  creator_tz assignee_key  \\\n",
       "443178  34f9f5a9e096129782c9da496570c3e39b7e7c5b     Etc/UTC         None   \n",
       "\n",
       "       assignee_tz  \n",
       "443178        None  \n",
       "\n",
       "[1 rows x 25 columns]"
      ],
      "text/html": [
       "<div>\n",
       "<style scoped>\n",
       "    .dataframe tbody tr th:only-of-type {\n",
       "        vertical-align: middle;\n",
       "    }\n",
       "\n",
       "    .dataframe tbody tr th {\n",
       "        vertical-align: top;\n",
       "    }\n",
       "\n",
       "    .dataframe thead th {\n",
       "        text-align: right;\n",
       "    }\n",
       "</style>\n",
       "<table border=\"1\" class=\"dataframe\">\n",
       "  <thead>\n",
       "    <tr style=\"text-align: right;\">\n",
       "      <th></th>\n",
       "      <th>source</th>\n",
       "      <th>product</th>\n",
       "      <th>issue_id</th>\n",
       "      <th>issue_key</th>\n",
       "      <th>created</th>\n",
       "      <th>updated</th>\n",
       "      <th>last_resolved</th>\n",
       "      <th>summary</th>\n",
       "      <th>description</th>\n",
       "      <th>version</th>\n",
       "      <th>...</th>\n",
       "      <th>resolution</th>\n",
       "      <th>component</th>\n",
       "      <th>votes</th>\n",
       "      <th>product_name</th>\n",
       "      <th>reporter_key</th>\n",
       "      <th>reporter_tz</th>\n",
       "      <th>creator_key</th>\n",
       "      <th>creator_tz</th>\n",
       "      <th>assignee_key</th>\n",
       "      <th>assignee_tz</th>\n",
       "    </tr>\n",
       "  </thead>\n",
       "  <tbody>\n",
       "    <tr>\n",
       "      <th>443178</th>\n",
       "      <td>apache</td>\n",
       "      <td>INFRA</td>\n",
       "      <td>13003427</td>\n",
       "      <td>INFRA-12587</td>\n",
       "      <td>2016-09-08 03:23:59+00:00</td>\n",
       "      <td>2017-06-17 07:31:20+00:00</td>\n",
       "      <td>NaT</td>\n",
       "      <td>Request for a new bugzilla project</td>\n",
       "      <td>None</td>\n",
       "      <td>None</td>\n",
       "      <td>...</td>\n",
       "      <td>Resolved</td>\n",
       "      <td>JIRA</td>\n",
       "      <td>0</td>\n",
       "      <td>Infrastructure</td>\n",
       "      <td>34f9f5a9e096129782c9da496570c3e39b7e7c5b</td>\n",
       "      <td>Etc/UTC</td>\n",
       "      <td>34f9f5a9e096129782c9da496570c3e39b7e7c5b</td>\n",
       "      <td>Etc/UTC</td>\n",
       "      <td>None</td>\n",
       "      <td>None</td>\n",
       "    </tr>\n",
       "  </tbody>\n",
       "</table>\n",
       "<p>1 rows × 25 columns</p>\n",
       "</div>"
      ]
     },
     "execution_count": 14,
     "metadata": {},
     "output_type": "execute_result"
    }
   ],
   "execution_count": 14
  },
  {
   "metadata": {},
   "cell_type": "code",
   "outputs": [],
   "execution_count": null,
   "source": "",
   "id": "9ae231c90a5231fe"
  }
 ],
 "metadata": {
  "kernelspec": {
   "display_name": "Python 3",
   "language": "python",
   "name": "python3"
  },
  "language_info": {
   "codemirror_mode": {
    "name": "ipython",
    "version": 2
   },
   "file_extension": ".py",
   "mimetype": "text/x-python",
   "name": "python",
   "nbconvert_exporter": "python",
   "pygments_lexer": "ipython2",
   "version": "2.7.6"
  }
 },
 "nbformat": 4,
 "nbformat_minor": 5
}
