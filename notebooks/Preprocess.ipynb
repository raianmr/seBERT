{
 "cells": [
  {
   "cell_type": "code",
   "id": "initial_id",
   "metadata": {
    "collapsed": true,
    "ExecuteTime": {
     "end_time": "2024-05-02T00:16:20.612299Z",
     "start_time": "2024-05-02T00:16:18.021905Z"
    }
   },
   "source": [
    "from transformers import BertTokenizer, BertForSequenceClassification, pipeline\n",
    "import pyarrow.parquet as pq\n",
    "from pathlib import Path\n",
    "import pandas as pd\n",
    "import torch"
   ],
   "outputs": [],
   "execution_count": 1
  },
  {
   "metadata": {},
   "cell_type": "code",
   "outputs": [],
   "execution_count": null,
   "source": "",
   "id": "f41716fa344948c7"
  },
  {
   "metadata": {
    "ExecuteTime": {
     "end_time": "2024-05-02T01:08:45.473512Z",
     "start_time": "2024-05-02T01:08:42.877869Z"
    }
   },
   "cell_type": "code",
   "source": [
    "MODEL_PATH = './models/sentiment/'\n",
    "model = BertForSequenceClassification.from_pretrained(MODEL_PATH)\n",
    "tokenizer = BertTokenizer.from_pretrained(MODEL_PATH)\n",
    "\n",
    "device = \"cuda\" if torch.cuda.is_available() else \"cpu\"\n",
    "livetest = pipeline('sentiment-analysis',\n",
    "                    model=model,\n",
    "                    tokenizer=tokenizer,\n",
    "                    max_length=512,\n",
    "                    batch_size=256,\n",
    "                    truncation=True,\n",
    "                    device=device\n",
    "                    )\n",
    "\n",
    "label_map = {'LABEL_0': 'negative',\n",
    "             'LABEL_1': 'neutral',\n",
    "             'LABEL_2': 'positive'}"
   ],
   "id": "ba5a84323d6fa5a4",
   "outputs": [],
   "execution_count": 20
  },
  {
   "metadata": {
    "ExecuteTime": {
     "end_time": "2024-05-02T01:08:45.478720Z",
     "start_time": "2024-05-02T01:08:45.475587Z"
    }
   },
   "cell_type": "code",
   "source": "livetest.model.config.max_position_embeddings",
   "id": "20969ba3de3ff1a9",
   "outputs": [
    {
     "data": {
      "text/plain": [
       "512"
      ]
     },
     "execution_count": 21,
     "metadata": {},
     "output_type": "execute_result"
    }
   ],
   "execution_count": 21
  },
  {
   "metadata": {
    "ExecuteTime": {
     "end_time": "2024-05-02T01:10:01.584880Z",
     "start_time": "2024-05-02T01:10:01.581349Z"
    }
   },
   "cell_type": "code",
   "source": [
    "INPUT_PARQUET = \"./data/commits.parquet\"\n",
    "SENTIMENT_FIELD = \"processed_message\"\n",
    "OUTPUT_CSV = './data/processed/commits.csv'\n",
    "CHUNK_SIZE = 4096"
   ],
   "id": "3fc0fd16d140dd93",
   "outputs": [],
   "execution_count": 22
  },
  {
   "metadata": {
    "ExecuteTime": {
     "end_time": "2024-05-02T01:10:15.947003Z",
     "start_time": "2024-05-02T01:10:15.930679Z"
    }
   },
   "cell_type": "code",
   "source": "data = pq.ParquetFile(INPUT_PARQUET)",
   "id": "adabf3eae417228b",
   "outputs": [],
   "execution_count": 23
  },
  {
   "metadata": {
    "ExecuteTime": {
     "end_time": "2024-05-02T01:10:20.082291Z",
     "start_time": "2024-05-02T01:10:20.079541Z"
    }
   },
   "cell_type": "code",
   "source": "data.metadata",
   "id": "e817367ea90c209d",
   "outputs": [
    {
     "data": {
      "text/plain": [
       "<pyarrow._parquet.FileMetaData object at 0x7625cc9f6bb0>\n",
       "  created_by: parquet-cpp-arrow version 11.0.0\n",
       "  num_columns: 22\n",
       "  num_rows: 3439001\n",
       "  num_row_groups: 1\n",
       "  format_version: 2.6\n",
       "  serialized_size: 14080"
      ]
     },
     "execution_count": 24,
     "metadata": {},
     "output_type": "execute_result"
    }
   ],
   "execution_count": 24
  },
  {
   "metadata": {
    "ExecuteTime": {
     "end_time": "2024-05-02T01:10:42.595267Z",
     "start_time": "2024-05-02T01:10:42.590355Z"
    }
   },
   "cell_type": "code",
   "source": "data.schema",
   "id": "30eda1fd236c24ab",
   "outputs": [
    {
     "data": {
      "text/plain": [
       "<pyarrow._parquet.ParquetSchema object at 0x7625bfd28740>\n",
       "required group field_id=-1 schema {\n",
       "  optional binary field_id=-1 source (String);\n",
       "  optional binary field_id=-1 repo (String);\n",
       "  optional binary field_id=-1 hash (String);\n",
       "  optional binary field_id=-1 parents (String);\n",
       "  optional binary field_id=-1 author (String);\n",
       "  optional int64 field_id=-1 author_time (Timestamp(isAdjustedToUTC=true, timeUnit=microseconds, is_from_converted_type=false, force_set_converted_type=false));\n",
       "  optional binary field_id=-1 author_tz (String);\n",
       "  optional int64 field_id=-1 local_author_time (Timestamp(isAdjustedToUTC=true, timeUnit=microseconds, is_from_converted_type=false, force_set_converted_type=false));\n",
       "  optional binary field_id=-1 part_of_day_author (String);\n",
       "  optional binary field_id=-1 committer (String);\n",
       "  optional int64 field_id=-1 commit_time (Timestamp(isAdjustedToUTC=true, timeUnit=microseconds, is_from_converted_type=false, force_set_converted_type=false));\n",
       "  optional binary field_id=-1 commit_tz (String);\n",
       "  optional int64 field_id=-1 local_commit_time (Timestamp(isAdjustedToUTC=true, timeUnit=microseconds, is_from_converted_type=false, force_set_converted_type=false));\n",
       "  optional binary field_id=-1 part_of_day_commit (String);\n",
       "  optional binary field_id=-1 message (String);\n",
       "  optional binary field_id=-1 processed_message (String);\n",
       "  optional double field_id=-1 issue_id;\n",
       "  optional double field_id=-1 added;\n",
       "  optional double field_id=-1 removed;\n",
       "  optional boolean field_id=-1 from_svn;\n",
       "  optional boolean field_id=-1 accurate_tz;\n",
       "  optional int64 field_id=-1 __index_level_0__;\n",
       "}"
      ]
     },
     "execution_count": 25,
     "metadata": {},
     "output_type": "execute_result"
    }
   ],
   "execution_count": 25
  },
  {
   "metadata": {
    "ExecuteTime": {
     "end_time": "2024-05-02T01:12:50.119308Z",
     "start_time": "2024-05-02T01:12:50.115776Z"
    }
   },
   "cell_type": "code",
   "source": "",
   "id": "1b30783c5107e2d0",
   "outputs": [
    {
     "data": {
      "text/plain": [
       "16"
      ]
     },
     "execution_count": 27,
     "metadata": {},
     "output_type": "execute_result"
    }
   ],
   "execution_count": 27
  },
  {
   "metadata": {},
   "cell_type": "code",
   "outputs": [],
   "execution_count": null,
   "source": "",
   "id": "ad51a16763f91b98"
  },
  {
   "metadata": {},
   "cell_type": "code",
   "outputs": [],
   "execution_count": null,
   "source": "",
   "id": "aaad82b634aebc44"
  },
  {
   "metadata": {},
   "cell_type": "code",
   "outputs": [],
   "execution_count": null,
   "source": [
    "# INPUT_PARQUET = \"./data/commits.parquet\"\n",
    "# SENTIMENT_FIELD = \"processed_message\"\n",
    "# OUTPUT_CSV = './data/commit_sentiments.csv'\n",
    "# CHUNK_SIZE = 4096\n",
    "# \n",
    "# data = pq.ParquetFile(INPUT_PARQUET)\n",
    "# data.metadata\n",
    "# data.schema\n",
    "# \n",
    "# import time\n",
    "# for chunk in data.iter_batches(batch_size=CHUNK_SIZE):\n",
    "#     chunk: pd.DataFrame = chunk.to_pandas()\n",
    "#     sentiments = livetest(commit_messages[i:i+chunk_size])\n",
    "#     \n",
    "# start_index = 0\n",
    "# save_path = Path()\n",
    "# for i in range(start_index, len(commit_messages), chunk_size):\n",
    "#     \n",
    "#     pred_labels = [label_map[pred['label']] for pred in sentiments]\n",
    "#     pred_scores = [pred['score'] for pred in sentiments]\n",
    "#     pred_df = pd.DataFrame({'predicted_sentiment': pred_labels, 'predicted_score': pred_scores})\n",
    "#     pred_df.index += i\n",
    "#     if save_path.exists():\n",
    "#         pred_df.to_csv(save_path, header=False, mode='a')\n",
    "#     else:\n",
    "#         pred_df.to_csv(save_path, header=True, mode='w')\n",
    "#     print(f\"processed commits: {i+chunk_size}\")\n",
    "#     \n",
    "#     \n"
   ],
   "id": "3876e8c8b206b4e"
  }
 ],
 "metadata": {
  "kernelspec": {
   "display_name": "Python 3",
   "language": "python",
   "name": "python3"
  },
  "language_info": {
   "codemirror_mode": {
    "name": "ipython",
    "version": 2
   },
   "file_extension": ".py",
   "mimetype": "text/x-python",
   "name": "python",
   "nbconvert_exporter": "python",
   "pygments_lexer": "ipython2",
   "version": "2.7.6"
  }
 },
 "nbformat": 4,
 "nbformat_minor": 5
}
