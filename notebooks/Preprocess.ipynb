{
 "cells": [
  {
   "cell_type": "code",
   "id": "initial_id",
   "metadata": {
    "collapsed": true,
    "ExecuteTime": {
     "end_time": "2024-05-13T20:52:32.522459Z",
     "start_time": "2024-05-13T20:52:30.286684Z"
    }
   },
   "source": [
    "from transformers import BertTokenizer, BertForSequenceClassification, pipeline\n",
    "import pyarrow.parquet as pq\n",
    "from pathlib import Path\n",
    "import pandas as pd\n",
    "import torch"
   ],
   "execution_count": 1,
   "outputs": []
  },
  {
   "metadata": {
    "ExecuteTime": {
     "end_time": "2024-05-13T07:50:18.702441Z",
     "start_time": "2024-05-13T07:50:18.700473Z"
    }
   },
   "cell_type": "code",
   "source": "",
   "id": "e0c7ce2c21dc0a54",
   "execution_count": 27,
   "outputs": []
  },
  {
   "metadata": {
    "ExecuteTime": {
     "end_time": "2024-05-13T20:53:06.002709Z",
     "start_time": "2024-05-13T20:53:06.000614Z"
    }
   },
   "cell_type": "code",
   "source": [
    "DATA_PATH = Path('./data/')\n",
    "SENTIMENT_MODEL_PATH = Path('./models/sentiment/')  "
   ],
   "id": "f41716fa344948c7",
   "execution_count": 3,
   "outputs": []
  },
  {
   "metadata": {},
   "cell_type": "markdown",
   "source": "# Fine-tuning",
   "id": "a0342344ed1f5a4c"
  },
  {
   "metadata": {
    "ExecuteTime": {
     "end_time": "2024-05-13T07:50:22.205845Z",
     "start_time": "2024-05-13T07:50:22.179724Z"
    }
   },
   "cell_type": "code",
   "source": [
    "gh = pd.read_csv(DATA_PATH / 'github_gold.csv', sep=';')\n",
    "gh.head()"
   ],
   "id": "a6e6e66e02a43ed",
   "execution_count": 29,
   "outputs": []
  },
  {
   "metadata": {
    "ExecuteTime": {
     "end_time": "2024-05-13T07:50:26.321573Z",
     "start_time": "2024-05-13T07:50:26.309607Z"
    }
   },
   "cell_type": "code",
   "source": [
    "gh = gh[['Text', 'Polarity']]\n",
    "gh.rename(columns={\"Text\": \"text\", 'Polarity': 'label'}, inplace=True)\n",
    "\n",
    "gh.head()"
   ],
   "id": "d5320b0670f7e554",
   "execution_count": 30,
   "outputs": []
  },
  {
   "metadata": {
    "ExecuteTime": {
     "end_time": "2024-05-13T07:50:33.661506Z",
     "start_time": "2024-05-13T07:50:33.654786Z"
    }
   },
   "cell_type": "code",
   "source": [
    "jira = pd.read_csv(DATA_PATH / 'JIRA.csv')\n",
    "jira.head()"
   ],
   "id": "9fa0641a7a1ed775",
   "execution_count": 31,
   "outputs": []
  },
  {
   "metadata": {
    "ExecuteTime": {
     "end_time": "2024-05-13T07:50:38.230505Z",
     "start_time": "2024-05-13T07:50:38.224026Z"
    }
   },
   "cell_type": "code",
   "source": [
    "jira = jira[['sentence', 'oracle']]\n",
    "jira.rename(columns={\"sentence\": \"text\", 'oracle': 'label'}, inplace=True)\n",
    "jira_labels = {\n",
    "    -1: 'negative', \n",
    "    0: 'neutral', \n",
    "    1: 'positive' \n",
    "}\n",
    "jira['label'] = jira['label'].replace(jira_labels)\n",
    "\n",
    "jira.head()"
   ],
   "id": "53305e7a8616130e",
   "execution_count": 32,
   "outputs": []
  },
  {
   "metadata": {
    "ExecuteTime": {
     "end_time": "2024-05-13T07:50:43.849359Z",
     "start_time": "2024-05-13T07:50:43.839082Z"
    }
   },
   "cell_type": "code",
   "source": [
    "so = pd.read_csv(DATA_PATH / 'StackOverflow.csv')\n",
    "so.head()"
   ],
   "id": "ebe5a1138fa1c299",
   "execution_count": 33,
   "outputs": []
  },
  {
   "metadata": {
    "ExecuteTime": {
     "end_time": "2024-05-13T07:50:48.189665Z",
     "start_time": "2024-05-13T07:50:48.184247Z"
    }
   },
   "cell_type": "code",
   "source": [
    "so = so[['text', 'oracle']]\n",
    "so.rename(columns={'oracle': 'label'}, inplace=True)\n",
    "so_labels = {\n",
    "    -1: 'negative', \n",
    "    0: 'neutral', \n",
    "    1: 'positive' \n",
    "}\n",
    "so['label'] = so['label'].replace(so_labels)\n",
    "\n",
    "so.head()"
   ],
   "id": "75a3026a9f8fb8bc",
   "execution_count": 34,
   "outputs": []
  },
  {
   "metadata": {
    "ExecuteTime": {
     "end_time": "2024-05-13T07:50:55.557286Z",
     "start_time": "2024-05-13T07:50:55.545841Z"
    }
   },
   "cell_type": "code",
   "source": [
    "so2 = pd.read_csv(DATA_PATH / 'NewData.csv')\n",
    "so2.head()"
   ],
   "id": "4c0f031fea013c04",
   "execution_count": 35,
   "outputs": []
  },
  {
   "metadata": {
    "ExecuteTime": {
     "end_time": "2024-05-13T07:50:58.517033Z",
     "start_time": "2024-05-13T07:50:58.504279Z"
    }
   },
   "cell_type": "code",
   "source": [
    "so2 = so2[['text', 'oracle']]\n",
    "so2.rename(columns={'oracle': 'label'}, inplace=True)\n",
    "so2['label'] = so2['label'].apply(str.lower)\n",
    "\n",
    "so2.head()"
   ],
   "id": "ae9fccfbb00be817",
   "execution_count": 36,
   "outputs": []
  },
  {
   "metadata": {
    "ExecuteTime": {
     "end_time": "2024-05-13T07:51:05.378079Z",
     "start_time": "2024-05-13T07:51:05.329022Z"
    }
   },
   "cell_type": "code",
   "source": [
    "api = pd.read_excel(DATA_PATH / 'BenchmarkUddinSO-ConsoliatedAspectSentiment.xls')\n",
    "api.head()"
   ],
   "id": "fd7972bfe8c14792",
   "execution_count": 37,
   "outputs": []
  },
  {
   "metadata": {
    "ExecuteTime": {
     "end_time": "2024-05-13T07:51:09.974967Z",
     "start_time": "2024-05-13T07:51:09.968006Z"
    }
   },
   "cell_type": "code",
   "source": [
    "api = api[['sent', 'ManualLabel']]\n",
    "api.rename(columns={\"sent\": \"text\", 'ManualLabel': 'label'}, inplace=True)\n",
    "api_labels = {\n",
    "    'n': 'negative', \n",
    "    'o': 'neutral', \n",
    "    'p': 'positive' \n",
    "}\n",
    "api['label'] = api['label'].replace(api_labels)\n",
    "\n",
    "api.head()"
   ],
   "id": "98fb3805df58c30c",
   "execution_count": 38,
   "outputs": []
  },
  {
   "metadata": {
    "ExecuteTime": {
     "end_time": "2024-05-13T07:53:13.669118Z",
     "start_time": "2024-05-13T07:53:13.565643Z"
    }
   },
   "cell_type": "code",
   "source": [
    "finetuning = pd.concat([gh, jira, so, so2, api], ignore_index=True)\n",
    "\n",
    "from utils import preprocess_text\n",
    "\n",
    "finetuning['text'] = finetuning['text'].apply(preprocess_text)\n",
    "finetuning['label'] = finetuning['label'].apply(str.lower)\n",
    "\n",
    "finetuning['label'].value_counts()"
   ],
   "id": "6f046b567f0dc6e0",
   "execution_count": 41,
   "outputs": []
  },
  {
   "metadata": {
    "ExecuteTime": {
     "end_time": "2024-05-13T07:54:22.983245Z",
     "start_time": "2024-05-13T07:54:22.945838Z"
    }
   },
   "cell_type": "code",
   "source": [
    "from sklearn.model_selection import train_test_split\n",
    "\n",
    "finetuning_train, finetuning_test = train_test_split(finetuning, test_size=0.1, random_state=42)\n",
    "\n",
    "finetuning_train.to_csv(DATA_PATH / \"processed/finetuning_train.csv\", index=False)\n",
    "finetuning_test.to_csv(DATA_PATH / \"processed/finetuning_test.csv\", index=False)\n",
    "\n",
    "print(f\"Train: \\t{len(finetuning_train)}\")\n",
    "print(f\"Test: \\t{len(finetuning_test)}\")"
   ],
   "id": "43f18865234497d9",
   "execution_count": 45,
   "outputs": []
  },
  {
   "metadata": {},
   "cell_type": "markdown",
   "source": "# Evaluation",
   "id": "a9945b09c21e73fd"
  },
  {
   "metadata": {
    "ExecuteTime": {
     "end_time": "2024-05-13T21:08:15.452956Z",
     "start_time": "2024-05-13T21:08:15.428874Z"
    }
   },
   "cell_type": "code",
   "source": [
    "finetuning_test = pd.read_csv(DATA_PATH / \"processed/finetuning_test.csv\")\n",
    "finetuning_test.to_csv(DATA_PATH / \"processed/evaluation.csv\", index=False)\n",
    "finetuning_test_only_text = finetuning_test[['text']]\n",
    "finetuning_test_only_text.to_csv(DATA_PATH / \"processed/evaluation_only_text.csv\", index=False, header=False)\n",
    "\n",
    "finetuning_test_only_text.head()"
   ],
   "id": "33c980ea1ed77516",
   "execution_count": 8,
   "outputs": []
  },
  {
   "metadata": {
    "ExecuteTime": {
     "end_time": "2024-05-13T21:22:01.545281Z",
     "start_time": "2024-05-13T21:22:01.543385Z"
    }
   },
   "cell_type": "code",
   "source": "# manually input evaluation_only_text.csv to SentiStrength-SE and save the output to evaluation_ssse_preds.csv",
   "id": "e8489809df58a9d3",
   "execution_count": 10,
   "outputs": []
  },
  {
   "metadata": {
    "ExecuteTime": {
     "end_time": "2024-05-13T21:23:23.113946Z",
     "start_time": "2024-05-13T21:23:23.105572Z"
    }
   },
   "cell_type": "code",
   "source": [
    "ssse_preds = pd.read_csv(DATA_PATH / \"processed/evaluation_ssse_preds.csv\", header=None, sep='\\t')\n",
    "ssse_preds.columns = ['text', 'label']\n",
    "\n",
    "ssse_preds.head()"
   ],
   "id": "e2817690ef2426b0",
   "execution_count": 13,
   "outputs": []
  },
  {
   "metadata": {
    "ExecuteTime": {
     "end_time": "2024-05-13T21:27:13.607096Z",
     "start_time": "2024-05-13T21:27:13.600672Z"
    }
   },
   "cell_type": "code",
   "source": [
    "# on label column keep last space separated value\n",
    "ssse_preds['label'] = ssse_preds['label'].apply(lambda x: int(x.split()[-1]))\n",
    "ssse_labels = {\n",
    "    -1: 'negative', \n",
    "    0: 'neutral', \n",
    "    1: 'positive' \n",
    "}\n",
    "ssse_preds['label'] = ssse_preds['label'].replace(ssse_labels)\n",
    "\n",
    "ssse_preds.head()"
   ],
   "id": "16acf226ca219076",
   "execution_count": 17,
   "outputs": []
  },
  {
   "metadata": {
    "ExecuteTime": {
     "end_time": "2024-05-13T21:27:26.050905Z",
     "start_time": "2024-05-13T21:27:26.047314Z"
    }
   },
   "cell_type": "code",
   "source": "ssse_preds['label'].value_counts()",
   "id": "58e99fb7dcb7f3d",
   "execution_count": 18,
   "outputs": []
  },
  {
   "metadata": {
    "ExecuteTime": {
     "end_time": "2024-05-13T21:29:07.394999Z",
     "start_time": "2024-05-13T21:29:07.387321Z"
    }
   },
   "cell_type": "code",
   "source": "ssse_preds.to_csv(DATA_PATH / \"processed/evaluation_ssse_preds.csv\", index=False, header=True, sep=',')",
   "id": "a2d3a7053e980ddf",
   "execution_count": 20,
   "outputs": []
  },
  {
   "metadata": {},
   "cell_type": "markdown",
   "source": "# Commits",
   "id": "cbcde690ab7faa8a"
  },
  {
   "metadata": {
    "ExecuteTime": {
     "end_time": "2024-05-13T07:03:25.799294Z",
     "start_time": "2024-05-13T07:03:25.692627Z"
    }
   },
   "cell_type": "code",
   "source": [
    "MODEL_PATH = './models/sentiment/'\n",
    "model = BertForSequenceClassification.from_pretrained(MODEL_PATH)\n",
    "tokenizer = BertTokenizer.from_pretrained(MODEL_PATH)\n",
    "\n",
    "device = \"cuda\" if torch.cuda.is_available() else \"cpu\"\n",
    "livetest = pipeline('sentiment-analysis',\n",
    "                    model=model,\n",
    "                    tokenizer=tokenizer,\n",
    "                    max_length=512,\n",
    "                    batch_size=256,\n",
    "                    truncation=True,\n",
    "                    device=device\n",
    "                    )\n",
    "\n",
    "label_map = {'LABEL_0': 'negative',\n",
    "             'LABEL_1': 'neutral',\n",
    "             'LABEL_2': 'positive'}"
   ],
   "id": "ba5a84323d6fa5a4",
   "execution_count": 1,
   "outputs": []
  },
  {
   "metadata": {
    "ExecuteTime": {
     "end_time": "2024-05-02T01:08:45.478720Z",
     "start_time": "2024-05-02T01:08:45.475587Z"
    }
   },
   "cell_type": "code",
   "source": "livetest.model.config.max_position_embeddings",
   "id": "20969ba3de3ff1a9",
   "execution_count": 21,
   "outputs": []
  },
  {
   "metadata": {
    "ExecuteTime": {
     "end_time": "2024-05-02T01:10:01.584880Z",
     "start_time": "2024-05-02T01:10:01.581349Z"
    }
   },
   "cell_type": "code",
   "source": [
    "INPUT_PARQUET = \"./data/commits.parquet\"\n",
    "SENTIMENT_FIELD = \"processed_message\"\n",
    "OUTPUT_CSV = './data/processed/commits.csv'\n",
    "CHUNK_SIZE = 4096"
   ],
   "id": "3fc0fd16d140dd93",
   "execution_count": 22,
   "outputs": []
  },
  {
   "metadata": {
    "ExecuteTime": {
     "end_time": "2024-05-02T01:10:15.947003Z",
     "start_time": "2024-05-02T01:10:15.930679Z"
    }
   },
   "cell_type": "code",
   "source": "data = pq.ParquetFile(INPUT_PARQUET)",
   "id": "adabf3eae417228b",
   "execution_count": 23,
   "outputs": []
  },
  {
   "metadata": {
    "ExecuteTime": {
     "end_time": "2024-05-02T01:10:20.082291Z",
     "start_time": "2024-05-02T01:10:20.079541Z"
    }
   },
   "cell_type": "code",
   "source": "data.metadata",
   "id": "e817367ea90c209d",
   "execution_count": 24,
   "outputs": []
  },
  {
   "metadata": {
    "ExecuteTime": {
     "end_time": "2024-05-02T01:10:42.595267Z",
     "start_time": "2024-05-02T01:10:42.590355Z"
    }
   },
   "cell_type": "code",
   "source": "data.schema",
   "id": "30eda1fd236c24ab",
   "execution_count": 25,
   "outputs": []
  },
  {
   "metadata": {
    "ExecuteTime": {
     "end_time": "2024-05-02T01:12:50.119308Z",
     "start_time": "2024-05-02T01:12:50.115776Z"
    }
   },
   "cell_type": "code",
   "source": "",
   "id": "1b30783c5107e2d0",
   "execution_count": 27,
   "outputs": []
  },
  {
   "metadata": {},
   "cell_type": "code",
   "execution_count": null,
   "source": "",
   "id": "ad51a16763f91b98",
   "outputs": []
  },
  {
   "metadata": {},
   "cell_type": "code",
   "execution_count": null,
   "source": "",
   "id": "aaad82b634aebc44",
   "outputs": []
  },
  {
   "metadata": {},
   "cell_type": "code",
   "execution_count": null,
   "source": [
    "# INPUT_PARQUET = \"./data/commits.parquet\"\n",
    "# SENTIMENT_FIELD = \"processed_message\"\n",
    "# OUTPUT_CSV = './data/commit_sentiments.csv'\n",
    "# CHUNK_SIZE = 4096\n",
    "# \n",
    "# data = pq.ParquetFile(INPUT_PARQUET)\n",
    "# data.metadata\n",
    "# data.schema\n",
    "# \n",
    "# import time\n",
    "# for chunk in data.iter_batches(batch_size=CHUNK_SIZE):\n",
    "#     chunk: pd.DataFrame = chunk.to_pandas()\n",
    "#     sentiments = livetest(commit_messages[i:i+chunk_size])\n",
    "#     \n",
    "# start_index = 0\n",
    "# save_path = Path()\n",
    "# for i in range(start_index, len(commit_messages), chunk_size):\n",
    "#     \n",
    "#     pred_labels = [label_map[pred['label']] for pred in sentiments]\n",
    "#     pred_scores = [pred['score'] for pred in sentiments]\n",
    "#     pred_df = pd.DataFrame({'predicted_sentiment': pred_labels, 'predicted_score': pred_scores})\n",
    "#     pred_df.index += i\n",
    "#     if save_path.exists():\n",
    "#         pred_df.to_csv(save_path, header=False, mode='a')\n",
    "#     else:\n",
    "#         pred_df.to_csv(save_path, header=True, mode='w')\n",
    "#     print(f\"processed commits: {i+chunk_size}\")\n",
    "#     \n",
    "#     \n"
   ],
   "id": "3876e8c8b206b4e",
   "outputs": []
  }
 ],
 "metadata": {
  "kernelspec": {
   "display_name": "Python 3",
   "language": "python",
   "name": "python3"
  },
  "language_info": {
   "codemirror_mode": {
    "name": "ipython",
    "version": 2
   },
   "file_extension": ".py",
   "mimetype": "text/x-python",
   "name": "python",
   "nbconvert_exporter": "python",
   "pygments_lexer": "ipython2",
   "version": "2.7.6"
  }
 },
 "nbformat": 4,
 "nbformat_minor": 5
}
