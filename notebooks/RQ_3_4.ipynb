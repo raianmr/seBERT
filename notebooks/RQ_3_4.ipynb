{
 "cells": [
  {
   "cell_type": "code",
   "id": "initial_id",
   "metadata": {
    "collapsed": true,
    "ExecuteTime": {
     "end_time": "2024-07-15T06:56:07.387776Z",
     "start_time": "2024-07-15T06:56:04.517188Z"
    }
   },
   "source": [
    "from utils import preprocess_text, labelnum\n",
    "\n",
    "import os\n",
    "from glob import glob\n",
    "from pathlib import Path\n",
    "from datetime import timedelta, datetime, timezone\n",
    "\n",
    "import torch\n",
    "from transformers import BertTokenizer, BertForSequenceClassification, pipeline\n",
    "\n",
    "import pandas as pd\n",
    "import pyarrow.parquet as pq"
   ],
   "outputs": [],
   "execution_count": 1
  },
  {
   "metadata": {
    "ExecuteTime": {
     "end_time": "2024-06-08T05:39:02.762418Z",
     "start_time": "2024-06-08T05:39:01.343268Z"
    }
   },
   "cell_type": "code",
   "source": [
    "MODEL_PATH = Path('./models/sentiment/')\n",
    "\n",
    "model = BertForSequenceClassification.from_pretrained(MODEL_PATH)\n",
    "tokenizer = BertTokenizer.from_pretrained(MODEL_PATH)\n",
    "device = \"cuda\" if torch.cuda.is_available() else \"cpu\"\n",
    "\n",
    "get_sentiment = pipeline('sentiment-analysis',\n",
    "                         model=model,\n",
    "                         tokenizer=tokenizer,\n",
    "                         max_length=512,\n",
    "                         batch_size=128,\n",
    "                         truncation=True,\n",
    "                         device=device\n",
    "                         )\n",
    "\n",
    "label_map = {'LABEL_0': 'negative',\n",
    "             'LABEL_1': 'neutral',\n",
    "             'LABEL_2': 'positive'}"
   ],
   "id": "d4d45acc496afa99",
   "outputs": [],
   "execution_count": 2
  },
  {
   "metadata": {
    "ExecuteTime": {
     "end_time": "2024-06-07T00:55:42.843506Z",
     "start_time": "2024-06-07T00:55:42.841778Z"
    }
   },
   "cell_type": "code",
   "source": "",
   "id": "7c31517664b344f3",
   "outputs": [],
   "execution_count": 2
  },
  {
   "metadata": {},
   "cell_type": "markdown",
   "source": "# Issue comments (Only Jira)\n",
   "id": "eec7c6f3a1448a7d"
  },
  {
   "metadata": {
    "ExecuteTime": {
     "end_time": "2024-07-15T06:56:30.327378Z",
     "start_time": "2024-07-15T06:56:20.251493Z"
    }
   },
   "cell_type": "code",
   "source": [
    "issues = pq.ParquetFile('./data/20-MAD/issues.parquet').read().to_pandas()\n",
    "\n",
    "issues.columns"
   ],
   "id": "d3bbd63e66e1f431",
   "outputs": [
    {
     "data": {
      "text/plain": [
       "Index(['source', 'product', 'issue_id', 'issue_key', 'created', 'updated',\n",
       "       'last_resolved', 'summary', 'description', 'version', 'milestone',\n",
       "       'status', 'severity', 'priority', 'issuetype', 'resolution',\n",
       "       'component', 'votes', 'product_name', 'reporter_key', 'reporter_tz',\n",
       "       'creator_key', 'creator_tz', 'assignee_key', 'assignee_tz'],\n",
       "      dtype='object')"
      ]
     },
     "execution_count": 2,
     "metadata": {},
     "output_type": "execute_result"
    }
   ],
   "execution_count": 2
  },
  {
   "metadata": {
    "ExecuteTime": {
     "end_time": "2024-07-15T06:56:35.678867Z",
     "start_time": "2024-07-15T06:56:35.221749Z"
    }
   },
   "cell_type": "code",
   "source": [
    "columns_to_drop = ['summary', 'description']\n",
    "issues.drop(columns=columns_to_drop, inplace=True)"
   ],
   "id": "1ccd18b9e749b4e6",
   "outputs": [],
   "execution_count": 3
  },
  {
   "metadata": {
    "ExecuteTime": {
     "end_time": "2024-07-15T06:56:40.718811Z",
     "start_time": "2024-07-15T06:56:40.450213Z"
    }
   },
   "cell_type": "code",
   "source": [
    "issues = issues[issues['source'] == 'apache']\n",
    "\n",
    "len(issues)"
   ],
   "id": "b526ca33db5f517a",
   "outputs": [
    {
     "data": {
      "text/plain": [
       "883065"
      ]
     },
     "execution_count": 4,
     "metadata": {},
     "output_type": "execute_result"
    }
   ],
   "execution_count": 4
  },
  {
   "metadata": {
    "ExecuteTime": {
     "end_time": "2024-07-15T06:56:48.604819Z",
     "start_time": "2024-07-15T06:56:48.401524Z"
    }
   },
   "cell_type": "code",
   "source": [
    "non_nullable_issue_columns = [\"product\", \"issue_id\", \"priority\", \"issuetype\"]\n",
    "issues = issues.dropna(subset=non_nullable_issue_columns)\n",
    "\n",
    "len(issues)"
   ],
   "id": "7fc915af0f956b07",
   "outputs": [
    {
     "data": {
      "text/plain": [
       "870471"
      ]
     },
     "execution_count": 5,
     "metadata": {},
     "output_type": "execute_result"
    }
   ],
   "execution_count": 5
  },
  {
   "metadata": {
    "ExecuteTime": {
     "end_time": "2024-07-15T06:56:58.180501Z",
     "start_time": "2024-07-15T06:56:58.136423Z"
    }
   },
   "cell_type": "code",
   "source": "issues['priority'].value_counts()\n",
   "id": "dcf7adec1ed6d9b0",
   "outputs": [
    {
     "data": {
      "text/plain": [
       "priority\n",
       "Major       582743\n",
       "Minor       177287\n",
       "Critical     39798\n",
       "Blocker      28303\n",
       "Trivial      26907\n",
       "Normal        8359\n",
       "Low           6473\n",
       "Urgent         590\n",
       "High            11\n",
       "Name: count, dtype: int64"
      ]
     },
     "execution_count": 6,
     "metadata": {},
     "output_type": "execute_result"
    }
   ],
   "execution_count": 6
  },
  {
   "metadata": {
    "ExecuteTime": {
     "end_time": "2024-07-15T06:57:08.542667Z",
     "start_time": "2024-07-15T06:57:08.402560Z"
    }
   },
   "cell_type": "code",
   "source": [
    "expected_issue_priorities = ['Blocker', 'Critical', 'Major', 'Minor', 'Trivial']\n",
    "issues = issues[issues['priority'].isin(expected_issue_priorities)]\n",
    "\n",
    "len(issues)"
   ],
   "id": "ef9071986c9d9796",
   "outputs": [
    {
     "data": {
      "text/plain": [
       "855038"
      ]
     },
     "execution_count": 7,
     "metadata": {},
     "output_type": "execute_result"
    }
   ],
   "execution_count": 7
  },
  {
   "metadata": {
    "ExecuteTime": {
     "end_time": "2024-06-06T10:52:48.993447Z",
     "start_time": "2024-06-06T10:52:47.867391Z"
    }
   },
   "cell_type": "code",
   "source": [
    "# save modified issues\n",
    "issues.to_parquet('./data/processed/20-MAD/rq/issues_for_rq_3_4.parquet', index=False)"
   ],
   "id": "ee83ff0741bf2010",
   "outputs": [],
   "execution_count": 11
  },
  {
   "metadata": {},
   "cell_type": "markdown",
   "source": "# merge issue comments",
   "id": "b124a758795f1c4"
  },
  {
   "metadata": {
    "ExecuteTime": {
     "end_time": "2024-07-15T06:57:23.458029Z",
     "start_time": "2024-07-15T06:57:22.869258Z"
    }
   },
   "cell_type": "code",
   "source": "issue_comment_metadata = pq.ParquetFile('./data/processed/20-MAD/rq/issues_for_rq_3_4.parquet').read().to_pandas()",
   "id": "1c113f60441166be",
   "outputs": [],
   "execution_count": 8
  },
  {
   "metadata": {
    "ExecuteTime": {
     "end_time": "2024-06-06T10:58:29.281093Z",
     "start_time": "2024-06-06T10:58:29.269191Z"
    }
   },
   "cell_type": "code",
   "source": [
    "from glob import glob\n",
    "\n",
    "nlcomment_files = glob('./data/20-MAD//nlp/jira/apache/*/*_nlcomments.parquet')\n",
    "nlcomment_files.sort()\n",
    "\n",
    "len(nlcomment_files)"
   ],
   "id": "50dc12b5d2cea534",
   "outputs": [
    {
     "data": {
      "text/plain": [
       "653"
      ]
     },
     "execution_count": 14,
     "metadata": {},
     "output_type": "execute_result"
    }
   ],
   "execution_count": 14
  },
  {
   "metadata": {
    "ExecuteTime": {
     "end_time": "2024-06-06T10:59:27.086941Z",
     "start_time": "2024-06-06T10:59:27.076862Z"
    }
   },
   "cell_type": "code",
   "source": [
    "sample = pq.ParquetFile(nlcomment_files[0]).read().to_pandas()\n",
    "sample.head()"
   ],
   "id": "4c1a953511b6ea53",
   "outputs": [
    {
     "data": {
      "text/plain": [
       "   source product  issue_id  comment_id  paragraph_id  \\\n",
       "0  apache     AAR  12963270    15261151             1   \n",
       "1  apache     AAR  12963270    15261151             2   \n",
       "2  apache     AAR  12963270    15261151             3   \n",
       "3  apache     AAR  12963270    15261151             4   \n",
       "4  apache     AAR  12963270    15261151             5   \n",
       "\n",
       "                                                text  nchar  \n",
       "0  Watch The Ultimate Fighter Season 23, Episode ...     61  \n",
       "1  Watch The Ultimate Fighter Season 23, Episode ...     61  \n",
       "2  Watch The Ultimate Fighter Season 23, Episode ...     61  \n",
       "3  Watch The Ultimate Fighter Season 23, Episode ...     61  \n",
       "4  Watch The Ultimate Fighter Season 23, Episode ...     61  "
      ],
      "text/html": [
       "<div>\n",
       "<style scoped>\n",
       "    .dataframe tbody tr th:only-of-type {\n",
       "        vertical-align: middle;\n",
       "    }\n",
       "\n",
       "    .dataframe tbody tr th {\n",
       "        vertical-align: top;\n",
       "    }\n",
       "\n",
       "    .dataframe thead th {\n",
       "        text-align: right;\n",
       "    }\n",
       "</style>\n",
       "<table border=\"1\" class=\"dataframe\">\n",
       "  <thead>\n",
       "    <tr style=\"text-align: right;\">\n",
       "      <th></th>\n",
       "      <th>source</th>\n",
       "      <th>product</th>\n",
       "      <th>issue_id</th>\n",
       "      <th>comment_id</th>\n",
       "      <th>paragraph_id</th>\n",
       "      <th>text</th>\n",
       "      <th>nchar</th>\n",
       "    </tr>\n",
       "  </thead>\n",
       "  <tbody>\n",
       "    <tr>\n",
       "      <th>0</th>\n",
       "      <td>apache</td>\n",
       "      <td>AAR</td>\n",
       "      <td>12963270</td>\n",
       "      <td>15261151</td>\n",
       "      <td>1</td>\n",
       "      <td>Watch The Ultimate Fighter Season 23, Episode ...</td>\n",
       "      <td>61</td>\n",
       "    </tr>\n",
       "    <tr>\n",
       "      <th>1</th>\n",
       "      <td>apache</td>\n",
       "      <td>AAR</td>\n",
       "      <td>12963270</td>\n",
       "      <td>15261151</td>\n",
       "      <td>2</td>\n",
       "      <td>Watch The Ultimate Fighter Season 23, Episode ...</td>\n",
       "      <td>61</td>\n",
       "    </tr>\n",
       "    <tr>\n",
       "      <th>2</th>\n",
       "      <td>apache</td>\n",
       "      <td>AAR</td>\n",
       "      <td>12963270</td>\n",
       "      <td>15261151</td>\n",
       "      <td>3</td>\n",
       "      <td>Watch The Ultimate Fighter Season 23, Episode ...</td>\n",
       "      <td>61</td>\n",
       "    </tr>\n",
       "    <tr>\n",
       "      <th>3</th>\n",
       "      <td>apache</td>\n",
       "      <td>AAR</td>\n",
       "      <td>12963270</td>\n",
       "      <td>15261151</td>\n",
       "      <td>4</td>\n",
       "      <td>Watch The Ultimate Fighter Season 23, Episode ...</td>\n",
       "      <td>61</td>\n",
       "    </tr>\n",
       "    <tr>\n",
       "      <th>4</th>\n",
       "      <td>apache</td>\n",
       "      <td>AAR</td>\n",
       "      <td>12963270</td>\n",
       "      <td>15261151</td>\n",
       "      <td>5</td>\n",
       "      <td>Watch The Ultimate Fighter Season 23, Episode ...</td>\n",
       "      <td>61</td>\n",
       "    </tr>\n",
       "  </tbody>\n",
       "</table>\n",
       "</div>"
      ]
     },
     "execution_count": 15,
     "metadata": {},
     "output_type": "execute_result"
    }
   ],
   "execution_count": 15
  },
  {
   "metadata": {
    "ExecuteTime": {
     "end_time": "2024-06-06T11:07:26.202736Z",
     "start_time": "2024-06-06T11:07:17.091307Z"
    }
   },
   "cell_type": "code",
   "source": [
    "schema = pq.ParquetFile(nlcomment_files[0]).schema_arrow\n",
    "with pq.ParquetWriter(\"./data/processed/20-MAD/rq/issue_comments_without_metadata.parquet\", schema=schema) as writer:\n",
    "    for file in nlcomment_files:\n",
    "        writer.write_table(pq.read_table(file, schema=schema))"
   ],
   "id": "338095057993cb8e",
   "outputs": [],
   "execution_count": 16
  },
  {
   "metadata": {
    "ExecuteTime": {
     "end_time": "2024-06-06T11:08:33.995433Z",
     "start_time": "2024-06-06T11:08:21.967905Z"
    }
   },
   "cell_type": "code",
   "source": [
    "issue_comments_without_metadata = pq.ParquetFile(\n",
    "    './data/processed/20-MAD/rq/issue_comments_without_metadata.parquet').read().to_pandas()"
   ],
   "id": "865690d1b532613a",
   "outputs": [],
   "execution_count": 17
  },
  {
   "metadata": {
    "ExecuteTime": {
     "end_time": "2024-06-06T11:10:12.142055Z",
     "start_time": "2024-06-06T11:10:12.139279Z"
    }
   },
   "cell_type": "code",
   "source": "issue_comments_without_metadata.columns",
   "id": "384c27f02e808302",
   "outputs": [
    {
     "data": {
      "text/plain": [
       "Index(['source', 'product', 'issue_id', 'comment_id', 'paragraph_id', 'text',\n",
       "       'nchar'],\n",
       "      dtype='object')"
      ]
     },
     "execution_count": 19,
     "metadata": {},
     "output_type": "execute_result"
    }
   ],
   "execution_count": 19
  },
  {
   "metadata": {
    "ExecuteTime": {
     "end_time": "2024-06-06T11:13:41.559735Z",
     "start_time": "2024-06-06T11:13:33.422111Z"
    }
   },
   "cell_type": "code",
   "source": [
    "text_column = 'text'\n",
    "non_nullable_columns = [text_column, 'product', 'issue_id', 'comment_id', 'paragraph_id']\n",
    "issue_comments_without_metadata.dropna(subset=non_nullable_columns, inplace=True)\n",
    "\n",
    "len(issue_comments_without_metadata)"
   ],
   "id": "c033a78741a526ca",
   "outputs": [
    {
     "data": {
      "text/plain": [
       "16861861"
      ]
     },
     "execution_count": 20,
     "metadata": {},
     "output_type": "execute_result"
    }
   ],
   "execution_count": 20
  },
  {
   "metadata": {
    "ExecuteTime": {
     "end_time": "2024-06-06T11:15:22.140683Z",
     "start_time": "2024-06-06T11:15:21.684618Z"
    }
   },
   "cell_type": "code",
   "source": "issue_comments_without_metadata[\"source\"].value_counts()",
   "id": "9df1d910013d59af",
   "outputs": [
    {
     "data": {
      "text/plain": [
       "source\n",
       "apache    16861861\n",
       "Name: count, dtype: int64"
      ]
     },
     "execution_count": 22,
     "metadata": {},
     "output_type": "execute_result"
    }
   ],
   "execution_count": 22
  },
  {
   "metadata": {
    "ExecuteTime": {
     "end_time": "2024-06-06T11:20:07.377229Z",
     "start_time": "2024-06-06T11:19:10.063844Z"
    }
   },
   "cell_type": "code",
   "source": [
    "issue_comments_without_metadata_text_merged = \\\n",
    "    issue_comments_without_metadata.groupby(['product', 'issue_id', 'comment_id'], as_index=False)['text'].apply(\n",
    "        ' '.join).reset_index()\n"
   ],
   "id": "9d328bfab621f7b6",
   "outputs": [
    {
     "ename": "AttributeError",
     "evalue": "'DataFrame' object has no attribute 'write_parquet'",
     "output_type": "error",
     "traceback": [
      "\u001B[0;31m---------------------------------------------------------------------------\u001B[0m",
      "\u001B[0;31mAttributeError\u001B[0m                            Traceback (most recent call last)",
      "\u001B[0;32m/tmp/ipykernel_38359/3128729183.py\u001B[0m in \u001B[0;36m?\u001B[0;34m()\u001B[0m\n\u001B[1;32m      1\u001B[0m \u001B[0missue_comments_without_metadata_text_merged\u001B[0m \u001B[0;34m=\u001B[0m \u001B[0missue_comments_without_metadata\u001B[0m\u001B[0;34m.\u001B[0m\u001B[0mgroupby\u001B[0m\u001B[0;34m(\u001B[0m\u001B[0;34m[\u001B[0m\u001B[0;34m'product'\u001B[0m\u001B[0;34m,\u001B[0m \u001B[0;34m'issue_id'\u001B[0m\u001B[0;34m,\u001B[0m \u001B[0;34m'comment_id'\u001B[0m\u001B[0;34m]\u001B[0m\u001B[0;34m,\u001B[0m \u001B[0mas_index\u001B[0m\u001B[0;34m=\u001B[0m\u001B[0;32mFalse\u001B[0m\u001B[0;34m)\u001B[0m\u001B[0;34m[\u001B[0m\u001B[0;34m'text'\u001B[0m\u001B[0;34m]\u001B[0m\u001B[0;34m.\u001B[0m\u001B[0mapply\u001B[0m\u001B[0;34m(\u001B[0m\u001B[0;34m' '\u001B[0m\u001B[0;34m.\u001B[0m\u001B[0mjoin\u001B[0m\u001B[0;34m)\u001B[0m\u001B[0;34m.\u001B[0m\u001B[0mreset_index\u001B[0m\u001B[0;34m(\u001B[0m\u001B[0;34m)\u001B[0m\u001B[0;34m\u001B[0m\u001B[0;34m\u001B[0m\u001B[0m\n\u001B[0;32m----> 2\u001B[0;31m \u001B[0missue_comments_without_metadata_text_merged\u001B[0m\u001B[0;34m.\u001B[0m\u001B[0mwrite_parquet\u001B[0m\u001B[0;34m(\u001B[0m\u001B[0;34m'./data/processed/20-MAD/rq/issue_comments_without_metadata_text_merged.parquet'\u001B[0m\u001B[0;34m)\u001B[0m\u001B[0;34m\u001B[0m\u001B[0;34m\u001B[0m\u001B[0m\n\u001B[0m\u001B[1;32m      3\u001B[0m \u001B[0;34m\u001B[0m\u001B[0m\n",
      "\u001B[0;32m~/Research/seBERT/.venv/lib/python3.10/site-packages/pandas/core/generic.py\u001B[0m in \u001B[0;36m?\u001B[0;34m(self, name)\u001B[0m\n\u001B[1;32m   6295\u001B[0m             \u001B[0;32mand\u001B[0m \u001B[0mname\u001B[0m \u001B[0;32mnot\u001B[0m \u001B[0;32min\u001B[0m \u001B[0mself\u001B[0m\u001B[0;34m.\u001B[0m\u001B[0m_accessors\u001B[0m\u001B[0;34m\u001B[0m\u001B[0;34m\u001B[0m\u001B[0m\n\u001B[1;32m   6296\u001B[0m             \u001B[0;32mand\u001B[0m \u001B[0mself\u001B[0m\u001B[0;34m.\u001B[0m\u001B[0m_info_axis\u001B[0m\u001B[0;34m.\u001B[0m\u001B[0m_can_hold_identifiers_and_holds_name\u001B[0m\u001B[0;34m(\u001B[0m\u001B[0mname\u001B[0m\u001B[0;34m)\u001B[0m\u001B[0;34m\u001B[0m\u001B[0;34m\u001B[0m\u001B[0m\n\u001B[1;32m   6297\u001B[0m         ):\n\u001B[1;32m   6298\u001B[0m             \u001B[0;32mreturn\u001B[0m \u001B[0mself\u001B[0m\u001B[0;34m[\u001B[0m\u001B[0mname\u001B[0m\u001B[0;34m]\u001B[0m\u001B[0;34m\u001B[0m\u001B[0;34m\u001B[0m\u001B[0m\n\u001B[0;32m-> 6299\u001B[0;31m         \u001B[0;32mreturn\u001B[0m \u001B[0mobject\u001B[0m\u001B[0;34m.\u001B[0m\u001B[0m__getattribute__\u001B[0m\u001B[0;34m(\u001B[0m\u001B[0mself\u001B[0m\u001B[0;34m,\u001B[0m \u001B[0mname\u001B[0m\u001B[0;34m)\u001B[0m\u001B[0;34m\u001B[0m\u001B[0;34m\u001B[0m\u001B[0m\n\u001B[0m",
      "\u001B[0;31mAttributeError\u001B[0m: 'DataFrame' object has no attribute 'write_parquet'"
     ]
    }
   ],
   "execution_count": 23
  },
  {
   "metadata": {
    "ExecuteTime": {
     "end_time": "2024-06-06T11:20:57.997452Z",
     "start_time": "2024-06-06T11:20:49.937860Z"
    }
   },
   "cell_type": "code",
   "source": [
    "issue_comments_without_metadata_text_merged.to_parquet(\n",
    "    './data/processed/20-MAD/rq/issue_comments_without_metadata_text_merged.parquet', index=False)"
   ],
   "id": "706798012b63eb25",
   "outputs": [],
   "execution_count": 24
  },
  {
   "metadata": {
    "ExecuteTime": {
     "end_time": "2024-06-06T11:21:29.798522Z",
     "start_time": "2024-06-06T11:21:29.795807Z"
    }
   },
   "cell_type": "code",
   "source": "len(issue_comments_without_metadata_text_merged)",
   "id": "e5cf8304cc7ea6f4",
   "outputs": [
    {
     "data": {
      "text/plain": [
       "3957479"
      ]
     },
     "execution_count": 25,
     "metadata": {},
     "output_type": "execute_result"
    }
   ],
   "execution_count": 25
  },
  {
   "metadata": {
    "ExecuteTime": {
     "end_time": "2024-06-06T11:25:49.762461Z",
     "start_time": "2024-06-06T11:25:32.426648Z"
    }
   },
   "cell_type": "code",
   "source": [
    "# merge with issue metadata\n",
    "issue_comments_merged = issue_comments_without_metadata_text_merged.merge(issue_comment_metadata,\n",
    "                                                                          on=['product', 'issue_id'], how='inner')\n",
    "issue_comments_merged.to_parquet('./data/processed/20-MAD/rq/issue_comments_merged.parquet', index=False)"
   ],
   "id": "9bb83c774225b8e9",
   "outputs": [],
   "execution_count": 27
  },
  {
   "metadata": {
    "ExecuteTime": {
     "end_time": "2024-06-06T11:26:00.570460Z",
     "start_time": "2024-06-06T11:26:00.565413Z"
    }
   },
   "cell_type": "code",
   "source": "len(issue_comments_merged)",
   "id": "b8f62e50e293969c",
   "outputs": [
    {
     "data": {
      "text/plain": [
       "3814162"
      ]
     },
     "execution_count": 28,
     "metadata": {},
     "output_type": "execute_result"
    }
   ],
   "execution_count": 28
  },
  {
   "metadata": {
    "ExecuteTime": {
     "end_time": "2024-06-06T11:40:29.270407Z",
     "start_time": "2024-06-06T11:40:29.123887Z"
    }
   },
   "cell_type": "code",
   "source": "issue_comments_merged[\"priority\"].value_counts()",
   "id": "cc11816fe54ba516",
   "outputs": [
    {
     "data": {
      "text/plain": [
       "priority\n",
       "Major       2608952\n",
       "Minor        688099\n",
       "Critical     239380\n",
       "Blocker      185884\n",
       "Trivial       91847\n",
       "Name: count, dtype: int64"
      ]
     },
     "execution_count": 34,
     "metadata": {},
     "output_type": "execute_result"
    }
   ],
   "execution_count": 34
  },
  {
   "metadata": {
    "ExecuteTime": {
     "end_time": "2024-06-06T11:33:58.011488Z",
     "start_time": "2024-06-06T11:33:57.910853Z"
    }
   },
   "cell_type": "code",
   "source": "issue_comments_merged[\"issuetype\"].value_counts()",
   "id": "de434d68b170b529",
   "outputs": [
    {
     "data": {
      "text/plain": [
       "issuetype\n",
       "Bug                                      1876548\n",
       "Improvement                               938443\n",
       "Sub-task                                  386933\n",
       "New Feature                               319914\n",
       "Task                                      183403\n",
       "Test                                       37420\n",
       "Wish                                       25608\n",
       "Question                                    7333\n",
       "Documentation                               5858\n",
       "Dependency upgrade                          5745\n",
       "Story                                       5082\n",
       "Umbrella                                    4698\n",
       "Technical task                              2755\n",
       "Project                                     2462\n",
       "Planned Work                                2455\n",
       "Epic                                        2326\n",
       "Brainstorming                               1645\n",
       "Github Integration                           982\n",
       "SVN->GIT Migration                           817\n",
       "New Git Repo                                 775\n",
       "New JIRA Project                             702\n",
       "GitBox Request                               521\n",
       "Dependency                                   230\n",
       "Request                                      229\n",
       "New Confluence Wiki                          209\n",
       "New TLP                                      181\n",
       "Temp                                         150\n",
       "SVN->GIT Mirroring                           146\n",
       "Outage                                       109\n",
       "Blog - New Blog Request                      100\n",
       "Proposal                                      77\n",
       "IT Help                                       47\n",
       "New TLP - Common Tasks                        42\n",
       "Pending Review                                38\n",
       "RTC                                           37\n",
       "Blogs - Access to Existing Blog               35\n",
       "Blogs - New Blog User Account Request         31\n",
       "Suitable Name Search                          24\n",
       "Comment                                       22\n",
       "TCK Challenge                                 17\n",
       "Requirement                                    7\n",
       "Access                                         6\n",
       "Name: count, dtype: int64"
      ]
     },
     "execution_count": 31,
     "metadata": {},
     "output_type": "execute_result"
    }
   ],
   "execution_count": 31
  },
  {
   "metadata": {
    "ExecuteTime": {
     "end_time": "2024-06-06T11:39:19.989572Z",
     "start_time": "2024-06-06T11:39:19.985249Z"
    }
   },
   "cell_type": "code",
   "source": "issue_comments_merged.columns",
   "id": "10b0cf645f75c78b",
   "outputs": [
    {
     "data": {
      "text/plain": [
       "Index(['index', 'product', 'issue_id', 'comment_id', 'text', 'source',\n",
       "       'issue_key', 'created', 'updated', 'last_resolved', 'version',\n",
       "       'milestone', 'status', 'severity', 'priority', 'issuetype',\n",
       "       'resolution', 'component', 'votes', 'product_name', 'reporter_key',\n",
       "       'reporter_tz', 'creator_key', 'creator_tz', 'assignee_key',\n",
       "       'assignee_tz'],\n",
       "      dtype='object')"
      ]
     },
     "execution_count": 33,
     "metadata": {},
     "output_type": "execute_result"
    }
   ],
   "execution_count": 33
  },
  {
   "metadata": {},
   "cell_type": "code",
   "outputs": [],
   "execution_count": null,
   "source": "# we need [product,issue_id,comment_id,priority,issue_type,text_sentiment]",
   "id": "3e49c6c2f681837c"
  },
  {
   "metadata": {
    "ExecuteTime": {
     "end_time": "2024-06-06T11:48:54.008326Z",
     "start_time": "2024-06-06T11:47:52.557111Z"
    }
   },
   "cell_type": "code",
   "source": [
    "text_column = 'text'\n",
    "columns_of_interest = [text_column, 'product', 'issue_id', 'comment_id', 'source', 'priority', 'issuetype']\n",
    "\n",
    "issue_comments_merged = issue_comments_merged[columns_of_interest]\n",
    "issue_comments_merged[text_column] = issue_comments_merged[text_column].apply(preprocess_text)\n",
    "issue_comments_merged.to_parquet('./data/processed/20-MAD/rq/issue_comments.parquet', index=False)"
   ],
   "id": "b0dd4e627b334d95",
   "outputs": [],
   "execution_count": 38
  },
  {
   "metadata": {},
   "cell_type": "markdown",
   "source": "",
   "id": "7635f7b64243b137"
  },
  {
   "metadata": {},
   "cell_type": "markdown",
   "source": "# Sentiment Classification",
   "id": "ad29a1f6fffb3e19"
  },
  {
   "metadata": {
    "ExecuteTime": {
     "end_time": "2024-06-08T05:39:21.121690Z",
     "start_time": "2024-06-08T05:39:21.119354Z"
    }
   },
   "cell_type": "code",
   "source": [
    "text_column = 'text'\n",
    "common_columns = ['product', 'issue_id', 'comment_id', 'priority', 'issuetype']\n",
    "inout_columns_of_interest = [text_column] + common_columns\n",
    "output_columns_of_interest = [f'{text_column}_sentiment'] + common_columns"
   ],
   "id": "ef5a540219ea54c7",
   "outputs": [],
   "execution_count": 3
  },
  {
   "metadata": {
    "ExecuteTime": {
     "end_time": "2024-06-08T05:39:22.197948Z",
     "start_time": "2024-06-08T05:39:22.195498Z"
    }
   },
   "cell_type": "code",
   "source": [
    "DATA_PATH = Path('./data/processed/20-MAD/rq/issue_comments.parquet')\n",
    "OUTPUT_PATH = Path('./data/processed/20-MAD/rq/issue_comments_with_sentiment.csv')\n",
    "PREVIOUSLY_PROCESSED_PATHS = [OUTPUT_PATH,\n",
    "                              Path('./data/processed/20-MAD/temp/issue_comments_with_sentiment_temp_01.csv'),\n",
    "                              Path('./data/processed/20-MAD/temp/issue_comments_with_sentiment_temp_02.csv'),\n",
    "                              Path('./data/processed/20-MAD/temp/issue_comments_with_sentiment_temp_03.csv'),\n",
    "                              Path('./data/processed/20-MAD/temp/issue_comments_with_sentiment_temp_04.csv'),\n",
    "                              ]"
   ],
   "id": "ab32e77e91692d9",
   "outputs": [],
   "execution_count": 4
  },
  {
   "metadata": {
    "ExecuteTime": {
     "end_time": "2024-06-08T05:39:29.625922Z",
     "start_time": "2024-06-08T05:39:23.974425Z"
    }
   },
   "cell_type": "code",
   "source": [
    "previously_processed = pd.DataFrame()\n",
    "for path_ in PREVIOUSLY_PROCESSED_PATHS:\n",
    "    if path_.exists():\n",
    "        previous_output = pd.read_csv(path_)\n",
    "        previously_processed = pd.concat([previously_processed, previous_output], ignore_index=True)\n",
    "previously_processed.drop_duplicates(inplace=True)\n",
    "\n",
    "len(previously_processed)"
   ],
   "id": "90e0f57e255e1c94",
   "outputs": [
    {
     "data": {
      "text/plain": [
       "3814162"
      ]
     },
     "execution_count": 5,
     "metadata": {},
     "output_type": "execute_result"
    }
   ],
   "execution_count": 5
  },
  {
   "metadata": {
    "ExecuteTime": {
     "end_time": "2024-06-08T05:39:47.485811Z",
     "start_time": "2024-06-08T05:39:32.745595Z"
    }
   },
   "cell_type": "code",
   "source": [
    "data = pq.ParquetFile(DATA_PATH).read().to_pandas()\n",
    "data.drop_duplicates(inplace=True)\n",
    "\n",
    "# because we want data that has not been processed\n",
    "data_columns = data.columns\n",
    "temp = data.merge(previously_processed, on=common_columns, how='left', indicator=True)\n",
    "data = temp[temp['_merge'] == 'left_only'][data_columns]\n",
    "\n",
    "len(data)"
   ],
   "id": "54a31c53ec50d7a1",
   "outputs": [
    {
     "data": {
      "text/plain": [
       "0"
      ]
     },
     "execution_count": 6,
     "metadata": {},
     "output_type": "execute_result"
    }
   ],
   "execution_count": 6
  },
  {
   "metadata": {
    "ExecuteTime": {
     "end_time": "2024-06-08T05:45:00.867545Z",
     "start_time": "2024-06-08T05:45:00.759870Z"
    }
   },
   "cell_type": "code",
   "source": "previously_processed.sample(5)",
   "id": "323c8a1c0a391316",
   "outputs": [
    {
     "data": {
      "text/plain": [
       "        text_sentiment   product    issue_id  comment_id priority    issuetype\n",
       "33138         positive  AIRAVATA  13246354.0  16962081.0    Major     Sub-task\n",
       "3454595        neutral      SOLR  12374601.0  12562871.0    Minor  Improvement\n",
       "3462869        neutral      SMX4  12490072.0  12961161.0    Major         Task\n",
       "2246347       negative    LUCENE  12511180.0  13053115.0    Major  Improvement\n",
       "2260709        neutral    LUCENE  12634938.0  13637780.0    Major          Bug"
      ],
      "text/html": [
       "<div>\n",
       "<style scoped>\n",
       "    .dataframe tbody tr th:only-of-type {\n",
       "        vertical-align: middle;\n",
       "    }\n",
       "\n",
       "    .dataframe tbody tr th {\n",
       "        vertical-align: top;\n",
       "    }\n",
       "\n",
       "    .dataframe thead th {\n",
       "        text-align: right;\n",
       "    }\n",
       "</style>\n",
       "<table border=\"1\" class=\"dataframe\">\n",
       "  <thead>\n",
       "    <tr style=\"text-align: right;\">\n",
       "      <th></th>\n",
       "      <th>text_sentiment</th>\n",
       "      <th>product</th>\n",
       "      <th>issue_id</th>\n",
       "      <th>comment_id</th>\n",
       "      <th>priority</th>\n",
       "      <th>issuetype</th>\n",
       "    </tr>\n",
       "  </thead>\n",
       "  <tbody>\n",
       "    <tr>\n",
       "      <th>33138</th>\n",
       "      <td>positive</td>\n",
       "      <td>AIRAVATA</td>\n",
       "      <td>13246354.0</td>\n",
       "      <td>16962081.0</td>\n",
       "      <td>Major</td>\n",
       "      <td>Sub-task</td>\n",
       "    </tr>\n",
       "    <tr>\n",
       "      <th>3454595</th>\n",
       "      <td>neutral</td>\n",
       "      <td>SOLR</td>\n",
       "      <td>12374601.0</td>\n",
       "      <td>12562871.0</td>\n",
       "      <td>Minor</td>\n",
       "      <td>Improvement</td>\n",
       "    </tr>\n",
       "    <tr>\n",
       "      <th>3462869</th>\n",
       "      <td>neutral</td>\n",
       "      <td>SMX4</td>\n",
       "      <td>12490072.0</td>\n",
       "      <td>12961161.0</td>\n",
       "      <td>Major</td>\n",
       "      <td>Task</td>\n",
       "    </tr>\n",
       "    <tr>\n",
       "      <th>2246347</th>\n",
       "      <td>negative</td>\n",
       "      <td>LUCENE</td>\n",
       "      <td>12511180.0</td>\n",
       "      <td>13053115.0</td>\n",
       "      <td>Major</td>\n",
       "      <td>Improvement</td>\n",
       "    </tr>\n",
       "    <tr>\n",
       "      <th>2260709</th>\n",
       "      <td>neutral</td>\n",
       "      <td>LUCENE</td>\n",
       "      <td>12634938.0</td>\n",
       "      <td>13637780.0</td>\n",
       "      <td>Major</td>\n",
       "      <td>Bug</td>\n",
       "    </tr>\n",
       "  </tbody>\n",
       "</table>\n",
       "</div>"
      ]
     },
     "execution_count": 14,
     "metadata": {},
     "output_type": "execute_result"
    }
   ],
   "execution_count": 14
  },
  {
   "metadata": {
    "ExecuteTime": {
     "end_time": "2024-06-08T05:44:00.019811Z",
     "start_time": "2024-06-08T05:43:59.251487Z"
    }
   },
   "cell_type": "code",
   "source": [
    "# plot bar chart of neutral, positive, negative based on priority\n",
    "import matplotlib.pyplot as plt\n",
    "\n",
    "sentiment_priority = previously_processed.groupby(['priority', 'text_sentiment']).size().unstack()\n",
    "sentiment_priority.plot(kind='bar', stacked=True)\n",
    "plt.show()\n"
   ],
   "id": "7d7770adac0c201a",
   "outputs": [
    {
     "data": {
      "text/plain": [
       "<Figure size 640x480 with 1 Axes>"
      ],
      "image/png": "[encoded data removed]"
     },
     "metadata": {},
     "output_type": "display_data"
    }
   ],
   "execution_count": 13
  },
  {
   "metadata": {
    "ExecuteTime": {
     "end_time": "2024-06-08T05:55:07.585317Z",
     "start_time": "2024-06-08T05:55:02.785786Z"
    }
   },
   "cell_type": "code",
   "source": [
    "if len(data) == 0:\n",
    "    # save rq_3_4 as no entries are remaining to process\n",
    "    previously_processed['issuetype'] = previously_processed['issuetype'].apply(lambda x: 'bug' if x == 'Bug' else 'non-bug')\n",
    "    previously_processed.to_csv('./data/processed/20-MAD/rq/rq_3_4.csv', index=False)\n",
    "    "
   ],
   "id": "49aad6cd80797164",
   "outputs": [],
   "execution_count": 19
  },
  {
   "metadata": {
    "ExecuteTime": {
     "end_time": "2024-06-08T05:56:37.931944Z",
     "start_time": "2024-06-08T05:56:36.632650Z"
    }
   },
   "cell_type": "code",
   "source": [
    "# get number of duplicates in previously_processed\n",
    "previously_processed.duplicated().sum()"
   ],
   "id": "87d53c3f8dabed8f",
   "outputs": [
    {
     "data": {
      "text/plain": [
       "0"
      ]
     },
     "execution_count": 20,
     "metadata": {},
     "output_type": "execute_result"
    }
   ],
   "execution_count": 20
  },
  {
   "metadata": {
    "ExecuteTime": {
     "end_time": "2024-06-07T20:27:59.157907Z",
     "start_time": "2024-06-07T20:27:59.156018Z"
    }
   },
   "cell_type": "code",
   "source": [
    "    # if OUTPUT_PATH.exists():\n",
    "#     -------------OUTPUT_PATH.unlink()\n",
    "#     print(f\"removed {OUTPUT_PATH}\")"
   ],
   "id": "97f9ee5e431c65ce",
   "outputs": [],
   "execution_count": 7
  },
  {
   "metadata": {
    "ExecuteTime": {
     "end_time": "2024-06-07T20:28:03.572430Z",
     "start_time": "2024-06-07T20:28:03.564485Z"
    }
   },
   "cell_type": "code",
   "source": [
    "count = 0\n",
    "chunk_size = 8192\n",
    "\n",
    "chunks = [data[i:i + chunk_size] for i in range(0, data.shape[0], chunk_size)]"
   ],
   "id": "27e0a611078e36fc",
   "outputs": [],
   "execution_count": 8
  },
  {
   "metadata": {
    "ExecuteTime": {
     "end_time": "2024-06-07T20:28:05.309459Z",
     "start_time": "2024-06-07T20:28:05.306068Z"
    }
   },
   "cell_type": "code",
   "source": [
    "from pandas.errors import SettingWithCopyWarning\n",
    "import warnings\n",
    "\n",
    "warnings.simplefilter(action='ignore', category=(SettingWithCopyWarning))"
   ],
   "id": "8b309870d140445a",
   "outputs": [],
   "execution_count": 9
  },
  {
   "metadata": {
    "ExecuteTime": {
     "start_time": "2024-06-07T20:28:08.017056Z"
    }
   },
   "cell_type": "code",
   "source": [
    "for i, chunk in enumerate(chunks):\n",
    "    sentiments = get_sentiment(chunk[text_column].tolist())\n",
    "    sentiment_labels = [label_map[sentiment['label']] for sentiment in sentiments]\n",
    "    chunk[f'{text_column}_sentiment'] = sentiment_labels\n",
    "    # chunk.drop(columns=[text_column], inplace=True)\n",
    "\n",
    "    if OUTPUT_PATH.exists():\n",
    "        chunk.to_csv(OUTPUT_PATH, mode='a', columns=output_columns_of_interest, index=False, header=False)\n",
    "    else:\n",
    "        chunk.to_csv(OUTPUT_PATH, mode='w', columns=output_columns_of_interest, index=False, header=True)\n",
    "\n",
    "    count += chunk.shape[0]\n",
    "    print(f\"{datetime.now().isoformat(sep=' ', timespec='seconds')}: processed {count} issue comments\")"
   ],
   "id": "85e9ab64a8fa02f",
   "outputs": [
    {
     "name": "stdout",
     "output_type": "stream",
     "text": [
      "2024-06-08 02:31:44: processed 8192 issue comments\n",
      "2024-06-08 02:38:19: processed 16384 issue comments\n",
      "2024-06-08 02:43:49: processed 24576 issue comments\n",
      "2024-06-08 02:50:06: processed 32768 issue comments\n",
      "2024-06-08 02:55:55: processed 40960 issue comments\n",
      "2024-06-08 03:02:46: processed 49152 issue comments\n",
      "2024-06-08 03:09:56: processed 57344 issue comments\n",
      "2024-06-08 03:16:06: processed 65536 issue comments\n",
      "2024-06-08 03:22:05: processed 73728 issue comments\n"
     ]
    },
    {
     "name": "stderr",
     "output_type": "stream",
     "text": [
      "You seem to be using the pipelines sequentially on GPU. In order to maximize efficiency please use a dataset\n"
     ]
    },
    {
     "name": "stdout",
     "output_type": "stream",
     "text": [
      "2024-06-08 03:29:26: processed 81920 issue comments\n",
      "2024-06-08 03:36:50: processed 90112 issue comments\n",
      "2024-06-08 03:44:15: processed 98304 issue comments\n",
      "2024-06-08 03:51:56: processed 106496 issue comments\n",
      "2024-06-08 04:00:17: processed 114688 issue comments\n",
      "2024-06-08 04:06:26: processed 122880 issue comments\n",
      "2024-06-08 04:11:15: processed 131072 issue comments\n",
      "2024-06-08 04:16:28: processed 139264 issue comments\n",
      "2024-06-08 04:22:41: processed 147456 issue comments\n",
      "2024-06-08 04:29:25: processed 155648 issue comments\n",
      "2024-06-08 04:35:41: processed 163840 issue comments\n",
      "2024-06-08 04:41:24: processed 172032 issue comments\n",
      "2024-06-08 04:49:04: processed 180224 issue comments\n",
      "2024-06-08 04:55:54: processed 188416 issue comments\n",
      "2024-06-08 05:02:55: processed 196608 issue comments\n",
      "2024-06-08 05:08:57: processed 204800 issue comments\n",
      "2024-06-08 05:16:21: processed 212992 issue comments\n",
      "2024-06-08 05:24:07: processed 221184 issue comments\n",
      "2024-06-08 05:31:28: processed 229376 issue comments\n",
      "2024-06-08 05:38:58: processed 237568 issue comments\n",
      "2024-06-08 05:46:17: processed 245760 issue comments\n",
      "2024-06-08 05:53:23: processed 253952 issue comments\n",
      "2024-06-08 06:00:48: processed 262144 issue comments\n",
      "2024-06-08 06:07:23: processed 270336 issue comments\n",
      "2024-06-08 06:14:20: processed 278528 issue comments\n",
      "2024-06-08 06:21:25: processed 286720 issue comments\n",
      "2024-06-08 06:27:56: processed 294912 issue comments\n",
      "2024-06-08 06:35:09: processed 303104 issue comments\n",
      "2024-06-08 06:42:23: processed 311296 issue comments\n",
      "2024-06-08 06:49:18: processed 319488 issue comments\n",
      "2024-06-08 06:56:01: processed 327680 issue comments\n",
      "2024-06-08 07:02:41: processed 335872 issue comments\n",
      "2024-06-08 07:08:19: processed 344064 issue comments\n",
      "2024-06-08 07:13:35: processed 352256 issue comments\n",
      "2024-06-08 07:19:16: processed 360448 issue comments\n",
      "2024-06-08 07:25:23: processed 368640 issue comments\n",
      "2024-06-08 07:31:44: processed 376832 issue comments\n",
      "2024-06-08 07:38:55: processed 385024 issue comments\n",
      "2024-06-08 07:45:12: processed 393216 issue comments\n",
      "2024-06-08 07:51:45: processed 401408 issue comments\n",
      "2024-06-08 07:57:48: processed 409600 issue comments\n",
      "2024-06-08 08:05:24: processed 417792 issue comments\n",
      "2024-06-08 08:12:41: processed 425984 issue comments\n",
      "2024-06-08 08:20:29: processed 434176 issue comments\n",
      "2024-06-08 08:28:26: processed 442368 issue comments\n",
      "2024-06-08 08:36:52: processed 450560 issue comments\n",
      "2024-06-08 08:44:14: processed 458752 issue comments\n",
      "2024-06-08 08:50:03: processed 466944 issue comments\n",
      "2024-06-08 08:56:26: processed 475136 issue comments\n",
      "2024-06-08 09:03:17: processed 483328 issue comments\n",
      "2024-06-08 09:08:49: processed 491520 issue comments\n",
      "2024-06-08 09:15:00: processed 499712 issue comments\n",
      "2024-06-08 09:20:50: processed 507904 issue comments\n",
      "2024-06-08 09:27:07: processed 516096 issue comments\n",
      "2024-06-08 09:34:38: processed 524288 issue comments\n",
      "2024-06-08 09:41:34: processed 532480 issue comments\n",
      "2024-06-08 09:47:39: processed 540672 issue comments\n",
      "2024-06-08 09:55:13: processed 548864 issue comments\n",
      "2024-06-08 10:03:03: processed 557056 issue comments\n",
      "2024-06-08 10:11:21: processed 565248 issue comments\n",
      "2024-06-08 10:19:40: processed 573440 issue comments\n",
      "2024-06-08 10:27:17: processed 581632 issue comments\n",
      "2024-06-08 10:33:33: processed 589824 issue comments\n",
      "2024-06-08 10:40:02: processed 598016 issue comments\n",
      "2024-06-08 10:45:52: processed 606208 issue comments\n",
      "2024-06-08 10:52:20: processed 614400 issue comments\n",
      "2024-06-08 10:58:33: processed 622592 issue comments\n",
      "2024-06-08 11:04:12: processed 630784 issue comments\n",
      "2024-06-08 11:10:34: processed 638976 issue comments\n",
      "2024-06-08 11:16:44: processed 647168 issue comments\n",
      "2024-06-08 11:22:52: processed 655360 issue comments\n",
      "2024-06-08 11:28:40: processed 663552 issue comments\n",
      "2024-06-08 11:35:37: processed 671744 issue comments\n"
     ]
    }
   ],
   "execution_count": null
  },
  {
   "metadata": {},
   "cell_type": "code",
   "outputs": [],
   "execution_count": null,
   "source": "",
   "id": "ad7fa3081b346e36"
  }
 ],
 "metadata": {
  "kernelspec": {
   "display_name": "Python 3",
   "language": "python",
   "name": "python3"
  },
  "language_info": {
   "codemirror_mode": {
    "name": "ipython",
    "version": 2
   },
   "file_extension": ".py",
   "mimetype": "text/x-python",
   "name": "python",
   "nbconvert_exporter": "python",
   "pygments_lexer": "ipython2",
   "version": "2.7.6"
  }
 },
 "nbformat": 4,
 "nbformat_minor": 5
}
