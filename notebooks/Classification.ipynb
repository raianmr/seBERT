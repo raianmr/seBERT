{
 "cells": [
  {
   "cell_type": "markdown",
   "id": "764e64af-ef10-4834-9eb8-7404573c2a4d",
   "metadata": {},
   "source": [
    "# Sequence classification for sentiment analysis\n",
    "This is just an example for how the fine-tuned model from the FineTuning.ipynb can be used."
   ]
  },
  {
   "cell_type": "code",
   "id": "fcf1ee9c-a3cf-46d9-8ac7-ef30c422d0c5",
   "metadata": {
    "ExecuteTime": {
     "end_time": "2024-04-23T20:56:48.864754Z",
     "start_time": "2024-04-23T20:56:46.769050Z"
    }
   },
   "source": [
    "from transformers import BertTokenizer, BertForSequenceClassification, pipeline"
   ],
   "outputs": [],
   "execution_count": 1
  },
  {
   "cell_type": "code",
   "id": "2152fbc1-6dc7-4476-88d2-032fed00e5cf",
   "metadata": {
    "ExecuteTime": {
     "end_time": "2024-04-23T20:56:49.910809Z",
     "start_time": "2024-04-23T20:56:49.908772Z"
    }
   },
   "source": [
    "SENTIMENT_MODEL_PATH = './models/sentiment/'"
   ],
   "outputs": [],
   "execution_count": 2
  },
  {
   "metadata": {
    "ExecuteTime": {
     "end_time": "2024-04-23T20:56:50.646151Z",
     "start_time": "2024-04-23T20:56:50.644154Z"
    }
   },
   "cell_type": "code",
   "source": "MODEL_PATH = SENTIMENT_MODEL_PATH",
   "id": "93074d4abfa715c7",
   "outputs": [],
   "execution_count": 3
  },
  {
   "cell_type": "code",
   "id": "4e18f022-5e20-40da-9770-9eaea524ef82",
   "metadata": {
    "ExecuteTime": {
     "end_time": "2024-04-23T21:00:02.947817Z",
     "start_time": "2024-04-23T21:00:01.218918Z"
    }
   },
   "source": [
    "model = BertForSequenceClassification.from_pretrained(MODEL_PATH)\n",
    "tokenizer = BertTokenizer.from_pretrained(MODEL_PATH)\n",
    "\n",
    "livetest = pipeline('sentiment-analysis', model=model, tokenizer=tokenizer)"
   ],
   "outputs": [],
   "execution_count": 5
  },
  {
   "cell_type": "code",
   "id": "fbc2402d-5c50-48d6-8e21-072d8408186e",
   "metadata": {
    "ExecuteTime": {
     "end_time": "2024-04-23T21:00:06.487861Z",
     "start_time": "2024-04-23T21:00:06.484564Z"
    }
   },
   "source": [
    "def feed(text):\n",
    "    result = livetest(text)\n",
    "    print(result)\n",
    "    label_map = {'LABEL_0': 'negative',\n",
    "                 'LABEL_1': 'neutral',\n",
    "                 'LABEL_2': 'positive'}\n",
    "    answer = {label_map[x['label']]: round(x['score'], 4) for x in result}\n",
    "    print(text)\n",
    "    print('\\nclassified as:')\n",
    "    print(answer)"
   ],
   "outputs": [],
   "execution_count": 6
  },
  {
   "cell_type": "code",
   "id": "cd17a34c-b5b2-4ec5-ab31-1ad255d5f888",
   "metadata": {
    "ExecuteTime": {
     "end_time": "2024-04-23T21:59:18.710663Z",
     "start_time": "2024-04-23T21:59:16.712220Z"
    }
   },
   "source": [
    "text = \"\"\"vulnerability patched successfully\"\"\"\n",
    "\n",
    "feed(text)"
   ],
   "outputs": [
    {
     "name": "stdout",
     "output_type": "stream",
     "text": [
      "[{'label': 'LABEL_1', 'score': 0.990012526512146}]\n",
      "vulnerability patched successfully\n",
      "\n",
      "classified as:\n",
      "{'neutral': 0.99}\n"
     ]
    }
   ],
   "execution_count": 25
  },
  {
   "metadata": {},
   "cell_type": "code",
   "outputs": [],
   "execution_count": null,
   "source": "",
   "id": "719adfab691798f7"
  }
 ],
 "metadata": {
  "kernelspec": {
   "display_name": "Python 3 (ipykernel)",
   "language": "python",
   "name": "python3"
  },
  "language_info": {
   "codemirror_mode": {
    "name": "ipython",
    "version": 3
   },
   "file_extension": ".py",
   "mimetype": "text/x-python",
   "name": "python",
   "nbconvert_exporter": "python",
   "pygments_lexer": "ipython3",
   "version": "3.9.10"
  }
 },
 "nbformat": 4,
 "nbformat_minor": 5
}
