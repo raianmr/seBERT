{
 "cells": [
  {
   "cell_type": "markdown",
   "id": "764e64af-ef10-4834-9eb8-7404573c2a4d",
   "metadata": {},
   "source": [
    "# Sequence classification for sentiment analysis\n",
    "This is just an example for how the fine-tuned model from the FineTuning.ipynb can be used."
   ]
  },
  {
   "cell_type": "code",
   "id": "fcf1ee9c-a3cf-46d9-8ac7-ef30c422d0c5",
   "metadata": {
    "ExecuteTime": {
     "end_time": "2024-05-13T09:26:07.763815Z",
     "start_time": "2024-05-13T09:26:05.579529Z"
    }
   },
   "source": [
    "from transformers import BertTokenizer, BertForSequenceClassification, pipeline"
   ],
   "outputs": [],
   "execution_count": 1
  },
  {
   "cell_type": "code",
   "id": "2152fbc1-6dc7-4476-88d2-032fed00e5cf",
   "metadata": {
    "ExecuteTime": {
     "end_time": "2024-05-13T09:26:08.590441Z",
     "start_time": "2024-05-13T09:26:08.588180Z"
    }
   },
   "source": [
    "SENTIMENT_MODEL_PATH = './models/sentiment/'"
   ],
   "outputs": [],
   "execution_count": 2
  },
  {
   "metadata": {
    "ExecuteTime": {
     "end_time": "2024-05-13T09:26:10.303036Z",
     "start_time": "2024-05-13T09:26:10.300973Z"
    }
   },
   "cell_type": "code",
   "source": "MODEL_PATH = SENTIMENT_MODEL_PATH",
   "id": "93074d4abfa715c7",
   "outputs": [],
   "execution_count": 3
  },
  {
   "cell_type": "code",
   "id": "4e18f022-5e20-40da-9770-9eaea524ef82",
   "metadata": {
    "ExecuteTime": {
     "end_time": "2024-05-13T09:26:12.952962Z",
     "start_time": "2024-05-13T09:26:12.184613Z"
    }
   },
   "source": [
    "model = BertForSequenceClassification.from_pretrained(MODEL_PATH)\n",
    "tokenizer = BertTokenizer.from_pretrained(MODEL_PATH)\n",
    "\n",
    "livetest = pipeline('sentiment-analysis', model=model, tokenizer=tokenizer, truncation=True, max_length=512)"
   ],
   "outputs": [],
   "execution_count": 4
  },
  {
   "metadata": {
    "ExecuteTime": {
     "end_time": "2024-05-13T09:26:14.733291Z",
     "start_time": "2024-05-13T09:26:14.728557Z"
    }
   },
   "cell_type": "code",
   "source": "livetest.model.config.max_position_embeddings",
   "id": "e52654c5f4100a1",
   "outputs": [
    {
     "data": {
      "text/plain": [
       "512"
      ]
     },
     "execution_count": 5,
     "metadata": {},
     "output_type": "execute_result"
    }
   ],
   "execution_count": 5
  },
  {
   "cell_type": "code",
   "id": "fbc2402d-5c50-48d6-8e21-072d8408186e",
   "metadata": {
    "ExecuteTime": {
     "end_time": "2024-05-13T09:26:17.122950Z",
     "start_time": "2024-05-13T09:26:17.119591Z"
    }
   },
   "source": [
    "def feed(text):\n",
    "    result = livetest(text)\n",
    "    print(result)\n",
    "    label_map = {'LABEL_0': 'negative',\n",
    "                 'LABEL_1': 'neutral',\n",
    "                 'LABEL_2': 'positive'}\n",
    "    answer = {label_map[x['label']]: round(x['score'], 4) for x in result}\n",
    "    print(text)\n",
    "    print('\\nclassified as:')\n",
    "    print(answer)"
   ],
   "outputs": [],
   "execution_count": 6
  },
  {
   "cell_type": "code",
   "id": "cd17a34c-b5b2-4ec5-ab31-1ad255d5f888",
   "metadata": {
    "ExecuteTime": {
     "end_time": "2024-05-13T09:27:03.099825Z",
     "start_time": "2024-05-13T09:27:02.975529Z"
    }
   },
   "source": [
    "text = \"\"\"Connected successfully.\"\"\"\n",
    "\n",
    "feed(text)"
   ],
   "outputs": [
    {
     "name": "stdout",
     "output_type": "stream",
     "text": [
      "[{'label': 'LABEL_2', 'score': 0.9745073318481445}]\n",
      "Connected successfully.\n",
      "\n",
      "classified as:\n",
      "{'positive': 0.9745}\n"
     ]
    }
   ],
   "execution_count": 8
  },
  {
   "metadata": {
    "ExecuteTime": {
     "end_time": "2024-05-13T09:27:16.359013Z",
     "start_time": "2024-05-13T09:27:16.355712Z"
    }
   },
   "cell_type": "code",
   "source": "livetest.model.config",
   "id": "719adfab691798f7",
   "outputs": [
    {
     "data": {
      "text/plain": [
       "BertConfig {\n",
       "  \"_name_or_path\": \"./models/sentiment/\",\n",
       "  \"architectures\": [\n",
       "    \"BertForSequenceClassification\"\n",
       "  ],\n",
       "  \"attention_probs_dropout_prob\": 0.1,\n",
       "  \"classifier_dropout\": null,\n",
       "  \"hidden_act\": \"gelu\",\n",
       "  \"hidden_dropout_prob\": 0.1,\n",
       "  \"hidden_size\": 1024,\n",
       "  \"id2label\": {\n",
       "    \"0\": \"LABEL_0\",\n",
       "    \"1\": \"LABEL_1\",\n",
       "    \"2\": \"LABEL_2\"\n",
       "  },\n",
       "  \"initializer_range\": 0.02,\n",
       "  \"intermediate_size\": 4096,\n",
       "  \"label2id\": {\n",
       "    \"LABEL_0\": 0,\n",
       "    \"LABEL_1\": 1,\n",
       "    \"LABEL_2\": 2\n",
       "  },\n",
       "  \"layer_norm_eps\": 1e-12,\n",
       "  \"max_position_embeddings\": 512,\n",
       "  \"model_type\": \"bert\",\n",
       "  \"num_attention_heads\": 16,\n",
       "  \"num_hidden_layers\": 24,\n",
       "  \"pad_token_id\": 0,\n",
       "  \"position_embedding_type\": \"absolute\",\n",
       "  \"problem_type\": \"single_label_classification\",\n",
       "  \"torch_dtype\": \"float32\",\n",
       "  \"transformers_version\": \"4.40.0\",\n",
       "  \"type_vocab_size\": 2,\n",
       "  \"use_cache\": true,\n",
       "  \"vocab_size\": 30522\n",
       "}"
      ]
     },
     "execution_count": 9,
     "metadata": {},
     "output_type": "execute_result"
    }
   ],
   "execution_count": 9
  },
  {
   "metadata": {},
   "cell_type": "code",
   "outputs": [],
   "execution_count": null,
   "source": "",
   "id": "440ba40f7d462d33"
  }
 ],
 "metadata": {
  "kernelspec": {
   "display_name": "Python 3 (ipykernel)",
   "language": "python",
   "name": "python3"
  },
  "language_info": {
   "codemirror_mode": {
    "name": "ipython",
    "version": 3
   },
   "file_extension": ".py",
   "mimetype": "text/x-python",
   "name": "python",
   "nbconvert_exporter": "python",
   "pygments_lexer": "ipython3",
   "version": "3.9.10"
  }
 },
 "nbformat": 4,
 "nbformat_minor": 5
}
